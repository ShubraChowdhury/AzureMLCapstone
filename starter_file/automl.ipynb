{
 "cells": [
  {
   "cell_type": "markdown",
   "metadata": {},
   "source": [
    "# Automated ML\n",
    "\n",
    "TODO: Import Dependencies. In the cell below, import all the dependencies that you will need to complete the project."
   ]
  },
  {
   "cell_type": "code",
   "execution_count": 1,
   "metadata": {
    "gather": {
     "logged": 1647565721400
    },
    "jupyter": {
     "outputs_hidden": false,
     "source_hidden": false
    },
    "nteract": {
     "transient": {
      "deleting": false
     }
    }
   },
   "outputs": [
    {
     "name": "stdout",
     "output_type": "stream",
     "text": [
      "SDK version: 1.38.0\n"
     ]
    }
   ],
   "source": [
    "import logging\n",
    "import os\n",
    "import csv\n",
    "import joblib\n",
    "\n",
    "from matplotlib import pyplot as plt\n",
    "import numpy as np\n",
    "import pandas as pd\n",
    "from sklearn import datasets\n",
    "import pkg_resources\n",
    "\n",
    "import azureml.core\n",
    "from azureml.core.experiment import Experiment\n",
    "from azureml.core.workspace import Workspace\n",
    "from azureml.train.automl import AutoMLConfig\n",
    "from azureml.core.dataset import Dataset\n",
    "\n",
    "from azureml.pipeline.steps import AutoMLStep\n",
    "from azureml.widgets import RunDetails\n",
    "from azureml.core.webservice import LocalWebservice\n",
    "\n",
    "from azureml.core.compute import AmlCompute\n",
    "from azureml.core.compute import ComputeTarget\n",
    "from azureml.core.compute_target import ComputeTargetException\n",
    "\n",
    "import urllib.request\n",
    "from azureml.core.model import Model\n",
    "\n",
    "\n",
    "# Check core SDK version number\n",
    "print(\"SDK version:\", azureml.core.VERSION)"
   ]
  },
  {
   "cell_type": "markdown",
   "metadata": {},
   "source": [
    "## Dataset\n",
    "\n",
    "### Overview\n",
    "TODO: In this markdown cell, give an overview of the dataset you are using. Also mention the task you will be performing.\n",
    "\n",
    "\n",
    "TODO: Get data. In the cell below, write code to access the data you will be using in this project. Remember that the dataset needs to be external."
   ]
  },
  {
   "cell_type": "code",
   "execution_count": 2,
   "metadata": {
    "gather": {
     "logged": 1647565757631
    },
    "jupyter": {
     "outputs_hidden": false,
     "source_hidden": false
    },
    "nteract": {
     "transient": {
      "deleting": false
     }
    }
   },
   "outputs": [
    {
     "name": "stdout",
     "output_type": "stream",
     "text": [
      "quick-starts-ws-189271\n",
      "aml-quickstarts-189271\n",
      "southcentralus\n",
      "976ee174-3882-4721-b90a-b5fef6b72f24\n"
     ]
    }
   ],
   "source": [
    "ws = Workspace.from_config()\n",
    "\n",
    "# choose a name for experiment\n",
    "experiment_name = 'capstone-automl-experiment'\n",
    "\n",
    "experiment=Experiment(workspace=ws, name=experiment_name)\n",
    "\n",
    "print(ws.name, ws.resource_group, ws.location, ws.subscription_id, sep = '\\n')"
   ]
  },
  {
   "cell_type": "markdown",
   "metadata": {},
   "source": [
    "# Create or Attach an AmlCompute cluster"
   ]
  },
  {
   "cell_type": "code",
   "execution_count": 3,
   "metadata": {
    "gather": {
     "logged": 1647566388343
    }
   },
   "outputs": [
    {
     "name": "stdout",
     "output_type": "stream",
     "text": [
      "InProgress.\n",
      "SucceededProvisioning operation finished, operation \"Succeeded\"\n",
      "Succeeded......................................................................................................................\n",
      "AmlCompute wait for completion finished\n",
      "\n",
      "Wait timeout has been reached\n",
      "Current provisioning state of AmlCompute is \"Succeeded\" and current node count is \"0\"\n"
     ]
    }
   ],
   "source": [
    "\n",
    "# NOTE: update the cluster name to match the existing cluster\n",
    "# Choose a name for your CPU cluster\n",
    "amlcompute_cluster_name = \"automl-com-clst\" #automl-com-clst #automl-com-clst\n",
    "\n",
    "# Verify that cluster does not exist already\n",
    "try:\n",
    "    compute_target = ComputeTarget(workspace=ws, name=amlcompute_cluster_name)\n",
    "    print('Found existing cluster, use it.')\n",
    "except ComputeTargetException:\n",
    "    compute_config = AmlCompute.provisioning_configuration(vm_size='STANDARD_D2_V2',# for GPU, use \"STANDARD_NC6\"\n",
    "                                                           #vm_priority = 'lowpriority', # optional\n",
    "                                                           max_nodes=4)\n",
    "    compute_target = ComputeTarget.create(ws, amlcompute_cluster_name, compute_config)\n",
    "\n",
    "compute_target.wait_for_completion(show_output=True, min_node_count = 1, timeout_in_minutes = 10)\n",
    "# For a more detailed view of current AmlCompute status, use get_status()."
   ]
  },
  {
   "cell_type": "markdown",
   "metadata": {},
   "source": [
    "# Data"
   ]
  },
  {
   "cell_type": "code",
   "execution_count": 4,
   "metadata": {
    "gather": {
     "logged": 1647566452547
    }
   },
   "outputs": [
    {
     "data": {
      "text/html": [
       "<div>\n",
       "<style scoped>\n",
       "    .dataframe tbody tr th:only-of-type {\n",
       "        vertical-align: middle;\n",
       "    }\n",
       "\n",
       "    .dataframe tbody tr th {\n",
       "        vertical-align: top;\n",
       "    }\n",
       "\n",
       "    .dataframe thead th {\n",
       "        text-align: right;\n",
       "    }\n",
       "</style>\n",
       "<table border=\"1\" class=\"dataframe\">\n",
       "  <thead>\n",
       "    <tr style=\"text-align: right;\">\n",
       "      <th></th>\n",
       "      <th>Age</th>\n",
       "      <th>SystolicBP</th>\n",
       "      <th>DiastolicBP</th>\n",
       "      <th>BS</th>\n",
       "      <th>BodyTemp</th>\n",
       "      <th>HeartRate</th>\n",
       "    </tr>\n",
       "  </thead>\n",
       "  <tbody>\n",
       "    <tr>\n",
       "      <th>count</th>\n",
       "      <td>1014.000000</td>\n",
       "      <td>1014.000000</td>\n",
       "      <td>1014.000000</td>\n",
       "      <td>1014.000000</td>\n",
       "      <td>1011.000000</td>\n",
       "      <td>1014.000000</td>\n",
       "    </tr>\n",
       "    <tr>\n",
       "      <th>mean</th>\n",
       "      <td>29.871795</td>\n",
       "      <td>113.198225</td>\n",
       "      <td>76.460552</td>\n",
       "      <td>8.725986</td>\n",
       "      <td>98.665678</td>\n",
       "      <td>74.301775</td>\n",
       "    </tr>\n",
       "    <tr>\n",
       "      <th>std</th>\n",
       "      <td>13.474386</td>\n",
       "      <td>18.403913</td>\n",
       "      <td>13.885796</td>\n",
       "      <td>3.293532</td>\n",
       "      <td>1.373367</td>\n",
       "      <td>8.088702</td>\n",
       "    </tr>\n",
       "    <tr>\n",
       "      <th>min</th>\n",
       "      <td>10.000000</td>\n",
       "      <td>70.000000</td>\n",
       "      <td>49.000000</td>\n",
       "      <td>6.000000</td>\n",
       "      <td>98.000000</td>\n",
       "      <td>7.000000</td>\n",
       "    </tr>\n",
       "    <tr>\n",
       "      <th>25%</th>\n",
       "      <td>19.000000</td>\n",
       "      <td>100.000000</td>\n",
       "      <td>65.000000</td>\n",
       "      <td>6.900000</td>\n",
       "      <td>98.000000</td>\n",
       "      <td>70.000000</td>\n",
       "    </tr>\n",
       "    <tr>\n",
       "      <th>50%</th>\n",
       "      <td>26.000000</td>\n",
       "      <td>120.000000</td>\n",
       "      <td>80.000000</td>\n",
       "      <td>7.500000</td>\n",
       "      <td>98.000000</td>\n",
       "      <td>76.000000</td>\n",
       "    </tr>\n",
       "    <tr>\n",
       "      <th>75%</th>\n",
       "      <td>39.000000</td>\n",
       "      <td>120.000000</td>\n",
       "      <td>90.000000</td>\n",
       "      <td>8.000000</td>\n",
       "      <td>98.000000</td>\n",
       "      <td>80.000000</td>\n",
       "    </tr>\n",
       "    <tr>\n",
       "      <th>max</th>\n",
       "      <td>70.000000</td>\n",
       "      <td>160.000000</td>\n",
       "      <td>100.000000</td>\n",
       "      <td>19.000000</td>\n",
       "      <td>103.000000</td>\n",
       "      <td>90.000000</td>\n",
       "    </tr>\n",
       "  </tbody>\n",
       "</table>\n",
       "</div>"
      ],
      "text/plain": [
       "               Age   SystolicBP  DiastolicBP           BS     BodyTemp  \\\n",
       "count  1014.000000  1014.000000  1014.000000  1014.000000  1011.000000   \n",
       "mean     29.871795   113.198225    76.460552     8.725986    98.665678   \n",
       "std      13.474386    18.403913    13.885796     3.293532     1.373367   \n",
       "min      10.000000    70.000000    49.000000     6.000000    98.000000   \n",
       "25%      19.000000   100.000000    65.000000     6.900000    98.000000   \n",
       "50%      26.000000   120.000000    80.000000     7.500000    98.000000   \n",
       "75%      39.000000   120.000000    90.000000     8.000000    98.000000   \n",
       "max      70.000000   160.000000   100.000000    19.000000   103.000000   \n",
       "\n",
       "         HeartRate  \n",
       "count  1014.000000  \n",
       "mean     74.301775  \n",
       "std       8.088702  \n",
       "min       7.000000  \n",
       "25%      70.000000  \n",
       "50%      76.000000  \n",
       "75%      80.000000  \n",
       "max      90.000000  "
      ]
     },
     "execution_count": 4,
     "metadata": {},
     "output_type": "execute_result"
    }
   ],
   "source": [
    "# Try to load the dataset from the Workspace. Otherwise, create it from the file\n",
    "# NOTE: update the key to match the dataset name\n",
    "found = False\n",
    "#key = \"BankMarketing Dataset\"\n",
    "key=\"Maternal_Health_Risk_Data_Set\" #\"bankmarketing_train\" #bankmarketing_train\n",
    "#bankmarketing_train\n",
    "description_text = \"UCI machine Learning Maternal Health Risk Data Set\"\n",
    "\n",
    "if key in ws.datasets.keys(): \n",
    "        found = True\n",
    "        dataset = ws.datasets[key] \n",
    "#https://archive.ics.uci.edu/ml/machine-learning-databases/00639/Maternal%20Health%20Risk%20Data%20Set.csv\n",
    "\n",
    "if not found:\n",
    "        # Create AML Dataset and register it into Workspace\n",
    "        example_data = 'https://archive.ics.uci.edu/ml/machine-learning-databases/00639/Maternal%20Health%20Risk%20Data%20Set.csv'\n",
    "        dataset = Dataset.Tabular.from_delimited_files(example_data)        \n",
    "        #Register Dataset in Workspace\n",
    "        dataset = dataset.register(workspace=ws,\n",
    "                                   name=key,\n",
    "                                   description=description_text)\n",
    "\n",
    "\n",
    "df = dataset.to_pandas_dataframe()\n",
    "df.describe()"
   ]
  },
  {
   "cell_type": "markdown",
   "metadata": {},
   "source": [
    "# Review the Dataset Result"
   ]
  },
  {
   "cell_type": "code",
   "execution_count": 5,
   "metadata": {
    "gather": {
     "logged": 1647566464740
    }
   },
   "outputs": [
    {
     "data": {
      "text/html": [
       "<div>\n",
       "<style scoped>\n",
       "    .dataframe tbody tr th:only-of-type {\n",
       "        vertical-align: middle;\n",
       "    }\n",
       "\n",
       "    .dataframe tbody tr th {\n",
       "        vertical-align: top;\n",
       "    }\n",
       "\n",
       "    .dataframe thead th {\n",
       "        text-align: right;\n",
       "    }\n",
       "</style>\n",
       "<table border=\"1\" class=\"dataframe\">\n",
       "  <thead>\n",
       "    <tr style=\"text-align: right;\">\n",
       "      <th></th>\n",
       "      <th>Age</th>\n",
       "      <th>SystolicBP</th>\n",
       "      <th>DiastolicBP</th>\n",
       "      <th>BS</th>\n",
       "      <th>BodyTemp</th>\n",
       "      <th>HeartRate</th>\n",
       "      <th>RiskLevel</th>\n",
       "    </tr>\n",
       "  </thead>\n",
       "  <tbody>\n",
       "    <tr>\n",
       "      <th>0</th>\n",
       "      <td>25</td>\n",
       "      <td>130</td>\n",
       "      <td>80</td>\n",
       "      <td>15.0</td>\n",
       "      <td>98</td>\n",
       "      <td>86</td>\n",
       "      <td>high risk</td>\n",
       "    </tr>\n",
       "    <tr>\n",
       "      <th>1</th>\n",
       "      <td>35</td>\n",
       "      <td>140</td>\n",
       "      <td>90</td>\n",
       "      <td>13.0</td>\n",
       "      <td>98</td>\n",
       "      <td>70</td>\n",
       "      <td>high risk</td>\n",
       "    </tr>\n",
       "    <tr>\n",
       "      <th>2</th>\n",
       "      <td>29</td>\n",
       "      <td>90</td>\n",
       "      <td>70</td>\n",
       "      <td>8.0</td>\n",
       "      <td>100</td>\n",
       "      <td>80</td>\n",
       "      <td>high risk</td>\n",
       "    </tr>\n",
       "    <tr>\n",
       "      <th>3</th>\n",
       "      <td>30</td>\n",
       "      <td>140</td>\n",
       "      <td>85</td>\n",
       "      <td>7.0</td>\n",
       "      <td>98</td>\n",
       "      <td>70</td>\n",
       "      <td>high risk</td>\n",
       "    </tr>\n",
       "    <tr>\n",
       "      <th>4</th>\n",
       "      <td>35</td>\n",
       "      <td>120</td>\n",
       "      <td>60</td>\n",
       "      <td>6.1</td>\n",
       "      <td>98</td>\n",
       "      <td>76</td>\n",
       "      <td>low risk</td>\n",
       "    </tr>\n",
       "  </tbody>\n",
       "</table>\n",
       "</div>"
      ],
      "text/plain": [
       "   Age  SystolicBP  DiastolicBP    BS  BodyTemp  HeartRate  RiskLevel\n",
       "0   25         130           80  15.0        98         86  high risk\n",
       "1   35         140           90  13.0        98         70  high risk\n",
       "2   29          90           70   8.0       100         80  high risk\n",
       "3   30         140           85   7.0        98         70  high risk\n",
       "4   35         120           60   6.1        98         76   low risk"
      ]
     },
     "execution_count": 5,
     "metadata": {},
     "output_type": "execute_result"
    }
   ],
   "source": [
    "dataset.take(5).to_pandas_dataframe()"
   ]
  },
  {
   "cell_type": "code",
   "execution_count": 6,
   "metadata": {
    "gather": {
     "logged": 1647566481400
    }
   },
   "outputs": [
    {
     "name": "stderr",
     "output_type": "stream",
     "text": [
      "\"datastore.upload_files\" is deprecated after version 1.0.69. Please use \"FileDatasetFactory.upload_directory\" instead. See Dataset API change notice at https://aka.ms/dataset-deprecation.\n"
     ]
    }
   ],
   "source": [
    "from sklearn.model_selection import train_test_split\n",
    "#TRAIN_d, TEST_d = train_test_split(df, shuffle=True)\n",
    "TRAIN_d, TEST_d = train_test_split(df, test_size=0.2, random_state=24, shuffle=True)\n",
    "TRAIN_d.to_csv('train.csv',index = False)\n",
    "\n",
    "ds_new = ws.get_default_datastore()\n",
    "ds_new.upload_files(files = ['./train.csv'])\n",
    "#ds_new.upload(src_dir='.',target_path='.')\n",
    "\n",
    "\n",
    "train_data = Dataset.Tabular.from_delimited_files(path=[(ds_new,('train.csv'))])\n"
   ]
  },
  {
   "cell_type": "markdown",
   "metadata": {},
   "source": [
    "## AutoML Configuration\n",
    "\n",
    "TODO: Explain why you chose the automl settings and cofiguration you used below."
   ]
  },
  {
   "cell_type": "markdown",
   "metadata": {},
   "source": [
    "# Train\n",
    "#### This creates a general AutoML settings object. Udacity notes: These inputs must match what was used when training in the portal. label_column_name has to be \"RiskLevel\" for example."
   ]
  },
  {
   "cell_type": "code",
   "execution_count": 7,
   "metadata": {
    "gather": {
     "logged": 1647566551982
    },
    "jupyter": {
     "outputs_hidden": false,
     "source_hidden": false
    },
    "nteract": {
     "transient": {
      "deleting": false
     }
    }
   },
   "outputs": [],
   "source": [
    "# TODO: Put your automl settings here\n",
    " # \"primary_metric\" : 'AUC_weighted'\n",
    "automl_settings = {\n",
    "    \"experiment_timeout_minutes\": 20,\n",
    "    \"max_concurrent_iterations\": 5,\n",
    "    \"n_cross_validations\":3,\n",
    "    \"primary_metric\" : 'accuracy'\n",
    "}\n",
    "\n",
    "# TODO: Put your automl config here\n",
    "\n",
    "automl_config = AutoMLConfig(compute_target=compute_target,\n",
    "                             task = \"classification\",\n",
    "                             training_data=train_data,\n",
    "                             label_column_name=\"RiskLevel\",   \n",
    "                             #path = project_folder,\n",
    "                             enable_early_stopping= True,\n",
    "                             featurization= 'auto',\n",
    "                             debug_log = \"automl_errors.log\",\n",
    "                             enable_onnx_compatible_models=True,\n",
    "                             **automl_settings\n",
    "                            )"
   ]
  },
  {
   "cell_type": "code",
   "execution_count": 8,
   "metadata": {
    "gather": {
     "logged": 1647567742320
    },
    "jupyter": {
     "outputs_hidden": false,
     "source_hidden": false
    },
    "nteract": {
     "transient": {
      "deleting": false
     }
    }
   },
   "outputs": [
    {
     "name": "stdout",
     "output_type": "stream",
     "text": [
      "Submitting remote run.\n",
      "No run_configuration provided, running on automl-com-clst with default configuration\n",
      "Running on remote compute: automl-com-clst\n"
     ]
    },
    {
     "data": {
      "text/html": [
       "<table style=\"width:100%\"><tr><th>Experiment</th><th>Id</th><th>Type</th><th>Status</th><th>Details Page</th><th>Docs Page</th></tr><tr><td>capstone-automl-experiment</td><td>AutoML_21e8b539-695b-4e5b-9648-7bc19f7d51f8</td><td>automl</td><td>NotStarted</td><td><a href=\"https://ml.azure.com/runs/AutoML_21e8b539-695b-4e5b-9648-7bc19f7d51f8?wsid=/subscriptions/976ee174-3882-4721-b90a-b5fef6b72f24/resourcegroups/aml-quickstarts-189271/workspaces/quick-starts-ws-189271&amp;tid=660b3398-b80e-49d2-bc5b-ac1dc93b5254\" target=\"_blank\" rel=\"noopener\">Link to Azure Machine Learning studio</a></td><td><a href=\"https://docs.microsoft.com/en-us/python/api/overview/azure/ml/intro?view=azure-ml-py\" target=\"_blank\" rel=\"noopener\">Link to Documentation</a></td></tr></table>"
      ],
      "text/plain": [
       "<IPython.core.display.HTML object>"
      ]
     },
     "metadata": {},
     "output_type": "display_data"
    },
    {
     "name": "stdout",
     "output_type": "stream",
     "text": [
      "\n",
      "Current status: FeaturesGeneration. Generating features for the dataset.\n",
      "Current status: DatasetCrossValidationSplit. Generating individually featurized CV splits.\n",
      "Current status: ModelSelection. Beginning model selection.\n",
      "\n",
      "********************************************************************************************\n",
      "DATA GUARDRAILS: \n",
      "\n",
      "TYPE:         Class balancing detection\n",
      "STATUS:       PASSED\n",
      "DESCRIPTION:  Your inputs were analyzed, and all classes are balanced in your training data.\n",
      "              Learn more about imbalanced data: https://aka.ms/AutomatedMLImbalancedData\n",
      "\n",
      "********************************************************************************************\n",
      "\n",
      "TYPE:         Missing feature values imputation\n",
      "STATUS:       DONE\n",
      "DESCRIPTION:  If the missing values are expected, let the run complete. Otherwise cancel the current run and use a script to customize the handling of missing feature values that may be more appropriate based on the data type and business requirement.\n",
      "              Learn more about missing value imputation: https://aka.ms/AutomatedMLFeaturization\n",
      "DETAILS:      \n",
      "+------------------------------+------------------------------+------------------------------+\n",
      "|Column name                   |Missing value count           |Imputation type               |\n",
      "+==============================+==============================+==============================+\n",
      "|BodyTemp                      |3                             |mean                          |\n",
      "+------------------------------+------------------------------+------------------------------+\n",
      "\n",
      "********************************************************************************************\n",
      "\n",
      "TYPE:         High cardinality feature detection\n",
      "STATUS:       PASSED\n",
      "DESCRIPTION:  Your inputs were analyzed, and no high cardinality features were detected.\n",
      "              Learn more about high cardinality feature handling: https://aka.ms/AutomatedMLFeaturization\n",
      "\n",
      "********************************************************************************************\n",
      "\n",
      "********************************************************************************************\n",
      "ITER: The iteration being evaluated.\n",
      "PIPELINE: A summary description of the pipeline being evaluated.\n",
      "DURATION: Time taken for the current iteration.\n",
      "METRIC: The result of computing score on the fitted pipeline.\n",
      "BEST: The best observed score thus far.\n",
      "********************************************************************************************\n",
      "\n",
      " ITER   PIPELINE                                       DURATION            METRIC      BEST\n",
      "    0   MaxAbsScaler LightGBM                          0:00:10             0.7904    0.7904\n",
      "    1   MaxAbsScaler XGBoostClassifier                 0:00:09             0.7485    0.7904\n",
      "    2   MaxAbsScaler ExtremeRandomTrees                0:00:10             0.6634    0.7904\n",
      "    3   SparseNormalizer XGBoostClassifier             0:00:09             0.7411    0.7904\n",
      "    4   MaxAbsScaler LightGBM                          0:00:08             0.7040    0.7904\n",
      "    5   MaxAbsScaler LightGBM                          0:00:08             0.7065    0.7904\n",
      "    6   StandardScalerWrapper XGBoostClassifier        0:00:09             0.7534    0.7904\n",
      "    7   MaxAbsScaler LogisticRegression                0:00:09             0.6326    0.7904\n",
      "    8   StandardScalerWrapper ExtremeRandomTrees       0:00:09             0.5844    0.7904\n",
      "    9   StandardScalerWrapper XGBoostClassifier        0:00:08             0.7152    0.7904\n",
      "   10   SparseNormalizer LightGBM                      0:00:09             0.6510    0.7904\n",
      "   11   StandardScalerWrapper XGBoostClassifier        0:00:08             0.7583    0.7904\n",
      "   12   MaxAbsScaler LogisticRegression                0:00:09             0.6276    0.7904\n",
      "   13   MaxAbsScaler SGD                               0:00:08             0.6190    0.7904\n",
      "   14   StandardScalerWrapper XGBoostClassifier        0:00:08             0.7152    0.7904\n",
      "   15   SparseNormalizer RandomForest                  0:00:10             0.7337    0.7904\n",
      "   20   TruncatedSVDWrapper RandomForest               0:00:04             0.7695    0.7904\n",
      "   21   StandardScalerWrapper XGBoostClassifier        0:00:04             0.7719    0.7904\n",
      "   22   SparseNormalizer XGBoostClassifier             0:00:04             0.7472    0.7904\n",
      "   16   StandardScalerWrapper LogisticRegression       0:00:09             0.6338    0.7904\n",
      "   17   StandardScalerWrapper RandomForest             0:00:09             0.7053    0.7904\n",
      "   18   StandardScalerWrapper XGBoostClassifier        0:00:09             0.7830    0.7904\n",
      "   24   StandardScalerWrapper LogisticRegression       0:00:04             0.6202    0.7904\n",
      "   19   TruncatedSVDWrapper RandomForest               0:00:10             0.6745    0.7904\n",
      "   25   StandardScalerWrapper RandomForest             0:00:04             0.6646    0.7904\n",
      "   26   SparseNormalizer XGBoostClassifier             0:00:04             0.7300    0.7904\n",
      "   27   StandardScalerWrapper XGBoostClassifier        0:00:04             0.7435    0.7904\n",
      "   29   MaxAbsScaler LightGBM                          0:00:04             0.6252    0.7904\n",
      "   28   StandardScalerWrapper XGBoostClassifier        0:00:04             0.7485    0.7904\n",
      "   23   StandardScalerWrapper LightGBM                 0:03:33             0.6436    0.7904\n",
      "   30   MaxAbsScaler LightGBM                          0:00:04             0.6510    0.7904\n",
      "   31   StandardScalerWrapper XGBoostClassifier        0:00:04             0.7374    0.7904\n",
      "   32   MaxAbsScaler LightGBM                          0:00:04             0.6276    0.7904\n",
      "   33   SparseNormalizer LightGBM                      0:00:04             0.6301    0.7904\n",
      "   34                                                  0:00:00                nan    0.7904\n",
      "   35                                                  0:00:00                nan    0.7904\n",
      "   36                                                  0:00:00                nan    0.7904\n",
      "   37                                                  0:00:01                nan    0.7904\n",
      "   38    VotingEnsemble                                0:00:04             0.8151    0.8151\n"
     ]
    }
   ],
   "source": [
    "# TODO: Submit your experiment\n",
    "#remote_run = experiment.submit(automl_config)\n",
    "remote_run = experiment.submit(config= automl_config, show_output= True)"
   ]
  },
  {
   "cell_type": "markdown",
   "metadata": {},
   "source": [
    "## Run Details\n",
    "\n",
    "OPTIONAL: Write about the different models trained and their performance. Why do you think some models did better than others?\n",
    "\n",
    "TODO: In the cell below, use the `RunDetails` widget to show the different experiments."
   ]
  },
  {
   "cell_type": "code",
   "execution_count": 9,
   "metadata": {
    "gather": {
     "logged": 1647567743030
    },
    "jupyter": {
     "outputs_hidden": false,
     "source_hidden": false
    },
    "nteract": {
     "transient": {
      "deleting": false
     }
    }
   },
   "outputs": [
    {
     "data": {
      "application/vnd.jupyter.widget-view+json": {
       "model_id": "ce18e2ad67e2442cb15ecea661643fd9",
       "version_major": 2,
       "version_minor": 0
      },
      "text/plain": [
       "_AutoMLWidget(widget_settings={'childWidgetDisplay': 'popup', 'send_telemetry': False, 'log_level': 'INFO', 's…"
      ]
     },
     "metadata": {},
     "output_type": "display_data"
    },
    {
     "data": {
      "application/aml.mini.widget.v1": "{\"status\": \"Completed\", \"workbench_run_details_uri\": \"https://ml.azure.com/runs/AutoML_21e8b539-695b-4e5b-9648-7bc19f7d51f8?wsid=/subscriptions/976ee174-3882-4721-b90a-b5fef6b72f24/resourcegroups/aml-quickstarts-189271/workspaces/quick-starts-ws-189271&tid=660b3398-b80e-49d2-bc5b-ac1dc93b5254\", \"run_id\": \"AutoML_21e8b539-695b-4e5b-9648-7bc19f7d51f8\", \"run_properties\": {\"run_id\": \"AutoML_21e8b539-695b-4e5b-9648-7bc19f7d51f8\", \"created_utc\": \"2022-03-18T01:23:11.56176Z\", \"properties\": {\"num_iterations\": \"1000\", \"training_type\": \"TrainFull\", \"acquisition_function\": \"EI\", \"primary_metric\": \"accuracy\", \"train_split\": \"0\", \"acquisition_parameter\": \"0\", \"num_cross_validation\": \"3\", \"target\": \"automl-com-clst\", \"AMLSettingsJsonString\": \"{\\\"path\\\":null,\\\"name\\\":\\\"capstone-automl-experiment\\\",\\\"subscription_id\\\":\\\"976ee174-3882-4721-b90a-b5fef6b72f24\\\",\\\"resource_group\\\":\\\"aml-quickstarts-189271\\\",\\\"workspace_name\\\":\\\"quick-starts-ws-189271\\\",\\\"region\\\":\\\"southcentralus\\\",\\\"compute_target\\\":\\\"automl-com-clst\\\",\\\"spark_service\\\":null,\\\"azure_service\\\":\\\"remote\\\",\\\"many_models\\\":false,\\\"pipeline_fetch_max_batch_size\\\":1,\\\"enable_batch_run\\\":true,\\\"enable_run_restructure\\\":false,\\\"start_auxiliary_runs_before_parent_complete\\\":false,\\\"enable_code_generation\\\":false,\\\"iterations\\\":1000,\\\"primary_metric\\\":\\\"accuracy\\\",\\\"task_type\\\":\\\"classification\\\",\\\"positive_label\\\":null,\\\"data_script\\\":null,\\\"test_size\\\":0.0,\\\"test_include_predictions_only\\\":false,\\\"validation_size\\\":0.0,\\\"n_cross_validations\\\":3,\\\"y_min\\\":null,\\\"y_max\\\":null,\\\"num_classes\\\":null,\\\"featurization\\\":\\\"auto\\\",\\\"_ignore_package_version_incompatibilities\\\":false,\\\"is_timeseries\\\":false,\\\"max_cores_per_iteration\\\":1,\\\"max_concurrent_iterations\\\":5,\\\"iteration_timeout_minutes\\\":null,\\\"mem_in_mb\\\":null,\\\"enforce_time_on_windows\\\":false,\\\"experiment_timeout_minutes\\\":20,\\\"experiment_exit_score\\\":null,\\\"whitelist_models\\\":null,\\\"blacklist_algos\\\":[\\\"TensorFlowLinearClassifier\\\",\\\"TensorFlowDNN\\\"],\\\"supported_models\\\":[\\\"LogisticRegression\\\",\\\"TensorFlowDNN\\\",\\\"LightGBM\\\",\\\"ExtremeRandomTrees\\\",\\\"RandomForest\\\",\\\"TabnetClassifier\\\",\\\"KNN\\\",\\\"XGBoostClassifier\\\",\\\"MultinomialNaiveBayes\\\",\\\"GradientBoosting\\\",\\\"TensorFlowLinearClassifier\\\",\\\"LinearSVM\\\",\\\"DecisionTree\\\",\\\"SVM\\\",\\\"SGD\\\",\\\"BernoulliNaiveBayes\\\",\\\"AveragedPerceptronClassifier\\\"],\\\"private_models\\\":[],\\\"auto_blacklist\\\":true,\\\"blacklist_samples_reached\\\":false,\\\"exclude_nan_labels\\\":true,\\\"verbosity\\\":20,\\\"_debug_log\\\":\\\"azureml_automl.log\\\",\\\"show_warnings\\\":false,\\\"model_explainability\\\":true,\\\"service_url\\\":null,\\\"sdk_url\\\":null,\\\"sdk_packages\\\":null,\\\"enable_onnx_compatible_models\\\":true,\\\"enable_split_onnx_featurizer_estimator_models\\\":false,\\\"vm_type\\\":\\\"STANDARD_D2_V2\\\",\\\"telemetry_verbosity\\\":20,\\\"send_telemetry\\\":true,\\\"enable_dnn\\\":false,\\\"scenario\\\":\\\"SDK-1.13.0\\\",\\\"environment_label\\\":null,\\\"save_mlflow\\\":false,\\\"enable_categorical_indicators\\\":false,\\\"force_text_dnn\\\":false,\\\"enable_feature_sweeping\\\":false,\\\"enable_early_stopping\\\":true,\\\"early_stopping_n_iters\\\":10,\\\"arguments\\\":null,\\\"dataset_id\\\":null,\\\"hyperdrive_config\\\":null,\\\"validation_dataset_id\\\":null,\\\"run_source\\\":null,\\\"metrics\\\":null,\\\"enable_metric_confidence\\\":false,\\\"enable_ensembling\\\":true,\\\"enable_stack_ensembling\\\":false,\\\"ensemble_iterations\\\":15,\\\"enable_tf\\\":false,\\\"enable_subsampling\\\":null,\\\"subsample_seed\\\":null,\\\"enable_nimbusml\\\":false,\\\"enable_streaming\\\":false,\\\"force_streaming\\\":false,\\\"track_child_runs\\\":true,\\\"allowed_private_models\\\":[],\\\"label_column_name\\\":\\\"RiskLevel\\\",\\\"weight_column_name\\\":null,\\\"cv_split_column_names\\\":null,\\\"enable_local_managed\\\":false,\\\"_local_managed_run_id\\\":null,\\\"cost_mode\\\":1,\\\"lag_length\\\":0,\\\"metric_operation\\\":\\\"maximize\\\",\\\"preprocess\\\":true}\", \"DataPrepJsonString\": \"{\\\\\\\"training_data\\\\\\\": {\\\\\\\"datasetId\\\\\\\": \\\\\\\"bff70d01-8284-46a6-9503-1ab741d2f375\\\\\\\"}, \\\\\\\"datasets\\\\\\\": 0}\", \"EnableSubsampling\": null, \"runTemplate\": \"AutoML\", \"azureml.runsource\": \"automl\", \"display_task_type\": \"classification\", \"dependencies_versions\": \"{\\\"azureml-widgets\\\": \\\"1.38.0\\\", \\\"azureml-train\\\": \\\"1.38.0\\\", \\\"azureml-train-restclients-hyperdrive\\\": \\\"1.38.0\\\", \\\"azureml-train-core\\\": \\\"1.38.0\\\", \\\"azureml-train-automl\\\": \\\"1.38.0\\\", \\\"azureml-train-automl-runtime\\\": \\\"1.38.0\\\", \\\"azureml-train-automl-client\\\": \\\"1.38.0\\\", \\\"azureml-tensorboard\\\": \\\"1.38.0\\\", \\\"azureml-telemetry\\\": \\\"1.38.0\\\", \\\"azureml-sdk\\\": \\\"1.38.0\\\", \\\"azureml-responsibleai\\\": \\\"1.38.0\\\", \\\"azureml-pipeline\\\": \\\"1.38.0\\\", \\\"azureml-pipeline-steps\\\": \\\"1.38.0\\\", \\\"azureml-pipeline-core\\\": \\\"1.38.0\\\", \\\"azureml-opendatasets\\\": \\\"1.38.0\\\", \\\"azureml-mlflow\\\": \\\"1.38.0\\\", \\\"azureml-interpret\\\": \\\"1.38.0\\\", \\\"azureml-inference-server-http\\\": \\\"0.4.2\\\", \\\"azureml-explain-model\\\": \\\"1.38.0\\\", \\\"azureml-defaults\\\": \\\"1.38.0\\\", \\\"azureml-dataset-runtime\\\": \\\"1.38.0\\\", \\\"azureml-dataprep\\\": \\\"2.26.0\\\", \\\"azureml-dataprep-rslex\\\": \\\"2.2.0\\\", \\\"azureml-dataprep-native\\\": \\\"38.0.0\\\", \\\"azureml-datadrift\\\": \\\"1.38.0\\\", \\\"azureml-core\\\": \\\"1.38.0\\\", \\\"azureml-contrib-services\\\": \\\"1.38.0\\\", \\\"azureml-contrib-server\\\": \\\"1.38.0\\\", \\\"azureml-contrib-reinforcementlearning\\\": \\\"1.38.0\\\", \\\"azureml-contrib-pipeline-steps\\\": \\\"1.38.0\\\", \\\"azureml-contrib-notebook\\\": \\\"1.38.0\\\", \\\"azureml-contrib-fairness\\\": \\\"1.38.0\\\", \\\"azureml-contrib-dataset\\\": \\\"1.38.0\\\", \\\"azureml-contrib-automl-pipeline-steps\\\": \\\"1.38.0\\\", \\\"azureml-cli-common\\\": \\\"1.38.0\\\", \\\"azureml-automl-runtime\\\": \\\"1.38.0\\\", \\\"azureml-automl-dnn-nlp\\\": \\\"1.38.0\\\", \\\"azureml-automl-core\\\": \\\"1.38.0\\\", \\\"azureml-accel-models\\\": \\\"1.38.0\\\"}\", \"_aml_system_scenario_identification\": \"Remote.Parent\", \"ClientType\": \"SDK\", \"environment_cpu_name\": \"AzureML-AutoML\", \"environment_cpu_label\": \"py36\", \"environment_gpu_name\": \"AzureML-AutoML-GPU\", \"environment_gpu_label\": \"py36\", \"root_attribution\": \"automl\", \"attribution\": \"AutoML\", \"Orchestrator\": \"AutoML\", \"CancelUri\": \"https://southcentralus.api.azureml.ms/jasmine/v1.0/subscriptions/976ee174-3882-4721-b90a-b5fef6b72f24/resourceGroups/aml-quickstarts-189271/providers/Microsoft.MachineLearningServices/workspaces/quick-starts-ws-189271/experimentids/1783b036-080f-4858-a8e9-187d1c97a1db/cancel/AutoML_21e8b539-695b-4e5b-9648-7bc19f7d51f8\", \"ClientSdkVersion\": \"1.38.0\", \"snapshotId\": \"00000000-0000-0000-0000-000000000000\", \"SetupRunId\": \"AutoML_21e8b539-695b-4e5b-9648-7bc19f7d51f8_setup\", \"SetupRunContainerId\": \"dcid.AutoML_21e8b539-695b-4e5b-9648-7bc19f7d51f8_setup\", \"FeaturizationRunJsonPath\": \"featurizer_container.json\", \"FeaturizationRunId\": \"AutoML_21e8b539-695b-4e5b-9648-7bc19f7d51f8_featurize\", \"ProblemInfoJsonString\": \"{\\\"dataset_num_categorical\\\": 0, \\\"is_sparse\\\": true, \\\"subsampling\\\": false, \\\"has_extra_col\\\": true, \\\"dataset_classes\\\": 3, \\\"dataset_features\\\": 54, \\\"dataset_samples\\\": 811, \\\"single_frequency_class_detected\\\": false}\", \"ModelExplainRunId\": \"AutoML_21e8b539-695b-4e5b-9648-7bc19f7d51f8_ModelExplain\"}, \"tags\": {\"model_explain_run\": \"best_run\", \"_aml_system_automl_run_workspace_id\": \"df6d5c4e-ac3c-46f5-a1fc-f983406869c7\", \"_aml_system_azureml.automlComponent\": \"AutoML\", \"pipeline_id\": \"\", \"score\": \"\", \"predicted_cost\": \"\", \"fit_time\": \"\", \"training_percent\": \"\", \"iteration\": \"\", \"run_preprocessor\": \"\", \"run_algorithm\": \"\", \"dynamic_whitelisting_iterations\": \"<23>;<30>;<35>;\", \"_aml_system_azureml.automl_early_exit_message\": \"No scores improved over last 20 iterations, so experiment stopped early. This early stopping behavior can be disabled by setting enable_early_stopping = False in AutoMLConfig for notebook/python SDK runs.\", \"automl_best_child_run_id\": \"AutoML_21e8b539-695b-4e5b-9648-7bc19f7d51f8_38\", \"model_explain_best_run_child_id\": \"AutoML_21e8b539-695b-4e5b-9648-7bc19f7d51f8_38\"}, \"end_time_utc\": \"2022-03-18T01:42:01.467269Z\", \"status\": \"Completed\", \"log_files\": {}, \"log_groups\": [], \"run_duration\": \"0:18:49\", \"run_number\": \"1647566591\", \"run_queued_details\": {\"status\": \"Completed\", \"details\": null}}, \"child_runs\": [{\"run_id\": \"AutoML_21e8b539-695b-4e5b-9648-7bc19f7d51f8_setup\", \"run_number\": 1647566604, \"metric\": null, \"status\": \"Completed\", \"run_type\": \"azureml.scriptrun\", \"training_percent\": null, \"start_time\": \"2022-03-18T01:25:29.55349Z\", \"end_time\": \"2022-03-18T01:27:01.389282Z\", \"created_time\": \"2022-03-18T01:23:24.440437Z\", \"created_time_dt\": \"2022-03-18T01:23:24.440437Z\", \"duration\": \"0:03:36\", \"iteration\": null, \"goal\": null, \"run_name\": \"Completed\", \"run_properties\": null}, {\"run_id\": \"AutoML_21e8b539-695b-4e5b-9648-7bc19f7d51f8_featurize\", \"run_number\": 1647566821, \"metric\": null, \"status\": \"Completed\", \"run_type\": \"automl.featurization\", \"training_percent\": null, \"start_time\": \"2022-03-18T01:27:02.182998Z\", \"end_time\": \"2022-03-18T01:27:53.142515Z\", \"created_time\": \"2022-03-18T01:27:01.856788Z\", \"created_time_dt\": \"2022-03-18T01:27:01.856788Z\", \"duration\": \"0:00:51\", \"iteration\": null, \"goal\": null, \"run_name\": \"Completed\", \"run_properties\": null}, {\"run_id\": \"AutoML_21e8b539-695b-4e5b-9648-7bc19f7d51f8_0\", \"run_number\": 1647566874, \"metric\": null, \"status\": \"Completed\", \"run_type\": null, \"training_percent\": \"100\", \"start_time\": \"2022-03-18T01:28:07.572647Z\", \"end_time\": \"2022-03-18T01:28:17.495076Z\", \"created_time\": \"2022-03-18T01:27:54.269701Z\", \"created_time_dt\": \"2022-03-18T01:27:54.269701Z\", \"duration\": \"0:00:23\", \"iteration\": \"0\", \"goal\": \"accuracy_max\", \"run_name\": \"MaxAbsScaler, LightGBM\", \"run_properties\": \"copy=True\", \"primary_metric\": 0.7904059, \"best_metric\": 0.7904059}, {\"run_id\": \"AutoML_21e8b539-695b-4e5b-9648-7bc19f7d51f8_2\", \"run_number\": 1647566875, \"metric\": null, \"status\": \"Completed\", \"run_type\": null, \"training_percent\": \"100\", \"start_time\": \"2022-03-18T01:28:27.101584Z\", \"end_time\": \"2022-03-18T01:28:36.960842Z\", \"created_time\": \"2022-03-18T01:27:54.989226Z\", \"created_time_dt\": \"2022-03-18T01:27:54.989226Z\", \"duration\": \"0:00:41\", \"iteration\": \"2\", \"goal\": \"accuracy_max\", \"run_name\": \"MaxAbsScaler, ExtremeRandomTrees\", \"run_properties\": \"copy=True\", \"primary_metric\": 0.66339575, \"best_metric\": 0.7904059}, {\"run_id\": \"AutoML_21e8b539-695b-4e5b-9648-7bc19f7d51f8_5\", \"run_number\": 1647566876, \"metric\": null, \"status\": \"Completed\", \"run_type\": null, \"training_percent\": \"100\", \"start_time\": \"2022-03-18T01:29:14.379817Z\", \"end_time\": \"2022-03-18T01:29:22.845331Z\", \"created_time\": \"2022-03-18T01:27:56.063195Z\", \"created_time_dt\": \"2022-03-18T01:27:56.063195Z\", \"duration\": \"0:01:26\", \"iteration\": \"5\", \"goal\": \"accuracy_max\", \"run_name\": \"MaxAbsScaler, LightGBM\", \"run_properties\": \"copy=True\", \"primary_metric\": 0.70650995, \"best_metric\": 0.7904059}, {\"run_id\": \"AutoML_21e8b539-695b-4e5b-9648-7bc19f7d51f8_worker_1\", \"run_number\": 1647566877, \"metric\": null, \"status\": \"Completed\", \"run_type\": \"azureml.scriptrun\", \"training_percent\": null, \"start_time\": \"2022-03-18T01:29:42.213558Z\", \"end_time\": \"2022-03-18T01:29:45.928973Z\", \"created_time\": \"2022-03-18T01:27:57.00688Z\", \"created_time_dt\": \"2022-03-18T01:27:57.00688Z\", \"duration\": \"0:01:48\", \"iteration\": null, \"goal\": null, \"run_name\": \"Completed\", \"run_properties\": null}, {\"run_id\": \"AutoML_21e8b539-695b-4e5b-9648-7bc19f7d51f8_worker_2\", \"run_number\": 1647566878, \"metric\": null, \"status\": \"Completed\", \"run_type\": \"azureml.scriptrun\", \"training_percent\": null, \"start_time\": \"2022-03-18T01:30:01.903398Z\", \"end_time\": \"2022-03-18T01:30:40.537405Z\", \"created_time\": \"2022-03-18T01:27:58.659449Z\", \"created_time_dt\": \"2022-03-18T01:27:58.659449Z\", \"duration\": \"0:02:41\", \"iteration\": null, \"goal\": null, \"run_name\": \"Completed\", \"run_properties\": null}, {\"run_id\": \"AutoML_21e8b539-695b-4e5b-9648-7bc19f7d51f8_13\", \"run_number\": 1647566879, \"metric\": null, \"status\": \"Completed\", \"run_type\": null, \"training_percent\": \"100\", \"start_time\": \"2022-03-18T01:31:02.696086Z\", \"end_time\": \"2022-03-18T01:31:10.908565Z\", \"created_time\": \"2022-03-18T01:27:59.223896Z\", \"created_time_dt\": \"2022-03-18T01:27:59.223896Z\", \"duration\": \"0:03:11\", \"iteration\": \"13\", \"goal\": \"accuracy_max\", \"run_name\": \"MaxAbsScaler, SGD\", \"run_properties\": \"copy=True\", \"primary_metric\": 0.61901963, \"best_metric\": 0.7904059}, {\"run_id\": \"AutoML_21e8b539-695b-4e5b-9648-7bc19f7d51f8_worker_3\", \"run_number\": 1647566880, \"metric\": null, \"status\": \"Completed\", \"run_type\": \"azureml.scriptrun\", \"training_percent\": null, \"start_time\": \"2022-03-18T01:31:07.225525Z\", \"end_time\": \"2022-03-18T01:31:34.349429Z\", \"created_time\": \"2022-03-18T01:28:00.235196Z\", \"created_time_dt\": \"2022-03-18T01:28:00.235196Z\", \"duration\": \"0:03:34\", \"iteration\": null, \"goal\": null, \"run_name\": \"Completed\", \"run_properties\": null}, {\"run_id\": \"AutoML_21e8b539-695b-4e5b-9648-7bc19f7d51f8_worker_4\", \"run_number\": 1647566881, \"metric\": null, \"status\": \"Completed\", \"run_type\": \"azureml.scriptrun\", \"training_percent\": null, \"start_time\": \"2022-03-18T01:31:59.287661Z\", \"end_time\": \"2022-03-18T01:37:37.888639Z\", \"created_time\": \"2022-03-18T01:28:01.722764Z\", \"created_time_dt\": \"2022-03-18T01:28:01.722764Z\", \"duration\": \"0:09:36\", \"iteration\": null, \"goal\": null, \"run_name\": \"Completed\", \"run_properties\": null}, {\"run_id\": \"AutoML_21e8b539-695b-4e5b-9648-7bc19f7d51f8_22\", \"run_number\": 1647567092, \"metric\": null, \"status\": \"Completed\", \"run_type\": \"azureml.scriptrun\", \"training_percent\": \"100\", \"start_time\": \"2022-03-18T01:31:58.104341Z\", \"end_time\": \"2022-03-18T01:32:01.816166Z\", \"created_time\": \"2022-03-18T01:31:32.345517Z\", \"created_time_dt\": \"2022-03-18T01:31:32.345517Z\", \"duration\": \"0:00:29\", \"iteration\": \"22\", \"goal\": \"accuracy_max\", \"run_name\": \"SparseNormalizer, XGBoostClassifier\", \"run_properties\": \"copy=True, norm='l1'\", \"primary_metric\": 0.74723703, \"best_metric\": 0.7904059}, {\"run_id\": \"AutoML_21e8b539-695b-4e5b-9648-7bc19f7d51f8_26\", \"run_number\": 1647567221, \"metric\": null, \"status\": \"Completed\", \"run_type\": \"azureml.scriptrun\", \"training_percent\": \"100\", \"start_time\": \"2022-03-18T01:34:05.042995Z\", \"end_time\": \"2022-03-18T01:34:09.539494Z\", \"created_time\": \"2022-03-18T01:33:41.234866Z\", \"created_time_dt\": \"2022-03-18T01:33:41.234866Z\", \"duration\": \"0:00:28\", \"iteration\": \"26\", \"goal\": \"accuracy_max\", \"run_name\": \"SparseNormalizer, XGBoostClassifier\", \"run_properties\": \"copy=True, norm='l2'\", \"primary_metric\": 0.72999863, \"best_metric\": 0.7904059}, {\"run_id\": \"AutoML_21e8b539-695b-4e5b-9648-7bc19f7d51f8_27\", \"run_number\": 1647567426, \"metric\": null, \"status\": \"Completed\", \"run_type\": \"azureml.scriptrun\", \"training_percent\": \"100\", \"start_time\": \"2022-03-18T01:37:33.44504Z\", \"end_time\": \"2022-03-18T01:37:37.117993Z\", \"created_time\": \"2022-03-18T01:37:06.591616Z\", \"created_time_dt\": \"2022-03-18T01:37:06.591616Z\", \"duration\": \"0:00:30\", \"iteration\": \"27\", \"goal\": \"accuracy_max\", \"run_name\": \"StandardScalerWrapper, XGBoostClassifier\", \"run_properties\": \"\\n    copy=True,\\n    with_mean=False,\\n    with_std=False\\n\", \"primary_metric\": 0.74353332, \"best_metric\": 0.7904059}, {\"run_id\": \"AutoML_21e8b539-695b-4e5b-9648-7bc19f7d51f8_30\", \"run_number\": 1647567459, \"metric\": null, \"status\": \"Completed\", \"run_type\": \"azureml.scriptrun\", \"training_percent\": \"100\", \"start_time\": \"2022-03-18T01:39:36.371179Z\", \"end_time\": \"2022-03-18T01:39:40.030321Z\", \"created_time\": \"2022-03-18T01:37:39.850446Z\", \"created_time_dt\": \"2022-03-18T01:37:39.850446Z\", \"duration\": \"0:02:00\", \"iteration\": \"30\", \"goal\": \"accuracy_max\", \"run_name\": \"MaxAbsScaler, LightGBM\", \"run_properties\": \"copy=True\", \"primary_metric\": 0.6510364, \"best_metric\": 0.7904059}, {\"run_id\": \"AutoML_21e8b539-695b-4e5b-9648-7bc19f7d51f8_31\", \"run_number\": 1647567492, \"metric\": null, \"status\": \"Completed\", \"run_type\": \"azureml.scriptrun\", \"training_percent\": \"100\", \"start_time\": \"2022-03-18T01:40:08.601371Z\", \"end_time\": \"2022-03-18T01:40:12.26532Z\", \"created_time\": \"2022-03-18T01:38:12.45082Z\", \"created_time_dt\": \"2022-03-18T01:38:12.45082Z\", \"duration\": \"0:01:59\", \"iteration\": \"31\", \"goal\": \"accuracy_max\", \"run_name\": \"StandardScalerWrapper, XGBoostClassifier\", \"run_properties\": \"\\n    copy=True,\\n    with_mean=False,\\n    with_std=False\\n\", \"primary_metric\": 0.73735593, \"best_metric\": 0.7904059}, {\"run_id\": \"AutoML_21e8b539-695b-4e5b-9648-7bc19f7d51f8_33\", \"run_number\": 1647567505, \"metric\": null, \"status\": \"Completed\", \"run_type\": \"azureml.scriptrun\", \"training_percent\": \"100\", \"start_time\": \"2022-03-18T01:40:25.493941Z\", \"end_time\": \"2022-03-18T01:40:29.150604Z\", \"created_time\": \"2022-03-18T01:38:25.210725Z\", \"created_time_dt\": \"2022-03-18T01:38:25.210725Z\", \"duration\": \"0:02:03\", \"iteration\": \"33\", \"goal\": \"accuracy_max\", \"run_name\": \"SparseNormalizer, LightGBM\", \"run_properties\": \"copy=True, norm='max'\", \"primary_metric\": 0.63008063, \"best_metric\": 0.7904059}, {\"run_id\": \"AutoML_21e8b539-695b-4e5b-9648-7bc19f7d51f8_34\", \"run_number\": 1647567578, \"metric\": null, \"status\": \"Canceled\", \"run_type\": \"azureml.scriptrun\", \"training_percent\": \"100\", \"start_time\": \"2022-03-18T01:40:29.73399Z\", \"end_time\": \"2022-03-18T01:40:29.978341Z\", \"created_time\": \"2022-03-18T01:39:38.403072Z\", \"created_time_dt\": \"2022-03-18T01:39:38.403072Z\", \"duration\": \"0:00:51\", \"iteration\": \"34\", \"goal\": null, \"run_name\": \"Canceled\", \"run_properties\": null}, {\"run_id\": \"AutoML_21e8b539-695b-4e5b-9648-7bc19f7d51f8_35\", \"run_number\": 1647567583, \"metric\": null, \"status\": \"Canceled\", \"run_type\": \"azureml.scriptrun\", \"training_percent\": \"100\", \"start_time\": \"2022-03-18T01:40:29.76546Z\", \"end_time\": \"2022-03-18T01:40:30.13465Z\", \"created_time\": \"2022-03-18T01:39:43.240683Z\", \"created_time_dt\": \"2022-03-18T01:39:43.240683Z\", \"duration\": \"0:00:46\", \"iteration\": \"35\", \"goal\": null, \"run_name\": \"Canceled\", \"run_properties\": null}, {\"run_id\": \"AutoML_21e8b539-695b-4e5b-9648-7bc19f7d51f8_36\", \"run_number\": 1647567614, \"metric\": null, \"status\": \"Canceled\", \"run_type\": \"azureml.scriptrun\", \"training_percent\": \"100\", \"start_time\": \"2022-03-18T01:40:29.76193Z\", \"end_time\": \"2022-03-18T01:40:30.013149Z\", \"created_time\": \"2022-03-18T01:40:14.09778Z\", \"created_time_dt\": \"2022-03-18T01:40:14.09778Z\", \"duration\": \"0:00:15\", \"iteration\": \"36\", \"goal\": null, \"run_name\": \"Canceled\", \"run_properties\": null}, {\"run_id\": \"AutoML_21e8b539-695b-4e5b-9648-7bc19f7d51f8_37\", \"run_number\": 1647567628, \"metric\": null, \"status\": \"Canceled\", \"run_type\": \"azureml.scriptrun\", \"training_percent\": \"100\", \"start_time\": \"2022-03-18T01:40:29.774746Z\", \"end_time\": \"2022-03-18T01:40:30.981173Z\", \"created_time\": \"2022-03-18T01:40:28.250123Z\", \"created_time_dt\": \"2022-03-18T01:40:28.250123Z\", \"duration\": \"0:00:02\", \"iteration\": \"37\", \"goal\": null, \"run_name\": \"Canceled\", \"run_properties\": null}, {\"run_id\": \"AutoML_21e8b539-695b-4e5b-9648-7bc19f7d51f8_38\", \"run_number\": 1647567631, \"metric\": null, \"status\": \"Completed\", \"run_type\": \"azureml.scriptrun\", \"training_percent\": \"100\", \"start_time\": \"2022-03-18T01:41:56.506512Z\", \"end_time\": \"2022-03-18T01:42:00.198053Z\", \"created_time\": \"2022-03-18T01:40:31.594962Z\", \"created_time_dt\": \"2022-03-18T01:40:31.594962Z\", \"duration\": \"0:01:28\", \"iteration\": \"38\", \"goal\": \"accuracy_max\", \"run_name\": \"VotingEnsemble\", \"run_properties\": \"\\n    estimators=[('0', Pipeline(\\n        memory=None,\\n        steps=[('maxabsscaler', MaxAbsScaler(\\n            copy=True\\n        \", \"primary_metric\": 0.81505626, \"best_metric\": 0.81505626}], \"children_metrics\": {\"categories\": [0], \"series\": {\"f1_score_weighted\": [{\"categories\": [\"0\", \"2\", \"5\", \"13\", \"22\", \"26\", \"27\", \"30\", \"31\", \"33\", \"38\"], \"mode\": \"markers\", \"name\": \"f1_score_weighted\", \"stepped\": false, \"type\": \"scatter\", \"data\": [0.7909035213516503, 0.6496141361099684, 0.6872586350578317, 0.6067025038176092, 0.7437489724876366, 0.7230197041489678, 0.7391176160594671, 0.6295582793020894, 0.7329489374210597, 0.6169559174405438, 0.8145323007829818]}, {\"categories\": [\"0\", \"2\", \"5\", \"13\", \"22\", \"26\", \"27\", \"30\", \"31\", \"33\", \"38\"], \"mode\": \"lines\", \"name\": \"f1_score_weighted_max\", \"stepped\": true, \"type\": \"scatter\", \"data\": [0.7909035213516503, 0.7909035213516503, 0.7909035213516503, 0.7909035213516503, 0.7909035213516503, 0.7909035213516503, 0.7909035213516503, 0.7909035213516503, 0.7909035213516503, 0.7909035213516503, 0.8145323007829818]}], \"precision_score_weighted\": [{\"categories\": [\"0\", \"2\", \"5\", \"13\", \"22\", \"26\", \"27\", \"30\", \"31\", \"33\", \"38\"], \"mode\": \"markers\", \"name\": \"precision_score_weighted\", \"stepped\": false, \"type\": \"scatter\", \"data\": [0.7926323290228975, 0.6622578252889091, 0.719303656085037, 0.6160611098235272, 0.7499387168749713, 0.7290836856856036, 0.741632305321582, 0.6488357874096052, 0.735012625846423, 0.6297409783141915, 0.8155213830451465]}, {\"categories\": [\"0\", \"2\", \"5\", \"13\", \"22\", \"26\", \"27\", \"30\", \"31\", \"33\", \"38\"], \"mode\": \"lines\", \"name\": \"precision_score_weighted_max\", \"stepped\": true, \"type\": \"scatter\", \"data\": [0.7926323290228975, 0.7926323290228975, 0.7926323290228975, 0.7926323290228975, 0.7926323290228975, 0.7926323290228975, 0.7926323290228975, 0.7926323290228975, 0.7926323290228975, 0.7926323290228975, 0.8155213830451465]}], \"log_loss\": [{\"categories\": [\"0\", \"2\", \"5\", \"13\", \"22\", \"26\", \"27\", \"30\", \"31\", \"33\", \"38\"], \"mode\": \"markers\", \"name\": \"log_loss\", \"stepped\": false, \"type\": \"scatter\", \"data\": [0.5240141777221834, 0.7910579975488238, 0.847439733176586, 0.8573046942739223, 0.7588580062481833, 0.7788155403488487, 0.6287653651258646, 0.8790941468610279, 0.799331641170256, 0.8072760166391945, 0.6459684269834751]}, {\"categories\": [\"0\", \"2\", \"5\", \"13\", \"22\", \"26\", \"27\", \"30\", \"31\", \"33\", \"38\"], \"mode\": \"lines\", \"name\": \"log_loss_min\", \"stepped\": true, \"type\": \"scatter\", \"data\": [0.5240141777221834, 0.5240141777221834, 0.5240141777221834, 0.5240141777221834, 0.5240141777221834, 0.5240141777221834, 0.5240141777221834, 0.5240141777221834, 0.5240141777221834, 0.5240141777221834, 0.5240141777221834]}], \"precision_score_micro\": [{\"categories\": [\"0\", \"2\", \"5\", \"13\", \"22\", \"26\", \"27\", \"30\", \"31\", \"33\", \"38\"], \"mode\": \"markers\", \"name\": \"precision_score_micro\", \"stepped\": false, \"type\": \"scatter\", \"data\": [0.7904059040590407, 0.6633957450685618, 0.7065099539884288, 0.6190196346407909, 0.7472370279258348, 0.7299986333196665, 0.7435333242221311, 0.6510363992528814, 0.7373559291148467, 0.6300806341396747, 0.8150562616737278]}, {\"categories\": [\"0\", \"2\", \"5\", \"13\", \"22\", \"26\", \"27\", \"30\", \"31\", \"33\", \"38\"], \"mode\": \"lines\", \"name\": \"precision_score_micro_max\", \"stepped\": true, \"type\": \"scatter\", \"data\": [0.7904059040590407, 0.7904059040590407, 0.7904059040590407, 0.7904059040590407, 0.7904059040590407, 0.7904059040590407, 0.7904059040590407, 0.7904059040590407, 0.7904059040590407, 0.7904059040590407, 0.8150562616737278]}], \"balanced_accuracy\": [{\"categories\": [\"0\", \"2\", \"5\", \"13\", \"22\", \"26\", \"27\", \"30\", \"31\", \"33\", \"38\"], \"mode\": \"markers\", \"name\": \"balanced_accuracy\", \"stepped\": false, \"type\": \"scatter\", \"data\": [0.791691461524143, 0.6668582503735273, 0.6965528237968653, 0.6289155855153651, 0.7441341512382529, 0.7277208597400856, 0.7428896597004516, 0.6432519635157044, 0.7367423788173407, 0.6285032535879238, 0.8151884678051792]}, {\"categories\": [\"0\", \"2\", \"5\", \"13\", \"22\", \"26\", \"27\", \"30\", \"31\", \"33\", \"38\"], \"mode\": \"lines\", \"name\": \"balanced_accuracy_max\", \"stepped\": true, \"type\": \"scatter\", \"data\": [0.791691461524143, 0.791691461524143, 0.791691461524143, 0.791691461524143, 0.791691461524143, 0.791691461524143, 0.791691461524143, 0.791691461524143, 0.791691461524143, 0.791691461524143, 0.8151884678051792]}], \"accuracy\": [{\"categories\": [\"0\", \"2\", \"5\", \"13\", \"22\", \"26\", \"27\", \"30\", \"31\", \"33\", \"38\"], \"mode\": \"markers\", \"name\": \"accuracy\", \"stepped\": false, \"type\": \"scatter\", \"data\": [0.7904059040590407, 0.6633957450685618, 0.7065099539884288, 0.6190196346407909, 0.7472370279258348, 0.7299986333196665, 0.7435333242221311, 0.6510363992528814, 0.7373559291148467, 0.6300806341396747, 0.8150562616737278]}, {\"categories\": [\"0\", \"2\", \"5\", \"13\", \"22\", \"26\", \"27\", \"30\", \"31\", \"33\", \"38\"], \"mode\": \"lines\", \"name\": \"accuracy_max\", \"stepped\": true, \"type\": \"scatter\", \"data\": [0.7904059040590407, 0.7904059040590407, 0.7904059040590407, 0.7904059040590407, 0.7904059040590407, 0.7904059040590407, 0.7904059040590407, 0.7904059040590407, 0.7904059040590407, 0.7904059040590407, 0.8150562616737278]}], \"average_precision_score_micro\": [{\"categories\": [\"0\", \"2\", \"5\", \"13\", \"22\", \"26\", \"27\", \"30\", \"31\", \"33\", \"38\"], \"mode\": \"markers\", \"name\": \"average_precision_score_micro\", \"stepped\": false, \"type\": \"scatter\", \"data\": [0.868880997452989, 0.7420472222565456, 0.772365739830232, 0.7123095041396725, 0.8228831226961407, 0.8293339625980137, 0.8239414962674773, 0.7058630014576123, 0.806508112521608, 0.697499158128613, 0.8701360634512089]}, {\"categories\": [\"0\", \"2\", \"5\", \"13\", \"22\", \"26\", \"27\", \"30\", \"31\", \"33\", \"38\"], \"mode\": \"lines\", \"name\": \"average_precision_score_micro_max\", \"stepped\": true, \"type\": \"scatter\", \"data\": [0.868880997452989, 0.868880997452989, 0.868880997452989, 0.868880997452989, 0.868880997452989, 0.868880997452989, 0.868880997452989, 0.868880997452989, 0.868880997452989, 0.868880997452989, 0.8701360634512089]}], \"precision_score_macro\": [{\"categories\": [\"0\", \"2\", \"5\", \"13\", \"22\", \"26\", \"27\", \"30\", \"31\", \"33\", \"38\"], \"mode\": \"markers\", \"name\": \"precision_score_macro\", \"stepped\": false, \"type\": \"scatter\", \"data\": [0.7971382259446997, 0.6678550596786694, 0.7308234399446395, 0.6250565253978503, 0.7592960326961817, 0.7317660094955153, 0.7455245559175566, 0.6595247919778647, 0.7417630695843555, 0.6357257533825028, 0.8190653438264796]}, {\"categories\": [\"0\", \"2\", \"5\", \"13\", \"22\", \"26\", \"27\", \"30\", \"31\", \"33\", \"38\"], \"mode\": \"lines\", \"name\": \"precision_score_macro_max\", \"stepped\": true, \"type\": \"scatter\", \"data\": [0.7971382259446997, 0.7971382259446997, 0.7971382259446997, 0.7971382259446997, 0.7971382259446997, 0.7971382259446997, 0.7971382259446997, 0.7971382259446997, 0.7971382259446997, 0.7971382259446997, 0.8190653438264796]}], \"recall_score_macro\": [{\"categories\": [\"0\", \"2\", \"5\", \"13\", \"22\", \"26\", \"27\", \"30\", \"31\", \"33\", \"38\"], \"mode\": \"markers\", \"name\": \"recall_score_macro\", \"stepped\": false, \"type\": \"scatter\", \"data\": [0.791691461524143, 0.6668582503735273, 0.6965528237968653, 0.6289155855153651, 0.7441341512382529, 0.7277208597400856, 0.7428896597004516, 0.6432519635157044, 0.7367423788173407, 0.6285032535879238, 0.8151884678051792]}, {\"categories\": [\"0\", \"2\", \"5\", \"13\", \"22\", \"26\", \"27\", \"30\", \"31\", \"33\", \"38\"], \"mode\": \"lines\", \"name\": \"recall_score_macro_max\", \"stepped\": true, \"type\": \"scatter\", \"data\": [0.791691461524143, 0.791691461524143, 0.791691461524143, 0.791691461524143, 0.791691461524143, 0.791691461524143, 0.791691461524143, 0.791691461524143, 0.791691461524143, 0.791691461524143, 0.8151884678051792]}], \"AUC_macro\": [{\"categories\": [\"0\", \"2\", \"5\", \"13\", \"22\", \"26\", \"27\", \"30\", \"31\", \"33\", \"38\"], \"mode\": \"markers\", \"name\": \"AUC_macro\", \"stepped\": false, \"type\": \"scatter\", \"data\": [0.9221789283257635, 0.8312231908376155, 0.8844088426768181, 0.8063872830014805, 0.8863138590725739, 0.8934622398326563, 0.8925260721652847, 0.8358311691961268, 0.8813500373550497, 0.8037679698855311, 0.9201319470197724]}, {\"categories\": [\"0\", \"2\", \"5\", \"13\", \"22\", \"26\", \"27\", \"30\", \"31\", \"33\", \"38\"], \"mode\": \"lines\", \"name\": \"AUC_macro_max\", \"stepped\": true, \"type\": \"scatter\", \"data\": [0.9221789283257635, 0.9221789283257635, 0.9221789283257635, 0.9221789283257635, 0.9221789283257635, 0.9221789283257635, 0.9221789283257635, 0.9221789283257635, 0.9221789283257635, 0.9221789283257635, 0.9221789283257635]}], \"average_precision_score_weighted\": [{\"categories\": [\"0\", \"2\", \"5\", \"13\", \"22\", \"26\", \"27\", \"30\", \"31\", \"33\", \"38\"], \"mode\": \"markers\", \"name\": \"average_precision_score_weighted\", \"stepped\": false, \"type\": \"scatter\", \"data\": [0.8584500271290585, 0.7215000138358434, 0.8039621355325278, 0.6947520923632036, 0.8077856732363119, 0.8217415363489309, 0.8142838837080587, 0.7115798906522438, 0.7961616131209323, 0.6781361921415151, 0.8610707215844399]}, {\"categories\": [\"0\", \"2\", \"5\", \"13\", \"22\", \"26\", \"27\", \"30\", \"31\", \"33\", \"38\"], \"mode\": \"lines\", \"name\": \"average_precision_score_weighted_max\", \"stepped\": true, \"type\": \"scatter\", \"data\": [0.8584500271290585, 0.8584500271290585, 0.8584500271290585, 0.8584500271290585, 0.8584500271290585, 0.8584500271290585, 0.8584500271290585, 0.8584500271290585, 0.8584500271290585, 0.8584500271290585, 0.8610707215844399]}], \"matthews_correlation\": [{\"categories\": [\"0\", \"2\", \"5\", \"13\", \"22\", \"26\", \"27\", \"30\", \"31\", \"33\", \"38\"], \"mode\": \"markers\", \"name\": \"matthews_correlation\", \"stepped\": false, \"type\": \"scatter\", \"data\": [0.678587660112883, 0.49310999678301326, 0.5648208954532344, 0.424915528175986, 0.6134391120414425, 0.5887997160110182, 0.6084199854202913, 0.4742939353459859, 0.598308750460767, 0.4382941017492379, 0.7166022951990293]}, {\"categories\": [\"0\", \"2\", \"5\", \"13\", \"22\", \"26\", \"27\", \"30\", \"31\", \"33\", \"38\"], \"mode\": \"lines\", \"name\": \"matthews_correlation_max\", \"stepped\": true, \"type\": \"scatter\", \"data\": [0.678587660112883, 0.678587660112883, 0.678587660112883, 0.678587660112883, 0.678587660112883, 0.678587660112883, 0.678587660112883, 0.678587660112883, 0.678587660112883, 0.678587660112883, 0.7166022951990293]}], \"norm_macro_recall\": [{\"categories\": [\"0\", \"2\", \"5\", \"13\", \"22\", \"26\", \"27\", \"30\", \"31\", \"33\", \"38\"], \"mode\": \"markers\", \"name\": \"norm_macro_recall\", \"stepped\": false, \"type\": \"scatter\", \"data\": [0.6875371922862145, 0.5002873755602909, 0.544829235695298, 0.4433733782730476, 0.6162012268573792, 0.5915812896101283, 0.6143344895506774, 0.4648779452735566, 0.6051135682260111, 0.4427548803818859, 0.7227827017077688]}, {\"categories\": [\"0\", \"2\", \"5\", \"13\", \"22\", \"26\", \"27\", \"30\", \"31\", \"33\", \"38\"], \"mode\": \"lines\", \"name\": \"norm_macro_recall_max\", \"stepped\": true, \"type\": \"scatter\", \"data\": [0.6875371922862145, 0.6875371922862145, 0.6875371922862145, 0.6875371922862145, 0.6875371922862145, 0.6875371922862145, 0.6875371922862145, 0.6875371922862145, 0.6875371922862145, 0.6875371922862145, 0.7227827017077688]}], \"f1_score_macro\": [{\"categories\": [\"0\", \"2\", \"5\", \"13\", \"22\", \"26\", \"27\", \"30\", \"31\", \"33\", \"38\"], \"mode\": \"markers\", \"name\": \"f1_score_macro\", \"stepped\": false, \"type\": \"scatter\", \"data\": [0.793724004278921, 0.6544600691517962, 0.6893903260692574, 0.6165616485698694, 0.7470506868657347, 0.7232745157859747, 0.7408286647648019, 0.632243434582724, 0.7362286764073369, 0.619763271814815, 0.8163327401577277]}, {\"categories\": [\"0\", \"2\", \"5\", \"13\", \"22\", \"26\", \"27\", \"30\", \"31\", \"33\", \"38\"], \"mode\": \"lines\", \"name\": \"f1_score_macro_max\", \"stepped\": true, \"type\": \"scatter\", \"data\": [0.793724004278921, 0.793724004278921, 0.793724004278921, 0.793724004278921, 0.793724004278921, 0.793724004278921, 0.793724004278921, 0.793724004278921, 0.793724004278921, 0.793724004278921, 0.8163327401577277]}], \"weighted_accuracy\": [{\"categories\": [\"0\", \"2\", \"5\", \"13\", \"22\", \"26\", \"27\", \"30\", \"31\", \"33\", \"38\"], \"mode\": \"markers\", \"name\": \"weighted_accuracy\", \"stepped\": false, \"type\": \"scatter\", \"data\": [0.7905245876636678, 0.6644670100348196, 0.7210381918087351, 0.6138481114751814, 0.7533399484919926, 0.7360751143108332, 0.7470686352855465, 0.664341153857335, 0.7413969344942449, 0.6363204110428681, 0.8162494630455921]}, {\"categories\": [\"0\", \"2\", \"5\", \"13\", \"22\", \"26\", \"27\", \"30\", \"31\", \"33\", \"38\"], \"mode\": \"lines\", \"name\": \"weighted_accuracy_max\", \"stepped\": true, \"type\": \"scatter\", \"data\": [0.7905245876636678, 0.7905245876636678, 0.7905245876636678, 0.7905245876636678, 0.7905245876636678, 0.7905245876636678, 0.7905245876636678, 0.7905245876636678, 0.7905245876636678, 0.7905245876636678, 0.8162494630455921]}], \"recall_score_weighted\": [{\"categories\": [\"0\", \"2\", \"5\", \"13\", \"22\", \"26\", \"27\", \"30\", \"31\", \"33\", \"38\"], \"mode\": \"markers\", \"name\": \"recall_score_weighted\", \"stepped\": false, \"type\": \"scatter\", \"data\": [0.7904059040590407, 0.6633957450685618, 0.7065099539884288, 0.6190196346407909, 0.7472370279258348, 0.7299986333196665, 0.7435333242221311, 0.6510363992528814, 0.7373559291148467, 0.6300806341396747, 0.8150562616737278]}, {\"categories\": [\"0\", \"2\", \"5\", \"13\", \"22\", \"26\", \"27\", \"30\", \"31\", \"33\", \"38\"], \"mode\": \"lines\", \"name\": \"recall_score_weighted_max\", \"stepped\": true, \"type\": \"scatter\", \"data\": [0.7904059040590407, 0.7904059040590407, 0.7904059040590407, 0.7904059040590407, 0.7904059040590407, 0.7904059040590407, 0.7904059040590407, 0.7904059040590407, 0.7904059040590407, 0.7904059040590407, 0.8150562616737278]}], \"f1_score_micro\": [{\"categories\": [\"0\", \"2\", \"5\", \"13\", \"22\", \"26\", \"27\", \"30\", \"31\", \"33\", \"38\"], \"mode\": \"markers\", \"name\": \"f1_score_micro\", \"stepped\": false, \"type\": \"scatter\", \"data\": [0.7904059040590407, 0.6633957450685618, 0.7065099539884289, 0.6190196346407909, 0.7472370279258348, 0.7299986333196665, 0.7435333242221311, 0.6510363992528814, 0.7373559291148467, 0.6300806341396747, 0.8150562616737279]}, {\"categories\": [\"0\", \"2\", \"5\", \"13\", \"22\", \"26\", \"27\", \"30\", \"31\", \"33\", \"38\"], \"mode\": \"lines\", \"name\": \"f1_score_micro_max\", \"stepped\": true, \"type\": \"scatter\", \"data\": [0.7904059040590407, 0.7904059040590407, 0.7904059040590407, 0.7904059040590407, 0.7904059040590407, 0.7904059040590407, 0.7904059040590407, 0.7904059040590407, 0.7904059040590407, 0.7904059040590407, 0.8150562616737279]}], \"average_precision_score_macro\": [{\"categories\": [\"0\", \"2\", \"5\", \"13\", \"22\", \"26\", \"27\", \"30\", \"31\", \"33\", \"38\"], \"mode\": \"markers\", \"name\": \"average_precision_score_macro\", \"stepped\": false, \"type\": \"scatter\", \"data\": [0.8613840037244228, 0.7321198881403408, 0.808826650626442, 0.707376835703502, 0.813136705858664, 0.8248220697204623, 0.8185605745636629, 0.7213305900131685, 0.8014670643008966, 0.6857611591182637, 0.8638818676408895]}, {\"categories\": [\"0\", \"2\", \"5\", \"13\", \"22\", \"26\", \"27\", \"30\", \"31\", \"33\", \"38\"], \"mode\": \"lines\", \"name\": \"average_precision_score_macro_max\", \"stepped\": true, \"type\": \"scatter\", \"data\": [0.8613840037244228, 0.8613840037244228, 0.8613840037244228, 0.8613840037244228, 0.8613840037244228, 0.8613840037244228, 0.8613840037244228, 0.8613840037244228, 0.8613840037244228, 0.8613840037244228, 0.8638818676408895]}], \"AUC_micro\": [{\"categories\": [\"0\", \"2\", \"5\", \"13\", \"22\", \"26\", \"27\", \"30\", \"31\", \"33\", \"38\"], \"mode\": \"markers\", \"name\": \"AUC_micro\", \"stepped\": false, \"type\": \"scatter\", \"data\": [0.928535515138153, 0.8520524078169882, 0.8761284695887975, 0.8261089095952384, 0.8988023667733072, 0.9022340103770953, 0.9018989314709026, 0.8363510467207993, 0.8927466116946259, 0.8222056150420433, 0.9272740850356586]}, {\"categories\": [\"0\", \"2\", \"5\", \"13\", \"22\", \"26\", \"27\", \"30\", \"31\", \"33\", \"38\"], \"mode\": \"lines\", \"name\": \"AUC_micro_max\", \"stepped\": true, \"type\": \"scatter\", \"data\": [0.928535515138153, 0.928535515138153, 0.928535515138153, 0.928535515138153, 0.928535515138153, 0.928535515138153, 0.928535515138153, 0.928535515138153, 0.928535515138153, 0.928535515138153, 0.928535515138153]}], \"recall_score_micro\": [{\"categories\": [\"0\", \"2\", \"5\", \"13\", \"22\", \"26\", \"27\", \"30\", \"31\", \"33\", \"38\"], \"mode\": \"markers\", \"name\": \"recall_score_micro\", \"stepped\": false, \"type\": \"scatter\", \"data\": [0.7904059040590407, 0.6633957450685618, 0.7065099539884288, 0.6190196346407909, 0.7472370279258348, 0.7299986333196665, 0.7435333242221311, 0.6510363992528814, 0.7373559291148467, 0.6300806341396747, 0.8150562616737278]}, {\"categories\": [\"0\", \"2\", \"5\", \"13\", \"22\", \"26\", \"27\", \"30\", \"31\", \"33\", \"38\"], \"mode\": \"lines\", \"name\": \"recall_score_micro_max\", \"stepped\": true, \"type\": \"scatter\", \"data\": [0.7904059040590407, 0.7904059040590407, 0.7904059040590407, 0.7904059040590407, 0.7904059040590407, 0.7904059040590407, 0.7904059040590407, 0.7904059040590407, 0.7904059040590407, 0.7904059040590407, 0.8150562616737278]}], \"AUC_weighted\": [{\"categories\": [\"0\", \"2\", \"5\", \"13\", \"22\", \"26\", \"27\", \"30\", \"31\", \"33\", \"38\"], \"mode\": \"markers\", \"name\": \"AUC_weighted\", \"stepped\": false, \"type\": \"scatter\", \"data\": [0.9185280428416073, 0.8212334368715952, 0.878941926027938, 0.794499105580052, 0.8812337361081148, 0.8886817755209534, 0.8869147223194519, 0.8264485237298205, 0.8751835889963105, 0.7945574981396358, 0.9162189378593789]}, {\"categories\": [\"0\", \"2\", \"5\", \"13\", \"22\", \"26\", \"27\", \"30\", \"31\", \"33\", \"38\"], \"mode\": \"lines\", \"name\": \"AUC_weighted_max\", \"stepped\": true, \"type\": \"scatter\", \"data\": [0.9185280428416073, 0.9185280428416073, 0.9185280428416073, 0.9185280428416073, 0.9185280428416073, 0.9185280428416073, 0.9185280428416073, 0.9185280428416073, 0.9185280428416073, 0.9185280428416073, 0.9185280428416073]}]}, \"metricName\": null, \"primaryMetricName\": \"accuracy\", \"showLegend\": false}, \"run_metrics\": [{\"name\": \"experiment_status\", \"run_id\": \"AutoML_21e8b539-695b-4e5b-9648-7bc19f7d51f8\", \"categories\": [0, 1, 2, 3, 4, 5, 6, 7, 8, 9, 10, 11, 12, 13], \"series\": [{\"data\": [\"DatasetEvaluation\", \"FeaturesGeneration\", \"DatasetFeaturization\", \"DatasetFeaturizationCompleted\", \"DatasetCrossValidationSplit\", \"ModelSelection\", \"BestRunExplainModel\", \"ModelExplanationDataSetSetup\", \"PickSurrogateModel\", \"EngineeredFeatureExplanations\", \"EngineeredFeatureExplanations\", \"RawFeaturesExplanations\", \"RawFeaturesExplanations\", \"BestRunExplainModel\"]}]}, {\"name\": \"experiment_status_description\", \"run_id\": \"AutoML_21e8b539-695b-4e5b-9648-7bc19f7d51f8\", \"categories\": [0, 1, 2, 3, 4, 5, 6, 7, 8, 9, 10, 11, 12, 13], \"series\": [{\"data\": [\"Gathering dataset statistics.\", \"Generating features for the dataset.\", \"Beginning to fit featurizers and featurize the dataset.\", \"Completed fit featurizers and featurizing the dataset.\", \"Generating individually featurized CV splits.\", \"Beginning model selection.\", \"Best run model explanations started\", \"Model explanations data setup completed\", \"Choosing LightGBM as the surrogate model for explanations\", \"Computation of engineered features started\", \"Computation of engineered features completed\", \"Computation of raw features started\", \"Computation of raw features completed\", \"Best run model explanations completed\"]}]}, {\"name\": \"f1_score_micro\", \"run_id\": \"AutoML_21e8b539-695b-4e5b-9648-7bc19f7d51f8\", \"categories\": [0], \"series\": [{\"data\": [0.8150562616737279]}]}, {\"name\": \"recall_score_micro\", \"run_id\": \"AutoML_21e8b539-695b-4e5b-9648-7bc19f7d51f8\", \"categories\": [0], \"series\": [{\"data\": [0.8150562616737278]}]}, {\"name\": \"precision_score_macro\", \"run_id\": \"AutoML_21e8b539-695b-4e5b-9648-7bc19f7d51f8\", \"categories\": [0], \"series\": [{\"data\": [0.8190653438264796]}]}, {\"name\": \"AUC_micro\", \"run_id\": \"AutoML_21e8b539-695b-4e5b-9648-7bc19f7d51f8\", \"categories\": [0], \"series\": [{\"data\": [0.9272740850356586]}]}, {\"name\": \"balanced_accuracy\", \"run_id\": \"AutoML_21e8b539-695b-4e5b-9648-7bc19f7d51f8\", \"categories\": [0], \"series\": [{\"data\": [0.8151884678051792]}]}, {\"name\": \"precision_score_weighted\", \"run_id\": \"AutoML_21e8b539-695b-4e5b-9648-7bc19f7d51f8\", \"categories\": [0], \"series\": [{\"data\": [0.8155213830451465]}]}, {\"name\": \"matthews_correlation\", \"run_id\": \"AutoML_21e8b539-695b-4e5b-9648-7bc19f7d51f8\", \"categories\": [0], \"series\": [{\"data\": [0.7166022951990293]}]}, {\"name\": \"recall_score_weighted\", \"run_id\": \"AutoML_21e8b539-695b-4e5b-9648-7bc19f7d51f8\", \"categories\": [0], \"series\": [{\"data\": [0.8150562616737278]}]}, {\"name\": \"average_precision_score_micro\", \"run_id\": \"AutoML_21e8b539-695b-4e5b-9648-7bc19f7d51f8\", \"categories\": [0], \"series\": [{\"data\": [0.8701360634512089]}]}, {\"name\": \"AUC_weighted\", \"run_id\": \"AutoML_21e8b539-695b-4e5b-9648-7bc19f7d51f8\", \"categories\": [0], \"series\": [{\"data\": [0.9162189378593789]}]}, {\"name\": \"recall_score_macro\", \"run_id\": \"AutoML_21e8b539-695b-4e5b-9648-7bc19f7d51f8\", \"categories\": [0], \"series\": [{\"data\": [0.8151884678051792]}]}, {\"name\": \"AUC_macro\", \"run_id\": \"AutoML_21e8b539-695b-4e5b-9648-7bc19f7d51f8\", \"categories\": [0], \"series\": [{\"data\": [0.9201319470197724]}]}, {\"name\": \"weighted_accuracy\", \"run_id\": \"AutoML_21e8b539-695b-4e5b-9648-7bc19f7d51f8\", \"categories\": [0], \"series\": [{\"data\": [0.8162494630455921]}]}, {\"name\": \"precision_score_micro\", \"run_id\": \"AutoML_21e8b539-695b-4e5b-9648-7bc19f7d51f8\", \"categories\": [0], \"series\": [{\"data\": [0.8150562616737278]}]}, {\"name\": \"norm_macro_recall\", \"run_id\": \"AutoML_21e8b539-695b-4e5b-9648-7bc19f7d51f8\", \"categories\": [0], \"series\": [{\"data\": [0.7227827017077688]}]}, {\"name\": \"log_loss\", \"run_id\": \"AutoML_21e8b539-695b-4e5b-9648-7bc19f7d51f8\", \"categories\": [0], \"series\": [{\"data\": [0.6459684269834751]}]}, {\"name\": \"average_precision_score_weighted\", \"run_id\": \"AutoML_21e8b539-695b-4e5b-9648-7bc19f7d51f8\", \"categories\": [0], \"series\": [{\"data\": [0.8610707215844399]}]}, {\"name\": \"average_precision_score_macro\", \"run_id\": \"AutoML_21e8b539-695b-4e5b-9648-7bc19f7d51f8\", \"categories\": [0], \"series\": [{\"data\": [0.8638818676408895]}]}, {\"name\": \"accuracy\", \"run_id\": \"AutoML_21e8b539-695b-4e5b-9648-7bc19f7d51f8\", \"categories\": [0], \"series\": [{\"data\": [0.8150562616737278]}]}, {\"name\": \"f1_score_macro\", \"run_id\": \"AutoML_21e8b539-695b-4e5b-9648-7bc19f7d51f8\", \"categories\": [0], \"series\": [{\"data\": [0.8163327401577277]}]}, {\"name\": \"f1_score_weighted\", \"run_id\": \"AutoML_21e8b539-695b-4e5b-9648-7bc19f7d51f8\", \"categories\": [0], \"series\": [{\"data\": [0.8145323007829818]}]}], \"run_logs\": \"\\nRun is completed.\", \"graph\": {}, \"widget_settings\": {\"childWidgetDisplay\": \"popup\", \"send_telemetry\": false, \"log_level\": \"INFO\", \"sdk_version\": \"1.38.0\"}, \"loading\": false}"
     },
     "metadata": {},
     "output_type": "display_data"
    }
   ],
   "source": [
    "RunDetails(remote_run).show()"
   ]
  },
  {
   "cell_type": "code",
   "execution_count": 10,
   "metadata": {
    "gather": {
     "logged": 1647567914093
    }
   },
   "outputs": [
    {
     "data": {
      "text/html": [
       "<table style=\"width:100%\"><tr><th>Experiment</th><th>Id</th><th>Type</th><th>Status</th><th>Details Page</th><th>Docs Page</th></tr><tr><td>capstone-automl-experiment</td><td>AutoML_21e8b539-695b-4e5b-9648-7bc19f7d51f8</td><td>automl</td><td>Completed</td><td><a href=\"https://ml.azure.com/runs/AutoML_21e8b539-695b-4e5b-9648-7bc19f7d51f8?wsid=/subscriptions/976ee174-3882-4721-b90a-b5fef6b72f24/resourcegroups/aml-quickstarts-189271/workspaces/quick-starts-ws-189271&amp;tid=660b3398-b80e-49d2-bc5b-ac1dc93b5254\" target=\"_blank\" rel=\"noopener\">Link to Azure Machine Learning studio</a></td><td><a href=\"https://docs.microsoft.com/en-us/python/api/overview/azure/ml/intro?view=azure-ml-py\" target=\"_blank\" rel=\"noopener\">Link to Documentation</a></td></tr></table>"
      ],
      "text/plain": [
       "<IPython.core.display.HTML object>"
      ]
     },
     "metadata": {},
     "output_type": "display_data"
    },
    {
     "name": "stdout",
     "output_type": "stream",
     "text": [
      "\n",
      "\n",
      "********************************************************************************************\n",
      "DATA GUARDRAILS: \n",
      "\n",
      "TYPE:         Class balancing detection\n",
      "STATUS:       PASSED\n",
      "DESCRIPTION:  Your inputs were analyzed, and all classes are balanced in your training data.\n",
      "              Learn more about imbalanced data: https://aka.ms/AutomatedMLImbalancedData\n",
      "\n",
      "********************************************************************************************\n",
      "\n",
      "TYPE:         Missing feature values imputation\n",
      "STATUS:       DONE\n",
      "DESCRIPTION:  If the missing values are expected, let the run complete. Otherwise cancel the current run and use a script to customize the handling of missing feature values that may be more appropriate based on the data type and business requirement.\n",
      "              Learn more about missing value imputation: https://aka.ms/AutomatedMLFeaturization\n",
      "DETAILS:      \n",
      "+------------------------------+------------------------------+------------------------------+\n",
      "|Column name                   |Missing value count           |Imputation type               |\n",
      "+==============================+==============================+==============================+\n",
      "|BodyTemp                      |3                             |mean                          |\n",
      "+------------------------------+------------------------------+------------------------------+\n",
      "\n",
      "********************************************************************************************\n",
      "\n",
      "TYPE:         High cardinality feature detection\n",
      "STATUS:       PASSED\n",
      "DESCRIPTION:  Your inputs were analyzed, and no high cardinality features were detected.\n",
      "              Learn more about high cardinality feature handling: https://aka.ms/AutomatedMLFeaturization\n",
      "\n",
      "********************************************************************************************\n",
      "\n",
      "********************************************************************************************\n",
      "ITER: The iteration being evaluated.\n",
      "PIPELINE: A summary description of the pipeline being evaluated.\n",
      "DURATION: Time taken for the current iteration.\n",
      "METRIC: The result of computing score on the fitted pipeline.\n",
      "BEST: The best observed score thus far.\n",
      "********************************************************************************************\n",
      "\n",
      " ITER   PIPELINE                                       DURATION            METRIC      BEST\n",
      "    0   MaxAbsScaler LightGBM                          0:00:10             0.7904    0.7904\n",
      "    1   MaxAbsScaler XGBoostClassifier                 0:00:09             0.7485    0.7904\n",
      "    2   MaxAbsScaler ExtremeRandomTrees                0:00:10             0.6634    0.7904\n",
      "    3   SparseNormalizer XGBoostClassifier             0:00:09             0.7411    0.7904\n",
      "    4   MaxAbsScaler LightGBM                          0:00:08             0.7040    0.7904\n",
      "    5   MaxAbsScaler LightGBM                          0:00:08             0.7065    0.7904\n",
      "    6   StandardScalerWrapper XGBoostClassifier        0:00:09             0.7534    0.7904\n",
      "    7   MaxAbsScaler LogisticRegression                0:00:09             0.6326    0.7904\n",
      "    8   StandardScalerWrapper ExtremeRandomTrees       0:00:09             0.5844    0.7904\n",
      "    9   StandardScalerWrapper XGBoostClassifier        0:00:08             0.7152    0.7904\n",
      "   10   SparseNormalizer LightGBM                      0:00:09             0.6510    0.7904\n",
      "   11   StandardScalerWrapper XGBoostClassifier        0:00:08             0.7583    0.7904\n",
      "   12   MaxAbsScaler LogisticRegression                0:00:09             0.6276    0.7904\n",
      "   13   MaxAbsScaler SGD                               0:00:08             0.6190    0.7904\n",
      "   14   StandardScalerWrapper XGBoostClassifier        0:00:08             0.7152    0.7904\n",
      "   15   SparseNormalizer RandomForest                  0:00:10             0.7337    0.7904\n",
      "   16   StandardScalerWrapper LogisticRegression       0:00:09             0.6338    0.7904\n",
      "   17   StandardScalerWrapper RandomForest             0:00:09             0.7053    0.7904\n",
      "   18   StandardScalerWrapper XGBoostClassifier        0:00:09             0.7830    0.7904\n",
      "   19   TruncatedSVDWrapper RandomForest               0:00:10             0.6745    0.7904\n",
      "   20   TruncatedSVDWrapper RandomForest               0:00:04             0.7695    0.7904\n",
      "   21   StandardScalerWrapper XGBoostClassifier        0:00:04             0.7719    0.7904\n",
      "   22   SparseNormalizer XGBoostClassifier             0:00:04             0.7472    0.7904\n",
      "   23   StandardScalerWrapper LightGBM                 0:03:33             0.6436    0.7904\n",
      "   24   StandardScalerWrapper LogisticRegression       0:00:04             0.6202    0.7904\n",
      "   25   StandardScalerWrapper RandomForest             0:00:04             0.6646    0.7904\n",
      "   26   SparseNormalizer XGBoostClassifier             0:00:04             0.7300    0.7904\n",
      "   27   StandardScalerWrapper XGBoostClassifier        0:00:04             0.7435    0.7904\n",
      "   28   StandardScalerWrapper XGBoostClassifier        0:00:04             0.7485    0.7904\n",
      "   29   MaxAbsScaler LightGBM                          0:00:04             0.6252    0.7904\n",
      "   30   MaxAbsScaler LightGBM                          0:00:04             0.6510    0.7904\n",
      "   31   StandardScalerWrapper XGBoostClassifier        0:00:04             0.7374    0.7904\n",
      "   32   MaxAbsScaler LightGBM                          0:00:04             0.6276    0.7904\n",
      "   33   SparseNormalizer LightGBM                      0:00:04             0.6301    0.7904\n",
      "   34                                                  0:00:00                nan    0.7904\n",
      "   35                                                  0:00:00                nan    0.7904\n",
      "   36                                                  0:00:00                nan    0.7904\n",
      "   37                                                  0:00:01                nan    0.7904\n",
      "   38    VotingEnsemble                                0:00:04             0.8151    0.8151\n"
     ]
    },
    {
     "data": {
      "text/plain": [
       "{'runId': 'AutoML_21e8b539-695b-4e5b-9648-7bc19f7d51f8',\n",
       " 'target': 'automl-com-clst',\n",
       " 'status': 'Completed',\n",
       " 'startTimeUtc': '2022-03-18T01:23:25.897213Z',\n",
       " 'endTimeUtc': '2022-03-18T01:42:01.467269Z',\n",
       " 'services': {},\n",
       " 'warnings': [{'source': 'JasmineService',\n",
       "   'message': 'No scores improved over last 20 iterations, so experiment stopped early. This early stopping behavior can be disabled by setting enable_early_stopping = False in AutoMLConfig for notebook/python SDK runs.'}],\n",
       " 'properties': {'num_iterations': '1000',\n",
       "  'training_type': 'TrainFull',\n",
       "  'acquisition_function': 'EI',\n",
       "  'primary_metric': 'accuracy',\n",
       "  'train_split': '0',\n",
       "  'acquisition_parameter': '0',\n",
       "  'num_cross_validation': '3',\n",
       "  'target': 'automl-com-clst',\n",
       "  'AMLSettingsJsonString': '{\"path\":null,\"name\":\"capstone-automl-experiment\",\"subscription_id\":\"976ee174-3882-4721-b90a-b5fef6b72f24\",\"resource_group\":\"aml-quickstarts-189271\",\"workspace_name\":\"quick-starts-ws-189271\",\"region\":\"southcentralus\",\"compute_target\":\"automl-com-clst\",\"spark_service\":null,\"azure_service\":\"remote\",\"many_models\":false,\"pipeline_fetch_max_batch_size\":1,\"enable_batch_run\":true,\"enable_run_restructure\":false,\"start_auxiliary_runs_before_parent_complete\":false,\"enable_code_generation\":false,\"iterations\":1000,\"primary_metric\":\"accuracy\",\"task_type\":\"classification\",\"positive_label\":null,\"data_script\":null,\"test_size\":0.0,\"test_include_predictions_only\":false,\"validation_size\":0.0,\"n_cross_validations\":3,\"y_min\":null,\"y_max\":null,\"num_classes\":null,\"featurization\":\"auto\",\"_ignore_package_version_incompatibilities\":false,\"is_timeseries\":false,\"max_cores_per_iteration\":1,\"max_concurrent_iterations\":5,\"iteration_timeout_minutes\":null,\"mem_in_mb\":null,\"enforce_time_on_windows\":false,\"experiment_timeout_minutes\":20,\"experiment_exit_score\":null,\"whitelist_models\":null,\"blacklist_algos\":[\"TensorFlowLinearClassifier\",\"TensorFlowDNN\"],\"supported_models\":[\"LogisticRegression\",\"TensorFlowDNN\",\"LightGBM\",\"ExtremeRandomTrees\",\"RandomForest\",\"TabnetClassifier\",\"KNN\",\"XGBoostClassifier\",\"MultinomialNaiveBayes\",\"GradientBoosting\",\"TensorFlowLinearClassifier\",\"LinearSVM\",\"DecisionTree\",\"SVM\",\"SGD\",\"BernoulliNaiveBayes\",\"AveragedPerceptronClassifier\"],\"private_models\":[],\"auto_blacklist\":true,\"blacklist_samples_reached\":false,\"exclude_nan_labels\":true,\"verbosity\":20,\"_debug_log\":\"azureml_automl.log\",\"show_warnings\":false,\"model_explainability\":true,\"service_url\":null,\"sdk_url\":null,\"sdk_packages\":null,\"enable_onnx_compatible_models\":true,\"enable_split_onnx_featurizer_estimator_models\":false,\"vm_type\":\"STANDARD_D2_V2\",\"telemetry_verbosity\":20,\"send_telemetry\":true,\"enable_dnn\":false,\"scenario\":\"SDK-1.13.0\",\"environment_label\":null,\"save_mlflow\":false,\"enable_categorical_indicators\":false,\"force_text_dnn\":false,\"enable_feature_sweeping\":false,\"enable_early_stopping\":true,\"early_stopping_n_iters\":10,\"arguments\":null,\"dataset_id\":null,\"hyperdrive_config\":null,\"validation_dataset_id\":null,\"run_source\":null,\"metrics\":null,\"enable_metric_confidence\":false,\"enable_ensembling\":true,\"enable_stack_ensembling\":false,\"ensemble_iterations\":15,\"enable_tf\":false,\"enable_subsampling\":null,\"subsample_seed\":null,\"enable_nimbusml\":false,\"enable_streaming\":false,\"force_streaming\":false,\"track_child_runs\":true,\"allowed_private_models\":[],\"label_column_name\":\"RiskLevel\",\"weight_column_name\":null,\"cv_split_column_names\":null,\"enable_local_managed\":false,\"_local_managed_run_id\":null,\"cost_mode\":1,\"lag_length\":0,\"metric_operation\":\"maximize\",\"preprocess\":true}',\n",
       "  'DataPrepJsonString': '{\\\\\"training_data\\\\\": {\\\\\"datasetId\\\\\": \\\\\"bff70d01-8284-46a6-9503-1ab741d2f375\\\\\"}, \\\\\"datasets\\\\\": 0}',\n",
       "  'EnableSubsampling': None,\n",
       "  'runTemplate': 'AutoML',\n",
       "  'azureml.runsource': 'automl',\n",
       "  'display_task_type': 'classification',\n",
       "  'dependencies_versions': '{\"azureml-widgets\": \"1.38.0\", \"azureml-train\": \"1.38.0\", \"azureml-train-restclients-hyperdrive\": \"1.38.0\", \"azureml-train-core\": \"1.38.0\", \"azureml-train-automl\": \"1.38.0\", \"azureml-train-automl-runtime\": \"1.38.0\", \"azureml-train-automl-client\": \"1.38.0\", \"azureml-tensorboard\": \"1.38.0\", \"azureml-telemetry\": \"1.38.0\", \"azureml-sdk\": \"1.38.0\", \"azureml-responsibleai\": \"1.38.0\", \"azureml-pipeline\": \"1.38.0\", \"azureml-pipeline-steps\": \"1.38.0\", \"azureml-pipeline-core\": \"1.38.0\", \"azureml-opendatasets\": \"1.38.0\", \"azureml-mlflow\": \"1.38.0\", \"azureml-interpret\": \"1.38.0\", \"azureml-inference-server-http\": \"0.4.2\", \"azureml-explain-model\": \"1.38.0\", \"azureml-defaults\": \"1.38.0\", \"azureml-dataset-runtime\": \"1.38.0\", \"azureml-dataprep\": \"2.26.0\", \"azureml-dataprep-rslex\": \"2.2.0\", \"azureml-dataprep-native\": \"38.0.0\", \"azureml-datadrift\": \"1.38.0\", \"azureml-core\": \"1.38.0\", \"azureml-contrib-services\": \"1.38.0\", \"azureml-contrib-server\": \"1.38.0\", \"azureml-contrib-reinforcementlearning\": \"1.38.0\", \"azureml-contrib-pipeline-steps\": \"1.38.0\", \"azureml-contrib-notebook\": \"1.38.0\", \"azureml-contrib-fairness\": \"1.38.0\", \"azureml-contrib-dataset\": \"1.38.0\", \"azureml-contrib-automl-pipeline-steps\": \"1.38.0\", \"azureml-cli-common\": \"1.38.0\", \"azureml-automl-runtime\": \"1.38.0\", \"azureml-automl-dnn-nlp\": \"1.38.0\", \"azureml-automl-core\": \"1.38.0\", \"azureml-accel-models\": \"1.38.0\"}',\n",
       "  '_aml_system_scenario_identification': 'Remote.Parent',\n",
       "  'ClientType': 'SDK',\n",
       "  'environment_cpu_name': 'AzureML-AutoML',\n",
       "  'environment_cpu_label': 'py36',\n",
       "  'environment_gpu_name': 'AzureML-AutoML-GPU',\n",
       "  'environment_gpu_label': 'py36',\n",
       "  'root_attribution': 'automl',\n",
       "  'attribution': 'AutoML',\n",
       "  'Orchestrator': 'AutoML',\n",
       "  'CancelUri': 'https://southcentralus.api.azureml.ms/jasmine/v1.0/subscriptions/976ee174-3882-4721-b90a-b5fef6b72f24/resourceGroups/aml-quickstarts-189271/providers/Microsoft.MachineLearningServices/workspaces/quick-starts-ws-189271/experimentids/1783b036-080f-4858-a8e9-187d1c97a1db/cancel/AutoML_21e8b539-695b-4e5b-9648-7bc19f7d51f8',\n",
       "  'ClientSdkVersion': '1.38.0',\n",
       "  'snapshotId': '00000000-0000-0000-0000-000000000000',\n",
       "  'SetupRunId': 'AutoML_21e8b539-695b-4e5b-9648-7bc19f7d51f8_setup',\n",
       "  'SetupRunContainerId': 'dcid.AutoML_21e8b539-695b-4e5b-9648-7bc19f7d51f8_setup',\n",
       "  'FeaturizationRunJsonPath': 'featurizer_container.json',\n",
       "  'FeaturizationRunId': 'AutoML_21e8b539-695b-4e5b-9648-7bc19f7d51f8_featurize',\n",
       "  'ProblemInfoJsonString': '{\"dataset_num_categorical\": 0, \"is_sparse\": true, \"subsampling\": false, \"has_extra_col\": true, \"dataset_classes\": 3, \"dataset_features\": 54, \"dataset_samples\": 811, \"single_frequency_class_detected\": false}',\n",
       "  'ModelExplainRunId': 'AutoML_21e8b539-695b-4e5b-9648-7bc19f7d51f8_ModelExplain'},\n",
       " 'inputDatasets': [{'dataset': {'id': 'bff70d01-8284-46a6-9503-1ab741d2f375'}, 'consumptionDetails': {'type': 'RunInput', 'inputName': 'training_data', 'mechanism': 'Direct'}}],\n",
       " 'outputDatasets': [],\n",
       " 'logFiles': {},\n",
       " 'submittedBy': 'ODL_User 189271'}"
      ]
     },
     "execution_count": 10,
     "metadata": {},
     "output_type": "execute_result"
    }
   ],
   "source": [
    "remote_run.wait_for_completion(show_output=True)"
   ]
  },
  {
   "cell_type": "markdown",
   "metadata": {},
   "source": [
    "## Best Model\n",
    "\n",
    "TODO: In the cell below, get the best model from the automl experiments and display all the properties of the model.\n",
    "\n"
   ]
  },
  {
   "cell_type": "code",
   "execution_count": 11,
   "metadata": {
    "gather": {
     "logged": 1647568001021
    },
    "jupyter": {
     "outputs_hidden": false,
     "source_hidden": false
    },
    "nteract": {
     "transient": {
      "deleting": false
     }
    }
   },
   "outputs": [
    {
     "name": "stdout",
     "output_type": "stream",
     "text": [
      "===== AutoMl Best Run ========\n",
      "Run(Experiment: capstone-automl-experiment,\n",
      "Id: AutoML_21e8b539-695b-4e5b-9648-7bc19f7d51f8_38,\n",
      "Type: azureml.scriptrun,\n",
      "Status: Completed)\n",
      "\n",
      "  ===== AutoMl Best Fitted Model ========\n",
      "Pipeline(memory=None,\n",
      "         steps=[('datatransformer',\n",
      "                 DataTransformer(enable_dnn=False, enable_feature_sweeping=False, feature_sweeping_config={}, feature_sweeping_timeout=86400, featurization_config=None, force_text_dnn=False, is_cross_validation=True, is_onnx_compatible=True, observer=None, task='classification', working_dir='/mnt/batch/tasks/shared/LS_root/mount...\n",
      "    gpu_training_param_dict={'processing_unit_type': 'cpu'}\n",
      "), random_state=None, reg_alpha=0.3157894736842105, reg_lambda=1, subsample=1))], verbose=False))], flatten_transform=None, weights=[0.13333333333333333, 0.06666666666666667, 0.26666666666666666, 0.06666666666666667, 0.13333333333333333, 0.13333333333333333, 0.06666666666666667, 0.06666666666666667, 0.06666666666666667]))],\n",
      "         verbose=False)\n",
      "Y_transformer(['LabelEncoder', LabelEncoder()])\n",
      "\n",
      " f1_score_weighted 0.8145323007829818\n",
      "\n",
      " f1_score_macro 0.8163327401577277\n",
      "\n",
      " average_precision_score_weighted 0.8610707215844399\n",
      "\n",
      " accuracy 0.8150562616737278\n",
      "\n",
      " log_loss 0.6459684269834751\n",
      "\n",
      " recall_score_weighted 0.8150562616737278\n",
      "\n",
      " weighted_accuracy 0.8162494630455921\n",
      "\n",
      " AUC_macro 0.9201319470197724\n",
      "\n",
      " precision_score_macro 0.8190653438264796\n",
      "\n",
      " precision_score_weighted 0.8155213830451465\n",
      "\n",
      " norm_macro_recall 0.7227827017077688\n",
      "\n",
      " f1_score_micro 0.8150562616737279\n",
      "\n",
      " average_precision_score_macro 0.8638818676408895\n",
      "\n",
      " precision_score_micro 0.8150562616737278\n",
      "\n",
      " matthews_correlation 0.7166022951990293\n",
      "\n",
      " balanced_accuracy 0.8151884678051792\n",
      "\n",
      " average_precision_score_micro 0.8701360634512089\n",
      "\n",
      " AUC_micro 0.9272740850356586\n",
      "\n",
      " recall_score_micro 0.8150562616737278\n",
      "\n",
      " AUC_weighted 0.9162189378593789\n",
      "\n",
      " recall_score_macro 0.8151884678051792\n",
      "\n",
      " accuracy_table aml://artifactId/ExperimentRun/dcid.AutoML_21e8b539-695b-4e5b-9648-7bc19f7d51f8_38/accuracy_table\n",
      "\n",
      " confusion_matrix aml://artifactId/ExperimentRun/dcid.AutoML_21e8b539-695b-4e5b-9648-7bc19f7d51f8_38/confusion_matrix\n"
     ]
    }
   ],
   "source": [
    "#import pickle\n",
    "#with open(best_model_output._path_on_datastore, \"rb\" ) as f:\n",
    "#    best_model = pickle.load(f)\n",
    "#best_model\n",
    "automl_best_run, automl_fitted_model = remote_run.get_output()\n",
    "print(\"===== AutoMl Best Run ========\")\n",
    "print(automl_best_run)\n",
    "print(\"\\n  ===== AutoMl Best Fitted Model ========\")\n",
    "print(automl_fitted_model)\n",
    "automl_best_run.get_tags()\n",
    "automl_best_run_metrics = automl_best_run.get_metrics()\n",
    "\n",
    "for metric_name in automl_best_run_metrics:\n",
    "    metric = automl_best_run_metrics[metric_name]\n",
    "    print(\"\\n\",metric_name, metric)\n",
    "    \n",
    "\n",
    "#automl_best_run, automl_fitted_model = remote_run.get_output()\n",
    "#print(hasattr(automl_fitted_model, 'steps'))\n",
    "#print(\"\\n\")\n",
    "#print(automl_best_run.get_metrics())\n",
    "#print(\"\\n\")\n",
    "#print(automl_best_run.get_tags())   "
   ]
  },
  {
   "cell_type": "code",
   "execution_count": 12,
   "metadata": {
    "gather": {
     "logged": 1647568025558
    }
   },
   "outputs": [
    {
     "name": "stdout",
     "output_type": "stream",
     "text": [
      "[('datatransformer', DataTransformer(\n",
      "    task='classification',\n",
      "    is_onnx_compatible=True,\n",
      "    enable_feature_sweeping=False,\n",
      "    enable_dnn=False,\n",
      "    force_text_dnn=False,\n",
      "    feature_sweeping_timeout=86400,\n",
      "    featurization_config=None,\n",
      "    is_cross_validation=True,\n",
      "    feature_sweeping_config={}\n",
      ")), ('prefittedsoftvotingclassifier', PreFittedSoftVotingClassifier(\n",
      "    estimators=[('0', Pipeline(\n",
      "        memory=None,\n",
      "        steps=[('maxabsscaler', MaxAbsScaler(\n",
      "            copy=True\n",
      "        )), ('lightgbmclassifier', LightGBMClassifier(\n",
      "            min_data_in_leaf=20,\n",
      "            random_state=None,\n",
      "            n_jobs=1,\n",
      "            problem_info=ProblemInfo(\n",
      "                gpu_training_param_dict={'processing_unit_type': 'cpu'}\n",
      "            )\n",
      "        ))],\n",
      "        verbose=False\n",
      "    )), ('18', Pipeline(\n",
      "        memory=None,\n",
      "        steps=[('standardscalerwrapper', StandardScalerWrapper(\n",
      "            copy=True,\n",
      "            with_mean=False,\n",
      "            with_std=False\n",
      "        )), ('xgboostclassifier', XGBoostClassifier(\n",
      "            random_state=0,\n",
      "            n_jobs=1,\n",
      "            problem_info=ProblemInfo(\n",
      "                gpu_training_param_dict={'processing_unit_type': 'cpu'}\n",
      "            ),\n",
      "            booster='gbtree',\n",
      "            colsample_bytree=0.7,\n",
      "            eta=0.1,\n",
      "            gamma=0.1,\n",
      "            max_depth=9,\n",
      "            max_leaves=511,\n",
      "            n_estimators=25,\n",
      "            objective='reg:logistic',\n",
      "            reg_alpha=0,\n",
      "            reg_lambda=1.7708333333333335,\n",
      "            subsample=0.9,\n",
      "            tree_method='auto'\n",
      "        ))],\n",
      "        verbose=False\n",
      "    )), ('21', Pipeline(\n",
      "        memory=None,\n",
      "        steps=[('standardscalerwrapper', StandardScalerWrapper(\n",
      "            copy=True,\n",
      "            with_mean=False,\n",
      "            with_std=False\n",
      "        )), ('xgboostclassifier', XGBoostClassifier(\n",
      "            random_state=0,\n",
      "            n_jobs=1,\n",
      "            problem_info=ProblemInfo(\n",
      "                gpu_training_param_dict={'processing_unit_type': 'cpu'}\n",
      "            ),\n",
      "            booster='gbtree',\n",
      "            colsample_bytree=0.5,\n",
      "            eta=0.2,\n",
      "            gamma=0,\n",
      "            max_depth=7,\n",
      "            max_leaves=7,\n",
      "            n_estimators=25,\n",
      "            objective='reg:logistic',\n",
      "            reg_alpha=0,\n",
      "            reg_lambda=0.20833333333333334,\n",
      "            subsample=1,\n",
      "            tree_method='auto'\n",
      "        ))],\n",
      "        verbose=False\n",
      "    )), ('20', Pipeline(\n",
      "        memory=None,\n",
      "        steps=[('truncatedsvdwrapper', TruncatedSVDWrapper(\n",
      "            n_components=0.7026315789473684,\n",
      "            random_state=None\n",
      "        )), ('randomforestclassifier', RandomForestClassifier(\n",
      "            bootstrap=False,\n",
      "            ccp_alpha=0.0,\n",
      "            class_weight='balanced',\n",
      "            criterion='gini',\n",
      "            max_depth=None,\n",
      "            max_features='log2',\n",
      "            max_leaf_nodes=None,\n",
      "            max_samples=None,\n",
      "            min_impurity_decrease=0.0,\n",
      "            min_impurity_split=None,\n",
      "            min_samples_leaf=0.01,\n",
      "            min_samples_split=0.01,\n",
      "            min_weight_fraction_leaf=0.0,\n",
      "            n_estimators=200,\n",
      "            n_jobs=1,\n",
      "            oob_score=False,\n",
      "            random_state=None,\n",
      "            verbose=0,\n",
      "            warm_start=False\n",
      "        ))],\n",
      "        verbose=False\n",
      "    )), ('11', Pipeline(\n",
      "        memory=None,\n",
      "        steps=[('standardscalerwrapper', StandardScalerWrapper(\n",
      "            copy=True,\n",
      "            with_mean=False,\n",
      "            with_std=False\n",
      "        )), ('xgboostclassifier', XGBoostClassifier(\n",
      "            random_state=0,\n",
      "            n_jobs=1,\n",
      "            problem_info=ProblemInfo(\n",
      "                gpu_training_param_dict={'processing_unit_type': 'cpu'}\n",
      "            ),\n",
      "            booster='gbtree',\n",
      "            colsample_bytree=0.6,\n",
      "            eta=0.3,\n",
      "            gamma=0,\n",
      "            max_depth=6,\n",
      "            max_leaves=0,\n",
      "            n_estimators=10,\n",
      "            objective='reg:logistic',\n",
      "            reg_alpha=0.3125,\n",
      "            reg_lambda=2.3958333333333335,\n",
      "            subsample=1,\n",
      "            tree_method='auto'\n",
      "        ))],\n",
      "        verbose=False\n",
      "    )), ('6', Pipeline(\n",
      "        memory=None,\n",
      "        steps=[('standardscalerwrapper', StandardScalerWrapper(\n",
      "            copy=True,\n",
      "            with_mean=False,\n",
      "            with_std=False\n",
      "        )), ('xgboostclassifier', XGBoostClassifier(\n",
      "            random_state=0,\n",
      "            n_jobs=1,\n",
      "            problem_info=ProblemInfo(\n",
      "                gpu_training_param_dict={'processing_unit_type': 'cpu'}\n",
      "            ),\n",
      "            booster='gbtree',\n",
      "            colsample_bytree=0.5,\n",
      "            eta=0.3,\n",
      "            gamma=0,\n",
      "            max_depth=10,\n",
      "            max_leaves=255,\n",
      "            n_estimators=10,\n",
      "            objective='reg:logistic',\n",
      "            reg_alpha=0,\n",
      "            reg_lambda=0.10416666666666667,\n",
      "            subsample=0.7,\n",
      "            tree_method='auto'\n",
      "        ))],\n",
      "        verbose=False\n",
      "    )), ('22', Pipeline(\n",
      "        memory=None,\n",
      "        steps=[('sparsenormalizer', Normalizer(\n",
      "            copy=True,\n",
      "            norm='l1'\n",
      "        )), ('xgboostclassifier', XGBoostClassifier(\n",
      "            random_state=0,\n",
      "            n_jobs=1,\n",
      "            problem_info=ProblemInfo(\n",
      "                gpu_training_param_dict={'processing_unit_type': 'cpu'}\n",
      "            ),\n",
      "            booster='gbtree',\n",
      "            colsample_bylevel=1,\n",
      "            colsample_bytree=1,\n",
      "            eta=0.2,\n",
      "            gamma=0,\n",
      "            max_depth=10,\n",
      "            max_leaves=0,\n",
      "            n_estimators=10,\n",
      "            objective='reg:logistic',\n",
      "            reg_alpha=1.3541666666666667,\n",
      "            reg_lambda=1.4583333333333335,\n",
      "            subsample=1,\n",
      "            tree_method='auto'\n",
      "        ))],\n",
      "        verbose=False\n",
      "    )), ('9', Pipeline(\n",
      "        memory=None,\n",
      "        steps=[('standardscalerwrapper', StandardScalerWrapper(\n",
      "            copy=True,\n",
      "            with_mean=False,\n",
      "            with_std=False\n",
      "        )), ('xgboostclassifier', XGBoostClassifier(\n",
      "            random_state=0,\n",
      "            n_jobs=1,\n",
      "            problem_info=ProblemInfo(\n",
      "                gpu_training_param_dict={'processing_unit_type': 'cpu'}\n",
      "            ),\n",
      "            booster='gbtree',\n",
      "            colsample_bytree=0.5,\n",
      "            eta=0.5,\n",
      "            gamma=0,\n",
      "            max_depth=6,\n",
      "            max_leaves=3,\n",
      "            n_estimators=10,\n",
      "            objective='reg:logistic',\n",
      "            reg_alpha=0.7291666666666667,\n",
      "            reg_lambda=2.3958333333333335,\n",
      "            subsample=0.8,\n",
      "            tree_method='auto'\n",
      "        ))],\n",
      "        verbose=False\n",
      "    )), ('29', Pipeline(\n",
      "        memory=None,\n",
      "        steps=[('maxabsscaler', MaxAbsScaler(\n",
      "            copy=True\n",
      "        )), ('lightgbmclassifier', LightGBMClassifier(\n",
      "            boosting_type='goss',\n",
      "            colsample_bytree=0.1,\n",
      "            learning_rate=0.08947473684210526,\n",
      "            max_bin=40,\n",
      "            max_depth=6,\n",
      "            min_child_weight=3,\n",
      "            min_data_in_leaf=0.08965620689655174,\n",
      "            min_split_gain=0.15789473684210525,\n",
      "            n_estimators=200,\n",
      "            num_leaves=53,\n",
      "            reg_alpha=0.3157894736842105,\n",
      "            reg_lambda=1,\n",
      "            subsample=1,\n",
      "            random_state=None,\n",
      "            n_jobs=1,\n",
      "            problem_info=ProblemInfo(\n",
      "                gpu_training_param_dict={'processing_unit_type': 'cpu'}\n",
      "            )\n",
      "        ))],\n",
      "        verbose=False\n",
      "    ))],\n",
      "    weights=[0.13333333333333333, 0.06666666666666667, 0.26666666666666666, 0.06666666666666667, 0.13333333333333333, 0.13333333333333333, 0.06666666666666667, 0.06666666666666667, 0.06666666666666667],\n",
      "    flatten_transform=None,\n",
      "    classification_labels=array([0, 1, 2])\n",
      "))]\n"
     ]
    }
   ],
   "source": [
    "print(automl_fitted_model.steps)"
   ]
  },
  {
   "cell_type": "code",
   "execution_count": null,
   "metadata": {
    "gather": {
     "logged": 1598431426111
    },
    "jupyter": {
     "outputs_hidden": false,
     "source_hidden": false
    },
    "nteract": {
     "transient": {
      "deleting": false
     }
    }
   },
   "outputs": [],
   "source": [
    "#TODO: Save the best model using Onnx\n",
    "#from azureml.automl.runtime.onnx_convert import OnnxConverter\n",
    "\n",
    "#automl_best_run, automl_fitted_model = remote_run.get_output(return_onnx_model=True)\n",
    "\n",
    "#OnnxConverter.save_onnx_model(automl_fitted_model, './outputs/Automl_Onnex_Model.onnx')"
   ]
  },
  {
   "cell_type": "code",
   "execution_count": null,
   "metadata": {},
   "outputs": [],
   "source": [
    "\n",
    "#model = best_run.register_model(model_name='best_autoML_run', model_path='outputs/Automl_Model.joblib')"
   ]
  },
  {
   "cell_type": "markdown",
   "metadata": {},
   "source": [
    "https://docs.microsoft.com/en-us/azure/machine-learning/how-to-deploy-and-where?tabs=python\n",
    "####  Workflow for deploying a model \n",
    "The workflow is similar no matter where you deploy your model:\n",
    "\n",
    "<li>Register the model.\n",
    "<li>Prepare an entry script.\n",
    "<li>Prepare an inference configuration.\n",
    "<li>Deploy the model locally to ensure everything works.\n",
    "<li>Choose a compute target.\n",
    "<li>Deploy the model to the cloud.\n",
    "<li>Test the resulting web service."
   ]
  },
  {
   "cell_type": "markdown",
   "metadata": {},
   "source": [
    "## Model Deployment\n",
    "\n",
    "Remember you have to deploy only one of the two models you trained but you still need to register both the models. Perform the steps in the rest of this notebook only if you wish to deploy this model.\n",
    "\n",
    "TODO: In the cell below, register the model, create an inference config and deploy the model as a web service."
   ]
  },
  {
   "cell_type": "markdown",
   "metadata": {},
   "source": [
    "##### Register Model"
   ]
  },
  {
   "cell_type": "code",
   "execution_count": 13,
   "metadata": {
    "gather": {
     "logged": 1647568040722
    }
   },
   "outputs": [
    {
     "data": {
      "text/plain": [
       "'outputs/model.pkl'"
      ]
     },
     "execution_count": 13,
     "metadata": {},
     "output_type": "execute_result"
    }
   ],
   "source": [
    "from azureml.core import Model\n",
    "\n",
    "# Register model\n",
    "#automl_best_run.register_model(model_path='outputs/Maternal_Health_Risk_AutoML_model.pkl', \n",
    "#                               model_name='automl_Maternal_Health_Risk_model_pickled',\n",
    "#                        tags={'Training context':'Maternal Health Risk Auto ML Model Trained'},\n",
    "#                        properties={'AUC': automl_best_run_metrics['AUC_weighted'], \n",
    "#                                    'Accuracy': automl_best_run_metrics['accuracy']})\n",
    "\n",
    "\n",
    "#automl_best_run.register_model( model_name='automl_Maternal_Health_Risk_model')\n",
    "automl_model_registered = remote_run.register_model(model_name='Maternal_Health_Risk_AutoML_model') \n",
    "automl_model_registered.download(target_dir=\"outputs\", exist_ok=True)"
   ]
  },
  {
   "cell_type": "markdown",
   "metadata": {},
   "source": [
    "####  List the registered model"
   ]
  },
  {
   "cell_type": "code",
   "execution_count": 14,
   "metadata": {
    "gather": {
     "logged": 1647568055334
    }
   },
   "outputs": [
    {
     "name": "stdout",
     "output_type": "stream",
     "text": [
      "Maternal_Health_Risk_AutoML_model version: 1\n",
      "\n",
      "\n"
     ]
    }
   ],
   "source": [
    "for model in Model.list(ws):\n",
    "    print(model.name, 'version:', model.version)\n",
    "    for tag_name in model.tags:\n",
    "        tag = model.tags[tag_name]\n",
    "        print ('\\t',tag_name, ':', tag)\n",
    "    for prop_name in model.properties:\n",
    "        prop = model.properties[prop_name]\n",
    "        print ('\\t',prop_name, ':', prop)\n",
    "    print('\\n')"
   ]
  },
  {
   "cell_type": "markdown",
   "metadata": {},
   "source": [
    "#### Prepare an inference configuration."
   ]
  },
  {
   "cell_type": "code",
   "execution_count": 15,
   "metadata": {
    "gather": {
     "logged": 1647568076921
    }
   },
   "outputs": [],
   "source": [
    "from azureml.automl.core.shared import constants\n",
    "#from azureml.core import Environment\n",
    "from azureml.core.environment import Environment\n",
    "#automl_best_run.download_file(constants.CONDA_ENV_FILE_PATH, 'project_environment.yml')\n",
    "myenv = Environment.from_conda_specification(name=\"env\", file_path=\"project_environment.yml\")"
   ]
  },
  {
   "cell_type": "markdown",
   "metadata": {},
   "source": [
    "#### Prepare an inference configuration using an entry script."
   ]
  },
  {
   "cell_type": "code",
   "execution_count": 60,
   "metadata": {
    "gather": {
     "logged": 1647573746117
    },
    "jupyter": {
     "outputs_hidden": false,
     "source_hidden": false
    },
    "nteract": {
     "transient": {
      "deleting": false
     }
    }
   },
   "outputs": [
    {
     "data": {
      "text/plain": [
       "Workspace.create(name='quick-starts-ws-189271', subscription_id='976ee174-3882-4721-b90a-b5fef6b72f24', resource_group='aml-quickstarts-189271')"
      ]
     },
     "execution_count": 60,
     "metadata": {},
     "output_type": "execute_result"
    }
   ],
   "source": [
    "ws"
   ]
  },
  {
   "cell_type": "code",
   "execution_count": 77,
   "metadata": {
    "gather": {
     "logged": 1647575217050
    }
   },
   "outputs": [],
   "source": [
    "from azureml.core.model import InferenceConfig\n",
    "#from azureml.core.environment import Environment\n",
    "\n",
    "#from azureml.core.model import InferenceConfig, Model\n",
    "#from azureml.core.webservice import LocalWebservice\n",
    "\n",
    "#env = Environment.get(workspace=ws ,name=\"quick-starts-ws-189271\")\n",
    "\n",
    "#env = Environment.get(workspace=ws, name='automl-com-clst' )\n",
    "\n",
    "#env = Environment(workspace=ws, name='AutoML' )\n",
    "\n",
    "inference_config = InferenceConfig(entry_script=\"score.py\",environment=myenv)\n",
    "\n",
    "\n",
    "#inference_config = InferenceConfig(\n",
    "#    environment=env,\n",
    "#    source_directory=\"./source_dir\",\n",
    "#    entry_script=\"./echo_score.py\",\n",
    "#)"
   ]
  },
  {
   "cell_type": "markdown",
   "metadata": {},
   "source": [
    "#### Deploy the model locally to ensure everything works. Will skip this part"
   ]
  },
  {
   "cell_type": "code",
   "execution_count": 4,
   "metadata": {},
   "outputs": [],
   "source": [
    "#from azureml.core.webservice import LocalWebservice\n",
    "#deployment_config = LocalWebservice.deploy_configuration(port=6789)\n",
    "##Deploy your machine learning model\n",
    "#service = Model.deploy(\n",
    "#    ws,\n",
    "#    \"myservice\",\n",
    "#    [model],\n",
    "#    dummy_inference_config,\n",
    "#    deployment_config,\n",
    "#    overwrite=True,\n",
    "#)\n",
    "#service.wait_for_deployment(show_output=True)\n",
    "#print(service.get_logs())"
   ]
  },
  {
   "cell_type": "code",
   "execution_count": 78,
   "metadata": {
    "gather": {
     "logged": 1647575232344
    }
   },
   "outputs": [],
   "source": [
    "from azureml.core.webservice import Webservice, AciWebservice\n",
    "deployment_config = AciWebservice.deploy_configuration(cpu_cores=1, memory_gb = 4, \n",
    "                                                       enable_app_insights=True, \n",
    "                                                       description='Maternal Health Risk AutoML model' )\n",
    "model = Model(ws,'Maternal_Health_Risk_AutoML_model')"
   ]
  },
  {
   "cell_type": "markdown",
   "metadata": {
    "collapsed": true,
    "gather": {
     "logged": 1598431657736
    },
    "jupyter": {
     "outputs_hidden": false,
     "source_hidden": false
    },
    "nteract": {
     "transient": {
      "deleting": false
     }
    }
   },
   "source": [
    "TODO: In the cell below, send a request to the web service you deployed to test it."
   ]
  },
  {
   "cell_type": "code",
   "execution_count": 88,
   "metadata": {
    "gather": {
     "logged": 1647576812493
    }
   },
   "outputs": [
    {
     "name": "stdout",
     "output_type": "stream",
     "text": [
      "Tips: You can try get_logs(): https://aka.ms/debugimage#dockerlog or local deployment: https://aka.ms/debugimage#debug-locally to debug if deployment takes longer than 10 minutes.\n",
      "Running\n",
      "2022-03-18 04:11:53+00:00 Creating Container Registry if not exists.\n",
      "2022-03-18 04:11:53+00:00 Registering the environment.\n",
      "2022-03-18 04:11:53+00:00 Use the existing image.\n",
      "2022-03-18 04:11:54+00:00 Generating deployment configuration.\n",
      "2022-03-18 04:11:54+00:00 Submitting deployment to compute.\n",
      "2022-03-18 04:11:57+00:00 Checking the status of deployment maternal-health-risk-dep-service..\n",
      "2022-03-18 04:13:19+00:00 Checking the status of inference endpoint maternal-health-risk-dep-service.\n",
      "Succeeded\n",
      "ACI service creation operation finished, operation \"Succeeded\"\n"
     ]
    }
   ],
   "source": [
    "\n",
    "service=Model.deploy(workspace=ws,\n",
    "                    name=\"maternal-health-risk-dep-service\",\n",
    "                    models=[model],\n",
    "                    inference_config=inference_config,\n",
    "                    deployment_config=deployment_config)\n",
    "\n",
    "service.wait_for_deployment(show_output=True)\n",
    "\n"
   ]
  },
  {
   "cell_type": "markdown",
   "metadata": {
    "collapsed": true,
    "gather": {
     "logged": 1598432765711
    },
    "jupyter": {
     "outputs_hidden": false,
     "source_hidden": false
    },
    "nteract": {
     "transient": {
      "deleting": false
     }
    }
   },
   "source": [
    "TODO: In the cell below, print the logs of the web service and delete the service"
   ]
  },
  {
   "cell_type": "code",
   "execution_count": 89,
   "metadata": {
    "gather": {
     "logged": 1647576829519
    },
    "jupyter": {
     "outputs_hidden": false,
     "source_hidden": false
    },
    "nteract": {
     "transient": {
      "deleting": false
     }
    }
   },
   "outputs": [
    {
     "name": "stdout",
     "output_type": "stream",
     "text": [
      "2022-03-18T04:13:10,650094200+00:00 - gunicorn/run \n",
      "Dynamic Python package installation is disabled.\n",
      "Starting HTTP server\n",
      "2022-03-18T04:13:10,652940500+00:00 - rsyslog/run \n",
      "2022-03-18T04:13:10,652676100+00:00 - nginx/run \n",
      "2022-03-18T04:13:10,650104700+00:00 - iot-server/run \n",
      "EdgeHubConnectionString and IOTEDGE_IOTHUBHOSTNAME are not set. Exiting...\n",
      "2022-03-18T04:13:11,056121900+00:00 - iot-server/finish 1 0\n",
      "2022-03-18T04:13:11,061056300+00:00 - Exit code 1 is normal. Not restarting iot-server.\n",
      "Starting gunicorn 20.1.0\n",
      "Listening at: http://127.0.0.1:31311 (72)\n",
      "Using worker: sync\n",
      "worker timeout is set to 300\n",
      "Booting worker with pid: 108\n",
      "Collecting joblib\n",
      "  Downloading joblib-1.1.0-py2.py3-none-any.whl (306 kB)\n",
      "Installing collected packages: joblib\n",
      "Successfully installed joblib-1.1.0\n",
      "Collecting pandas\n",
      "  Downloading pandas-1.1.5-cp36-cp36m-manylinux1_x86_64.whl (9.5 MB)\n",
      "Requirement already satisfied: pytz>=2017.2 in /azureml-envs/azureml_da3e97fcb51801118b8e80207f3e01ad/lib/python3.6/site-packages (from pandas) (2021.3)\n",
      "Requirement already satisfied: numpy>=1.15.4 in /azureml-envs/azureml_da3e97fcb51801118b8e80207f3e01ad/lib/python3.6/site-packages (from pandas) (1.19.5)\n",
      "Requirement already satisfied: python-dateutil>=2.7.3 in /azureml-envs/azureml_da3e97fcb51801118b8e80207f3e01ad/lib/python3.6/site-packages (from pandas) (2.8.2)\n",
      "Requirement already satisfied: six>=1.5 in /azureml-envs/azureml_da3e97fcb51801118b8e80207f3e01ad/lib/python3.6/site-packages (from python-dateutil>=2.7.3->pandas) (1.16.0)\n",
      "Installing collected packages: pandas\n",
      "Successfully installed pandas-1.1.5\n",
      "SPARK_HOME not set. Skipping PySpark Initialization.\n",
      "Initializing logger\n",
      "2022-03-18 04:13:26,629 | root | INFO | Starting up app insights client\n",
      "logging socket was found. logging is available.\n",
      "logging socket was found. logging is available.\n",
      "2022-03-18 04:13:26,630 | root | INFO | Starting up request id generator\n",
      "2022-03-18 04:13:26,630 | root | INFO | Starting up app insight hooks\n",
      "2022-03-18 04:13:26,631 | root | INFO | Invoking user's init function\n",
      "Model Path = /t\n",
      "no request id,Model Path = /t\n",
      "\n",
      "azureml-models/Maternal_Health_Risk_AutoML_model/1/model.pkl\n",
      "no request id,azureml-models/Maternal_Health_Risk_AutoML_model/1/model.pkl\n",
      "\n",
      "Init Error :/t\n",
      "no request id,Init Error :/t\n",
      "\n",
      "No module named 'azureml.automl'\n",
      "no request id,No module named 'azureml.automl'\n",
      "\n",
      "2022-03-18 04:13:26,638 | root | INFO | Users's init has completed successfully\n",
      "2022-03-18 04:13:26,646 | root | INFO | Skipping middleware: dbg_model_info as it's not enabled.\n",
      "2022-03-18 04:13:26,646 | root | INFO | Skipping middleware: dbg_resource_usage as it's not enabled.\n",
      "2022-03-18 04:13:26,648 | root | INFO | Scoring timeout is found from os.environ: 60000 ms\n",
      "2022-03-18 04:13:26,676 | root | INFO | Swagger file not present\n",
      "2022-03-18 04:13:26,677 | root | INFO | 404\n",
      "127.0.0.1 - - [18/Mar/2022:04:13:26 +0000] \"GET /swagger.json HTTP/1.0\" 404 19 \"-\" \"Go-http-client/1.1\"\n",
      "2022-03-18 04:13:32,217 | root | INFO | Swagger file not present\n",
      "2022-03-18 04:13:32,218 | root | INFO | 404\n",
      "127.0.0.1 - - [18/Mar/2022:04:13:32 +0000] \"GET /swagger.json HTTP/1.0\" 404 19 \"-\" \"Go-http-client/1.1\"\n",
      "\n"
     ]
    }
   ],
   "source": [
    "print(service.get_logs())\n",
    "\n"
   ]
  },
  {
   "cell_type": "code",
   "execution_count": 90,
   "metadata": {
    "gather": {
     "logged": 1647576939151
    },
    "jupyter": {
     "outputs_hidden": false,
     "source_hidden": false
    },
    "nteract": {
     "transient": {
      "deleting": false
     }
    }
   },
   "outputs": [
    {
     "name": "stdout",
     "output_type": "stream",
     "text": [
      "http://52b97b37-91f0-43bd-bd57-dbb545fac25f.southcentralus.azurecontainer.io/score\n"
     ]
    }
   ],
   "source": [
    "print(service.scoring_uri)"
   ]
  },
  {
   "cell_type": "code",
   "execution_count": 91,
   "metadata": {
    "gather": {
     "logged": 1647576970623
    },
    "jupyter": {
     "outputs_hidden": false,
     "source_hidden": false
    },
    "nteract": {
     "transient": {
      "deleting": false
     }
    }
   },
   "outputs": [
    {
     "name": "stdout",
     "output_type": "stream",
     "text": [
      "http://52b97b37-91f0-43bd-bd57-dbb545fac25f.southcentralus.azurecontainer.io/swagger.json\n"
     ]
    }
   ],
   "source": [
    "print(service.swagger_uri)"
   ]
  },
  {
   "cell_type": "code",
   "execution_count": 87,
   "metadata": {
    "gather": {
     "logged": 1647576705894
    },
    "jupyter": {
     "outputs_hidden": false,
     "source_hidden": false
    },
    "nteract": {
     "transient": {
      "deleting": false
     }
    }
   },
   "outputs": [],
   "source": [
    "service.delete()\n",
    "#model.delete()"
   ]
  },
  {
   "cell_type": "code",
   "execution_count": null,
   "metadata": {
    "gather": {
     "logged": 1598431435189
    },
    "jupyter": {
     "outputs_hidden": false,
     "source_hidden": false
    },
    "nteract": {
     "transient": {
      "deleting": false
     }
    }
   },
   "outputs": [],
   "source": [
    "#Define a dummy entry script\n",
    "\n",
    "#The entry script receives data submitted to a deployed web service and passes it to the model.\n",
    "#It then returns the model's response to the client. The script is specific to your model. \n",
    "#The entry script must understand the data that the model expects and returns.\n",
    "\n",
    "#The two things you need to accomplish in your entry script are:\n",
    "\n",
    "#Loading your model (using a function called init())\n",
    "#Running your model on input data (using a function called run())\n",
    "#For your initial deployment, use a dummy entry script that prints the data it receives.\n",
    "\n",
    "\n",
    "import json\n",
    "\n",
    "\n",
    "def init():\n",
    "    print(\"This is init\")\n",
    "\n",
    "\n",
    "def run(data):\n",
    "    test = json.loads(data)\n",
    "    print(f\"received data {test}\")\n",
    "    return f\"test is {test}\"\n",
    "\n",
    "#Save this file as echo_score.py inside of a directory called source_dir. This dummy script returns the data you send to it, so it doesn't use the model. But it is useful for testing that the scoring script is running.\n",
    "\n",
    "#The following example demonstrates how to create a minimal environment with no pip dependencies,\n",
    "#using the dummy scoring script you defined above\n",
    "\n",
    "\n",
    "\n",
    "#The following Python demonstrates how to create a local deployment configuration:\n",
    "\n",
    "\n",
    "\n"
   ]
  },
  {
   "cell_type": "markdown",
   "metadata": {},
   "source": [
    "**Submission Checklist**\n",
    "- I have registered the model.\n",
    "- I have deployed the model with the best accuracy as a webservice.\n",
    "- I have tested the webservice by sending a request to the model endpoint.\n",
    "- I have deleted the webservice and shutdown all the computes that I have used.\n",
    "- I have taken a screenshot showing the model endpoint as active.\n",
    "- The project includes a file containing the environment details.\n"
   ]
  },
  {
   "cell_type": "markdown",
   "metadata": {},
   "source": []
  }
 ],
 "metadata": {
  "kernel_info": {
   "name": "python3-azureml"
  },
  "kernelspec": {
   "display_name": "Python 3.6 - AzureML",
   "language": "python",
   "name": "python3-azureml"
  },
  "language_info": {
   "codemirror_mode": {
    "name": "ipython",
    "version": 3
   },
   "file_extension": ".py",
   "mimetype": "text/x-python",
   "name": "python",
   "nbconvert_exporter": "python",
   "pygments_lexer": "ipython3",
   "version": "3.6.9"
  },
  "microsoft": {
   "host": {
    "AzureML": {
     "notebookHasBeenCompleted": true
    }
   }
  },
  "nteract": {
   "version": "nteract-front-end@1.0.0"
  }
 },
 "nbformat": 4,
 "nbformat_minor": 2
}
