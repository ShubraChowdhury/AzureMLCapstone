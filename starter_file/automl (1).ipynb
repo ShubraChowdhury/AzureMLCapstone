{
  "cells": [
    {
      "cell_type": "markdown",
      "source": [
        "# Automated ML\n",
        "\n",
        "TODO: Import Dependencies. In the cell below, import all the dependencies that you will need to complete the project."
      ],
      "metadata": {}
    },
    {
      "cell_type": "code",
      "source": [
        "import logging\n",
        "import os\n",
        "import csv\n",
        "import joblib\n",
        "\n",
        "from matplotlib import pyplot as plt\n",
        "import numpy as np\n",
        "import pandas as pd\n",
        "from sklearn import datasets\n",
        "import pkg_resources\n",
        "\n",
        "import azureml.core\n",
        "from azureml.core.experiment import Experiment\n",
        "from azureml.core.workspace import Workspace\n",
        "from azureml.train.automl import AutoMLConfig\n",
        "from azureml.core.dataset import Dataset\n",
        "\n",
        "from azureml.pipeline.steps import AutoMLStep\n",
        "from azureml.widgets import RunDetails\n",
        "from azureml.core.webservice import LocalWebservice\n",
        "\n",
        "from azureml.core.compute import AmlCompute\n",
        "from azureml.core.compute import ComputeTarget\n",
        "from azureml.core.compute_target import ComputeTargetException\n",
        "\n",
        "import urllib.request\n",
        "from azureml.core.model import Model\n",
        "\n",
        "\n",
        "# Check core SDK version number\n",
        "print(\"SDK version:\", azureml.core.VERSION)"
      ],
      "outputs": [
        {
          "output_type": "stream",
          "name": "stdout",
          "text": "SDK version: 1.38.0\n"
        }
      ],
      "execution_count": 1,
      "metadata": {
        "gather": {
          "logged": 1647461779814
        },
        "jupyter": {
          "outputs_hidden": false,
          "source_hidden": false
        },
        "nteract": {
          "transient": {
            "deleting": false
          }
        }
      }
    },
    {
      "cell_type": "markdown",
      "source": [
        "## Dataset\n",
        "\n",
        "### Overview\n",
        "TODO: In this markdown cell, give an overview of the dataset you are using. Also mention the task you will be performing.\n",
        "\n",
        "\n",
        "TODO: Get data. In the cell below, write code to access the data you will be using in this project. Remember that the dataset needs to be external."
      ],
      "metadata": {}
    },
    {
      "cell_type": "code",
      "source": [
        "ws = Workspace.from_config()\n",
        "\n",
        "# choose a name for experiment\n",
        "experiment_name = 'capstone-automl-experiment'\n",
        "\n",
        "experiment=Experiment(workspace=ws, name=experiment_name)\n",
        "\n",
        "print(ws.name, ws.resource_group, ws.location, ws.subscription_id, sep = '\\n')"
      ],
      "outputs": [
        {
          "output_type": "stream",
          "name": "stdout",
          "text": "quick-starts-ws-189146\naml-quickstarts-189146\nsouthcentralus\n5a4ab2ba-6c51-4805-8155-58759ad589d8\n"
        }
      ],
      "execution_count": 2,
      "metadata": {
        "gather": {
          "logged": 1647461796386
        },
        "jupyter": {
          "outputs_hidden": false,
          "source_hidden": false
        },
        "nteract": {
          "transient": {
            "deleting": false
          }
        }
      }
    },
    {
      "cell_type": "markdown",
      "source": [
        "# Create or Attach an AmlCompute cluster"
      ],
      "metadata": {}
    },
    {
      "cell_type": "code",
      "source": [
        "\n",
        "# NOTE: update the cluster name to match the existing cluster\n",
        "# Choose a name for your CPU cluster\n",
        "amlcompute_cluster_name = \"automl-com-clst\" #automl-com-clst #automl-com-clst\n",
        "\n",
        "# Verify that cluster does not exist already\n",
        "try:\n",
        "    compute_target = ComputeTarget(workspace=ws, name=amlcompute_cluster_name)\n",
        "    print('Found existing cluster, use it.')\n",
        "except ComputeTargetException:\n",
        "    compute_config = AmlCompute.provisioning_configuration(vm_size='STANDARD_D2_V2',# for GPU, use \"STANDARD_NC6\"\n",
        "                                                           #vm_priority = 'lowpriority', # optional\n",
        "                                                           max_nodes=4)\n",
        "    compute_target = ComputeTarget.create(ws, amlcompute_cluster_name, compute_config)\n",
        "\n",
        "compute_target.wait_for_completion(show_output=True, min_node_count = 1, timeout_in_minutes = 10)\n",
        "# For a more detailed view of current AmlCompute status, use get_status()."
      ],
      "outputs": [
        {
          "output_type": "stream",
          "name": "stdout",
          "text": "InProgress.\nSucceededProvisioning operation finished, operation \"Succeeded\"\nSucceeded.....................................................................................................................\nAmlCompute wait for completion finished\n\nWait timeout has been reached\nCurrent provisioning state of AmlCompute is \"Succeeded\" and current node count is \"0\"\n"
        }
      ],
      "execution_count": 3,
      "metadata": {
        "gather": {
          "logged": 1647462432843
        }
      }
    },
    {
      "cell_type": "markdown",
      "source": [
        "# Data"
      ],
      "metadata": {}
    },
    {
      "cell_type": "code",
      "source": [
        "# Try to load the dataset from the Workspace. Otherwise, create it from the file\n",
        "# NOTE: update the key to match the dataset name\n",
        "found = False\n",
        "#key = \"BankMarketing Dataset\"\n",
        "key=\"Maternal_Health_Risk_Data_Set\" #\"bankmarketing_train\" #bankmarketing_train\n",
        "#bankmarketing_train\n",
        "description_text = \"UCI machine Learning Maternal Health Risk Data Set\"\n",
        "\n",
        "if key in ws.datasets.keys(): \n",
        "        found = True\n",
        "        dataset = ws.datasets[key] \n",
        "#https://archive.ics.uci.edu/ml/machine-learning-databases/00639/Maternal%20Health%20Risk%20Data%20Set.csv\n",
        "\n",
        "if not found:\n",
        "        # Create AML Dataset and register it into Workspace\n",
        "        example_data = 'https://archive.ics.uci.edu/ml/machine-learning-databases/00639/Maternal%20Health%20Risk%20Data%20Set.csv'\n",
        "        dataset = Dataset.Tabular.from_delimited_files(example_data)        \n",
        "        #Register Dataset in Workspace\n",
        "        dataset = dataset.register(workspace=ws,\n",
        "                                   name=key,\n",
        "                                   description=description_text)\n",
        "\n",
        "\n",
        "df = dataset.to_pandas_dataframe()\n",
        "df.describe()"
      ],
      "outputs": [
        {
          "output_type": "execute_result",
          "execution_count": 4,
          "data": {
            "text/plain": "               Age   SystolicBP  DiastolicBP           BS     BodyTemp  \\\ncount  1014.000000  1014.000000  1014.000000  1014.000000  1011.000000   \nmean     29.871795   113.198225    76.460552     8.725986    98.665678   \nstd      13.474386    18.403913    13.885796     3.293532     1.373367   \nmin      10.000000    70.000000    49.000000     6.000000    98.000000   \n25%      19.000000   100.000000    65.000000     6.900000    98.000000   \n50%      26.000000   120.000000    80.000000     7.500000    98.000000   \n75%      39.000000   120.000000    90.000000     8.000000    98.000000   \nmax      70.000000   160.000000   100.000000    19.000000   103.000000   \n\n         HeartRate  \ncount  1014.000000  \nmean     74.301775  \nstd       8.088702  \nmin       7.000000  \n25%      70.000000  \n50%      76.000000  \n75%      80.000000  \nmax      90.000000  ",
            "text/html": "<div>\n<style scoped>\n    .dataframe tbody tr th:only-of-type {\n        vertical-align: middle;\n    }\n\n    .dataframe tbody tr th {\n        vertical-align: top;\n    }\n\n    .dataframe thead th {\n        text-align: right;\n    }\n</style>\n<table border=\"1\" class=\"dataframe\">\n  <thead>\n    <tr style=\"text-align: right;\">\n      <th></th>\n      <th>Age</th>\n      <th>SystolicBP</th>\n      <th>DiastolicBP</th>\n      <th>BS</th>\n      <th>BodyTemp</th>\n      <th>HeartRate</th>\n    </tr>\n  </thead>\n  <tbody>\n    <tr>\n      <th>count</th>\n      <td>1014.000000</td>\n      <td>1014.000000</td>\n      <td>1014.000000</td>\n      <td>1014.000000</td>\n      <td>1011.000000</td>\n      <td>1014.000000</td>\n    </tr>\n    <tr>\n      <th>mean</th>\n      <td>29.871795</td>\n      <td>113.198225</td>\n      <td>76.460552</td>\n      <td>8.725986</td>\n      <td>98.665678</td>\n      <td>74.301775</td>\n    </tr>\n    <tr>\n      <th>std</th>\n      <td>13.474386</td>\n      <td>18.403913</td>\n      <td>13.885796</td>\n      <td>3.293532</td>\n      <td>1.373367</td>\n      <td>8.088702</td>\n    </tr>\n    <tr>\n      <th>min</th>\n      <td>10.000000</td>\n      <td>70.000000</td>\n      <td>49.000000</td>\n      <td>6.000000</td>\n      <td>98.000000</td>\n      <td>7.000000</td>\n    </tr>\n    <tr>\n      <th>25%</th>\n      <td>19.000000</td>\n      <td>100.000000</td>\n      <td>65.000000</td>\n      <td>6.900000</td>\n      <td>98.000000</td>\n      <td>70.000000</td>\n    </tr>\n    <tr>\n      <th>50%</th>\n      <td>26.000000</td>\n      <td>120.000000</td>\n      <td>80.000000</td>\n      <td>7.500000</td>\n      <td>98.000000</td>\n      <td>76.000000</td>\n    </tr>\n    <tr>\n      <th>75%</th>\n      <td>39.000000</td>\n      <td>120.000000</td>\n      <td>90.000000</td>\n      <td>8.000000</td>\n      <td>98.000000</td>\n      <td>80.000000</td>\n    </tr>\n    <tr>\n      <th>max</th>\n      <td>70.000000</td>\n      <td>160.000000</td>\n      <td>100.000000</td>\n      <td>19.000000</td>\n      <td>103.000000</td>\n      <td>90.000000</td>\n    </tr>\n  </tbody>\n</table>\n</div>"
          },
          "metadata": {}
        }
      ],
      "execution_count": 4,
      "metadata": {
        "gather": {
          "logged": 1647462478009
        }
      }
    },
    {
      "cell_type": "markdown",
      "source": [
        "# Review the Dataset Result"
      ],
      "metadata": {}
    },
    {
      "cell_type": "code",
      "source": [
        "dataset.take(5).to_pandas_dataframe()"
      ],
      "outputs": [
        {
          "output_type": "execute_result",
          "execution_count": 5,
          "data": {
            "text/plain": "   Age  SystolicBP  DiastolicBP    BS  BodyTemp  HeartRate  RiskLevel\n0   25         130           80  15.0        98         86  high risk\n1   35         140           90  13.0        98         70  high risk\n2   29          90           70   8.0       100         80  high risk\n3   30         140           85   7.0        98         70  high risk\n4   35         120           60   6.1        98         76   low risk",
            "text/html": "<div>\n<style scoped>\n    .dataframe tbody tr th:only-of-type {\n        vertical-align: middle;\n    }\n\n    .dataframe tbody tr th {\n        vertical-align: top;\n    }\n\n    .dataframe thead th {\n        text-align: right;\n    }\n</style>\n<table border=\"1\" class=\"dataframe\">\n  <thead>\n    <tr style=\"text-align: right;\">\n      <th></th>\n      <th>Age</th>\n      <th>SystolicBP</th>\n      <th>DiastolicBP</th>\n      <th>BS</th>\n      <th>BodyTemp</th>\n      <th>HeartRate</th>\n      <th>RiskLevel</th>\n    </tr>\n  </thead>\n  <tbody>\n    <tr>\n      <th>0</th>\n      <td>25</td>\n      <td>130</td>\n      <td>80</td>\n      <td>15.0</td>\n      <td>98</td>\n      <td>86</td>\n      <td>high risk</td>\n    </tr>\n    <tr>\n      <th>1</th>\n      <td>35</td>\n      <td>140</td>\n      <td>90</td>\n      <td>13.0</td>\n      <td>98</td>\n      <td>70</td>\n      <td>high risk</td>\n    </tr>\n    <tr>\n      <th>2</th>\n      <td>29</td>\n      <td>90</td>\n      <td>70</td>\n      <td>8.0</td>\n      <td>100</td>\n      <td>80</td>\n      <td>high risk</td>\n    </tr>\n    <tr>\n      <th>3</th>\n      <td>30</td>\n      <td>140</td>\n      <td>85</td>\n      <td>7.0</td>\n      <td>98</td>\n      <td>70</td>\n      <td>high risk</td>\n    </tr>\n    <tr>\n      <th>4</th>\n      <td>35</td>\n      <td>120</td>\n      <td>60</td>\n      <td>6.1</td>\n      <td>98</td>\n      <td>76</td>\n      <td>low risk</td>\n    </tr>\n  </tbody>\n</table>\n</div>"
          },
          "metadata": {}
        }
      ],
      "execution_count": 5,
      "metadata": {
        "gather": {
          "logged": 1647462488492
        }
      }
    },
    {
      "cell_type": "code",
      "source": [
        "from sklearn.model_selection import train_test_split\n",
        "#TRAIN_d, TEST_d = train_test_split(df, shuffle=True)\n",
        "TRAIN_d, TEST_d = train_test_split(df, test_size=0.2, random_state=24, shuffle=True)\n",
        "TRAIN_d.to_csv('train.csv',index = False)\n",
        "\n",
        "ds_new = ws.get_default_datastore()\n",
        "ds_new.upload_files(files = ['./train.csv'])\n",
        "#ds_new.upload(src_dir='.',target_path='.')\n",
        "\n",
        "\n",
        "train_data = Dataset.Tabular.from_delimited_files(path=[(ds_new,('train.csv'))])\n"
      ],
      "outputs": [
        {
          "output_type": "stream",
          "name": "stderr",
          "text": "\"datastore.upload_files\" is deprecated after version 1.0.69. Please use \"FileDatasetFactory.upload_directory\" instead. See Dataset API change notice at https://aka.ms/dataset-deprecation.\n"
        }
      ],
      "execution_count": 8,
      "metadata": {
        "gather": {
          "logged": 1647462998403
        }
      }
    },
    {
      "cell_type": "markdown",
      "source": [
        "## AutoML Configuration\n",
        "\n",
        "TODO: Explain why you chose the automl settings and cofiguration you used below."
      ],
      "metadata": {}
    },
    {
      "cell_type": "markdown",
      "source": [
        "# Train\n",
        "#### This creates a general AutoML settings object. Udacity notes: These inputs must match what was used when training in the portal. label_column_name has to be \"RiskLevel\" for example."
      ],
      "metadata": {}
    },
    {
      "cell_type": "code",
      "source": [
        "# TODO: Put your automl settings here\n",
        " # \"primary_metric\" : 'AUC_weighted'\n",
        "automl_settings = {\n",
        "    \"experiment_timeout_minutes\": 20,\n",
        "    \"max_concurrent_iterations\": 5,\n",
        "    \"n_cross_validations\":3,\n",
        "    \"primary_metric\" : 'accuracy'\n",
        "}\n",
        "\n",
        "# TODO: Put your automl config here\n",
        "\n",
        "automl_config = AutoMLConfig(compute_target=compute_target,\n",
        "                             task = \"classification\",\n",
        "                             training_data=train_data,\n",
        "                             label_column_name=\"RiskLevel\",   \n",
        "                             #path = project_folder,\n",
        "                             enable_early_stopping= True,\n",
        "                             featurization= 'auto',\n",
        "                             debug_log = \"automl_errors.log\",\n",
        "                             enable_onnx_compatible_models=True,\n",
        "                             **automl_settings\n",
        "                            )"
      ],
      "outputs": [],
      "execution_count": 10,
      "metadata": {
        "gather": {
          "logged": 1647463026185
        },
        "jupyter": {
          "outputs_hidden": false,
          "source_hidden": false
        },
        "nteract": {
          "transient": {
            "deleting": false
          }
        }
      }
    },
    {
      "cell_type": "code",
      "source": [
        "# TODO: Submit your experiment\n",
        "#remote_run = experiment.submit(automl_config)\n",
        "remote_run = experiment.submit(config= automl_config, show_output= True)"
      ],
      "outputs": [
        {
          "output_type": "stream",
          "name": "stdout",
          "text": "Submitting remote run.\nNo run_configuration provided, running on automl-com-clst with default configuration\nRunning on remote compute: automl-com-clst\n"
        },
        {
          "output_type": "display_data",
          "data": {
            "text/plain": "<IPython.core.display.HTML object>",
            "text/html": "<table style=\"width:100%\"><tr><th>Experiment</th><th>Id</th><th>Type</th><th>Status</th><th>Details Page</th><th>Docs Page</th></tr><tr><td>capstone-automl-experiment</td><td>AutoML_252116ab-f119-48b2-84ff-8dbf083b8815</td><td>automl</td><td>NotStarted</td><td><a href=\"https://ml.azure.com/runs/AutoML_252116ab-f119-48b2-84ff-8dbf083b8815?wsid=/subscriptions/5a4ab2ba-6c51-4805-8155-58759ad589d8/resourcegroups/aml-quickstarts-189146/workspaces/quick-starts-ws-189146&amp;tid=660b3398-b80e-49d2-bc5b-ac1dc93b5254\" target=\"_blank\" rel=\"noopener\">Link to Azure Machine Learning studio</a></td><td><a href=\"https://docs.microsoft.com/en-us/python/api/overview/azure/ml/intro?view=azure-ml-py\" target=\"_blank\" rel=\"noopener\">Link to Documentation</a></td></tr></table>"
          },
          "metadata": {}
        },
        {
          "output_type": "stream",
          "name": "stdout",
          "text": "\nCurrent status: FeaturesGeneration. Generating features for the dataset.\nCurrent status: DatasetCrossValidationSplit. Generating individually featurized CV splits.\nCurrent status: ModelSelection. Beginning model selection.\n\n********************************************************************************************\nDATA GUARDRAILS: \n\nTYPE:         Class balancing detection\nSTATUS:       PASSED\nDESCRIPTION:  Your inputs were analyzed, and all classes are balanced in your training data.\n              Learn more about imbalanced data: https://aka.ms/AutomatedMLImbalancedData\n\n********************************************************************************************\n\nTYPE:         Missing feature values imputation\nSTATUS:       DONE\nDESCRIPTION:  If the missing values are expected, let the run complete. Otherwise cancel the current run and use a script to customize the handling of missing feature values that may be more appropriate based on the data type and business requirement.\n              Learn more about missing value imputation: https://aka.ms/AutomatedMLFeaturization\nDETAILS:      \n+------------------------------+------------------------------+------------------------------+\n|Column name                   |Missing value count           |Imputation type               |\n+==============================+==============================+==============================+\n|BodyTemp                      |3                             |mean                          |\n+------------------------------+------------------------------+------------------------------+\n\n********************************************************************************************\n\nTYPE:         High cardinality feature detection\nSTATUS:       PASSED\nDESCRIPTION:  Your inputs were analyzed, and no high cardinality features were detected.\n              Learn more about high cardinality feature handling: https://aka.ms/AutomatedMLFeaturization\n\n********************************************************************************************\n\n********************************************************************************************\nITER: The iteration being evaluated.\nPIPELINE: A summary description of the pipeline being evaluated.\nDURATION: Time taken for the current iteration.\nMETRIC: The result of computing score on the fitted pipeline.\nBEST: The best observed score thus far.\n********************************************************************************************\n\n ITER   PIPELINE                                       DURATION            METRIC      BEST\n    0   MaxAbsScaler LightGBM                          0:00:11             0.7904    0.7904\n    1   MaxAbsScaler XGBoostClassifier                 0:00:09             0.7485    0.7904\n    2   MaxAbsScaler ExtremeRandomTrees                0:00:10             0.6461    0.7904\n    3   SparseNormalizer XGBoostClassifier             0:00:09             0.7411    0.7904\n    4   MaxAbsScaler LightGBM                          0:00:09             0.7040    0.7904\n    5   MaxAbsScaler LightGBM                          0:00:09             0.7065    0.7904\n    6   StandardScalerWrapper XGBoostClassifier        0:00:09             0.7534    0.7904\n    7   MaxAbsScaler LogisticRegression                0:00:09             0.6326    0.7904\n    8   StandardScalerWrapper ExtremeRandomTrees       0:00:09             0.5684    0.7904\n    9   StandardScalerWrapper XGBoostClassifier        0:00:09             0.7152    0.7904\n   10   SparseNormalizer LightGBM                      0:00:09             0.6510    0.7904\n   11   StandardScalerWrapper XGBoostClassifier        0:00:09             0.7583    0.7904\n   12   MaxAbsScaler LogisticRegression                0:00:09             0.6276    0.7904\n   13   MaxAbsScaler SGD                               0:00:09             0.6203    0.7904\n   14   StandardScalerWrapper XGBoostClassifier        0:00:09             0.7152    0.7904\n   15   SparseNormalizer RandomForest                  0:00:10             0.7374    0.7904\n   16   StandardScalerWrapper LogisticRegression       0:00:09             0.6338    0.7904\n   17   StandardScalerWrapper RandomForest             0:00:09             0.7053    0.7904\n   18   StandardScalerWrapper XGBoostClassifier        0:00:09             0.7830    0.7904\n   19   TruncatedSVDWrapper RandomForest               0:00:10             0.6733    0.7904\n   22   SparseNormalizer XGBoostClassifier             0:00:04             0.7472    0.7904\n   20   TruncatedSVDWrapper RandomForest               0:00:04             0.7719    0.7904\n   23   StandardScalerWrapper LogisticRegression       0:00:04             0.6202    0.7904\n   25   StandardScalerWrapper RandomForest             0:00:04             0.6522    0.7904\n   24   StandardScalerWrapper LightGBM                 0:00:04             0.6893    0.7904\n   26   SparseNormalizer XGBoostClassifier             0:00:04             0.7300    0.7904\n   27   StandardScalerWrapper RandomForest             0:00:04             0.6979    0.7904\n   28   StandardScalerWrapper RandomForest             0:00:04             0.6757    0.7904\n   21   StandardScalerWrapper XGBoostClassifier        0:04:20             0.7719    0.7904\n   29   SparseNormalizer XGBoostClassifier             0:00:04             0.6695    0.7904\n   30   TruncatedSVDWrapper LightGBM                   0:00:04             0.4722    0.7904\n   31   StandardScalerWrapper XGBoostClassifier        0:00:04             0.7238    0.7904\n   32   SparseNormalizer XGBoostClassifier             0:00:04             0.7398    0.7904\n   33   SparseNormalizer XGBoostClassifier             0:00:04             0.7460    0.7904\n   34                                                  0:00:00                nan    0.7904\n   35                                                  0:00:00                nan    0.7904\n   36                                                  0:00:00                nan    0.7904\n   37    VotingEnsemble                                0:00:04             0.8138    0.8138\n"
        }
      ],
      "execution_count": 11,
      "metadata": {
        "gather": {
          "logged": 1647465347492
        },
        "jupyter": {
          "outputs_hidden": false,
          "source_hidden": false
        },
        "nteract": {
          "transient": {
            "deleting": false
          }
        }
      }
    },
    {
      "cell_type": "markdown",
      "source": [
        "## Run Details\n",
        "\n",
        "OPTIONAL: Write about the different models trained and their performance. Why do you think some models did better than others?\n",
        "\n",
        "TODO: In the cell below, use the `RunDetails` widget to show the different experiments."
      ],
      "metadata": {}
    },
    {
      "cell_type": "code",
      "source": [
        "RunDetails(remote_run).show()"
      ],
      "outputs": [
        {
          "output_type": "display_data",
          "data": {
            "text/plain": "_AutoMLWidget(widget_settings={'childWidgetDisplay': 'popup', 'send_telemetry': False, 'log_level': 'INFO', 's…",
            "application/vnd.jupyter.widget-view+json": {
              "version_major": 2,
              "version_minor": 0,
              "model_id": "1322acb64e9843f5840c40e205a48a25"
            }
          },
          "metadata": {}
        },
        {
          "output_type": "display_data",
          "data": {
            "application/aml.mini.widget.v1": "{\"status\": \"Completed\", \"workbench_run_details_uri\": \"https://ml.azure.com/runs/AutoML_252116ab-f119-48b2-84ff-8dbf083b8815?wsid=/subscriptions/5a4ab2ba-6c51-4805-8155-58759ad589d8/resourcegroups/aml-quickstarts-189146/workspaces/quick-starts-ws-189146&tid=660b3398-b80e-49d2-bc5b-ac1dc93b5254\", \"run_id\": \"AutoML_252116ab-f119-48b2-84ff-8dbf083b8815\", \"run_properties\": {\"run_id\": \"AutoML_252116ab-f119-48b2-84ff-8dbf083b8815\", \"created_utc\": \"2022-03-16T20:52:53.524818Z\", \"properties\": {\"num_iterations\": \"1000\", \"training_type\": \"TrainFull\", \"acquisition_function\": \"EI\", \"primary_metric\": \"accuracy\", \"train_split\": \"0\", \"acquisition_parameter\": \"0\", \"num_cross_validation\": \"3\", \"target\": \"automl-com-clst\", \"AMLSettingsJsonString\": \"{\\\"path\\\":null,\\\"name\\\":\\\"capstone-automl-experiment\\\",\\\"subscription_id\\\":\\\"5a4ab2ba-6c51-4805-8155-58759ad589d8\\\",\\\"resource_group\\\":\\\"aml-quickstarts-189146\\\",\\\"workspace_name\\\":\\\"quick-starts-ws-189146\\\",\\\"region\\\":\\\"southcentralus\\\",\\\"compute_target\\\":\\\"automl-com-clst\\\",\\\"spark_service\\\":null,\\\"azure_service\\\":\\\"remote\\\",\\\"many_models\\\":false,\\\"pipeline_fetch_max_batch_size\\\":1,\\\"enable_batch_run\\\":true,\\\"enable_run_restructure\\\":false,\\\"start_auxiliary_runs_before_parent_complete\\\":false,\\\"enable_code_generation\\\":false,\\\"iterations\\\":1000,\\\"primary_metric\\\":\\\"accuracy\\\",\\\"task_type\\\":\\\"classification\\\",\\\"positive_label\\\":null,\\\"data_script\\\":null,\\\"test_size\\\":0.0,\\\"test_include_predictions_only\\\":false,\\\"validation_size\\\":0.0,\\\"n_cross_validations\\\":3,\\\"y_min\\\":null,\\\"y_max\\\":null,\\\"num_classes\\\":null,\\\"featurization\\\":\\\"auto\\\",\\\"_ignore_package_version_incompatibilities\\\":false,\\\"is_timeseries\\\":false,\\\"max_cores_per_iteration\\\":1,\\\"max_concurrent_iterations\\\":5,\\\"iteration_timeout_minutes\\\":null,\\\"mem_in_mb\\\":null,\\\"enforce_time_on_windows\\\":false,\\\"experiment_timeout_minutes\\\":20,\\\"experiment_exit_score\\\":null,\\\"whitelist_models\\\":null,\\\"blacklist_algos\\\":[\\\"TensorFlowLinearClassifier\\\",\\\"TensorFlowDNN\\\"],\\\"supported_models\\\":[\\\"ExtremeRandomTrees\\\",\\\"KNN\\\",\\\"BernoulliNaiveBayes\\\",\\\"DecisionTree\\\",\\\"GradientBoosting\\\",\\\"LinearSVM\\\",\\\"LightGBM\\\",\\\"RandomForest\\\",\\\"TensorFlowDNN\\\",\\\"XGBoostClassifier\\\",\\\"MultinomialNaiveBayes\\\",\\\"TabnetClassifier\\\",\\\"TensorFlowLinearClassifier\\\",\\\"AveragedPerceptronClassifier\\\",\\\"SVM\\\",\\\"SGD\\\",\\\"LogisticRegression\\\"],\\\"private_models\\\":[],\\\"auto_blacklist\\\":true,\\\"blacklist_samples_reached\\\":false,\\\"exclude_nan_labels\\\":true,\\\"verbosity\\\":20,\\\"_debug_log\\\":\\\"azureml_automl.log\\\",\\\"show_warnings\\\":false,\\\"model_explainability\\\":true,\\\"service_url\\\":null,\\\"sdk_url\\\":null,\\\"sdk_packages\\\":null,\\\"enable_onnx_compatible_models\\\":true,\\\"enable_split_onnx_featurizer_estimator_models\\\":false,\\\"vm_type\\\":\\\"STANDARD_D2_V2\\\",\\\"telemetry_verbosity\\\":20,\\\"send_telemetry\\\":true,\\\"enable_dnn\\\":false,\\\"scenario\\\":\\\"SDK-1.13.0\\\",\\\"environment_label\\\":null,\\\"save_mlflow\\\":false,\\\"enable_categorical_indicators\\\":false,\\\"force_text_dnn\\\":false,\\\"enable_feature_sweeping\\\":false,\\\"enable_early_stopping\\\":true,\\\"early_stopping_n_iters\\\":10,\\\"arguments\\\":null,\\\"dataset_id\\\":null,\\\"hyperdrive_config\\\":null,\\\"validation_dataset_id\\\":null,\\\"run_source\\\":null,\\\"metrics\\\":null,\\\"enable_metric_confidence\\\":false,\\\"enable_ensembling\\\":true,\\\"enable_stack_ensembling\\\":false,\\\"ensemble_iterations\\\":15,\\\"enable_tf\\\":false,\\\"enable_subsampling\\\":null,\\\"subsample_seed\\\":null,\\\"enable_nimbusml\\\":false,\\\"enable_streaming\\\":false,\\\"force_streaming\\\":false,\\\"track_child_runs\\\":true,\\\"allowed_private_models\\\":[],\\\"label_column_name\\\":\\\"RiskLevel\\\",\\\"weight_column_name\\\":null,\\\"cv_split_column_names\\\":null,\\\"enable_local_managed\\\":false,\\\"_local_managed_run_id\\\":null,\\\"cost_mode\\\":1,\\\"lag_length\\\":0,\\\"metric_operation\\\":\\\"maximize\\\",\\\"preprocess\\\":true}\", \"DataPrepJsonString\": \"{\\\\\\\"training_data\\\\\\\": {\\\\\\\"datasetId\\\\\\\": \\\\\\\"5d9aa8af-c031-4227-89f6-6d4d15e623e3\\\\\\\"}, \\\\\\\"datasets\\\\\\\": 0}\", \"EnableSubsampling\": null, \"runTemplate\": \"AutoML\", \"azureml.runsource\": \"automl\", \"display_task_type\": \"classification\", \"dependencies_versions\": \"{\\\"azureml-widgets\\\": \\\"1.38.0\\\", \\\"azureml-train\\\": \\\"1.38.0\\\", \\\"azureml-train-restclients-hyperdrive\\\": \\\"1.38.0\\\", \\\"azureml-train-core\\\": \\\"1.38.0\\\", \\\"azureml-train-automl\\\": \\\"1.38.0\\\", \\\"azureml-train-automl-runtime\\\": \\\"1.38.0\\\", \\\"azureml-train-automl-client\\\": \\\"1.38.0\\\", \\\"azureml-tensorboard\\\": \\\"1.38.0\\\", \\\"azureml-telemetry\\\": \\\"1.38.0\\\", \\\"azureml-sdk\\\": \\\"1.38.0\\\", \\\"azureml-responsibleai\\\": \\\"1.38.0\\\", \\\"azureml-pipeline\\\": \\\"1.38.0\\\", \\\"azureml-pipeline-steps\\\": \\\"1.38.0\\\", \\\"azureml-pipeline-core\\\": \\\"1.38.0\\\", \\\"azureml-opendatasets\\\": \\\"1.38.0\\\", \\\"azureml-mlflow\\\": \\\"1.38.0\\\", \\\"azureml-interpret\\\": \\\"1.38.0\\\", \\\"azureml-inference-server-http\\\": \\\"0.4.2\\\", \\\"azureml-explain-model\\\": \\\"1.38.0\\\", \\\"azureml-defaults\\\": \\\"1.38.0\\\", \\\"azureml-dataset-runtime\\\": \\\"1.38.0\\\", \\\"azureml-dataprep\\\": \\\"2.26.0\\\", \\\"azureml-dataprep-rslex\\\": \\\"2.2.0\\\", \\\"azureml-dataprep-native\\\": \\\"38.0.0\\\", \\\"azureml-datadrift\\\": \\\"1.38.0\\\", \\\"azureml-core\\\": \\\"1.38.0\\\", \\\"azureml-contrib-services\\\": \\\"1.38.0\\\", \\\"azureml-contrib-server\\\": \\\"1.38.0\\\", \\\"azureml-contrib-reinforcementlearning\\\": \\\"1.38.0\\\", \\\"azureml-contrib-pipeline-steps\\\": \\\"1.38.0\\\", \\\"azureml-contrib-notebook\\\": \\\"1.38.0\\\", \\\"azureml-contrib-fairness\\\": \\\"1.38.0\\\", \\\"azureml-contrib-dataset\\\": \\\"1.38.0\\\", \\\"azureml-contrib-automl-pipeline-steps\\\": \\\"1.38.0\\\", \\\"azureml-cli-common\\\": \\\"1.38.0\\\", \\\"azureml-automl-runtime\\\": \\\"1.38.0\\\", \\\"azureml-automl-dnn-nlp\\\": \\\"1.38.0\\\", \\\"azureml-automl-core\\\": \\\"1.38.0\\\", \\\"azureml-accel-models\\\": \\\"1.38.0\\\"}\", \"_aml_system_scenario_identification\": \"Remote.Parent\", \"ClientType\": \"SDK\", \"environment_cpu_name\": \"AzureML-AutoML\", \"environment_cpu_label\": \"py36\", \"environment_gpu_name\": \"AzureML-AutoML-GPU\", \"environment_gpu_label\": \"py36\", \"root_attribution\": \"automl\", \"attribution\": \"AutoML\", \"Orchestrator\": \"AutoML\", \"CancelUri\": \"https://southcentralus.api.azureml.ms/jasmine/v1.0/subscriptions/5a4ab2ba-6c51-4805-8155-58759ad589d8/resourceGroups/aml-quickstarts-189146/providers/Microsoft.MachineLearningServices/workspaces/quick-starts-ws-189146/experimentids/6d0ceffb-423d-4074-a985-5ac0edae8edb/cancel/AutoML_252116ab-f119-48b2-84ff-8dbf083b8815\", \"ClientSdkVersion\": \"1.38.0\", \"snapshotId\": \"00000000-0000-0000-0000-000000000000\", \"SetupRunId\": \"AutoML_252116ab-f119-48b2-84ff-8dbf083b8815_setup\", \"SetupRunContainerId\": \"dcid.AutoML_252116ab-f119-48b2-84ff-8dbf083b8815_setup\", \"FeaturizationRunJsonPath\": \"featurizer_container.json\", \"FeaturizationRunId\": \"AutoML_252116ab-f119-48b2-84ff-8dbf083b8815_featurize\", \"ProblemInfoJsonString\": \"{\\\"dataset_num_categorical\\\": 0, \\\"is_sparse\\\": true, \\\"subsampling\\\": false, \\\"has_extra_col\\\": true, \\\"dataset_classes\\\": 3, \\\"dataset_features\\\": 54, \\\"dataset_samples\\\": 811, \\\"single_frequency_class_detected\\\": false}\", \"ModelExplainRunId\": \"AutoML_252116ab-f119-48b2-84ff-8dbf083b8815_ModelExplain\"}, \"tags\": {\"model_explain_run\": \"best_run\", \"_aml_system_automl_run_workspace_id\": \"3eccfa84-865f-442e-97ac-5fc4d71bdae8\", \"_aml_system_azureml.automlComponent\": \"AutoML\", \"pipeline_id\": \"\", \"score\": \"\", \"predicted_cost\": \"\", \"fit_time\": \"\", \"training_percent\": \"\", \"iteration\": \"\", \"run_preprocessor\": \"\", \"run_algorithm\": \"\", \"dynamic_whitelisting_iterations\": \"<24>;<30>;<35>;\", \"_aml_system_azureml.automl_early_exit_message\": \"No scores improved over last 20 iterations, so experiment stopped early. This early stopping behavior can be disabled by setting enable_early_stopping = False in AutoMLConfig for notebook/python SDK runs.\", \"automl_best_child_run_id\": \"AutoML_252116ab-f119-48b2-84ff-8dbf083b8815_37\", \"model_explain_best_run_child_id\": \"AutoML_252116ab-f119-48b2-84ff-8dbf083b8815_37\"}, \"end_time_utc\": \"2022-03-16T21:15:34.251314Z\", \"status\": \"Completed\", \"log_files\": {}, \"log_groups\": [], \"run_duration\": \"0:22:40\", \"run_number\": \"1647463973\", \"run_queued_details\": {\"status\": \"Completed\", \"details\": null}}, \"child_runs\": [{\"run_id\": \"AutoML_252116ab-f119-48b2-84ff-8dbf083b8815_setup\", \"run_number\": 1647463986, \"metric\": null, \"status\": \"Completed\", \"run_type\": \"azureml.scriptrun\", \"training_percent\": null, \"start_time\": \"2022-03-16T20:57:10.949509Z\", \"end_time\": \"2022-03-16T21:01:09.915477Z\", \"created_time\": \"2022-03-16T20:53:06.242359Z\", \"created_time_dt\": \"2022-03-16T20:53:06.242359Z\", \"duration\": \"0:08:03\", \"iteration\": null, \"goal\": null, \"run_name\": \"Completed\", \"run_properties\": null}, {\"run_id\": \"AutoML_252116ab-f119-48b2-84ff-8dbf083b8815_featurize\", \"run_number\": 1647464470, \"metric\": null, \"status\": \"Completed\", \"run_type\": \"automl.featurization\", \"training_percent\": null, \"start_time\": \"2022-03-16T21:01:10.680693Z\", \"end_time\": \"2022-03-16T21:02:04.107707Z\", \"created_time\": \"2022-03-16T21:01:10.230203Z\", \"created_time_dt\": \"2022-03-16T21:01:10.230203Z\", \"duration\": \"0:00:53\", \"iteration\": null, \"goal\": null, \"run_name\": \"Completed\", \"run_properties\": null}, {\"run_id\": \"AutoML_252116ab-f119-48b2-84ff-8dbf083b8815_0\", \"run_number\": 1647464525, \"metric\": null, \"status\": \"Completed\", \"run_type\": null, \"training_percent\": \"100\", \"start_time\": \"2022-03-16T21:02:21.846271Z\", \"end_time\": \"2022-03-16T21:02:32.535791Z\", \"created_time\": \"2022-03-16T21:02:05.444088Z\", \"created_time_dt\": \"2022-03-16T21:02:05.444088Z\", \"duration\": \"0:00:27\", \"iteration\": \"0\", \"goal\": \"accuracy_max\", \"run_name\": \"MaxAbsScaler, LightGBM\", \"run_properties\": \"copy=True\", \"primary_metric\": 0.7904059, \"best_metric\": 0.7904059}, {\"run_id\": \"AutoML_252116ab-f119-48b2-84ff-8dbf083b8815_2\", \"run_number\": 1647464526, \"metric\": null, \"status\": \"Completed\", \"run_type\": null, \"training_percent\": \"100\", \"start_time\": \"2022-03-16T21:02:42.285136Z\", \"end_time\": \"2022-03-16T21:02:52.05474Z\", \"created_time\": \"2022-03-16T21:02:06.410773Z\", \"created_time_dt\": \"2022-03-16T21:02:06.410773Z\", \"duration\": \"0:00:45\", \"iteration\": \"2\", \"goal\": \"accuracy_max\", \"run_name\": \"MaxAbsScaler, ExtremeRandomTrees\", \"run_properties\": \"copy=True\", \"primary_metric\": 0.64614368, \"best_metric\": 0.7904059}, {\"run_id\": \"AutoML_252116ab-f119-48b2-84ff-8dbf083b8815_worker_0\", \"run_number\": 1647464527, \"metric\": null, \"status\": \"Completed\", \"run_type\": \"azureml.scriptrun\", \"training_percent\": null, \"start_time\": \"2022-03-16T21:03:02.375838Z\", \"end_time\": \"2022-03-16T21:03:06.073707Z\", \"created_time\": \"2022-03-16T21:02:07.169486Z\", \"created_time_dt\": \"2022-03-16T21:02:07.169486Z\", \"duration\": \"0:00:58\", \"iteration\": null, \"goal\": null, \"run_name\": \"Completed\", \"run_properties\": null}, {\"run_id\": \"AutoML_252116ab-f119-48b2-84ff-8dbf083b8815_6\", \"run_number\": 1647464528, \"metric\": null, \"status\": \"Completed\", \"run_type\": null, \"training_percent\": \"100\", \"start_time\": \"2022-03-16T21:03:40.761296Z\", \"end_time\": \"2022-03-16T21:03:49.579597Z\", \"created_time\": \"2022-03-16T21:02:08.18578Z\", \"created_time_dt\": \"2022-03-16T21:02:08.18578Z\", \"duration\": \"0:01:41\", \"iteration\": \"6\", \"goal\": \"accuracy_max\", \"run_name\": \"StandardScalerWrapper, XGBoostClassifier\", \"run_properties\": \"\\n    copy=True,\\n    with_mean=False,\\n    with_std=False\\n\", \"primary_metric\": 0.7534372, \"best_metric\": 0.7904059}, {\"run_id\": \"AutoML_252116ab-f119-48b2-84ff-8dbf083b8815_8\", \"run_number\": 1647464529, \"metric\": null, \"status\": \"Completed\", \"run_type\": null, \"training_percent\": \"100\", \"start_time\": \"2022-03-16T21:04:23.53644Z\", \"end_time\": \"2022-03-16T21:04:32.54392Z\", \"created_time\": \"2022-03-16T21:02:09.493189Z\", \"created_time_dt\": \"2022-03-16T21:02:09.493189Z\", \"duration\": \"0:02:23\", \"iteration\": \"8\", \"goal\": \"accuracy_max\", \"run_name\": \"StandardScalerWrapper, ExtremeRandomTrees\", \"run_properties\": \"\\n    copy=True,\\n    with_mean=False,\\n    with_std=False\\n\", \"primary_metric\": 0.56840235, \"best_metric\": 0.7904059}, {\"run_id\": \"AutoML_252116ab-f119-48b2-84ff-8dbf083b8815_10\", \"run_number\": 1647464530, \"metric\": null, \"status\": \"Completed\", \"run_type\": null, \"training_percent\": \"100\", \"start_time\": \"2022-03-16T21:04:41.679531Z\", \"end_time\": \"2022-03-16T21:04:50.516807Z\", \"created_time\": \"2022-03-16T21:02:10.357921Z\", \"created_time_dt\": \"2022-03-16T21:02:10.357921Z\", \"duration\": \"0:02:40\", \"iteration\": \"10\", \"goal\": \"accuracy_max\", \"run_name\": \"SparseNormalizer, LightGBM\", \"run_properties\": \"copy=True, norm='l1'\", \"primary_metric\": 0.65101818, \"best_metric\": 0.7904059}, {\"run_id\": \"AutoML_252116ab-f119-48b2-84ff-8dbf083b8815_worker_2\", \"run_number\": 1647464531, \"metric\": null, \"status\": \"Completed\", \"run_type\": \"azureml.scriptrun\", \"training_percent\": null, \"start_time\": \"2022-03-16T21:05:00.965199Z\", \"end_time\": \"2022-03-16T21:05:04.638955Z\", \"created_time\": \"2022-03-16T21:02:11.085648Z\", \"created_time_dt\": \"2022-03-16T21:02:11.085648Z\", \"duration\": \"0:02:53\", \"iteration\": null, \"goal\": null, \"run_name\": \"Completed\", \"run_properties\": null}, {\"run_id\": \"AutoML_252116ab-f119-48b2-84ff-8dbf083b8815_14\", \"run_number\": 1647464532, \"metric\": null, \"status\": \"Completed\", \"run_type\": null, \"training_percent\": \"100\", \"start_time\": \"2022-03-16T21:05:38.46283Z\", \"end_time\": \"2022-03-16T21:05:47.243438Z\", \"created_time\": \"2022-03-16T21:02:12.319354Z\", \"created_time_dt\": \"2022-03-16T21:02:12.319354Z\", \"duration\": \"0:03:34\", \"iteration\": \"14\", \"goal\": \"accuracy_max\", \"run_name\": \"StandardScalerWrapper, XGBoostClassifier\", \"run_properties\": \"\\n    copy=True,\\n    with_mean=False,\\n    with_std=False\\n\", \"primary_metric\": 0.71515193, \"best_metric\": 0.7904059}, {\"run_id\": \"AutoML_252116ab-f119-48b2-84ff-8dbf083b8815_worker_3\", \"run_number\": 1647464533, \"metric\": null, \"status\": \"Completed\", \"run_type\": \"azureml.scriptrun\", \"training_percent\": null, \"start_time\": \"2022-03-16T21:05:16.008193Z\", \"end_time\": \"2022-03-16T21:06:02.413981Z\", \"created_time\": \"2022-03-16T21:02:13.027352Z\", \"created_time_dt\": \"2022-03-16T21:02:13.027352Z\", \"duration\": \"0:03:49\", \"iteration\": null, \"goal\": null, \"run_name\": \"Completed\", \"run_properties\": null}, {\"run_id\": \"AutoML_252116ab-f119-48b2-84ff-8dbf083b8815_worker_4\", \"run_number\": 1647464534, \"metric\": null, \"status\": \"Completed\", \"run_type\": \"azureml.scriptrun\", \"training_percent\": null, \"start_time\": \"2022-03-16T21:06:14.432435Z\", \"end_time\": \"2022-03-16T21:07:01.488672Z\", \"created_time\": \"2022-03-16T21:02:14.759106Z\", \"created_time_dt\": \"2022-03-16T21:02:14.759106Z\", \"duration\": \"0:04:46\", \"iteration\": null, \"goal\": null, \"run_name\": \"Completed\", \"run_properties\": null}, {\"run_id\": \"AutoML_252116ab-f119-48b2-84ff-8dbf083b8815_22\", \"run_number\": 1647464760, \"metric\": null, \"status\": \"Completed\", \"run_type\": \"azureml.scriptrun\", \"training_percent\": \"100\", \"start_time\": \"2022-03-16T21:07:25.156911Z\", \"end_time\": \"2022-03-16T21:07:28.950349Z\", \"created_time\": \"2022-03-16T21:06:00.620804Z\", \"created_time_dt\": \"2022-03-16T21:06:00.620804Z\", \"duration\": \"0:01:28\", \"iteration\": \"22\", \"goal\": \"accuracy_max\", \"run_name\": \"SparseNormalizer, XGBoostClassifier\", \"run_properties\": \"copy=True, norm='l1'\", \"primary_metric\": 0.74723703, \"best_metric\": 0.7904059}, {\"run_id\": \"AutoML_252116ab-f119-48b2-84ff-8dbf083b8815_23\", \"run_number\": 1647464808, \"metric\": null, \"status\": \"Completed\", \"run_type\": \"azureml.scriptrun\", \"training_percent\": \"100\", \"start_time\": \"2022-03-16T21:08:25.511177Z\", \"end_time\": \"2022-03-16T21:08:29.230262Z\", \"created_time\": \"2022-03-16T21:06:48.927932Z\", \"created_time_dt\": \"2022-03-16T21:06:48.927932Z\", \"duration\": \"0:01:40\", \"iteration\": \"23\", \"goal\": \"accuracy_max\", \"run_name\": \"StandardScalerWrapper, LogisticRegression\", \"run_properties\": \"\\n    copy=True,\\n    with_mean=False,\\n    with_std=True\\n\", \"primary_metric\": 0.62024965, \"best_metric\": 0.7904059}, {\"run_id\": \"AutoML_252116ab-f119-48b2-84ff-8dbf083b8815_25\", \"run_number\": 1647464853, \"metric\": null, \"status\": \"Completed\", \"run_type\": \"azureml.scriptrun\", \"training_percent\": \"100\", \"start_time\": \"2022-03-16T21:08:55.290318Z\", \"end_time\": \"2022-03-16T21:08:59.008141Z\", \"created_time\": \"2022-03-16T21:07:33.518431Z\", \"created_time_dt\": \"2022-03-16T21:07:33.518431Z\", \"duration\": \"0:01:25\", \"iteration\": \"25\", \"goal\": \"accuracy_max\", \"run_name\": \"StandardScalerWrapper, RandomForest\", \"run_properties\": \"\\n    copy=True,\\n    with_mean=False,\\n    with_std=False\\n\", \"primary_metric\": 0.65223452, \"best_metric\": 0.7904059}, {\"run_id\": \"AutoML_252116ab-f119-48b2-84ff-8dbf083b8815_26\", \"run_number\": 1647464881, \"metric\": null, \"status\": \"Completed\", \"run_type\": \"azureml.scriptrun\", \"training_percent\": \"100\", \"start_time\": \"2022-03-16T21:10:31.572356Z\", \"end_time\": \"2022-03-16T21:10:35.296495Z\", \"created_time\": \"2022-03-16T21:08:01.25287Z\", \"created_time_dt\": \"2022-03-16T21:08:01.25287Z\", \"duration\": \"0:02:34\", \"iteration\": \"26\", \"goal\": \"accuracy_max\", \"run_name\": \"SparseNormalizer, XGBoostClassifier\", \"run_properties\": \"copy=True, norm='l2'\", \"primary_metric\": 0.72999863, \"best_metric\": 0.7904059}, {\"run_id\": \"AutoML_252116ab-f119-48b2-84ff-8dbf083b8815_27\", \"run_number\": 1647464910, \"metric\": null, \"status\": \"Completed\", \"run_type\": \"azureml.scriptrun\", \"training_percent\": \"100\", \"start_time\": \"2022-03-16T21:10:58.565563Z\", \"end_time\": \"2022-03-16T21:11:02.260876Z\", \"created_time\": \"2022-03-16T21:08:30.897671Z\", \"created_time_dt\": \"2022-03-16T21:08:30.897671Z\", \"duration\": \"0:02:31\", \"iteration\": \"27\", \"goal\": \"accuracy_max\", \"run_name\": \"StandardScalerWrapper, RandomForest\", \"run_properties\": \"\\n    copy=True,\\n    with_mean=False,\\n    with_std=True\\n\", \"primary_metric\": 0.6978862, \"best_metric\": 0.7904059}, {\"run_id\": \"AutoML_252116ab-f119-48b2-84ff-8dbf083b8815_28\", \"run_number\": 1647464941, \"metric\": null, \"status\": \"Completed\", \"run_type\": \"azureml.scriptrun\", \"training_percent\": \"100\", \"start_time\": \"2022-03-16T21:11:40.418694Z\", \"end_time\": \"2022-03-16T21:11:44.099452Z\", \"created_time\": \"2022-03-16T21:09:01.030357Z\", \"created_time_dt\": \"2022-03-16T21:09:01.030357Z\", \"duration\": \"0:02:43\", \"iteration\": \"28\", \"goal\": \"accuracy_max\", \"run_name\": \"StandardScalerWrapper, RandomForest\", \"run_properties\": \"\\n    copy=True,\\n    with_mean=False,\\n    with_std=False\\n\", \"primary_metric\": 0.6756822, \"best_metric\": 0.7904059}, {\"run_id\": \"AutoML_252116ab-f119-48b2-84ff-8dbf083b8815_29\", \"run_number\": 1647464988, \"metric\": null, \"status\": \"Completed\", \"run_type\": \"azureml.scriptrun\", \"training_percent\": \"100\", \"start_time\": \"2022-03-16T21:12:32.378Z\", \"end_time\": \"2022-03-16T21:12:36.046989Z\", \"created_time\": \"2022-03-16T21:09:47.997604Z\", \"created_time_dt\": \"2022-03-16T21:09:47.997604Z\", \"duration\": \"0:02:48\", \"iteration\": \"29\", \"goal\": \"accuracy_max\", \"run_name\": \"SparseNormalizer, XGBoostClassifier\", \"run_properties\": \"copy=True, norm='l2'\", \"primary_metric\": 0.66949114, \"best_metric\": 0.7904059}, {\"run_id\": \"AutoML_252116ab-f119-48b2-84ff-8dbf083b8815_30\", \"run_number\": 1647465038, \"metric\": null, \"status\": \"Completed\", \"run_type\": \"azureml.scriptrun\", \"training_percent\": \"100\", \"start_time\": \"2022-03-16T21:12:49.532516Z\", \"end_time\": \"2022-03-16T21:12:53.189376Z\", \"created_time\": \"2022-03-16T21:10:38.682312Z\", \"created_time_dt\": \"2022-03-16T21:10:38.682312Z\", \"duration\": \"0:02:14\", \"iteration\": \"30\", \"goal\": \"accuracy_max\", \"run_name\": \"TruncatedSVDWrapper, LightGBM\", \"run_properties\": \"n_components=0.3563157894736842, random_state=None\", \"primary_metric\": 0.47215161, \"best_metric\": 0.7904059}, {\"run_id\": \"AutoML_252116ab-f119-48b2-84ff-8dbf083b8815_31\", \"run_number\": 1647465065, \"metric\": null, \"status\": \"Completed\", \"run_type\": \"azureml.scriptrun\", \"training_percent\": \"100\", \"start_time\": \"2022-03-16T21:13:41.914043Z\", \"end_time\": \"2022-03-16T21:13:45.641851Z\", \"created_time\": \"2022-03-16T21:11:04.042996Z\", \"created_time_dt\": \"2022-03-16T21:11:04.042996Z\", \"duration\": \"0:02:41\", \"iteration\": \"31\", \"goal\": \"accuracy_max\", \"run_name\": \"StandardScalerWrapper, XGBoostClassifier\", \"run_properties\": \"\\n    copy=True,\\n    with_mean=False,\\n    with_std=False\\n\", \"primary_metric\": 0.72380302, \"best_metric\": 0.7904059}, {\"run_id\": \"AutoML_252116ab-f119-48b2-84ff-8dbf083b8815_32\", \"run_number\": 1647465105, \"metric\": null, \"status\": \"Completed\", \"run_type\": \"azureml.scriptrun\", \"training_percent\": \"100\", \"start_time\": \"2022-03-16T21:14:31.081778Z\", \"end_time\": \"2022-03-16T21:14:34.785347Z\", \"created_time\": \"2022-03-16T21:11:45.756646Z\", \"created_time_dt\": \"2022-03-16T21:11:45.756646Z\", \"duration\": \"0:02:49\", \"iteration\": \"32\", \"goal\": \"accuracy_max\", \"run_name\": \"SparseNormalizer, XGBoostClassifier\", \"run_properties\": \"copy=True, norm='l1'\", \"primary_metric\": 0.73983873, \"best_metric\": 0.7904059}, {\"run_id\": \"AutoML_252116ab-f119-48b2-84ff-8dbf083b8815_33\", \"run_number\": 1647465145, \"metric\": null, \"status\": \"Completed\", \"run_type\": \"azureml.scriptrun\", \"training_percent\": \"100\", \"start_time\": \"2022-03-16T21:14:30.823258Z\", \"end_time\": \"2022-03-16T21:14:34.515175Z\", \"created_time\": \"2022-03-16T21:12:25.764268Z\", \"created_time_dt\": \"2022-03-16T21:12:25.764268Z\", \"duration\": \"0:02:08\", \"iteration\": \"33\", \"goal\": \"accuracy_max\", \"run_name\": \"SparseNormalizer, XGBoostClassifier\", \"run_properties\": \"copy=True, norm='max'\", \"primary_metric\": 0.74597968, \"best_metric\": 0.7904059}, {\"run_id\": \"AutoML_252116ab-f119-48b2-84ff-8dbf083b8815_34\", \"run_number\": 1647465158, \"metric\": null, \"status\": \"Canceled\", \"run_type\": \"azureml.scriptrun\", \"training_percent\": \"100\", \"start_time\": \"2022-03-16T21:14:35.378453Z\", \"end_time\": \"2022-03-16T21:14:35.775088Z\", \"created_time\": \"2022-03-16T21:12:38.023665Z\", \"created_time_dt\": \"2022-03-16T21:12:38.023665Z\", \"duration\": \"0:01:57\", \"iteration\": \"34\", \"goal\": null, \"run_name\": \"Canceled\", \"run_properties\": null}, {\"run_id\": \"AutoML_252116ab-f119-48b2-84ff-8dbf083b8815_35\", \"run_number\": 1647465176, \"metric\": null, \"status\": \"Canceled\", \"run_type\": \"azureml.scriptrun\", \"training_percent\": \"100\", \"start_time\": \"2022-03-16T21:14:35.375913Z\", \"end_time\": \"2022-03-16T21:14:35.739519Z\", \"created_time\": \"2022-03-16T21:12:56.033294Z\", \"created_time_dt\": \"2022-03-16T21:12:56.033294Z\", \"duration\": \"0:01:39\", \"iteration\": \"35\", \"goal\": null, \"run_name\": \"Canceled\", \"run_properties\": null}, {\"run_id\": \"AutoML_252116ab-f119-48b2-84ff-8dbf083b8815_36\", \"run_number\": 1647465227, \"metric\": null, \"status\": \"Canceled\", \"run_type\": \"azureml.scriptrun\", \"training_percent\": \"100\", \"start_time\": \"2022-03-16T21:14:35.373685Z\", \"end_time\": \"2022-03-16T21:14:35.707623Z\", \"created_time\": \"2022-03-16T21:13:47.329788Z\", \"created_time_dt\": \"2022-03-16T21:13:47.329788Z\", \"duration\": \"0:00:48\", \"iteration\": \"36\", \"goal\": null, \"run_name\": \"Canceled\", \"run_properties\": null}, {\"run_id\": \"AutoML_252116ab-f119-48b2-84ff-8dbf083b8815_37\", \"run_number\": 1647465276, \"metric\": null, \"status\": \"Completed\", \"run_type\": \"azureml.scriptrun\", \"training_percent\": \"100\", \"start_time\": \"2022-03-16T21:15:29.255379Z\", \"end_time\": \"2022-03-16T21:15:32.929155Z\", \"created_time\": \"2022-03-16T21:14:36.754102Z\", \"created_time_dt\": \"2022-03-16T21:14:36.754102Z\", \"duration\": \"0:00:56\", \"iteration\": \"37\", \"goal\": \"accuracy_max\", \"run_name\": \"VotingEnsemble\", \"run_properties\": \"\\n    estimators=[('0', Pipeline(\\n        memory=None,\\n        steps=[('maxabsscaler', MaxAbsScaler(\\n            copy=True\\n        \", \"primary_metric\": 0.81380803, \"best_metric\": 0.81380803}], \"children_metrics\": {\"categories\": [0], \"series\": {\"recall_score_macro\": [{\"categories\": [\"0\", \"2\", \"6\", \"8\", \"10\", \"14\", \"22\", \"23\", \"25\", \"26\", \"27\", \"28\", \"29\", \"30\", \"31\", \"32\", \"33\", \"37\"], \"mode\": \"markers\", \"name\": \"recall_score_macro\", \"stepped\": false, \"type\": \"scatter\", \"data\": [0.791691461524143, 0.6499576726315625, 0.7495904606277245, 0.5247274406214307, 0.6369930928195019, 0.718803404512178, 0.7441341512382529, 0.6275203829667353, 0.64056725410724, 0.7277208597400856, 0.6979826554758075, 0.6673590374590552, 0.6594662348523962, 0.4001768377946631, 0.7280812691716575, 0.737300768128771, 0.7472429432444091, 0.8120463239568281]}, {\"categories\": [\"0\", \"2\", \"6\", \"8\", \"10\", \"14\", \"22\", \"23\", \"25\", \"26\", \"27\", \"28\", \"29\", \"30\", \"31\", \"32\", \"33\", \"37\"], \"mode\": \"lines\", \"name\": \"recall_score_macro_max\", \"stepped\": true, \"type\": \"scatter\", \"data\": [0.791691461524143, 0.791691461524143, 0.791691461524143, 0.791691461524143, 0.791691461524143, 0.791691461524143, 0.791691461524143, 0.791691461524143, 0.791691461524143, 0.791691461524143, 0.791691461524143, 0.791691461524143, 0.791691461524143, 0.791691461524143, 0.791691461524143, 0.791691461524143, 0.791691461524143, 0.8120463239568281]}], \"recall_score_weighted\": [{\"categories\": [\"0\", \"2\", \"6\", \"8\", \"10\", \"14\", \"22\", \"23\", \"25\", \"26\", \"27\", \"28\", \"29\", \"30\", \"31\", \"32\", \"33\", \"37\"], \"mode\": \"markers\", \"name\": \"recall_score_weighted\", \"stepped\": false, \"type\": \"scatter\", \"data\": [0.7904059040590407, 0.6461436836590588, 0.7534372010386771, 0.5684023506901735, 0.6510181768484351, 0.7151519292970708, 0.7472370279258348, 0.6202496469409139, 0.6522345223452235, 0.7299986333196665, 0.6978862010842329, 0.6756822012664571, 0.6694911393558381, 0.472151610404993, 0.7238030158079359, 0.7398387317206506, 0.7459796820190423, 0.8138080269691587]}, {\"categories\": [\"0\", \"2\", \"6\", \"8\", \"10\", \"14\", \"22\", \"23\", \"25\", \"26\", \"27\", \"28\", \"29\", \"30\", \"31\", \"32\", \"33\", \"37\"], \"mode\": \"lines\", \"name\": \"recall_score_weighted_max\", \"stepped\": true, \"type\": \"scatter\", \"data\": [0.7904059040590407, 0.7904059040590407, 0.7904059040590407, 0.7904059040590407, 0.7904059040590407, 0.7904059040590407, 0.7904059040590407, 0.7904059040590407, 0.7904059040590407, 0.7904059040590407, 0.7904059040590407, 0.7904059040590407, 0.7904059040590407, 0.7904059040590407, 0.7904059040590407, 0.7904059040590407, 0.7904059040590407, 0.8138080269691587]}], \"precision_score_macro\": [{\"categories\": [\"0\", \"2\", \"6\", \"8\", \"10\", \"14\", \"22\", \"23\", \"25\", \"26\", \"27\", \"28\", \"29\", \"30\", \"31\", \"32\", \"33\", \"37\"], \"mode\": \"markers\", \"name\": \"precision_score_macro\", \"stepped\": false, \"type\": \"scatter\", \"data\": [0.7971382259446997, 0.6507744580842857, 0.7553857633308169, 0.6968434596221199, 0.6718907316416436, 0.7148789801087018, 0.7592960326961817, 0.6330160212380137, 0.7144604803428333, 0.7317660094955153, 0.6985086120607273, 0.7062442995354387, 0.7109379325015525, 0.5551083890840834, 0.7263706775639219, 0.7525103593280372, 0.7503774070898003, 0.818951613209946]}, {\"categories\": [\"0\", \"2\", \"6\", \"8\", \"10\", \"14\", \"22\", \"23\", \"25\", \"26\", \"27\", \"28\", \"29\", \"30\", \"31\", \"32\", \"33\", \"37\"], \"mode\": \"lines\", \"name\": \"precision_score_macro_max\", \"stepped\": true, \"type\": \"scatter\", \"data\": [0.7971382259446997, 0.7971382259446997, 0.7971382259446997, 0.7971382259446997, 0.7971382259446997, 0.7971382259446997, 0.7971382259446997, 0.7971382259446997, 0.7971382259446997, 0.7971382259446997, 0.7971382259446997, 0.7971382259446997, 0.7971382259446997, 0.7971382259446997, 0.7971382259446997, 0.7971382259446997, 0.7971382259446997, 0.818951613209946]}], \"weighted_accuracy\": [{\"categories\": [\"0\", \"2\", \"6\", \"8\", \"10\", \"14\", \"22\", \"23\", \"25\", \"26\", \"27\", \"28\", \"29\", \"30\", \"31\", \"32\", \"33\", \"37\"], \"mode\": \"markers\", \"name\": \"weighted_accuracy\", \"stepped\": false, \"type\": \"scatter\", \"data\": [0.7905245876636678, 0.6465802821526596, 0.7586064273954721, 0.6144368445611342, 0.6716292917343072, 0.7166436377279825, 0.7533399484919926, 0.6173205252760284, 0.6713248134188138, 0.7360751143108332, 0.7036241616391342, 0.6913900288403397, 0.6856227667448734, 0.5426859567105963, 0.7236411269634111, 0.7458015915225736, 0.7469255474167564, 0.8165003331405929]}, {\"categories\": [\"0\", \"2\", \"6\", \"8\", \"10\", \"14\", \"22\", \"23\", \"25\", \"26\", \"27\", \"28\", \"29\", \"30\", \"31\", \"32\", \"33\", \"37\"], \"mode\": \"lines\", \"name\": \"weighted_accuracy_max\", \"stepped\": true, \"type\": \"scatter\", \"data\": [0.7905245876636678, 0.7905245876636678, 0.7905245876636678, 0.7905245876636678, 0.7905245876636678, 0.7905245876636678, 0.7905245876636678, 0.7905245876636678, 0.7905245876636678, 0.7905245876636678, 0.7905245876636678, 0.7905245876636678, 0.7905245876636678, 0.7905245876636678, 0.7905245876636678, 0.7905245876636678, 0.7905245876636678, 0.8165003331405929]}], \"recall_score_micro\": [{\"categories\": [\"0\", \"2\", \"6\", \"8\", \"10\", \"14\", \"22\", \"23\", \"25\", \"26\", \"27\", \"28\", \"29\", \"30\", \"31\", \"32\", \"33\", \"37\"], \"mode\": \"markers\", \"name\": \"recall_score_micro\", \"stepped\": false, \"type\": \"scatter\", \"data\": [0.7904059040590407, 0.6461436836590588, 0.7534372010386771, 0.5684023506901735, 0.6510181768484351, 0.7151519292970708, 0.7472370279258348, 0.6202496469409139, 0.6522345223452235, 0.7299986333196665, 0.6978862010842329, 0.6756822012664571, 0.6694911393558381, 0.472151610404993, 0.7238030158079359, 0.7398387317206506, 0.7459796820190423, 0.8138080269691587]}, {\"categories\": [\"0\", \"2\", \"6\", \"8\", \"10\", \"14\", \"22\", \"23\", \"25\", \"26\", \"27\", \"28\", \"29\", \"30\", \"31\", \"32\", \"33\", \"37\"], \"mode\": \"lines\", \"name\": \"recall_score_micro_max\", \"stepped\": true, \"type\": \"scatter\", \"data\": [0.7904059040590407, 0.7904059040590407, 0.7904059040590407, 0.7904059040590407, 0.7904059040590407, 0.7904059040590407, 0.7904059040590407, 0.7904059040590407, 0.7904059040590407, 0.7904059040590407, 0.7904059040590407, 0.7904059040590407, 0.7904059040590407, 0.7904059040590407, 0.7904059040590407, 0.7904059040590407, 0.7904059040590407, 0.8138080269691587]}], \"AUC_weighted\": [{\"categories\": [\"0\", \"2\", \"6\", \"8\", \"10\", \"14\", \"22\", \"23\", \"25\", \"26\", \"27\", \"28\", \"29\", \"30\", \"31\", \"32\", \"33\", \"37\"], \"mode\": \"markers\", \"name\": \"AUC_weighted\", \"stepped\": false, \"type\": \"scatter\", \"data\": [0.9185280428416073, 0.8211897126816594, 0.8918605874063911, 0.7969542540700186, 0.8290913877276603, 0.8613129427791945, 0.8812337361081148, 0.8025568709069674, 0.8296283042367406, 0.8886817755209534, 0.8647546264275002, 0.8380294233088953, 0.8412113410391885, 0.8631899726214747, 0.8746322620763678, 0.8930427671294966, 0.8884362527245733, 0.9203427577704361]}, {\"categories\": [\"0\", \"2\", \"6\", \"8\", \"10\", \"14\", \"22\", \"23\", \"25\", \"26\", \"27\", \"28\", \"29\", \"30\", \"31\", \"32\", \"33\", \"37\"], \"mode\": \"lines\", \"name\": \"AUC_weighted_max\", \"stepped\": true, \"type\": \"scatter\", \"data\": [0.9185280428416073, 0.9185280428416073, 0.9185280428416073, 0.9185280428416073, 0.9185280428416073, 0.9185280428416073, 0.9185280428416073, 0.9185280428416073, 0.9185280428416073, 0.9185280428416073, 0.9185280428416073, 0.9185280428416073, 0.9185280428416073, 0.9185280428416073, 0.9185280428416073, 0.9185280428416073, 0.9185280428416073, 0.9203427577704361]}], \"precision_score_micro\": [{\"categories\": [\"0\", \"2\", \"6\", \"8\", \"10\", \"14\", \"22\", \"23\", \"25\", \"26\", \"27\", \"28\", \"29\", \"30\", \"31\", \"32\", \"33\", \"37\"], \"mode\": \"markers\", \"name\": \"precision_score_micro\", \"stepped\": false, \"type\": \"scatter\", \"data\": [0.7904059040590407, 0.6461436836590588, 0.7534372010386771, 0.5684023506901735, 0.6510181768484351, 0.7151519292970708, 0.7472370279258348, 0.6202496469409139, 0.6522345223452235, 0.7299986333196665, 0.6978862010842329, 0.6756822012664571, 0.6694911393558381, 0.472151610404993, 0.7238030158079359, 0.7398387317206506, 0.7459796820190423, 0.8138080269691587]}, {\"categories\": [\"0\", \"2\", \"6\", \"8\", \"10\", \"14\", \"22\", \"23\", \"25\", \"26\", \"27\", \"28\", \"29\", \"30\", \"31\", \"32\", \"33\", \"37\"], \"mode\": \"lines\", \"name\": \"precision_score_micro_max\", \"stepped\": true, \"type\": \"scatter\", \"data\": [0.7904059040590407, 0.7904059040590407, 0.7904059040590407, 0.7904059040590407, 0.7904059040590407, 0.7904059040590407, 0.7904059040590407, 0.7904059040590407, 0.7904059040590407, 0.7904059040590407, 0.7904059040590407, 0.7904059040590407, 0.7904059040590407, 0.7904059040590407, 0.7904059040590407, 0.7904059040590407, 0.7904059040590407, 0.8138080269691587]}], \"matthews_correlation\": [{\"categories\": [\"0\", \"2\", \"6\", \"8\", \"10\", \"14\", \"22\", \"23\", \"25\", \"26\", \"27\", \"28\", \"29\", \"30\", \"31\", \"32\", \"33\", \"37\"], \"mode\": \"markers\", \"name\": \"matthews_correlation\", \"stepped\": false, \"type\": \"scatter\", \"data\": [0.678587660112883, 0.4681370260838175, 0.6207407122775539, 0.37704963510455225, 0.49106589640023995, 0.5703500192488539, 0.6134391120414425, 0.42026124676415383, 0.504285024281654, 0.5887997160110182, 0.5470567395002189, 0.5354078916860905, 0.5208620702936004, 0.21470473000696444, 0.5815191169830688, 0.6025212287182331, 0.6121442926441817, 0.7143977473575015]}, {\"categories\": [\"0\", \"2\", \"6\", \"8\", \"10\", \"14\", \"22\", \"23\", \"25\", \"26\", \"27\", \"28\", \"29\", \"30\", \"31\", \"32\", \"33\", \"37\"], \"mode\": \"lines\", \"name\": \"matthews_correlation_max\", \"stepped\": true, \"type\": \"scatter\", \"data\": [0.678587660112883, 0.678587660112883, 0.678587660112883, 0.678587660112883, 0.678587660112883, 0.678587660112883, 0.678587660112883, 0.678587660112883, 0.678587660112883, 0.678587660112883, 0.678587660112883, 0.678587660112883, 0.678587660112883, 0.678587660112883, 0.678587660112883, 0.678587660112883, 0.678587660112883, 0.7143977473575015]}], \"AUC_micro\": [{\"categories\": [\"0\", \"2\", \"6\", \"8\", \"10\", \"14\", \"22\", \"23\", \"25\", \"26\", \"27\", \"28\", \"29\", \"30\", \"31\", \"32\", \"33\", \"37\"], \"mode\": \"markers\", \"name\": \"AUC_micro\", \"stepped\": false, \"type\": \"scatter\", \"data\": [0.928535515138153, 0.8504580080696712, 0.9046890371398665, 0.7898627946584994, 0.8577132104593638, 0.880295795173948, 0.8988023667733072, 0.8360122204482338, 0.8491547395930431, 0.9022340103770953, 0.8837962174900628, 0.8638319760325448, 0.8653112640453239, 0.7298237978537895, 0.8922490961595871, 0.9043460807233465, 0.9029506046886505, 0.9302094026536062]}, {\"categories\": [\"0\", \"2\", \"6\", \"8\", \"10\", \"14\", \"22\", \"23\", \"25\", \"26\", \"27\", \"28\", \"29\", \"30\", \"31\", \"32\", \"33\", \"37\"], \"mode\": \"lines\", \"name\": \"AUC_micro_max\", \"stepped\": true, \"type\": \"scatter\", \"data\": [0.928535515138153, 0.928535515138153, 0.928535515138153, 0.928535515138153, 0.928535515138153, 0.928535515138153, 0.928535515138153, 0.928535515138153, 0.928535515138153, 0.928535515138153, 0.928535515138153, 0.928535515138153, 0.928535515138153, 0.928535515138153, 0.928535515138153, 0.928535515138153, 0.928535515138153, 0.9302094026536062]}], \"AUC_macro\": [{\"categories\": [\"0\", \"2\", \"6\", \"8\", \"10\", \"14\", \"22\", \"23\", \"25\", \"26\", \"27\", \"28\", \"29\", \"30\", \"31\", \"32\", \"33\", \"37\"], \"mode\": \"markers\", \"name\": \"AUC_macro\", \"stepped\": false, \"type\": \"scatter\", \"data\": [0.9221789283257635, 0.8313751884729629, 0.8967373793427337, 0.8064196058886544, 0.8373516423380541, 0.8674857987742067, 0.8863138590725739, 0.8140318680817472, 0.8379912642799635, 0.8934622398326563, 0.871409203029165, 0.8460896875368573, 0.8479217901203063, 0.8701327448709022, 0.88081643084287, 0.8974429135514468, 0.8935767811597067, 0.9239007454557223]}, {\"categories\": [\"0\", \"2\", \"6\", \"8\", \"10\", \"14\", \"22\", \"23\", \"25\", \"26\", \"27\", \"28\", \"29\", \"30\", \"31\", \"32\", \"33\", \"37\"], \"mode\": \"lines\", \"name\": \"AUC_macro_max\", \"stepped\": true, \"type\": \"scatter\", \"data\": [0.9221789283257635, 0.9221789283257635, 0.9221789283257635, 0.9221789283257635, 0.9221789283257635, 0.9221789283257635, 0.9221789283257635, 0.9221789283257635, 0.9221789283257635, 0.9221789283257635, 0.9221789283257635, 0.9221789283257635, 0.9221789283257635, 0.9221789283257635, 0.9221789283257635, 0.9221789283257635, 0.9221789283257635, 0.9239007454557223]}], \"average_precision_score_weighted\": [{\"categories\": [\"0\", \"2\", \"6\", \"8\", \"10\", \"14\", \"22\", \"23\", \"25\", \"26\", \"27\", \"28\", \"29\", \"30\", \"31\", \"32\", \"33\", \"37\"], \"mode\": \"markers\", \"name\": \"average_precision_score_weighted\", \"stepped\": false, \"type\": \"scatter\", \"data\": [0.8584500271290585, 0.7206737943065202, 0.8245186022230117, 0.6930693620072775, 0.7292412837481339, 0.7778729445302573, 0.8077856732363119, 0.7079756985865558, 0.7328812314531578, 0.8217415363489309, 0.7838558974441497, 0.7437527268706091, 0.7567478164698236, 0.7878193844478195, 0.7916644639454798, 0.8231786784201541, 0.8137997086261569, 0.8671521063863196]}, {\"categories\": [\"0\", \"2\", \"6\", \"8\", \"10\", \"14\", \"22\", \"23\", \"25\", \"26\", \"27\", \"28\", \"29\", \"30\", \"31\", \"32\", \"33\", \"37\"], \"mode\": \"lines\", \"name\": \"average_precision_score_weighted_max\", \"stepped\": true, \"type\": \"scatter\", \"data\": [0.8584500271290585, 0.8584500271290585, 0.8584500271290585, 0.8584500271290585, 0.8584500271290585, 0.8584500271290585, 0.8584500271290585, 0.8584500271290585, 0.8584500271290585, 0.8584500271290585, 0.8584500271290585, 0.8584500271290585, 0.8584500271290585, 0.8584500271290585, 0.8584500271290585, 0.8584500271290585, 0.8584500271290585, 0.8671521063863196]}], \"accuracy\": [{\"categories\": [\"0\", \"2\", \"6\", \"8\", \"10\", \"14\", \"22\", \"23\", \"25\", \"26\", \"27\", \"28\", \"29\", \"30\", \"31\", \"32\", \"33\", \"37\"], \"mode\": \"markers\", \"name\": \"accuracy\", \"stepped\": false, \"type\": \"scatter\", \"data\": [0.7904059040590407, 0.6461436836590588, 0.7534372010386771, 0.5684023506901735, 0.6510181768484351, 0.7151519292970708, 0.7472370279258348, 0.6202496469409139, 0.6522345223452235, 0.7299986333196665, 0.6978862010842329, 0.6756822012664571, 0.6694911393558381, 0.472151610404993, 0.7238030158079359, 0.7398387317206506, 0.7459796820190423, 0.8138080269691587]}, {\"categories\": [\"0\", \"2\", \"6\", \"8\", \"10\", \"14\", \"22\", \"23\", \"25\", \"26\", \"27\", \"28\", \"29\", \"30\", \"31\", \"32\", \"33\", \"37\"], \"mode\": \"lines\", \"name\": \"accuracy_max\", \"stepped\": true, \"type\": \"scatter\", \"data\": [0.7904059040590407, 0.7904059040590407, 0.7904059040590407, 0.7904059040590407, 0.7904059040590407, 0.7904059040590407, 0.7904059040590407, 0.7904059040590407, 0.7904059040590407, 0.7904059040590407, 0.7904059040590407, 0.7904059040590407, 0.7904059040590407, 0.7904059040590407, 0.7904059040590407, 0.7904059040590407, 0.7904059040590407, 0.8138080269691587]}], \"f1_score_micro\": [{\"categories\": [\"0\", \"2\", \"6\", \"8\", \"10\", \"14\", \"22\", \"23\", \"25\", \"26\", \"27\", \"28\", \"29\", \"30\", \"31\", \"32\", \"33\", \"37\"], \"mode\": \"markers\", \"name\": \"f1_score_micro\", \"stepped\": false, \"type\": \"scatter\", \"data\": [0.7904059040590407, 0.6461436836590588, 0.7534372010386771, 0.5684023506901735, 0.6510181768484351, 0.7151519292970708, 0.7472370279258348, 0.6202496469409139, 0.6522345223452235, 0.7299986333196665, 0.6978862010842329, 0.6756822012664571, 0.6694911393558381, 0.472151610404993, 0.7238030158079359, 0.7398387317206505, 0.7459796820190423, 0.8138080269691587]}, {\"categories\": [\"0\", \"2\", \"6\", \"8\", \"10\", \"14\", \"22\", \"23\", \"25\", \"26\", \"27\", \"28\", \"29\", \"30\", \"31\", \"32\", \"33\", \"37\"], \"mode\": \"lines\", \"name\": \"f1_score_micro_max\", \"stepped\": true, \"type\": \"scatter\", \"data\": [0.7904059040590407, 0.7904059040590407, 0.7904059040590407, 0.7904059040590407, 0.7904059040590407, 0.7904059040590407, 0.7904059040590407, 0.7904059040590407, 0.7904059040590407, 0.7904059040590407, 0.7904059040590407, 0.7904059040590407, 0.7904059040590407, 0.7904059040590407, 0.7904059040590407, 0.7904059040590407, 0.7904059040590407, 0.8138080269691587]}], \"average_precision_score_macro\": [{\"categories\": [\"0\", \"2\", \"6\", \"8\", \"10\", \"14\", \"22\", \"23\", \"25\", \"26\", \"27\", \"28\", \"29\", \"30\", \"31\", \"32\", \"33\", \"37\"], \"mode\": \"markers\", \"name\": \"average_precision_score_macro\", \"stepped\": false, \"type\": \"scatter\", \"data\": [0.8613840037244228, 0.7314442250505468, 0.8267781565967248, 0.7011756585149418, 0.7404487910472466, 0.7824910824953233, 0.813136705858664, 0.720306882073752, 0.7411970158928676, 0.8248220697204623, 0.7895197840989924, 0.7519536675873013, 0.7642148481646861, 0.7926073061659645, 0.7972879184531152, 0.8278625381129247, 0.8179766690183485, 0.8695637640486011]}, {\"categories\": [\"0\", \"2\", \"6\", \"8\", \"10\", \"14\", \"22\", \"23\", \"25\", \"26\", \"27\", \"28\", \"29\", \"30\", \"31\", \"32\", \"33\", \"37\"], \"mode\": \"lines\", \"name\": \"average_precision_score_macro_max\", \"stepped\": true, \"type\": \"scatter\", \"data\": [0.8613840037244228, 0.8613840037244228, 0.8613840037244228, 0.8613840037244228, 0.8613840037244228, 0.8613840037244228, 0.8613840037244228, 0.8613840037244228, 0.8613840037244228, 0.8613840037244228, 0.8613840037244228, 0.8613840037244228, 0.8613840037244228, 0.8613840037244228, 0.8613840037244228, 0.8613840037244228, 0.8613840037244228, 0.8695637640486011]}], \"average_precision_score_micro\": [{\"categories\": [\"0\", \"2\", \"6\", \"8\", \"10\", \"14\", \"22\", \"23\", \"25\", \"26\", \"27\", \"28\", \"29\", \"30\", \"31\", \"32\", \"33\", \"37\"], \"mode\": \"markers\", \"name\": \"average_precision_score_micro\", \"stepped\": false, \"type\": \"scatter\", \"data\": [0.868880997452989, 0.7402826723524596, 0.8332792939178749, 0.6722148605807113, 0.7578378199903736, 0.7863686722235479, 0.8228831226961407, 0.7273885174158113, 0.7349766335175065, 0.8293339625980137, 0.7967800570422469, 0.7605923951425927, 0.7695659160075435, 0.6142955771866233, 0.8073452346152484, 0.8336603890151274, 0.8282485628757446, 0.8759019478597893]}, {\"categories\": [\"0\", \"2\", \"6\", \"8\", \"10\", \"14\", \"22\", \"23\", \"25\", \"26\", \"27\", \"28\", \"29\", \"30\", \"31\", \"32\", \"33\", \"37\"], \"mode\": \"lines\", \"name\": \"average_precision_score_micro_max\", \"stepped\": true, \"type\": \"scatter\", \"data\": [0.868880997452989, 0.868880997452989, 0.868880997452989, 0.868880997452989, 0.868880997452989, 0.868880997452989, 0.868880997452989, 0.868880997452989, 0.868880997452989, 0.868880997452989, 0.868880997452989, 0.868880997452989, 0.868880997452989, 0.868880997452989, 0.868880997452989, 0.868880997452989, 0.868880997452989, 0.8759019478597893]}], \"f1_score_weighted\": [{\"categories\": [\"0\", \"2\", \"6\", \"8\", \"10\", \"14\", \"22\", \"23\", \"25\", \"26\", \"27\", \"28\", \"29\", \"30\", \"31\", \"32\", \"33\", \"37\"], \"mode\": \"markers\", \"name\": \"f1_score_weighted\", \"stepped\": false, \"type\": \"scatter\", \"data\": [0.7909035213516503, 0.6309696897076452, 0.751717842533227, 0.5168433045582734, 0.6087511298281516, 0.7041746993375139, 0.7437489724876366, 0.6136519504271248, 0.5965966635787107, 0.7230197041489678, 0.6785244355346234, 0.6270355050366385, 0.6331404587229835, 0.3619449756329017, 0.716796716121566, 0.734878203994923, 0.7433909254643929, 0.8138227984314957]}, {\"categories\": [\"0\", \"2\", \"6\", \"8\", \"10\", \"14\", \"22\", \"23\", \"25\", \"26\", \"27\", \"28\", \"29\", \"30\", \"31\", \"32\", \"33\", \"37\"], \"mode\": \"lines\", \"name\": \"f1_score_weighted_max\", \"stepped\": true, \"type\": \"scatter\", \"data\": [0.7909035213516503, 0.7909035213516503, 0.7909035213516503, 0.7909035213516503, 0.7909035213516503, 0.7909035213516503, 0.7909035213516503, 0.7909035213516503, 0.7909035213516503, 0.7909035213516503, 0.7909035213516503, 0.7909035213516503, 0.7909035213516503, 0.7909035213516503, 0.7909035213516503, 0.7909035213516503, 0.7909035213516503, 0.8138227984314957]}], \"log_loss\": [{\"categories\": [\"0\", \"2\", \"6\", \"8\", \"10\", \"14\", \"22\", \"23\", \"25\", \"26\", \"27\", \"28\", \"29\", \"30\", \"31\", \"32\", \"33\", \"37\"], \"mode\": \"markers\", \"name\": \"log_loss\", \"stepped\": false, \"type\": \"scatter\", \"data\": [0.5240141777221834, 0.7908211811731948, 0.7773785392223439, 0.9316974842636071, 0.7457821577329727, 0.8096545616428784, 0.7588580062481833, 0.7867511133837599, 0.8042061689406483, 0.7788155403488487, 0.6549053596345581, 0.7710819431541373, 0.8324760859849872, 1.0057180757209183, 0.6401914014036089, 0.6539562348775828, 0.5947696396264484, 0.5920926405780245]}, {\"categories\": [\"0\", \"2\", \"6\", \"8\", \"10\", \"14\", \"22\", \"23\", \"25\", \"26\", \"27\", \"28\", \"29\", \"30\", \"31\", \"32\", \"33\", \"37\"], \"mode\": \"lines\", \"name\": \"log_loss_min\", \"stepped\": true, \"type\": \"scatter\", \"data\": [0.5240141777221834, 0.5240141777221834, 0.5240141777221834, 0.5240141777221834, 0.5240141777221834, 0.5240141777221834, 0.5240141777221834, 0.5240141777221834, 0.5240141777221834, 0.5240141777221834, 0.5240141777221834, 0.5240141777221834, 0.5240141777221834, 0.5240141777221834, 0.5240141777221834, 0.5240141777221834, 0.5240141777221834, 0.5240141777221834]}], \"f1_score_macro\": [{\"categories\": [\"0\", \"2\", \"6\", \"8\", \"10\", \"14\", \"22\", \"23\", \"25\", \"26\", \"27\", \"28\", \"29\", \"30\", \"31\", \"32\", \"33\", \"37\"], \"mode\": \"markers\", \"name\": \"f1_score_macro\", \"stepped\": false, \"type\": \"scatter\", \"data\": [0.793724004278921, 0.6358612931059747, 0.750992359801049, 0.5086905060439126, 0.6107309987352663, 0.7071057538657611, 0.7470506868657347, 0.6242615284010328, 0.6011833381287853, 0.7232745157859747, 0.6822049252505215, 0.630637515930374, 0.6381111818773859, 0.32335849026503033, 0.7208745499867311, 0.7394200887978881, 0.7461970032574438, 0.8147230406116305]}, {\"categories\": [\"0\", \"2\", \"6\", \"8\", \"10\", \"14\", \"22\", \"23\", \"25\", \"26\", \"27\", \"28\", \"29\", \"30\", \"31\", \"32\", \"33\", \"37\"], \"mode\": \"lines\", \"name\": \"f1_score_macro_max\", \"stepped\": true, \"type\": \"scatter\", \"data\": [0.793724004278921, 0.793724004278921, 0.793724004278921, 0.793724004278921, 0.793724004278921, 0.793724004278921, 0.793724004278921, 0.793724004278921, 0.793724004278921, 0.793724004278921, 0.793724004278921, 0.793724004278921, 0.793724004278921, 0.793724004278921, 0.793724004278921, 0.793724004278921, 0.793724004278921, 0.8147230406116305]}], \"balanced_accuracy\": [{\"categories\": [\"0\", \"2\", \"6\", \"8\", \"10\", \"14\", \"22\", \"23\", \"25\", \"26\", \"27\", \"28\", \"29\", \"30\", \"31\", \"32\", \"33\", \"37\"], \"mode\": \"markers\", \"name\": \"balanced_accuracy\", \"stepped\": false, \"type\": \"scatter\", \"data\": [0.791691461524143, 0.6499576726315625, 0.7495904606277245, 0.5247274406214307, 0.6369930928195019, 0.718803404512178, 0.7441341512382529, 0.6275203829667353, 0.64056725410724, 0.7277208597400856, 0.6979826554758075, 0.6673590374590552, 0.6594662348523962, 0.4001768377946631, 0.7280812691716575, 0.737300768128771, 0.7472429432444091, 0.8120463239568281]}, {\"categories\": [\"0\", \"2\", \"6\", \"8\", \"10\", \"14\", \"22\", \"23\", \"25\", \"26\", \"27\", \"28\", \"29\", \"30\", \"31\", \"32\", \"33\", \"37\"], \"mode\": \"lines\", \"name\": \"balanced_accuracy_max\", \"stepped\": true, \"type\": \"scatter\", \"data\": [0.791691461524143, 0.791691461524143, 0.791691461524143, 0.791691461524143, 0.791691461524143, 0.791691461524143, 0.791691461524143, 0.791691461524143, 0.791691461524143, 0.791691461524143, 0.791691461524143, 0.791691461524143, 0.791691461524143, 0.791691461524143, 0.791691461524143, 0.791691461524143, 0.791691461524143, 0.8120463239568281]}], \"precision_score_weighted\": [{\"categories\": [\"0\", \"2\", \"6\", \"8\", \"10\", \"14\", \"22\", \"23\", \"25\", \"26\", \"27\", \"28\", \"29\", \"30\", \"31\", \"32\", \"33\", \"37\"], \"mode\": \"markers\", \"name\": \"precision_score_weighted\", \"stepped\": false, \"type\": \"scatter\", \"data\": [0.7926323290228975, 0.6455165939520171, 0.7527943046787823, 0.6643944147789416, 0.6583072972061422, 0.7126142556345573, 0.7499387168749713, 0.6196114277228735, 0.7004972956742003, 0.7290836856856036, 0.6924962341699169, 0.6956416277234417, 0.6951497952111065, 0.5521978474408714, 0.7226307250052596, 0.7416489285905294, 0.7458419635924777, 0.8151707167804672]}, {\"categories\": [\"0\", \"2\", \"6\", \"8\", \"10\", \"14\", \"22\", \"23\", \"25\", \"26\", \"27\", \"28\", \"29\", \"30\", \"31\", \"32\", \"33\", \"37\"], \"mode\": \"lines\", \"name\": \"precision_score_weighted_max\", \"stepped\": true, \"type\": \"scatter\", \"data\": [0.7926323290228975, 0.7926323290228975, 0.7926323290228975, 0.7926323290228975, 0.7926323290228975, 0.7926323290228975, 0.7926323290228975, 0.7926323290228975, 0.7926323290228975, 0.7926323290228975, 0.7926323290228975, 0.7926323290228975, 0.7926323290228975, 0.7926323290228975, 0.7926323290228975, 0.7926323290228975, 0.7926323290228975, 0.8151707167804672]}], \"norm_macro_recall\": [{\"categories\": [\"0\", \"2\", \"6\", \"8\", \"10\", \"14\", \"22\", \"23\", \"25\", \"26\", \"27\", \"28\", \"29\", \"30\", \"31\", \"32\", \"33\", \"37\"], \"mode\": \"markers\", \"name\": \"norm_macro_recall\", \"stepped\": false, \"type\": \"scatter\", \"data\": [0.6875371922862145, 0.47493650894734357, 0.6243856909415868, 0.28709116093214604, 0.45548963922925284, 0.5782051067682669, 0.6162012268573792, 0.44128057445010294, 0.46085088116086, 0.5915812896101283, 0.5469739832137112, 0.501038556188583, 0.4891993522785942, 0.10026525669199475, 0.5921219037574862, 0.6059511521931565, 0.6208644148666135, 0.7180694859352421]}, {\"categories\": [\"0\", \"2\", \"6\", \"8\", \"10\", \"14\", \"22\", \"23\", \"25\", \"26\", \"27\", \"28\", \"29\", \"30\", \"31\", \"32\", \"33\", \"37\"], \"mode\": \"lines\", \"name\": \"norm_macro_recall_max\", \"stepped\": true, \"type\": \"scatter\", \"data\": [0.6875371922862145, 0.6875371922862145, 0.6875371922862145, 0.6875371922862145, 0.6875371922862145, 0.6875371922862145, 0.6875371922862145, 0.6875371922862145, 0.6875371922862145, 0.6875371922862145, 0.6875371922862145, 0.6875371922862145, 0.6875371922862145, 0.6875371922862145, 0.6875371922862145, 0.6875371922862145, 0.6875371922862145, 0.7180694859352421]}]}, \"metricName\": null, \"primaryMetricName\": \"accuracy\", \"showLegend\": false}, \"run_metrics\": [{\"name\": \"experiment_status\", \"run_id\": \"AutoML_252116ab-f119-48b2-84ff-8dbf083b8815\", \"categories\": [0, 1, 2, 3, 4, 5, 6, 7, 8, 9, 10, 11, 12, 13], \"series\": [{\"data\": [\"DatasetEvaluation\", \"FeaturesGeneration\", \"DatasetFeaturization\", \"DatasetFeaturizationCompleted\", \"DatasetCrossValidationSplit\", \"ModelSelection\", \"BestRunExplainModel\", \"ModelExplanationDataSetSetup\", \"PickSurrogateModel\", \"EngineeredFeatureExplanations\", \"EngineeredFeatureExplanations\", \"RawFeaturesExplanations\", \"RawFeaturesExplanations\", \"BestRunExplainModel\"]}]}, {\"name\": \"experiment_status_description\", \"run_id\": \"AutoML_252116ab-f119-48b2-84ff-8dbf083b8815\", \"categories\": [0, 1, 2, 3, 4, 5, 6, 7, 8, 9, 10, 11, 12, 13], \"series\": [{\"data\": [\"Gathering dataset statistics.\", \"Generating features for the dataset.\", \"Beginning to fit featurizers and featurize the dataset.\", \"Completed fit featurizers and featurizing the dataset.\", \"Generating individually featurized CV splits.\", \"Beginning model selection.\", \"Best run model explanations started\", \"Model explanations data setup completed\", \"Choosing LightGBM as the surrogate model for explanations\", \"Computation of engineered features started\", \"Computation of engineered features completed\", \"Computation of raw features started\", \"Computation of raw features completed\", \"Best run model explanations completed\"]}]}, {\"name\": \"log_loss\", \"run_id\": \"AutoML_252116ab-f119-48b2-84ff-8dbf083b8815\", \"categories\": [0], \"series\": [{\"data\": [0.5920926405780245]}]}, {\"name\": \"f1_score_macro\", \"run_id\": \"AutoML_252116ab-f119-48b2-84ff-8dbf083b8815\", \"categories\": [0], \"series\": [{\"data\": [0.8147230406116305]}]}, {\"name\": \"weighted_accuracy\", \"run_id\": \"AutoML_252116ab-f119-48b2-84ff-8dbf083b8815\", \"categories\": [0], \"series\": [{\"data\": [0.8165003331405929]}]}, {\"name\": \"precision_score_micro\", \"run_id\": \"AutoML_252116ab-f119-48b2-84ff-8dbf083b8815\", \"categories\": [0], \"series\": [{\"data\": [0.8138080269691587]}]}, {\"name\": \"balanced_accuracy\", \"run_id\": \"AutoML_252116ab-f119-48b2-84ff-8dbf083b8815\", \"categories\": [0], \"series\": [{\"data\": [0.8120463239568281]}]}, {\"name\": \"accuracy\", \"run_id\": \"AutoML_252116ab-f119-48b2-84ff-8dbf083b8815\", \"categories\": [0], \"series\": [{\"data\": [0.8138080269691587]}]}, {\"name\": \"norm_macro_recall\", \"run_id\": \"AutoML_252116ab-f119-48b2-84ff-8dbf083b8815\", \"categories\": [0], \"series\": [{\"data\": [0.7180694859352421]}]}, {\"name\": \"recall_score_weighted\", \"run_id\": \"AutoML_252116ab-f119-48b2-84ff-8dbf083b8815\", \"categories\": [0], \"series\": [{\"data\": [0.8138080269691587]}]}, {\"name\": \"average_precision_score_micro\", \"run_id\": \"AutoML_252116ab-f119-48b2-84ff-8dbf083b8815\", \"categories\": [0], \"series\": [{\"data\": [0.8759019478597893]}]}, {\"name\": \"matthews_correlation\", \"run_id\": \"AutoML_252116ab-f119-48b2-84ff-8dbf083b8815\", \"categories\": [0], \"series\": [{\"data\": [0.7143977473575015]}]}, {\"name\": \"f1_score_weighted\", \"run_id\": \"AutoML_252116ab-f119-48b2-84ff-8dbf083b8815\", \"categories\": [0], \"series\": [{\"data\": [0.8138227984314957]}]}, {\"name\": \"AUC_micro\", \"run_id\": \"AutoML_252116ab-f119-48b2-84ff-8dbf083b8815\", \"categories\": [0], \"series\": [{\"data\": [0.9302094026536062]}]}, {\"name\": \"f1_score_micro\", \"run_id\": \"AutoML_252116ab-f119-48b2-84ff-8dbf083b8815\", \"categories\": [0], \"series\": [{\"data\": [0.8138080269691587]}]}, {\"name\": \"AUC_macro\", \"run_id\": \"AutoML_252116ab-f119-48b2-84ff-8dbf083b8815\", \"categories\": [0], \"series\": [{\"data\": [0.9239007454557223]}]}, {\"name\": \"average_precision_score_weighted\", \"run_id\": \"AutoML_252116ab-f119-48b2-84ff-8dbf083b8815\", \"categories\": [0], \"series\": [{\"data\": [0.8671521063863196]}]}, {\"name\": \"recall_score_macro\", \"run_id\": \"AutoML_252116ab-f119-48b2-84ff-8dbf083b8815\", \"categories\": [0], \"series\": [{\"data\": [0.8120463239568281]}]}, {\"name\": \"precision_score_weighted\", \"run_id\": \"AutoML_252116ab-f119-48b2-84ff-8dbf083b8815\", \"categories\": [0], \"series\": [{\"data\": [0.8151707167804672]}]}, {\"name\": \"recall_score_micro\", \"run_id\": \"AutoML_252116ab-f119-48b2-84ff-8dbf083b8815\", \"categories\": [0], \"series\": [{\"data\": [0.8138080269691587]}]}, {\"name\": \"average_precision_score_macro\", \"run_id\": \"AutoML_252116ab-f119-48b2-84ff-8dbf083b8815\", \"categories\": [0], \"series\": [{\"data\": [0.8695637640486011]}]}, {\"name\": \"AUC_weighted\", \"run_id\": \"AutoML_252116ab-f119-48b2-84ff-8dbf083b8815\", \"categories\": [0], \"series\": [{\"data\": [0.9203427577704361]}]}, {\"name\": \"precision_score_macro\", \"run_id\": \"AutoML_252116ab-f119-48b2-84ff-8dbf083b8815\", \"categories\": [0], \"series\": [{\"data\": [0.818951613209946]}]}], \"run_logs\": \"\\nRun is completed.\", \"graph\": {}, \"widget_settings\": {\"childWidgetDisplay\": \"popup\", \"send_telemetry\": false, \"log_level\": \"INFO\", \"sdk_version\": \"1.38.0\"}, \"loading\": false}"
          },
          "metadata": {}
        }
      ],
      "execution_count": 12,
      "metadata": {
        "gather": {
          "logged": 1647465347994
        },
        "jupyter": {
          "outputs_hidden": false,
          "source_hidden": false
        },
        "nteract": {
          "transient": {
            "deleting": false
          }
        }
      }
    },
    {
      "cell_type": "code",
      "source": [
        "remote_run.wait_for_completion(show_output=True)"
      ],
      "outputs": [
        {
          "output_type": "display_data",
          "data": {
            "text/plain": "<IPython.core.display.HTML object>",
            "text/html": "<table style=\"width:100%\"><tr><th>Experiment</th><th>Id</th><th>Type</th><th>Status</th><th>Details Page</th><th>Docs Page</th></tr><tr><td>capstone-automl-experiment</td><td>AutoML_252116ab-f119-48b2-84ff-8dbf083b8815</td><td>automl</td><td>Completed</td><td><a href=\"https://ml.azure.com/runs/AutoML_252116ab-f119-48b2-84ff-8dbf083b8815?wsid=/subscriptions/5a4ab2ba-6c51-4805-8155-58759ad589d8/resourcegroups/aml-quickstarts-189146/workspaces/quick-starts-ws-189146&amp;tid=660b3398-b80e-49d2-bc5b-ac1dc93b5254\" target=\"_blank\" rel=\"noopener\">Link to Azure Machine Learning studio</a></td><td><a href=\"https://docs.microsoft.com/en-us/python/api/overview/azure/ml/intro?view=azure-ml-py\" target=\"_blank\" rel=\"noopener\">Link to Documentation</a></td></tr></table>"
          },
          "metadata": {}
        },
        {
          "output_type": "stream",
          "name": "stdout",
          "text": "\n\n********************************************************************************************\nDATA GUARDRAILS: \n\nTYPE:         Class balancing detection\nSTATUS:       PASSED\nDESCRIPTION:  Your inputs were analyzed, and all classes are balanced in your training data.\n              Learn more about imbalanced data: https://aka.ms/AutomatedMLImbalancedData\n\n********************************************************************************************\n\nTYPE:         Missing feature values imputation\nSTATUS:       DONE\nDESCRIPTION:  If the missing values are expected, let the run complete. Otherwise cancel the current run and use a script to customize the handling of missing feature values that may be more appropriate based on the data type and business requirement.\n              Learn more about missing value imputation: https://aka.ms/AutomatedMLFeaturization\nDETAILS:      \n+------------------------------+------------------------------+------------------------------+\n|Column name                   |Missing value count           |Imputation type               |\n+==============================+==============================+==============================+\n|BodyTemp                      |3                             |mean                          |\n+------------------------------+------------------------------+------------------------------+\n\n********************************************************************************************\n\nTYPE:         High cardinality feature detection\nSTATUS:       PASSED\nDESCRIPTION:  Your inputs were analyzed, and no high cardinality features were detected.\n              Learn more about high cardinality feature handling: https://aka.ms/AutomatedMLFeaturization\n\n********************************************************************************************\n\n********************************************************************************************\nITER: The iteration being evaluated.\nPIPELINE: A summary description of the pipeline being evaluated.\nDURATION: Time taken for the current iteration.\nMETRIC: The result of computing score on the fitted pipeline.\nBEST: The best observed score thus far.\n********************************************************************************************\n\n ITER   PIPELINE                                       DURATION            METRIC      BEST\n    0   MaxAbsScaler LightGBM                          0:00:11             0.7904    0.7904\n    1   MaxAbsScaler XGBoostClassifier                 0:00:09             0.7485    0.7904\n    2   MaxAbsScaler ExtremeRandomTrees                0:00:10             0.6461    0.7904\n    3   SparseNormalizer XGBoostClassifier             0:00:09             0.7411    0.7904\n    4   MaxAbsScaler LightGBM                          0:00:09             0.7040    0.7904\n    5   MaxAbsScaler LightGBM                          0:00:09             0.7065    0.7904\n    6   StandardScalerWrapper XGBoostClassifier        0:00:09             0.7534    0.7904\n    7   MaxAbsScaler LogisticRegression                0:00:09             0.6326    0.7904\n    8   StandardScalerWrapper ExtremeRandomTrees       0:00:09             0.5684    0.7904\n    9   StandardScalerWrapper XGBoostClassifier        0:00:09             0.7152    0.7904\n   10   SparseNormalizer LightGBM                      0:00:09             0.6510    0.7904\n   11   StandardScalerWrapper XGBoostClassifier        0:00:09             0.7583    0.7904\n   12   MaxAbsScaler LogisticRegression                0:00:09             0.6276    0.7904\n   13   MaxAbsScaler SGD                               0:00:09             0.6203    0.7904\n   14   StandardScalerWrapper XGBoostClassifier        0:00:09             0.7152    0.7904\n   15   SparseNormalizer RandomForest                  0:00:10             0.7374    0.7904\n   16   StandardScalerWrapper LogisticRegression       0:00:09             0.6338    0.7904\n   17   StandardScalerWrapper RandomForest             0:00:09             0.7053    0.7904\n   18   StandardScalerWrapper XGBoostClassifier        0:00:09             0.7830    0.7904\n   19   TruncatedSVDWrapper RandomForest               0:00:10             0.6733    0.7904\n   20   TruncatedSVDWrapper RandomForest               0:00:04             0.7719    0.7904\n   21   StandardScalerWrapper XGBoostClassifier        0:04:20             0.7719    0.7904\n   22   SparseNormalizer XGBoostClassifier             0:00:04             0.7472    0.7904\n   23   StandardScalerWrapper LogisticRegression       0:00:04             0.6202    0.7904\n   24   StandardScalerWrapper LightGBM                 0:00:04             0.6893    0.7904\n   25   StandardScalerWrapper RandomForest             0:00:04             0.6522    0.7904\n   26   SparseNormalizer XGBoostClassifier             0:00:04             0.7300    0.7904\n   27   StandardScalerWrapper RandomForest             0:00:04             0.6979    0.7904\n   28   StandardScalerWrapper RandomForest             0:00:04             0.6757    0.7904\n   29   SparseNormalizer XGBoostClassifier             0:00:04             0.6695    0.7904\n   30   TruncatedSVDWrapper LightGBM                   0:00:04             0.4722    0.7904\n   31   StandardScalerWrapper XGBoostClassifier        0:00:04             0.7238    0.7904\n   32   SparseNormalizer XGBoostClassifier             0:00:04             0.7398    0.7904\n   33   SparseNormalizer XGBoostClassifier             0:00:04             0.7460    0.7904\n   34                                                  0:00:00                nan    0.7904\n   35                                                  0:00:00                nan    0.7904\n   36                                                  0:00:00                nan    0.7904\n   37    VotingEnsemble                                0:00:04             0.8138    0.8138\n"
        },
        {
          "output_type": "execute_result",
          "execution_count": 13,
          "data": {
            "text/plain": "{'runId': 'AutoML_252116ab-f119-48b2-84ff-8dbf083b8815',\n 'target': 'automl-com-clst',\n 'status': 'Completed',\n 'startTimeUtc': '2022-03-16T20:53:07.630393Z',\n 'endTimeUtc': '2022-03-16T21:15:34.251314Z',\n 'services': {},\n 'warnings': [{'source': 'JasmineService',\n   'message': 'No scores improved over last 20 iterations, so experiment stopped early. This early stopping behavior can be disabled by setting enable_early_stopping = False in AutoMLConfig for notebook/python SDK runs.'}],\n 'properties': {'num_iterations': '1000',\n  'training_type': 'TrainFull',\n  'acquisition_function': 'EI',\n  'primary_metric': 'accuracy',\n  'train_split': '0',\n  'acquisition_parameter': '0',\n  'num_cross_validation': '3',\n  'target': 'automl-com-clst',\n  'AMLSettingsJsonString': '{\"path\":null,\"name\":\"capstone-automl-experiment\",\"subscription_id\":\"5a4ab2ba-6c51-4805-8155-58759ad589d8\",\"resource_group\":\"aml-quickstarts-189146\",\"workspace_name\":\"quick-starts-ws-189146\",\"region\":\"southcentralus\",\"compute_target\":\"automl-com-clst\",\"spark_service\":null,\"azure_service\":\"remote\",\"many_models\":false,\"pipeline_fetch_max_batch_size\":1,\"enable_batch_run\":true,\"enable_run_restructure\":false,\"start_auxiliary_runs_before_parent_complete\":false,\"enable_code_generation\":false,\"iterations\":1000,\"primary_metric\":\"accuracy\",\"task_type\":\"classification\",\"positive_label\":null,\"data_script\":null,\"test_size\":0.0,\"test_include_predictions_only\":false,\"validation_size\":0.0,\"n_cross_validations\":3,\"y_min\":null,\"y_max\":null,\"num_classes\":null,\"featurization\":\"auto\",\"_ignore_package_version_incompatibilities\":false,\"is_timeseries\":false,\"max_cores_per_iteration\":1,\"max_concurrent_iterations\":5,\"iteration_timeout_minutes\":null,\"mem_in_mb\":null,\"enforce_time_on_windows\":false,\"experiment_timeout_minutes\":20,\"experiment_exit_score\":null,\"whitelist_models\":null,\"blacklist_algos\":[\"TensorFlowLinearClassifier\",\"TensorFlowDNN\"],\"supported_models\":[\"ExtremeRandomTrees\",\"KNN\",\"BernoulliNaiveBayes\",\"DecisionTree\",\"GradientBoosting\",\"LinearSVM\",\"LightGBM\",\"RandomForest\",\"TensorFlowDNN\",\"XGBoostClassifier\",\"MultinomialNaiveBayes\",\"TabnetClassifier\",\"TensorFlowLinearClassifier\",\"AveragedPerceptronClassifier\",\"SVM\",\"SGD\",\"LogisticRegression\"],\"private_models\":[],\"auto_blacklist\":true,\"blacklist_samples_reached\":false,\"exclude_nan_labels\":true,\"verbosity\":20,\"_debug_log\":\"azureml_automl.log\",\"show_warnings\":false,\"model_explainability\":true,\"service_url\":null,\"sdk_url\":null,\"sdk_packages\":null,\"enable_onnx_compatible_models\":true,\"enable_split_onnx_featurizer_estimator_models\":false,\"vm_type\":\"STANDARD_D2_V2\",\"telemetry_verbosity\":20,\"send_telemetry\":true,\"enable_dnn\":false,\"scenario\":\"SDK-1.13.0\",\"environment_label\":null,\"save_mlflow\":false,\"enable_categorical_indicators\":false,\"force_text_dnn\":false,\"enable_feature_sweeping\":false,\"enable_early_stopping\":true,\"early_stopping_n_iters\":10,\"arguments\":null,\"dataset_id\":null,\"hyperdrive_config\":null,\"validation_dataset_id\":null,\"run_source\":null,\"metrics\":null,\"enable_metric_confidence\":false,\"enable_ensembling\":true,\"enable_stack_ensembling\":false,\"ensemble_iterations\":15,\"enable_tf\":false,\"enable_subsampling\":null,\"subsample_seed\":null,\"enable_nimbusml\":false,\"enable_streaming\":false,\"force_streaming\":false,\"track_child_runs\":true,\"allowed_private_models\":[],\"label_column_name\":\"RiskLevel\",\"weight_column_name\":null,\"cv_split_column_names\":null,\"enable_local_managed\":false,\"_local_managed_run_id\":null,\"cost_mode\":1,\"lag_length\":0,\"metric_operation\":\"maximize\",\"preprocess\":true}',\n  'DataPrepJsonString': '{\\\\\"training_data\\\\\": {\\\\\"datasetId\\\\\": \\\\\"5d9aa8af-c031-4227-89f6-6d4d15e623e3\\\\\"}, \\\\\"datasets\\\\\": 0}',\n  'EnableSubsampling': None,\n  'runTemplate': 'AutoML',\n  'azureml.runsource': 'automl',\n  'display_task_type': 'classification',\n  'dependencies_versions': '{\"azureml-widgets\": \"1.38.0\", \"azureml-train\": \"1.38.0\", \"azureml-train-restclients-hyperdrive\": \"1.38.0\", \"azureml-train-core\": \"1.38.0\", \"azureml-train-automl\": \"1.38.0\", \"azureml-train-automl-runtime\": \"1.38.0\", \"azureml-train-automl-client\": \"1.38.0\", \"azureml-tensorboard\": \"1.38.0\", \"azureml-telemetry\": \"1.38.0\", \"azureml-sdk\": \"1.38.0\", \"azureml-responsibleai\": \"1.38.0\", \"azureml-pipeline\": \"1.38.0\", \"azureml-pipeline-steps\": \"1.38.0\", \"azureml-pipeline-core\": \"1.38.0\", \"azureml-opendatasets\": \"1.38.0\", \"azureml-mlflow\": \"1.38.0\", \"azureml-interpret\": \"1.38.0\", \"azureml-inference-server-http\": \"0.4.2\", \"azureml-explain-model\": \"1.38.0\", \"azureml-defaults\": \"1.38.0\", \"azureml-dataset-runtime\": \"1.38.0\", \"azureml-dataprep\": \"2.26.0\", \"azureml-dataprep-rslex\": \"2.2.0\", \"azureml-dataprep-native\": \"38.0.0\", \"azureml-datadrift\": \"1.38.0\", \"azureml-core\": \"1.38.0\", \"azureml-contrib-services\": \"1.38.0\", \"azureml-contrib-server\": \"1.38.0\", \"azureml-contrib-reinforcementlearning\": \"1.38.0\", \"azureml-contrib-pipeline-steps\": \"1.38.0\", \"azureml-contrib-notebook\": \"1.38.0\", \"azureml-contrib-fairness\": \"1.38.0\", \"azureml-contrib-dataset\": \"1.38.0\", \"azureml-contrib-automl-pipeline-steps\": \"1.38.0\", \"azureml-cli-common\": \"1.38.0\", \"azureml-automl-runtime\": \"1.38.0\", \"azureml-automl-dnn-nlp\": \"1.38.0\", \"azureml-automl-core\": \"1.38.0\", \"azureml-accel-models\": \"1.38.0\"}',\n  '_aml_system_scenario_identification': 'Remote.Parent',\n  'ClientType': 'SDK',\n  'environment_cpu_name': 'AzureML-AutoML',\n  'environment_cpu_label': 'py36',\n  'environment_gpu_name': 'AzureML-AutoML-GPU',\n  'environment_gpu_label': 'py36',\n  'root_attribution': 'automl',\n  'attribution': 'AutoML',\n  'Orchestrator': 'AutoML',\n  'CancelUri': 'https://southcentralus.api.azureml.ms/jasmine/v1.0/subscriptions/5a4ab2ba-6c51-4805-8155-58759ad589d8/resourceGroups/aml-quickstarts-189146/providers/Microsoft.MachineLearningServices/workspaces/quick-starts-ws-189146/experimentids/6d0ceffb-423d-4074-a985-5ac0edae8edb/cancel/AutoML_252116ab-f119-48b2-84ff-8dbf083b8815',\n  'ClientSdkVersion': '1.38.0',\n  'snapshotId': '00000000-0000-0000-0000-000000000000',\n  'SetupRunId': 'AutoML_252116ab-f119-48b2-84ff-8dbf083b8815_setup',\n  'SetupRunContainerId': 'dcid.AutoML_252116ab-f119-48b2-84ff-8dbf083b8815_setup',\n  'FeaturizationRunJsonPath': 'featurizer_container.json',\n  'FeaturizationRunId': 'AutoML_252116ab-f119-48b2-84ff-8dbf083b8815_featurize',\n  'ProblemInfoJsonString': '{\"dataset_num_categorical\": 0, \"is_sparse\": true, \"subsampling\": false, \"has_extra_col\": true, \"dataset_classes\": 3, \"dataset_features\": 54, \"dataset_samples\": 811, \"single_frequency_class_detected\": false}',\n  'ModelExplainRunId': 'AutoML_252116ab-f119-48b2-84ff-8dbf083b8815_ModelExplain'},\n 'inputDatasets': [{'dataset': {'id': '5d9aa8af-c031-4227-89f6-6d4d15e623e3'}, 'consumptionDetails': {'type': 'RunInput', 'inputName': 'training_data', 'mechanism': 'Direct'}}],\n 'outputDatasets': [],\n 'logFiles': {},\n 'submittedBy': 'ODL_User 189146'}"
          },
          "metadata": {}
        }
      ],
      "execution_count": 13,
      "metadata": {
        "gather": {
          "logged": 1647465560269
        }
      }
    },
    {
      "cell_type": "markdown",
      "source": [
        "## Best Model\n",
        "\n",
        "TODO: In the cell below, get the best model from the automl experiments and display all the properties of the model.\n",
        "\n"
      ],
      "metadata": {}
    },
    {
      "cell_type": "code",
      "source": [
        "#import pickle\n",
        "#with open(best_model_output._path_on_datastore, \"rb\" ) as f:\n",
        "#    best_model = pickle.load(f)\n",
        "#best_model\n",
        "automl_best_run, automl_fitted_model = remote_run.get_output()\n",
        "print(\"===== AutoMl Best Run ========\")\n",
        "print(automl_best_run)\n",
        "print(\"\\n  ===== AutoMl Best Fitted Model ========\")\n",
        "print(automl_fitted_model)\n",
        "automl_best_run.get_tags()\n",
        "automl_best_run_metrics = automl_best_run.get_metrics()\n",
        "\n",
        "for metric_name in automl_best_run_metrics:\n",
        "    metric = automl_best_run_metrics[metric_name]\n",
        "    print(\"\\n\",metric_name, metric)\n",
        "    \n",
        "\n",
        "#automl_best_run, automl_fitted_model = remote_run.get_output()\n",
        "#print(hasattr(automl_fitted_model, 'steps'))\n",
        "#print(\"\\n\")\n",
        "#print(automl_best_run.get_metrics())\n",
        "#print(\"\\n\")\n",
        "#print(automl_best_run.get_tags())   "
      ],
      "outputs": [
        {
          "output_type": "stream",
          "name": "stdout",
          "text": "===== AutoMl Best Run ========\nRun(Experiment: capstone-automl-experiment,\nId: AutoML_252116ab-f119-48b2-84ff-8dbf083b8815_37,\nType: azureml.scriptrun,\nStatus: Completed)\n\n  ===== AutoMl Best Fitted Model ========\nPipeline(memory=None,\n         steps=[('datatransformer',\n                 DataTransformer(enable_dnn=False, enable_feature_sweeping=False, feature_sweeping_config={}, feature_sweeping_timeout=86400, featurization_config=None, force_text_dnn=False, is_cross_validation=True, is_onnx_compatible=True, observer=None, task='classification', working_dir='/mnt/batch/tasks/shared/LS_root/mount...\n), random_state=0, reg_alpha=0, reg_lambda=0.10416666666666667, subsample=0.7, tree_method='auto'))], verbose=False)), ('32', Pipeline(memory=None, steps=[('sparsenormalizer', Normalizer(copy=True, norm='l1')), ('xgboostclassifier', XGBoostClassifier(booster='gbtree', colsample_bytree=0.8, eta=0.3, gamma=0, grow_policy='lossguide', max_bin=63, max_depth=7, max_leaves=0, n_estimators=25, n_jobs=1, objective='reg:logistic', problem_info=ProblemInfo(\n    gpu_training_param_dict={'processing_unit_type': 'cpu'}\n), random_state=0, reg_alpha=1.7708333333333335, reg_lambda=2.3958333333333335, subsample=0.9, tree_method='hist'))], verbose=False))], flatten_transform=None, weights=[0.2, 0.2, 0.1, 0.2, 0.1, 0.1, 0.1]))],\n         verbose=False)\nY_transformer(['LabelEncoder', LabelEncoder()])\n\n precision_score_macro 0.818951613209946\n\n recall_score_macro 0.8120463239568281\n\n recall_score_weighted 0.8138080269691587\n\n AUC_weighted 0.9203427577704361\n\n AUC_micro 0.9302094026536062\n\n norm_macro_recall 0.7180694859352421\n\n average_precision_score_weighted 0.8671521063863196\n\n AUC_macro 0.9239007454557223\n\n f1_score_micro 0.8138080269691587\n\n f1_score_weighted 0.8138227984314957\n\n matthews_correlation 0.7143977473575015\n\n accuracy 0.8138080269691587\n\n balanced_accuracy 0.8120463239568281\n\n weighted_accuracy 0.8165003331405929\n\n precision_score_micro 0.8138080269691587\n\n recall_score_micro 0.8138080269691587\n\n f1_score_macro 0.8147230406116305\n\n average_precision_score_macro 0.8695637640486011\n\n precision_score_weighted 0.8151707167804672\n\n average_precision_score_micro 0.8759019478597893\n\n log_loss 0.5920926405780245\n\n accuracy_table aml://artifactId/ExperimentRun/dcid.AutoML_252116ab-f119-48b2-84ff-8dbf083b8815_37/accuracy_table\n\n confusion_matrix aml://artifactId/ExperimentRun/dcid.AutoML_252116ab-f119-48b2-84ff-8dbf083b8815_37/confusion_matrix\n"
        }
      ],
      "execution_count": 14,
      "metadata": {
        "gather": {
          "logged": 1647465737229
        },
        "jupyter": {
          "outputs_hidden": false,
          "source_hidden": false
        },
        "nteract": {
          "transient": {
            "deleting": false
          }
        }
      }
    },
    {
      "cell_type": "code",
      "source": [
        "print(automl_fitted_model.steps)"
      ],
      "outputs": [
        {
          "output_type": "stream",
          "name": "stdout",
          "text": "[('datatransformer', DataTransformer(\n    task='classification',\n    is_onnx_compatible=True,\n    enable_feature_sweeping=False,\n    enable_dnn=False,\n    force_text_dnn=False,\n    feature_sweeping_timeout=86400,\n    featurization_config=None,\n    is_cross_validation=True,\n    feature_sweeping_config={}\n)), ('prefittedsoftvotingclassifier', PreFittedSoftVotingClassifier(\n    estimators=[('0', Pipeline(\n        memory=None,\n        steps=[('maxabsscaler', MaxAbsScaler(\n            copy=True\n        )), ('lightgbmclassifier', LightGBMClassifier(\n            min_data_in_leaf=20,\n            random_state=None,\n            n_jobs=1,\n            problem_info=ProblemInfo(\n                gpu_training_param_dict={'processing_unit_type': 'cpu'}\n            )\n        ))],\n        verbose=False\n    )), ('18', Pipeline(\n        memory=None,\n        steps=[('standardscalerwrapper', StandardScalerWrapper(\n            copy=True,\n            with_mean=False,\n            with_std=False\n        )), ('xgboostclassifier', XGBoostClassifier(\n            random_state=0,\n            n_jobs=1,\n            problem_info=ProblemInfo(\n                gpu_training_param_dict={'processing_unit_type': 'cpu'}\n            ),\n            booster='gbtree',\n            colsample_bytree=0.7,\n            eta=0.1,\n            gamma=0.1,\n            max_depth=9,\n            max_leaves=511,\n            n_estimators=25,\n            objective='reg:logistic',\n            reg_alpha=0,\n            reg_lambda=1.7708333333333335,\n            subsample=0.9,\n            tree_method='auto'\n        ))],\n        verbose=False\n    )), ('20', Pipeline(\n        memory=None,\n        steps=[('truncatedsvdwrapper', TruncatedSVDWrapper(\n            n_components=0.7026315789473684,\n            random_state=None\n        )), ('randomforestclassifier', RandomForestClassifier(\n            bootstrap=False,\n            ccp_alpha=0.0,\n            class_weight='balanced',\n            criterion='gini',\n            max_depth=None,\n            max_features='log2',\n            max_leaf_nodes=None,\n            max_samples=None,\n            min_impurity_decrease=0.0,\n            min_impurity_split=None,\n            min_samples_leaf=0.01,\n            min_samples_split=0.01,\n            min_weight_fraction_leaf=0.0,\n            n_estimators=200,\n            n_jobs=1,\n            oob_score=False,\n            random_state=None,\n            verbose=0,\n            warm_start=False\n        ))],\n        verbose=False\n    )), ('21', Pipeline(\n        memory=None,\n        steps=[('standardscalerwrapper', StandardScalerWrapper(\n            copy=True,\n            with_mean=False,\n            with_std=False\n        )), ('xgboostclassifier', XGBoostClassifier(\n            random_state=0,\n            n_jobs=1,\n            problem_info=ProblemInfo(\n                gpu_training_param_dict={'processing_unit_type': 'cpu'}\n            ),\n            booster='gbtree',\n            colsample_bytree=0.5,\n            eta=0.2,\n            gamma=0,\n            max_depth=7,\n            max_leaves=7,\n            n_estimators=25,\n            objective='reg:logistic',\n            reg_alpha=0,\n            reg_lambda=0.20833333333333334,\n            subsample=1,\n            tree_method='auto'\n        ))],\n        verbose=False\n    )), ('11', Pipeline(\n        memory=None,\n        steps=[('standardscalerwrapper', StandardScalerWrapper(\n            copy=True,\n            with_mean=False,\n            with_std=False\n        )), ('xgboostclassifier', XGBoostClassifier(\n            random_state=0,\n            n_jobs=1,\n            problem_info=ProblemInfo(\n                gpu_training_param_dict={'processing_unit_type': 'cpu'}\n            ),\n            booster='gbtree',\n            colsample_bytree=0.6,\n            eta=0.3,\n            gamma=0,\n            max_depth=6,\n            max_leaves=0,\n            n_estimators=10,\n            objective='reg:logistic',\n            reg_alpha=0.3125,\n            reg_lambda=2.3958333333333335,\n            subsample=1,\n            tree_method='auto'\n        ))],\n        verbose=False\n    )), ('6', Pipeline(\n        memory=None,\n        steps=[('standardscalerwrapper', StandardScalerWrapper(\n            copy=True,\n            with_mean=False,\n            with_std=False\n        )), ('xgboostclassifier', XGBoostClassifier(\n            random_state=0,\n            n_jobs=1,\n            problem_info=ProblemInfo(\n                gpu_training_param_dict={'processing_unit_type': 'cpu'}\n            ),\n            booster='gbtree',\n            colsample_bytree=0.5,\n            eta=0.3,\n            gamma=0,\n            max_depth=10,\n            max_leaves=255,\n            n_estimators=10,\n            objective='reg:logistic',\n            reg_alpha=0,\n            reg_lambda=0.10416666666666667,\n            subsample=0.7,\n            tree_method='auto'\n        ))],\n        verbose=False\n    )), ('32', Pipeline(\n        memory=None,\n        steps=[('sparsenormalizer', Normalizer(\n            copy=True,\n            norm='l1'\n        )), ('xgboostclassifier', XGBoostClassifier(\n            random_state=0,\n            n_jobs=1,\n            problem_info=ProblemInfo(\n                gpu_training_param_dict={'processing_unit_type': 'cpu'}\n            ),\n            booster='gbtree',\n            colsample_bytree=0.8,\n            eta=0.3,\n            gamma=0,\n            grow_policy='lossguide',\n            max_bin=63,\n            max_depth=7,\n            max_leaves=0,\n            n_estimators=25,\n            objective='reg:logistic',\n            reg_alpha=1.7708333333333335,\n            reg_lambda=2.3958333333333335,\n            subsample=0.9,\n            tree_method='hist'\n        ))],\n        verbose=False\n    ))],\n    weights=[0.2, 0.2, 0.1, 0.2, 0.1, 0.1, 0.1],\n    flatten_transform=None,\n    classification_labels=array([0, 1, 2])\n))]\n"
        }
      ],
      "execution_count": 15,
      "metadata": {
        "gather": {
          "logged": 1647465737481
        }
      }
    },
    {
      "cell_type": "code",
      "source": [
        "#TODO: Save the best model using Onnx\n",
        "#from azureml.automl.runtime.onnx_convert import OnnxConverter\n",
        "\n",
        "#automl_best_run, automl_fitted_model = remote_run.get_output(return_onnx_model=True)\n",
        "\n",
        "#OnnxConverter.save_onnx_model(automl_fitted_model, './outputs/Automl_Onnex_Model.onnx')"
      ],
      "outputs": [],
      "execution_count": null,
      "metadata": {
        "gather": {
          "logged": 1598431426111
        },
        "jupyter": {
          "outputs_hidden": false,
          "source_hidden": false
        },
        "nteract": {
          "transient": {
            "deleting": false
          }
        }
      }
    },
    {
      "cell_type": "code",
      "source": [
        "\n",
        "#model = best_run.register_model(model_name='best_autoML_run', model_path='outputs/Automl_Model.joblib')"
      ],
      "outputs": [],
      "execution_count": null,
      "metadata": {}
    },
    {
      "cell_type": "markdown",
      "source": [
        "https://docs.microsoft.com/en-us/azure/machine-learning/how-to-deploy-and-where?tabs=python\n",
        "####  Workflow for deploying a model \n",
        "The workflow is similar no matter where you deploy your model:\n",
        "\n",
        "<li>Register the model.\n",
        "<li>Prepare an entry script.\n",
        "<li>Prepare an inference configuration.\n",
        "<li>Deploy the model locally to ensure everything works.\n",
        "<li>Choose a compute target.\n",
        "<li>Deploy the model to the cloud.\n",
        "<li>Test the resulting web service."
      ],
      "metadata": {}
    },
    {
      "cell_type": "markdown",
      "source": [
        "## Model Deployment\n",
        "\n",
        "Remember you have to deploy only one of the two models you trained but you still need to register both the models. Perform the steps in the rest of this notebook only if you wish to deploy this model.\n",
        "\n",
        "TODO: In the cell below, register the model, create an inference config and deploy the model as a web service."
      ],
      "metadata": {}
    },
    {
      "cell_type": "markdown",
      "source": [
        "##### Register Model"
      ],
      "metadata": {}
    },
    {
      "cell_type": "code",
      "source": [
        "from azureml.core import Model\n",
        "\n",
        "# Register model\n",
        "automl_best_run.register_model(model_path='outputs/Maternal_Health_Risk_AutoML_model.pkl', \n",
        "                               model_name='automl_Maternal_Health_Risk_model_pickled',\n",
        "                        tags={'Training context':'Maternal Health Risk Auto ML Model Trained'},\n",
        "                        properties={'AUC': automl_best_run_metrics['AUC_weighted'], \n",
        "                                    'Accuracy': automl_best_run_metrics['accuracy']})\n",
        "\n",
        "\n",
        "#automl_best_run.register_model( model_name='automl_Maternal_Health_Risk_model')\n",
        "                                                                                "
      ],
      "outputs": [
        {
          "output_type": "error",
          "ename": "ModelPathNotFoundException",
          "evalue": "ModelPathNotFoundException:\n\tMessage: Could not locate the provided model_path automl_Maternal_Health_Risk_model in the set of files uploaded to the run: ['accuracy_table', 'automl_driver.py', 'confusion_matrix', 'explanation/34a241da/classes.interpret.json', 'explanation/34a241da/expected_values.interpret.json', 'explanation/34a241da/features.interpret.json', 'explanation/34a241da/global_names/0.interpret.json', 'explanation/34a241da/global_rank/0.interpret.json', 'explanation/34a241da/global_values/0.interpret.json', 'explanation/34a241da/local_importance_values.interpret.json', 'explanation/34a241da/per_class_names/0.interpret.json', 'explanation/34a241da/per_class_rank/0.interpret.json', 'explanation/34a241da/per_class_values/0.interpret.json', 'explanation/34a241da/rich_metadata.interpret.json', 'explanation/34a241da/true_ys_viz.interpret.json', 'explanation/34a241da/visualization_dict.interpret.json', 'explanation/34a241da/ys_pred_proba_viz.interpret.json', 'explanation/34a241da/ys_pred_viz.interpret.json', 'explanation/f37a594c/classes.interpret.json', 'explanation/f37a594c/eval_data_viz.interpret.json', 'explanation/f37a594c/expected_values.interpret.json', 'explanation/f37a594c/features.interpret.json', 'explanation/f37a594c/global_names/0.interpret.json', 'explanation/f37a594c/global_rank/0.interpret.json', 'explanation/f37a594c/global_values/0.interpret.json', 'explanation/f37a594c/local_importance_values.interpret.json', 'explanation/f37a594c/per_class_names/0.interpret.json', 'explanation/f37a594c/per_class_rank/0.interpret.json', 'explanation/f37a594c/per_class_values/0.interpret.json', 'explanation/f37a594c/rich_metadata.interpret.json', 'explanation/f37a594c/true_ys_viz.interpret.json', 'explanation/f37a594c/visualization_dict.interpret.json', 'explanation/f37a594c/ys_pred_proba_viz.interpret.json', 'explanation/f37a594c/ys_pred_viz.interpret.json', 'logs/azureml/azureml_automl.log', 'outputs/conda_env_v_1_0_0.yml', 'outputs/engineered_feature_names.json', 'outputs/env_dependencies.json', 'outputs/featurization_summary.json', 'outputs/internal_cross_validated_models.pkl', 'outputs/model.onnx', 'outputs/model.pkl', 'outputs/model_onnx.json', 'outputs/pipeline_graph.json', 'outputs/scoring_file_v_1_0_0.py', 'outputs/scoring_file_v_2_0_0.py', 'system_logs/cs_capability/cs-capability.log', 'system_logs/hosttools_capability/hosttools-capability.log', 'system_logs/lifecycler/execution-wrapper.log', 'system_logs/lifecycler/lifecycler.log', 'system_logs/lifecycler/vm-bootstrapper.log', 'user_logs/std_log.txt']\n                See https://aka.ms/run-logging for more details.\n\tInnerException None\n\tErrorResponse \n{\n    \"error\": {\n        \"message\": \"Could not locate the provided model_path automl_Maternal_Health_Risk_model in the set of files uploaded to the run: ['accuracy_table', 'automl_driver.py', 'confusion_matrix', 'explanation/34a241da/classes.interpret.json', 'explanation/34a241da/expected_values.interpret.json', 'explanation/34a241da/features.interpret.json', 'explanation/34a241da/global_names/0.interpret.json', 'explanation/34a241da/global_rank/0.interpret.json', 'explanation/34a241da/global_values/0.interpret.json', 'explanation/34a241da/local_importance_values.interpret.json', 'explanation/34a241da/per_class_names/0.interpret.json', 'explanation/34a241da/per_class_rank/0.interpret.json', 'explanation/34a241da/per_class_values/0.interpret.json', 'explanation/34a241da/rich_metadata.interpret.json', 'explanation/34a241da/true_ys_viz.interpret.json', 'explanation/34a241da/visualization_dict.interpret.json', 'explanation/34a241da/ys_pred_proba_viz.interpret.json', 'explanation/34a241da/ys_pred_viz.interpret.json', 'explanation/f37a594c/classes.interpret.json', 'explanation/f37a594c/eval_data_viz.interpret.json', 'explanation/f37a594c/expected_values.interpret.json', 'explanation/f37a594c/features.interpret.json', 'explanation/f37a594c/global_names/0.interpret.json', 'explanation/f37a594c/global_rank/0.interpret.json', 'explanation/f37a594c/global_values/0.interpret.json', 'explanation/f37a594c/local_importance_values.interpret.json', 'explanation/f37a594c/per_class_names/0.interpret.json', 'explanation/f37a594c/per_class_rank/0.interpret.json', 'explanation/f37a594c/per_class_values/0.interpret.json', 'explanation/f37a594c/rich_metadata.interpret.json', 'explanation/f37a594c/true_ys_viz.interpret.json', 'explanation/f37a594c/visualization_dict.interpret.json', 'explanation/f37a594c/ys_pred_proba_viz.interpret.json', 'explanation/f37a594c/ys_pred_viz.interpret.json', 'logs/azureml/azureml_automl.log', 'outputs/conda_env_v_1_0_0.yml', 'outputs/engineered_feature_names.json', 'outputs/env_dependencies.json', 'outputs/featurization_summary.json', 'outputs/internal_cross_validated_models.pkl', 'outputs/model.onnx', 'outputs/model.pkl', 'outputs/model_onnx.json', 'outputs/pipeline_graph.json', 'outputs/scoring_file_v_1_0_0.py', 'outputs/scoring_file_v_2_0_0.py', 'system_logs/cs_capability/cs-capability.log', 'system_logs/hosttools_capability/hosttools-capability.log', 'system_logs/lifecycler/execution-wrapper.log', 'system_logs/lifecycler/lifecycler.log', 'system_logs/lifecycler/vm-bootstrapper.log', 'user_logs/std_log.txt']\\n                See https://aka.ms/run-logging for more details.\"\n    }\n}",
          "traceback": [
            "\u001b[0;31m---------------------------------------------------------------------------\u001b[0m",
            "\u001b[0;31mModelPathNotFoundException\u001b[0m                Traceback (most recent call last)",
            "\u001b[0;32m<ipython-input-25-2dd6cfe30f68>\u001b[0m in \u001b[0;36m<module>\u001b[0;34m\u001b[0m\n\u001b[1;32m      9\u001b[0m \u001b[0;34m\u001b[0m\u001b[0m\n\u001b[1;32m     10\u001b[0m \u001b[0;34m\u001b[0m\u001b[0m\n\u001b[0;32m---> 11\u001b[0;31m \u001b[0mautoml_best_run\u001b[0m\u001b[0;34m.\u001b[0m\u001b[0mregister_model\u001b[0m\u001b[0;34m(\u001b[0m \u001b[0mmodel_name\u001b[0m\u001b[0;34m=\u001b[0m\u001b[0;34m'automl_Maternal_Health_Risk_model'\u001b[0m\u001b[0;34m)\u001b[0m\u001b[0;34m\u001b[0m\u001b[0;34m\u001b[0m\u001b[0m\n\u001b[0m\u001b[1;32m     12\u001b[0m \u001b[0;34m\u001b[0m\u001b[0m\n",
            "\u001b[0;32m/anaconda/envs/azureml_py36/lib/python3.6/site-packages/azureml/core/run.py\u001b[0m in \u001b[0;36mregister_model\u001b[0;34m(self, model_name, model_path, tags, properties, model_framework, model_framework_version, description, datasets, sample_input_dataset, sample_output_dataset, resource_configuration, **kwargs)\u001b[0m\n\u001b[1;32m   2254\u001b[0m             \u001b[0mmodel_name\u001b[0m\u001b[0;34m,\u001b[0m \u001b[0mmodel_path\u001b[0m\u001b[0;34m,\u001b[0m \u001b[0mtags\u001b[0m\u001b[0;34m,\u001b[0m \u001b[0mproperties\u001b[0m\u001b[0;34m,\u001b[0m \u001b[0mmodel_framework\u001b[0m\u001b[0;34m,\u001b[0m \u001b[0mmodel_framework_version\u001b[0m\u001b[0;34m,\u001b[0m\u001b[0;34m\u001b[0m\u001b[0;34m\u001b[0m\u001b[0m\n\u001b[1;32m   2255\u001b[0m             \u001b[0mdescription\u001b[0m\u001b[0;34m=\u001b[0m\u001b[0mdescription\u001b[0m\u001b[0;34m,\u001b[0m \u001b[0mdatasets\u001b[0m\u001b[0;34m=\u001b[0m\u001b[0mdatasets\u001b[0m\u001b[0;34m,\u001b[0m \u001b[0munpack\u001b[0m\u001b[0;34m=\u001b[0m\u001b[0;32mFalse\u001b[0m\u001b[0;34m,\u001b[0m \u001b[0msample_input_dataset\u001b[0m\u001b[0;34m=\u001b[0m\u001b[0msample_input_dataset\u001b[0m\u001b[0;34m,\u001b[0m\u001b[0;34m\u001b[0m\u001b[0;34m\u001b[0m\u001b[0m\n\u001b[0;32m-> 2256\u001b[0;31m             sample_output_dataset=sample_output_dataset, resource_configuration=resource_configuration, **kwargs)\n\u001b[0m\u001b[1;32m   2257\u001b[0m \u001b[0;34m\u001b[0m\u001b[0m\n\u001b[1;32m   2258\u001b[0m     \u001b[0;32mdef\u001b[0m \u001b[0m_update_dataset_lineage\u001b[0m\u001b[0;34m(\u001b[0m\u001b[0mself\u001b[0m\u001b[0;34m,\u001b[0m \u001b[0mdatasets\u001b[0m\u001b[0;34m)\u001b[0m\u001b[0;34m:\u001b[0m\u001b[0;34m\u001b[0m\u001b[0;34m\u001b[0m\u001b[0m\n",
            "\u001b[0;32m/anaconda/envs/azureml_py36/lib/python3.6/site-packages/azureml/_run_impl/run_history_facade.py\u001b[0m in \u001b[0;36mregister_model\u001b[0;34m(self, model_name, model_path, tags, properties, model_framework, model_framework_version, asset_id, sample_input_dataset, sample_output_dataset, resource_configuration, **kwargs)\u001b[0m\n\u001b[1;32m    469\u001b[0m             raise ModelPathNotFoundException(\n\u001b[1;32m    470\u001b[0m                 \"\"\"Could not locate the provided model_path {} in the set of files uploaded to the run: {}\n\u001b[0;32m--> 471\u001b[0;31m                 See https://aka.ms/run-logging for more details.\"\"\".format(model_path, str(run_files)))\n\u001b[0m\u001b[1;32m    472\u001b[0m         \u001b[0martifacts\u001b[0m \u001b[0;34m=\u001b[0m \u001b[0;34m[\u001b[0m\u001b[0;34m{\u001b[0m\u001b[0;34m\"prefix\"\u001b[0m\u001b[0;34m:\u001b[0m \u001b[0martifact_prefix_id\u001b[0m\u001b[0;34m}\u001b[0m\u001b[0;34m]\u001b[0m\u001b[0;34m\u001b[0m\u001b[0;34m\u001b[0m\u001b[0m\n\u001b[1;32m    473\u001b[0m         \u001b[0mmetadata_dict\u001b[0m \u001b[0;34m=\u001b[0m \u001b[0;32mNone\u001b[0m\u001b[0;34m\u001b[0m\u001b[0;34m\u001b[0m\u001b[0m\n",
            "\u001b[0;31mModelPathNotFoundException\u001b[0m: ModelPathNotFoundException:\n\tMessage: Could not locate the provided model_path automl_Maternal_Health_Risk_model in the set of files uploaded to the run: ['accuracy_table', 'automl_driver.py', 'confusion_matrix', 'explanation/34a241da/classes.interpret.json', 'explanation/34a241da/expected_values.interpret.json', 'explanation/34a241da/features.interpret.json', 'explanation/34a241da/global_names/0.interpret.json', 'explanation/34a241da/global_rank/0.interpret.json', 'explanation/34a241da/global_values/0.interpret.json', 'explanation/34a241da/local_importance_values.interpret.json', 'explanation/34a241da/per_class_names/0.interpret.json', 'explanation/34a241da/per_class_rank/0.interpret.json', 'explanation/34a241da/per_class_values/0.interpret.json', 'explanation/34a241da/rich_metadata.interpret.json', 'explanation/34a241da/true_ys_viz.interpret.json', 'explanation/34a241da/visualization_dict.interpret.json', 'explanation/34a241da/ys_pred_proba_viz.interpret.json', 'explanation/34a241da/ys_pred_viz.interpret.json', 'explanation/f37a594c/classes.interpret.json', 'explanation/f37a594c/eval_data_viz.interpret.json', 'explanation/f37a594c/expected_values.interpret.json', 'explanation/f37a594c/features.interpret.json', 'explanation/f37a594c/global_names/0.interpret.json', 'explanation/f37a594c/global_rank/0.interpret.json', 'explanation/f37a594c/global_values/0.interpret.json', 'explanation/f37a594c/local_importance_values.interpret.json', 'explanation/f37a594c/per_class_names/0.interpret.json', 'explanation/f37a594c/per_class_rank/0.interpret.json', 'explanation/f37a594c/per_class_values/0.interpret.json', 'explanation/f37a594c/rich_metadata.interpret.json', 'explanation/f37a594c/true_ys_viz.interpret.json', 'explanation/f37a594c/visualization_dict.interpret.json', 'explanation/f37a594c/ys_pred_proba_viz.interpret.json', 'explanation/f37a594c/ys_pred_viz.interpret.json', 'logs/azureml/azureml_automl.log', 'outputs/conda_env_v_1_0_0.yml', 'outputs/engineered_feature_names.json', 'outputs/env_dependencies.json', 'outputs/featurization_summary.json', 'outputs/internal_cross_validated_models.pkl', 'outputs/model.onnx', 'outputs/model.pkl', 'outputs/model_onnx.json', 'outputs/pipeline_graph.json', 'outputs/scoring_file_v_1_0_0.py', 'outputs/scoring_file_v_2_0_0.py', 'system_logs/cs_capability/cs-capability.log', 'system_logs/hosttools_capability/hosttools-capability.log', 'system_logs/lifecycler/execution-wrapper.log', 'system_logs/lifecycler/lifecycler.log', 'system_logs/lifecycler/vm-bootstrapper.log', 'user_logs/std_log.txt']\n                See https://aka.ms/run-logging for more details.\n\tInnerException None\n\tErrorResponse \n{\n    \"error\": {\n        \"message\": \"Could not locate the provided model_path automl_Maternal_Health_Risk_model in the set of files uploaded to the run: ['accuracy_table', 'automl_driver.py', 'confusion_matrix', 'explanation/34a241da/classes.interpret.json', 'explanation/34a241da/expected_values.interpret.json', 'explanation/34a241da/features.interpret.json', 'explanation/34a241da/global_names/0.interpret.json', 'explanation/34a241da/global_rank/0.interpret.json', 'explanation/34a241da/global_values/0.interpret.json', 'explanation/34a241da/local_importance_values.interpret.json', 'explanation/34a241da/per_class_names/0.interpret.json', 'explanation/34a241da/per_class_rank/0.interpret.json', 'explanation/34a241da/per_class_values/0.interpret.json', 'explanation/34a241da/rich_metadata.interpret.json', 'explanation/34a241da/true_ys_viz.interpret.json', 'explanation/34a241da/visualization_dict.interpret.json', 'explanation/34a241da/ys_pred_proba_viz.interpret.json', 'explanation/34a241da/ys_pred_viz.interpret.json', 'explanation/f37a594c/classes.interpret.json', 'explanation/f37a594c/eval_data_viz.interpret.json', 'explanation/f37a594c/expected_values.interpret.json', 'explanation/f37a594c/features.interpret.json', 'explanation/f37a594c/global_names/0.interpret.json', 'explanation/f37a594c/global_rank/0.interpret.json', 'explanation/f37a594c/global_values/0.interpret.json', 'explanation/f37a594c/local_importance_values.interpret.json', 'explanation/f37a594c/per_class_names/0.interpret.json', 'explanation/f37a594c/per_class_rank/0.interpret.json', 'explanation/f37a594c/per_class_values/0.interpret.json', 'explanation/f37a594c/rich_metadata.interpret.json', 'explanation/f37a594c/true_ys_viz.interpret.json', 'explanation/f37a594c/visualization_dict.interpret.json', 'explanation/f37a594c/ys_pred_proba_viz.interpret.json', 'explanation/f37a594c/ys_pred_viz.interpret.json', 'logs/azureml/azureml_automl.log', 'outputs/conda_env_v_1_0_0.yml', 'outputs/engineered_feature_names.json', 'outputs/env_dependencies.json', 'outputs/featurization_summary.json', 'outputs/internal_cross_validated_models.pkl', 'outputs/model.onnx', 'outputs/model.pkl', 'outputs/model_onnx.json', 'outputs/pipeline_graph.json', 'outputs/scoring_file_v_1_0_0.py', 'outputs/scoring_file_v_2_0_0.py', 'system_logs/cs_capability/cs-capability.log', 'system_logs/hosttools_capability/hosttools-capability.log', 'system_logs/lifecycler/execution-wrapper.log', 'system_logs/lifecycler/lifecycler.log', 'system_logs/lifecycler/vm-bootstrapper.log', 'user_logs/std_log.txt']\\n                See https://aka.ms/run-logging for more details.\"\n    }\n}"
          ]
        }
      ],
      "execution_count": 25,
      "metadata": {}
    },
    {
      "cell_type": "markdown",
      "source": [
        "####  List the registered model"
      ],
      "metadata": {}
    },
    {
      "cell_type": "code",
      "source": [
        "for model in Model.list(ws):\n",
        "    print(model.name, 'version:', model.version)\n",
        "    for tag_name in model.tags:\n",
        "        tag = model.tags[tag_name]\n",
        "        print ('\\t',tag_name, ':', tag)\n",
        "    for prop_name in model.properties:\n",
        "        prop = model.properties[prop_name]\n",
        "        print ('\\t',prop_name, ':', prop)\n",
        "    print('\\n')"
      ],
      "outputs": [],
      "execution_count": null,
      "metadata": {}
    },
    {
      "cell_type": "markdown",
      "source": [
        "#### Prepare an inference configuration."
      ],
      "metadata": {}
    },
    {
      "cell_type": "code",
      "source": [
        "from azureml.automl.core.shared import constants\n",
        "automl_best_run.download_file(constants.CONDA_ENV_FILE_PATH, 'project_environment.yml')"
      ],
      "outputs": [],
      "execution_count": null,
      "metadata": {}
    },
    {
      "cell_type": "markdown",
      "source": [
        "#### Prepare an inference configuration using an entry script."
      ],
      "metadata": {}
    },
    {
      "cell_type": "code",
      "source": [
        "from azureml.core.model import InferenceConfig\n",
        "#from azureml.core.environment import Environment\n",
        "from azureml.core import Environment\n",
        "\n",
        "env = Environment(name=\"project_environment\")\n",
        "inference_config = InferenceConfig(entry_script=\"score.py\",environment=env)\n",
        "\n",
        "#inference_config = InferenceConfig(\n",
        "#    environment=env,\n",
        "#    source_directory=\"./source_dir\",\n",
        "#    entry_script=\"./echo_score.py\",\n",
        "#)"
      ],
      "outputs": [],
      "execution_count": null,
      "metadata": {}
    },
    {
      "cell_type": "markdown",
      "source": [
        "#### Deploy the model locally to ensure everything works. Will skip this part"
      ],
      "metadata": {}
    },
    {
      "cell_type": "code",
      "source": [
        "#from azureml.core.webservice import LocalWebservice\n",
        "#deployment_config = LocalWebservice.deploy_configuration(port=6789)\n",
        "##Deploy your machine learning model\n",
        "#service = Model.deploy(\n",
        "#    ws,\n",
        "#    \"myservice\",\n",
        "#    [model],\n",
        "#    dummy_inference_config,\n",
        "#    deployment_config,\n",
        "#    overwrite=True,\n",
        "#)\n",
        "#service.wait_for_deployment(show_output=True)\n",
        "#print(service.get_logs())"
      ],
      "outputs": [],
      "execution_count": 4,
      "metadata": {}
    },
    {
      "cell_type": "code",
      "source": [
        "from azureml.core.webservice import Webservice, AciWebservice\n",
        "deployment_config = AciWebservice.deploy_configuration(cpu_cores=1, memory_gb = 1)"
      ],
      "outputs": [],
      "execution_count": null,
      "metadata": {}
    },
    {
      "cell_type": "markdown",
      "source": [
        "TODO: In the cell below, send a request to the web service you deployed to test it."
      ],
      "metadata": {
        "collapsed": true,
        "gather": {
          "logged": 1598431657736
        },
        "jupyter": {
          "outputs_hidden": false,
          "source_hidden": false
        },
        "nteract": {
          "transient": {
            "deleting": false
          }
        }
      }
    },
    {
      "cell_type": "code",
      "source": [
        "\n",
        "service=Model.deploy(workspace=ws,\n",
        "                    name=\"Maternal-Health-Risk-deploy-service\",\n",
        "                    models=[model],\n",
        "                    inference_config=inference_config,\n",
        "                    deployment_config=deployment_config)\n",
        "\n",
        "service.wait_for_deployment(show_output=True)\n",
        "\n"
      ],
      "outputs": [],
      "execution_count": null,
      "metadata": {}
    },
    {
      "cell_type": "markdown",
      "source": [
        "TODO: In the cell below, print the logs of the web service and delete the service"
      ],
      "metadata": {
        "collapsed": true,
        "gather": {
          "logged": 1598432765711
        },
        "jupyter": {
          "outputs_hidden": false,
          "source_hidden": false
        },
        "nteract": {
          "transient": {
            "deleting": false
          }
        }
      }
    },
    {
      "cell_type": "code",
      "source": [
        "print(service.get_logs())\n",
        "\n",
        "service.delete()\n",
        "model.delete()"
      ],
      "outputs": [],
      "execution_count": null,
      "metadata": {
        "jupyter": {
          "outputs_hidden": false,
          "source_hidden": false
        },
        "nteract": {
          "transient": {
            "deleting": false
          }
        }
      }
    },
    {
      "cell_type": "code",
      "source": [
        "#Define a dummy entry script\n",
        "\n",
        "#The entry script receives data submitted to a deployed web service and passes it to the model.\n",
        "#It then returns the model's response to the client. The script is specific to your model. \n",
        "#The entry script must understand the data that the model expects and returns.\n",
        "\n",
        "#The two things you need to accomplish in your entry script are:\n",
        "\n",
        "#Loading your model (using a function called init())\n",
        "#Running your model on input data (using a function called run())\n",
        "#For your initial deployment, use a dummy entry script that prints the data it receives.\n",
        "\n",
        "\n",
        "import json\n",
        "\n",
        "\n",
        "def init():\n",
        "    print(\"This is init\")\n",
        "\n",
        "\n",
        "def run(data):\n",
        "    test = json.loads(data)\n",
        "    print(f\"received data {test}\")\n",
        "    return f\"test is {test}\"\n",
        "\n",
        "#Save this file as echo_score.py inside of a directory called source_dir. This dummy script returns the data you send to it, so it doesn't use the model. But it is useful for testing that the scoring script is running.\n",
        "\n",
        "#The following example demonstrates how to create a minimal environment with no pip dependencies,\n",
        "#using the dummy scoring script you defined above\n",
        "\n",
        "\n",
        "\n",
        "#The following Python demonstrates how to create a local deployment configuration:\n",
        "\n",
        "\n",
        "\n"
      ],
      "outputs": [],
      "execution_count": null,
      "metadata": {
        "gather": {
          "logged": 1598431435189
        },
        "jupyter": {
          "outputs_hidden": false,
          "source_hidden": false
        },
        "nteract": {
          "transient": {
            "deleting": false
          }
        }
      }
    },
    {
      "cell_type": "markdown",
      "source": [
        "**Submission Checklist**\n",
        "- I have registered the model.\n",
        "- I have deployed the model with the best accuracy as a webservice.\n",
        "- I have tested the webservice by sending a request to the model endpoint.\n",
        "- I have deleted the webservice and shutdown all the computes that I have used.\n",
        "- I have taken a screenshot showing the model endpoint as active.\n",
        "- The project includes a file containing the environment details.\n"
      ],
      "metadata": {}
    },
    {
      "cell_type": "markdown",
      "source": [],
      "metadata": {}
    }
  ],
  "metadata": {
    "kernel_info": {
      "name": "python3-azureml"
    },
    "kernelspec": {
      "name": "python3-azureml",
      "language": "python",
      "display_name": "Python 3.6 - AzureML"
    },
    "language_info": {
      "name": "python",
      "version": "3.6.9",
      "mimetype": "text/x-python",
      "codemirror_mode": {
        "name": "ipython",
        "version": 3
      },
      "pygments_lexer": "ipython3",
      "nbconvert_exporter": "python",
      "file_extension": ".py"
    },
    "nteract": {
      "version": "nteract-front-end@1.0.0"
    }
  },
  "nbformat": 4,
  "nbformat_minor": 2
}