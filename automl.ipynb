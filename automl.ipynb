{
 "cells": [
  {
   "cell_type": "markdown",
   "metadata": {},
   "source": [
    "# Automated ML\n",
    "\n",
    "TODO: Import Dependencies. In the cell below, import all the dependencies that you will need to complete the project."
   ]
  },
  {
   "cell_type": "code",
   "execution_count": 1,
   "metadata": {
    "gather": {
     "logged": 1647565721400
    },
    "jupyter": {
     "outputs_hidden": false,
     "source_hidden": false
    },
    "nteract": {
     "transient": {
      "deleting": false
     }
    }
   },
   "outputs": [
    {
     "name": "stdout",
     "output_type": "stream",
     "text": [
      "SDK version: 1.38.0\n"
     ]
    }
   ],
   "source": [
    "import logging\n",
    "import os\n",
    "import csv\n",
    "import joblib\n",
    "\n",
    "from matplotlib import pyplot as plt\n",
    "import numpy as np\n",
    "import pandas as pd\n",
    "from sklearn import datasets\n",
    "import pkg_resources\n",
    "\n",
    "import azureml.core\n",
    "from azureml.core.experiment import Experiment\n",
    "from azureml.core.workspace import Workspace\n",
    "from azureml.train.automl import AutoMLConfig\n",
    "from azureml.core.dataset import Dataset\n",
    "\n",
    "from azureml.pipeline.steps import AutoMLStep\n",
    "from azureml.widgets import RunDetails\n",
    "from azureml.core.webservice import LocalWebservice\n",
    "\n",
    "from azureml.core.compute import AmlCompute\n",
    "from azureml.core.compute import ComputeTarget\n",
    "from azureml.core.compute_target import ComputeTargetException\n",
    "\n",
    "import urllib.request\n",
    "from azureml.core.model import Model\n",
    "\n",
    "\n",
    "# Check core SDK version number\n",
    "print(\"SDK version:\", azureml.core.VERSION)"
   ]
  },
  {
   "cell_type": "markdown",
   "metadata": {},
   "source": [
    "## Dataset\n",
    "\n",
    "### Overview\n",
    "TODO: In this markdown cell, give an overview of the dataset you are using. Also mention the task you will be performing.\n",
    "\n",
    "\n",
    "TODO: Get data. In the cell below, write code to access the data you will be using in this project. Remember that the dataset needs to be external."
   ]
  },
  {
   "cell_type": "code",
   "execution_count": 2,
   "metadata": {
    "gather": {
     "logged": 1647565757631
    },
    "jupyter": {
     "outputs_hidden": false,
     "source_hidden": false
    },
    "nteract": {
     "transient": {
      "deleting": false
     }
    }
   },
   "outputs": [
    {
     "name": "stdout",
     "output_type": "stream",
     "text": [
      "quick-starts-ws-189567\n",
      "aml-quickstarts-189567\n",
      "southcentralus\n",
      "9b72f9e6-56c5-4c16-991b-19c652994860\n"
     ]
    }
   ],
   "source": [
    "ws = Workspace.from_config()\n",
    "\n",
    "# choose a name for experiment\n",
    "experiment_name = 'capstone-automl-experiment'\n",
    "\n",
    "experiment=Experiment(workspace=ws, name=experiment_name)\n",
    "\n",
    "print(ws.name, ws.resource_group, ws.location, ws.subscription_id, sep = '\\n')"
   ]
  },
  {
   "cell_type": "markdown",
   "metadata": {},
   "source": [
    "# Create or Attach an AmlCompute cluster"
   ]
  },
  {
   "cell_type": "code",
   "execution_count": 3,
   "metadata": {
    "gather": {
     "logged": 1647566388343
    }
   },
   "outputs": [
    {
     "name": "stdout",
     "output_type": "stream",
     "text": [
      "InProgress.\n",
      "SucceededProvisioning operation finished, operation \"Succeeded\"\n",
      "Succeeded......................................................................................................................\n",
      "AmlCompute wait for completion finished\n",
      "\n",
      "Wait timeout has been reached\n",
      "Current provisioning state of AmlCompute is \"Succeeded\" and current node count is \"0\"\n"
     ]
    }
   ],
   "source": [
    "# NOTE: update the cluster name to match the existing cluster\n",
    "# Choose a name for your CPU cluster\n",
    "amlcompute_cluster_name = \"automl-com-clst\" \n",
    "\n",
    "# Verify that cluster does not exist already\n",
    "try:\n",
    "    compute_target = ComputeTarget(workspace=ws, name=amlcompute_cluster_name)\n",
    "    print('Found existing cluster, use it.')\n",
    "except ComputeTargetException:\n",
    "    compute_config = AmlCompute.provisioning_configuration(vm_size='STANDARD_D2_V2', max_nodes=4)\n",
    "    compute_target = ComputeTarget.create(ws, amlcompute_cluster_name, compute_config)\n",
    "\n",
    "compute_target.wait_for_completion(show_output=True, min_node_count = 1, timeout_in_minutes = 10)\n",
    "# For a more detailed view of current AmlCompute status, use get_status()."
   ]
  },
  {
   "cell_type": "markdown",
   "metadata": {},
   "source": [
    "# Data"
   ]
  },
  {
   "cell_type": "code",
   "execution_count": 4,
   "metadata": {
    "gather": {
     "logged": 1647566452547
    }
   },
   "outputs": [
    {
     "data": {
      "text/html": [
       "<div>\n",
       "<style scoped>\n",
       "    .dataframe tbody tr th:only-of-type {\n",
       "        vertical-align: middle;\n",
       "    }\n",
       "\n",
       "    .dataframe tbody tr th {\n",
       "        vertical-align: top;\n",
       "    }\n",
       "\n",
       "    .dataframe thead th {\n",
       "        text-align: right;\n",
       "    }\n",
       "</style>\n",
       "<table border=\"1\" class=\"dataframe\">\n",
       "  <thead>\n",
       "    <tr style=\"text-align: right;\">\n",
       "      <th></th>\n",
       "      <th>Age</th>\n",
       "      <th>SystolicBP</th>\n",
       "      <th>DiastolicBP</th>\n",
       "      <th>BS</th>\n",
       "      <th>BodyTemp</th>\n",
       "      <th>HeartRate</th>\n",
       "    </tr>\n",
       "  </thead>\n",
       "  <tbody>\n",
       "    <tr>\n",
       "      <th>count</th>\n",
       "      <td>1014.000000</td>\n",
       "      <td>1014.000000</td>\n",
       "      <td>1014.000000</td>\n",
       "      <td>1014.000000</td>\n",
       "      <td>1011.000000</td>\n",
       "      <td>1014.000000</td>\n",
       "    </tr>\n",
       "    <tr>\n",
       "      <th>mean</th>\n",
       "      <td>29.871795</td>\n",
       "      <td>113.198225</td>\n",
       "      <td>76.460552</td>\n",
       "      <td>8.725986</td>\n",
       "      <td>98.665678</td>\n",
       "      <td>74.301775</td>\n",
       "    </tr>\n",
       "    <tr>\n",
       "      <th>std</th>\n",
       "      <td>13.474386</td>\n",
       "      <td>18.403913</td>\n",
       "      <td>13.885796</td>\n",
       "      <td>3.293532</td>\n",
       "      <td>1.373367</td>\n",
       "      <td>8.088702</td>\n",
       "    </tr>\n",
       "    <tr>\n",
       "      <th>min</th>\n",
       "      <td>10.000000</td>\n",
       "      <td>70.000000</td>\n",
       "      <td>49.000000</td>\n",
       "      <td>6.000000</td>\n",
       "      <td>98.000000</td>\n",
       "      <td>7.000000</td>\n",
       "    </tr>\n",
       "    <tr>\n",
       "      <th>25%</th>\n",
       "      <td>19.000000</td>\n",
       "      <td>100.000000</td>\n",
       "      <td>65.000000</td>\n",
       "      <td>6.900000</td>\n",
       "      <td>98.000000</td>\n",
       "      <td>70.000000</td>\n",
       "    </tr>\n",
       "    <tr>\n",
       "      <th>50%</th>\n",
       "      <td>26.000000</td>\n",
       "      <td>120.000000</td>\n",
       "      <td>80.000000</td>\n",
       "      <td>7.500000</td>\n",
       "      <td>98.000000</td>\n",
       "      <td>76.000000</td>\n",
       "    </tr>\n",
       "    <tr>\n",
       "      <th>75%</th>\n",
       "      <td>39.000000</td>\n",
       "      <td>120.000000</td>\n",
       "      <td>90.000000</td>\n",
       "      <td>8.000000</td>\n",
       "      <td>98.000000</td>\n",
       "      <td>80.000000</td>\n",
       "    </tr>\n",
       "    <tr>\n",
       "      <th>max</th>\n",
       "      <td>70.000000</td>\n",
       "      <td>160.000000</td>\n",
       "      <td>100.000000</td>\n",
       "      <td>19.000000</td>\n",
       "      <td>103.000000</td>\n",
       "      <td>90.000000</td>\n",
       "    </tr>\n",
       "  </tbody>\n",
       "</table>\n",
       "</div>"
      ],
      "text/plain": [
       "               Age   SystolicBP  DiastolicBP           BS     BodyTemp  \\\n",
       "count  1014.000000  1014.000000  1014.000000  1014.000000  1011.000000   \n",
       "mean     29.871795   113.198225    76.460552     8.725986    98.665678   \n",
       "std      13.474386    18.403913    13.885796     3.293532     1.373367   \n",
       "min      10.000000    70.000000    49.000000     6.000000    98.000000   \n",
       "25%      19.000000   100.000000    65.000000     6.900000    98.000000   \n",
       "50%      26.000000   120.000000    80.000000     7.500000    98.000000   \n",
       "75%      39.000000   120.000000    90.000000     8.000000    98.000000   \n",
       "max      70.000000   160.000000   100.000000    19.000000   103.000000   \n",
       "\n",
       "         HeartRate  \n",
       "count  1014.000000  \n",
       "mean     74.301775  \n",
       "std       8.088702  \n",
       "min       7.000000  \n",
       "25%      70.000000  \n",
       "50%      76.000000  \n",
       "75%      80.000000  \n",
       "max      90.000000  "
      ]
     },
     "execution_count": 4,
     "metadata": {},
     "output_type": "execute_result"
    }
   ],
   "source": [
    "# Try to load the dataset from the Workspace. Otherwise, create it from the file\n",
    "# NOTE: update the key to match the dataset name\n",
    "found = False\n",
    "key=\"Maternal_Health_Risk_Data_Set\" \n",
    "description_text = \"UCI machine Learning Maternal Health Risk Data Set\"\n",
    "\n",
    "if key in ws.datasets.keys(): \n",
    "        found = True\n",
    "        dataset = ws.datasets[key] \n",
    "#https://archive.ics.uci.edu/ml/machine-learning-databases/00639/Maternal%20Health%20Risk%20Data%20Set.csv\n",
    "\n",
    "if not found:\n",
    "        # Create AML Dataset and register it into Workspace\n",
    "        example_data = 'https://archive.ics.uci.edu/ml/machine-learning-databases/00639/Maternal%20Health%20Risk%20Data%20Set.csv'\n",
    "        dataset = Dataset.Tabular.from_delimited_files(example_data)        \n",
    "        #Register Dataset in Workspace\n",
    "        dataset = dataset.register(workspace=ws,\n",
    "                                   name=key,\n",
    "                                   description=description_text)\n",
    "\n",
    "\n",
    "df = dataset.to_pandas_dataframe()\n",
    "df.describe()"
   ]
  },
  {
   "cell_type": "markdown",
   "metadata": {},
   "source": [
    "# Review the Dataset Result"
   ]
  },
  {
   "cell_type": "code",
   "execution_count": 5,
   "metadata": {
    "gather": {
     "logged": 1647566464740
    }
   },
   "outputs": [
    {
     "data": {
      "text/html": [
       "<div>\n",
       "<style scoped>\n",
       "    .dataframe tbody tr th:only-of-type {\n",
       "        vertical-align: middle;\n",
       "    }\n",
       "\n",
       "    .dataframe tbody tr th {\n",
       "        vertical-align: top;\n",
       "    }\n",
       "\n",
       "    .dataframe thead th {\n",
       "        text-align: right;\n",
       "    }\n",
       "</style>\n",
       "<table border=\"1\" class=\"dataframe\">\n",
       "  <thead>\n",
       "    <tr style=\"text-align: right;\">\n",
       "      <th></th>\n",
       "      <th>Age</th>\n",
       "      <th>SystolicBP</th>\n",
       "      <th>DiastolicBP</th>\n",
       "      <th>BS</th>\n",
       "      <th>BodyTemp</th>\n",
       "      <th>HeartRate</th>\n",
       "      <th>RiskLevel</th>\n",
       "    </tr>\n",
       "  </thead>\n",
       "  <tbody>\n",
       "    <tr>\n",
       "      <th>0</th>\n",
       "      <td>25</td>\n",
       "      <td>130</td>\n",
       "      <td>80</td>\n",
       "      <td>15.0</td>\n",
       "      <td>98</td>\n",
       "      <td>86</td>\n",
       "      <td>high risk</td>\n",
       "    </tr>\n",
       "    <tr>\n",
       "      <th>1</th>\n",
       "      <td>35</td>\n",
       "      <td>140</td>\n",
       "      <td>90</td>\n",
       "      <td>13.0</td>\n",
       "      <td>98</td>\n",
       "      <td>70</td>\n",
       "      <td>high risk</td>\n",
       "    </tr>\n",
       "    <tr>\n",
       "      <th>2</th>\n",
       "      <td>29</td>\n",
       "      <td>90</td>\n",
       "      <td>70</td>\n",
       "      <td>8.0</td>\n",
       "      <td>100</td>\n",
       "      <td>80</td>\n",
       "      <td>high risk</td>\n",
       "    </tr>\n",
       "    <tr>\n",
       "      <th>3</th>\n",
       "      <td>30</td>\n",
       "      <td>140</td>\n",
       "      <td>85</td>\n",
       "      <td>7.0</td>\n",
       "      <td>98</td>\n",
       "      <td>70</td>\n",
       "      <td>high risk</td>\n",
       "    </tr>\n",
       "    <tr>\n",
       "      <th>4</th>\n",
       "      <td>35</td>\n",
       "      <td>120</td>\n",
       "      <td>60</td>\n",
       "      <td>6.1</td>\n",
       "      <td>98</td>\n",
       "      <td>76</td>\n",
       "      <td>low risk</td>\n",
       "    </tr>\n",
       "  </tbody>\n",
       "</table>\n",
       "</div>"
      ],
      "text/plain": [
       "   Age  SystolicBP  DiastolicBP    BS  BodyTemp  HeartRate  RiskLevel\n",
       "0   25         130           80  15.0        98         86  high risk\n",
       "1   35         140           90  13.0        98         70  high risk\n",
       "2   29          90           70   8.0       100         80  high risk\n",
       "3   30         140           85   7.0        98         70  high risk\n",
       "4   35         120           60   6.1        98         76   low risk"
      ]
     },
     "execution_count": 5,
     "metadata": {},
     "output_type": "execute_result"
    }
   ],
   "source": [
    "dataset.take(5).to_pandas_dataframe()"
   ]
  },
  {
   "cell_type": "code",
   "execution_count": 6,
   "metadata": {
    "gather": {
     "logged": 1647566481400
    }
   },
   "outputs": [
    {
     "name": "stderr",
     "output_type": "stream",
     "text": [
      "\"datastore.upload_files\" is deprecated after version 1.0.69. Please use \"FileDatasetFactory.upload_directory\" instead. See Dataset API change notice at https://aka.ms/dataset-deprecation.\n"
     ]
    },
    {
     "name": "stdout",
     "output_type": "stream",
     "text": [
      "Uploading an estimated of 1 files\n",
      "Uploading ./train.csv\n",
      "Uploaded ./train.csv, 1 files out of an estimated total of 1\n",
      "Uploaded 1 files\n"
     ]
    }
   ],
   "source": [
    "from sklearn.model_selection import train_test_split\n",
    "TRAIN_d, TEST_d = train_test_split(df, test_size=0.2, random_state=24, shuffle=True)\n",
    "TRAIN_d.to_csv('train.csv',index = False)\n",
    "\n",
    "ds_new = ws.get_default_datastore()\n",
    "ds_new.upload_files(files = ['./train.csv'])\n",
    "#ds_new.upload(src_dir='.',target_path='.')\n",
    "\n",
    "\n",
    "train_data = Dataset.Tabular.from_delimited_files(path=[(ds_new,('train.csv'))])\n"
   ]
  },
  {
   "cell_type": "markdown",
   "metadata": {},
   "source": [
    "## AutoML Configuration\n",
    "\n",
    "TODO: Explain why you chose the automl settings and cofiguration you used below."
   ]
  },
  {
   "cell_type": "markdown",
   "metadata": {},
   "source": [
    "# Train\n",
    "#### This creates a general AutoML settings object. Udacity notes: These inputs must match what was used when training in the portal. label_column_name has to be \"RiskLevel\" for example."
   ]
  },
  {
   "cell_type": "code",
   "execution_count": 7,
   "metadata": {
    "gather": {
     "logged": 1647566551982
    },
    "jupyter": {
     "outputs_hidden": false,
     "source_hidden": false
    },
    "nteract": {
     "transient": {
      "deleting": false
     }
    }
   },
   "outputs": [],
   "source": [
    "# Put your automl settings here\n",
    "automl_settings = {\n",
    "    \"experiment_timeout_minutes\": 20,\n",
    "    \"max_concurrent_iterations\": 5,\n",
    "    \"n_cross_validations\":3,\n",
    "    \"primary_metric\" : 'accuracy'\n",
    "}\n",
    "\n",
    "#  Put your automl config here\n",
    "\n",
    "automl_config = AutoMLConfig(compute_target=compute_target,\n",
    "                             task = \"classification\",\n",
    "                             training_data=train_data,\n",
    "                             label_column_name=\"RiskLevel\",   \n",
    "                             #path = project_folder,\n",
    "                             enable_early_stopping= True,\n",
    "                             featurization= 'auto',\n",
    "                             debug_log = \"automl_errors.log\",\n",
    "                             enable_onnx_compatible_models=True,\n",
    "                             **automl_settings\n",
    "                            )"
   ]
  },
  {
   "cell_type": "code",
   "execution_count": 8,
   "metadata": {
    "gather": {
     "logged": 1647567742320
    },
    "jupyter": {
     "outputs_hidden": false,
     "source_hidden": false
    },
    "nteract": {
     "transient": {
      "deleting": false
     }
    }
   },
   "outputs": [
    {
     "name": "stdout",
     "output_type": "stream",
     "text": [
      "Submitting remote run.\n",
      "No run_configuration provided, running on automl-com-clst with default configuration\n",
      "Running on remote compute: automl-com-clst\n"
     ]
    },
    {
     "data": {
      "text/html": [
       "<table style=\"width:100%\"><tr><th>Experiment</th><th>Id</th><th>Type</th><th>Status</th><th>Details Page</th><th>Docs Page</th></tr><tr><td>capstone-automl-experiment</td><td>AutoML_07214c7f-99c5-4c12-ad2c-b4e4c0414795</td><td>automl</td><td>NotStarted</td><td><a href=\"https://ml.azure.com/runs/AutoML_07214c7f-99c5-4c12-ad2c-b4e4c0414795?wsid=/subscriptions/9b72f9e6-56c5-4c16-991b-19c652994860/resourcegroups/aml-quickstarts-189567/workspaces/quick-starts-ws-189567&amp;tid=660b3398-b80e-49d2-bc5b-ac1dc93b5254\" target=\"_blank\" rel=\"noopener\">Link to Azure Machine Learning studio</a></td><td><a href=\"https://docs.microsoft.com/en-us/python/api/overview/azure/ml/intro?view=azure-ml-py\" target=\"_blank\" rel=\"noopener\">Link to Documentation</a></td></tr></table>"
      ],
      "text/plain": [
       "<IPython.core.display.HTML object>"
      ]
     },
     "metadata": {},
     "output_type": "display_data"
    },
    {
     "name": "stdout",
     "output_type": "stream",
     "text": [
      "\n",
      "Current status: FeaturesGeneration. Generating features for the dataset.\n",
      "Current status: DatasetCrossValidationSplit. Generating individually featurized CV splits.\n",
      "Current status: ModelSelection. Beginning model selection.\n",
      "\n",
      "********************************************************************************************\n",
      "DATA GUARDRAILS: \n",
      "\n",
      "TYPE:         Class balancing detection\n",
      "STATUS:       PASSED\n",
      "DESCRIPTION:  Your inputs were analyzed, and all classes are balanced in your training data.\n",
      "              Learn more about imbalanced data: https://aka.ms/AutomatedMLImbalancedData\n",
      "\n",
      "********************************************************************************************\n",
      "\n",
      "TYPE:         Missing feature values imputation\n",
      "STATUS:       DONE\n",
      "DESCRIPTION:  If the missing values are expected, let the run complete. Otherwise cancel the current run and use a script to customize the handling of missing feature values that may be more appropriate based on the data type and business requirement.\n",
      "              Learn more about missing value imputation: https://aka.ms/AutomatedMLFeaturization\n",
      "DETAILS:      \n",
      "+------------------------------+------------------------------+------------------------------+\n",
      "|Column name                   |Missing value count           |Imputation type               |\n",
      "+==============================+==============================+==============================+\n",
      "|BodyTemp                      |3                             |mean                          |\n",
      "+------------------------------+------------------------------+------------------------------+\n",
      "\n",
      "********************************************************************************************\n",
      "\n",
      "TYPE:         High cardinality feature detection\n",
      "STATUS:       PASSED\n",
      "DESCRIPTION:  Your inputs were analyzed, and no high cardinality features were detected.\n",
      "              Learn more about high cardinality feature handling: https://aka.ms/AutomatedMLFeaturization\n",
      "\n",
      "********************************************************************************************\n",
      "\n",
      "********************************************************************************************\n",
      "ITER: The iteration being evaluated.\n",
      "PIPELINE: A summary description of the pipeline being evaluated.\n",
      "DURATION: Time taken for the current iteration.\n",
      "METRIC: The result of computing score on the fitted pipeline.\n",
      "BEST: The best observed score thus far.\n",
      "********************************************************************************************\n",
      "\n",
      " ITER   PIPELINE                                       DURATION            METRIC      BEST\n",
      "    0   MaxAbsScaler LightGBM                          0:00:10             0.7904    0.7904\n",
      "    1   MaxAbsScaler XGBoostClassifier                 0:00:09             0.7485    0.7904\n",
      "    2   MaxAbsScaler ExtremeRandomTrees                0:00:09             0.6560    0.7904\n",
      "    3   SparseNormalizer XGBoostClassifier             0:00:08             0.7411    0.7904\n",
      "    4   MaxAbsScaler LightGBM                          0:00:09             0.7040    0.7904\n",
      "    5   MaxAbsScaler LightGBM                          0:00:08             0.7065    0.7904\n",
      "    6   StandardScalerWrapper XGBoostClassifier        0:00:08             0.7534    0.7904\n",
      "    7   MaxAbsScaler LogisticRegression                0:00:08             0.6326    0.7904\n",
      "    8   StandardScalerWrapper ExtremeRandomTrees       0:00:08             0.6202    0.7904\n",
      "    9   StandardScalerWrapper XGBoostClassifier        0:00:08             0.7152    0.7904\n",
      "   10   SparseNormalizer LightGBM                      0:00:09             0.6510    0.7904\n",
      "   11   StandardScalerWrapper XGBoostClassifier        0:00:08             0.7583    0.7904\n",
      "   12   MaxAbsScaler LogisticRegression                0:00:09             0.6276    0.7904\n",
      "   13   MaxAbsScaler SGD                               0:00:09             0.6215    0.7904\n",
      "   16   StandardScalerWrapper LogisticRegression       0:00:09             0.6338    0.7904\n",
      "   14   StandardScalerWrapper XGBoostClassifier        0:00:08             0.7152    0.7904\n",
      "   15   SparseNormalizer RandomForest                  0:00:10             0.7349    0.7904\n",
      "   17   StandardScalerWrapper RandomForest             0:00:09             0.6966    0.7904\n",
      "   18   StandardScalerWrapper XGBoostClassifier        0:00:09             0.7830    0.7904\n",
      "   19   TruncatedSVDWrapper RandomForest               0:00:10             0.6782    0.7904\n",
      "   21   StandardScalerWrapper XGBoostClassifier        0:00:04             0.7719    0.7904\n",
      "   20   TruncatedSVDWrapper RandomForest               0:00:04             0.7682    0.7904\n",
      "   22   SparseNormalizer XGBoostClassifier             0:00:04             0.7472    0.7904\n",
      "   23   MaxAbsScaler LightGBM                          0:00:04             0.6510    0.7904\n",
      "   24   StandardScalerWrapper LogisticRegression       0:00:04             0.6202    0.7904\n",
      "   25   StandardScalerWrapper RandomForest             0:00:04             0.6350    0.7904\n",
      "   26   SparseNormalizer XGBoostClassifier             0:00:04             0.7300    0.7904\n",
      "   27   StandardScalerWrapper XGBoostClassifier        0:00:04             0.7485    0.7904\n",
      "   28   StandardScalerWrapper LightGBM                 0:00:04             0.6338    0.7904\n",
      "   30   StandardScalerWrapper XGBoostClassifier        0:00:04             0.6892    0.7904\n",
      "   29   StandardScalerWrapper LightGBM                 0:00:04             0.5055    0.7904\n",
      "   31   SparseNormalizer XGBoostClassifier             0:00:04             0.7509    0.7904\n",
      "   32   MaxAbsScaler LightGBM                          0:00:04             0.6276    0.7904\n",
      "   33   TruncatedSVDWrapper XGBoostClassifier          0:00:04             0.7756    0.7904\n",
      "   34                                                  0:00:00                nan    0.7904\n",
      "   35                                                  0:00:00                nan    0.7904\n",
      "   36                                                  0:00:01                nan    0.7904\n",
      "   37                                                  0:00:01                nan    0.7904\n",
      "   38    VotingEnsemble                                0:00:04             0.8200    0.8200\n"
     ]
    }
   ],
   "source": [
    "# Submit your experiment\n",
    "#remote_run = experiment.submit(config= automl_config, show_output= True)\n",
    "remote_run = experiment.submit(config= automl_config)"
   ]
  },
  {
   "cell_type": "markdown",
   "metadata": {},
   "source": [
    "## Run Details\n",
    "\n",
    "OPTIONAL: Write about the different models trained and their performance. Why do you think some models did better than others?\n",
    "\n",
    "TODO: In the cell below, use the `RunDetails` widget to show the different experiments."
   ]
  },
  {
   "cell_type": "code",
   "execution_count": 9,
   "metadata": {
    "gather": {
     "logged": 1647567743030
    },
    "jupyter": {
     "outputs_hidden": false,
     "source_hidden": false
    },
    "nteract": {
     "transient": {
      "deleting": false
     }
    }
   },
   "outputs": [
    {
     "data": {
      "application/vnd.jupyter.widget-view+json": {
       "model_id": "27cb24f6646d469abe4d7b860c5b4767",
       "version_major": 2,
       "version_minor": 0
      },
      "text/plain": [
       "_AutoMLWidget(widget_settings={'childWidgetDisplay': 'popup', 'send_telemetry': False, 'log_level': 'INFO', 's…"
      ]
     },
     "metadata": {},
     "output_type": "display_data"
    },
    {
     "data": {
      "application/aml.mini.widget.v1": "{\"status\": \"Completed\", \"workbench_run_details_uri\": \"https://ml.azure.com/runs/AutoML_07214c7f-99c5-4c12-ad2c-b4e4c0414795?wsid=/subscriptions/9b72f9e6-56c5-4c16-991b-19c652994860/resourcegroups/aml-quickstarts-189567/workspaces/quick-starts-ws-189567&tid=660b3398-b80e-49d2-bc5b-ac1dc93b5254\", \"run_id\": \"AutoML_07214c7f-99c5-4c12-ad2c-b4e4c0414795\", \"run_properties\": {\"run_id\": \"AutoML_07214c7f-99c5-4c12-ad2c-b4e4c0414795\", \"created_utc\": \"2022-03-21T16:51:53.177076Z\", \"properties\": {\"num_iterations\": \"1000\", \"training_type\": \"TrainFull\", \"acquisition_function\": \"EI\", \"primary_metric\": \"accuracy\", \"train_split\": \"0\", \"acquisition_parameter\": \"0\", \"num_cross_validation\": \"3\", \"target\": \"automl-com-clst\", \"AMLSettingsJsonString\": \"{\\\"path\\\":null,\\\"name\\\":\\\"capstone-automl-experiment\\\",\\\"subscription_id\\\":\\\"9b72f9e6-56c5-4c16-991b-19c652994860\\\",\\\"resource_group\\\":\\\"aml-quickstarts-189567\\\",\\\"workspace_name\\\":\\\"quick-starts-ws-189567\\\",\\\"region\\\":\\\"southcentralus\\\",\\\"compute_target\\\":\\\"automl-com-clst\\\",\\\"spark_service\\\":null,\\\"azure_service\\\":\\\"remote\\\",\\\"many_models\\\":false,\\\"pipeline_fetch_max_batch_size\\\":1,\\\"enable_batch_run\\\":true,\\\"enable_run_restructure\\\":false,\\\"start_auxiliary_runs_before_parent_complete\\\":false,\\\"enable_code_generation\\\":false,\\\"iterations\\\":1000,\\\"primary_metric\\\":\\\"accuracy\\\",\\\"task_type\\\":\\\"classification\\\",\\\"positive_label\\\":null,\\\"data_script\\\":null,\\\"test_size\\\":0.0,\\\"test_include_predictions_only\\\":false,\\\"validation_size\\\":0.0,\\\"n_cross_validations\\\":3,\\\"y_min\\\":null,\\\"y_max\\\":null,\\\"num_classes\\\":null,\\\"featurization\\\":\\\"auto\\\",\\\"_ignore_package_version_incompatibilities\\\":false,\\\"is_timeseries\\\":false,\\\"max_cores_per_iteration\\\":1,\\\"max_concurrent_iterations\\\":5,\\\"iteration_timeout_minutes\\\":null,\\\"mem_in_mb\\\":null,\\\"enforce_time_on_windows\\\":false,\\\"experiment_timeout_minutes\\\":20,\\\"experiment_exit_score\\\":null,\\\"whitelist_models\\\":null,\\\"blacklist_algos\\\":[\\\"TensorFlowLinearClassifier\\\",\\\"TensorFlowDNN\\\"],\\\"supported_models\\\":[\\\"ExtremeRandomTrees\\\",\\\"MultinomialNaiveBayes\\\",\\\"XGBoostClassifier\\\",\\\"RandomForest\\\",\\\"AveragedPerceptronClassifier\\\",\\\"GradientBoosting\\\",\\\"TensorFlowDNN\\\",\\\"TabnetClassifier\\\",\\\"LightGBM\\\",\\\"SVM\\\",\\\"SGD\\\",\\\"BernoulliNaiveBayes\\\",\\\"LinearSVM\\\",\\\"KNN\\\",\\\"LogisticRegression\\\",\\\"TensorFlowLinearClassifier\\\",\\\"DecisionTree\\\"],\\\"private_models\\\":[],\\\"auto_blacklist\\\":true,\\\"blacklist_samples_reached\\\":false,\\\"exclude_nan_labels\\\":true,\\\"verbosity\\\":20,\\\"_debug_log\\\":\\\"azureml_automl.log\\\",\\\"show_warnings\\\":false,\\\"model_explainability\\\":true,\\\"service_url\\\":null,\\\"sdk_url\\\":null,\\\"sdk_packages\\\":null,\\\"enable_onnx_compatible_models\\\":true,\\\"enable_split_onnx_featurizer_estimator_models\\\":false,\\\"vm_type\\\":\\\"STANDARD_D2_V2\\\",\\\"telemetry_verbosity\\\":20,\\\"send_telemetry\\\":true,\\\"enable_dnn\\\":false,\\\"scenario\\\":\\\"SDK-1.13.0\\\",\\\"environment_label\\\":null,\\\"save_mlflow\\\":false,\\\"enable_categorical_indicators\\\":false,\\\"force_text_dnn\\\":false,\\\"enable_feature_sweeping\\\":false,\\\"enable_early_stopping\\\":true,\\\"early_stopping_n_iters\\\":10,\\\"arguments\\\":null,\\\"dataset_id\\\":null,\\\"hyperdrive_config\\\":null,\\\"validation_dataset_id\\\":null,\\\"run_source\\\":null,\\\"metrics\\\":null,\\\"enable_metric_confidence\\\":false,\\\"enable_ensembling\\\":true,\\\"enable_stack_ensembling\\\":false,\\\"ensemble_iterations\\\":15,\\\"enable_tf\\\":false,\\\"enable_subsampling\\\":null,\\\"subsample_seed\\\":null,\\\"enable_nimbusml\\\":false,\\\"enable_streaming\\\":false,\\\"force_streaming\\\":false,\\\"track_child_runs\\\":true,\\\"allowed_private_models\\\":[],\\\"label_column_name\\\":\\\"RiskLevel\\\",\\\"weight_column_name\\\":null,\\\"cv_split_column_names\\\":null,\\\"enable_local_managed\\\":false,\\\"_local_managed_run_id\\\":null,\\\"cost_mode\\\":1,\\\"lag_length\\\":0,\\\"metric_operation\\\":\\\"maximize\\\",\\\"preprocess\\\":true}\", \"DataPrepJsonString\": \"{\\\\\\\"training_data\\\\\\\": {\\\\\\\"datasetId\\\\\\\": \\\\\\\"d25c0e0f-a4f5-4ec4-952b-bed517311d7d\\\\\\\"}, \\\\\\\"datasets\\\\\\\": 0}\", \"EnableSubsampling\": null, \"runTemplate\": \"AutoML\", \"azureml.runsource\": \"automl\", \"display_task_type\": \"classification\", \"dependencies_versions\": \"{\\\"azureml-widgets\\\": \\\"1.38.0\\\", \\\"azureml-train\\\": \\\"1.38.0\\\", \\\"azureml-train-restclients-hyperdrive\\\": \\\"1.38.0\\\", \\\"azureml-train-core\\\": \\\"1.38.0\\\", \\\"azureml-train-automl\\\": \\\"1.38.0\\\", \\\"azureml-train-automl-runtime\\\": \\\"1.38.0\\\", \\\"azureml-train-automl-client\\\": \\\"1.38.0\\\", \\\"azureml-tensorboard\\\": \\\"1.38.0\\\", \\\"azureml-telemetry\\\": \\\"1.38.0\\\", \\\"azureml-sdk\\\": \\\"1.38.0\\\", \\\"azureml-responsibleai\\\": \\\"1.38.0\\\", \\\"azureml-pipeline\\\": \\\"1.38.0\\\", \\\"azureml-pipeline-steps\\\": \\\"1.38.0\\\", \\\"azureml-pipeline-core\\\": \\\"1.38.0\\\", \\\"azureml-opendatasets\\\": \\\"1.38.0\\\", \\\"azureml-mlflow\\\": \\\"1.38.0\\\", \\\"azureml-interpret\\\": \\\"1.38.0\\\", \\\"azureml-inference-server-http\\\": \\\"0.4.2\\\", \\\"azureml-explain-model\\\": \\\"1.38.0\\\", \\\"azureml-defaults\\\": \\\"1.38.0\\\", \\\"azureml-dataset-runtime\\\": \\\"1.38.0\\\", \\\"azureml-dataprep\\\": \\\"2.26.0\\\", \\\"azureml-dataprep-rslex\\\": \\\"2.2.0\\\", \\\"azureml-dataprep-native\\\": \\\"38.0.0\\\", \\\"azureml-datadrift\\\": \\\"1.38.0\\\", \\\"azureml-core\\\": \\\"1.38.0\\\", \\\"azureml-contrib-services\\\": \\\"1.38.0\\\", \\\"azureml-contrib-server\\\": \\\"1.38.0\\\", \\\"azureml-contrib-reinforcementlearning\\\": \\\"1.38.0\\\", \\\"azureml-contrib-pipeline-steps\\\": \\\"1.38.0\\\", \\\"azureml-contrib-notebook\\\": \\\"1.38.0\\\", \\\"azureml-contrib-fairness\\\": \\\"1.38.0\\\", \\\"azureml-contrib-dataset\\\": \\\"1.38.0\\\", \\\"azureml-contrib-automl-pipeline-steps\\\": \\\"1.38.0\\\", \\\"azureml-cli-common\\\": \\\"1.38.0\\\", \\\"azureml-automl-runtime\\\": \\\"1.38.0\\\", \\\"azureml-automl-dnn-nlp\\\": \\\"1.38.0\\\", \\\"azureml-automl-core\\\": \\\"1.38.0\\\", \\\"azureml-accel-models\\\": \\\"1.38.0\\\"}\", \"_aml_system_scenario_identification\": \"Remote.Parent\", \"ClientType\": \"SDK\", \"environment_cpu_name\": \"AzureML-AutoML\", \"environment_cpu_label\": \"py36\", \"environment_gpu_name\": \"AzureML-AutoML-GPU\", \"environment_gpu_label\": \"py36\", \"root_attribution\": \"automl\", \"attribution\": \"AutoML\", \"Orchestrator\": \"AutoML\", \"CancelUri\": \"https://southcentralus.api.azureml.ms/jasmine/v1.0/subscriptions/9b72f9e6-56c5-4c16-991b-19c652994860/resourceGroups/aml-quickstarts-189567/providers/Microsoft.MachineLearningServices/workspaces/quick-starts-ws-189567/experimentids/cb958562-f1e0-44fe-8f41-019c44789313/cancel/AutoML_07214c7f-99c5-4c12-ad2c-b4e4c0414795\", \"ClientSdkVersion\": \"1.38.0\", \"snapshotId\": \"00000000-0000-0000-0000-000000000000\", \"SetupRunId\": \"AutoML_07214c7f-99c5-4c12-ad2c-b4e4c0414795_setup\", \"SetupRunContainerId\": \"dcid.AutoML_07214c7f-99c5-4c12-ad2c-b4e4c0414795_setup\", \"FeaturizationRunJsonPath\": \"featurizer_container.json\", \"FeaturizationRunId\": \"AutoML_07214c7f-99c5-4c12-ad2c-b4e4c0414795_featurize\", \"ProblemInfoJsonString\": \"{\\\"dataset_num_categorical\\\": 0, \\\"is_sparse\\\": true, \\\"subsampling\\\": false, \\\"has_extra_col\\\": true, \\\"dataset_classes\\\": 3, \\\"dataset_features\\\": 54, \\\"dataset_samples\\\": 811, \\\"single_frequency_class_detected\\\": false}\", \"ModelExplainRunId\": \"AutoML_07214c7f-99c5-4c12-ad2c-b4e4c0414795_ModelExplain\"}, \"tags\": {\"model_explain_run\": \"best_run\", \"_aml_system_automl_run_workspace_id\": \"1cde9c38-a9d2-4993-ae5f-97a9b5921d7f\", \"_aml_system_azureml.automlComponent\": \"AutoML\", \"pipeline_id\": \"\", \"score\": \"\", \"predicted_cost\": \"\", \"fit_time\": \"\", \"training_percent\": \"\", \"iteration\": \"\", \"run_preprocessor\": \"\", \"run_algorithm\": \"\", \"dynamic_whitelisting_iterations\": \"<23>;<29>;<35>;\", \"_aml_system_azureml.automl_early_exit_message\": \"No scores improved over last 20 iterations, so experiment stopped early. This early stopping behavior can be disabled by setting enable_early_stopping = False in AutoMLConfig for notebook/python SDK runs.\", \"automl_best_child_run_id\": \"AutoML_07214c7f-99c5-4c12-ad2c-b4e4c0414795_38\", \"model_explain_best_run_child_id\": \"AutoML_07214c7f-99c5-4c12-ad2c-b4e4c0414795_38\"}, \"end_time_utc\": \"2022-03-21T17:23:05.305384Z\", \"status\": \"Completed\", \"log_files\": {}, \"log_groups\": [], \"run_duration\": \"0:31:12\", \"run_number\": \"1647881513\", \"run_queued_details\": {\"status\": \"Completed\", \"details\": null}}, \"child_runs\": [{\"run_id\": \"AutoML_07214c7f-99c5-4c12-ad2c-b4e4c0414795_setup\", \"run_number\": 1647881526, \"metric\": null, \"status\": \"Completed\", \"run_type\": \"azureml.scriptrun\", \"training_percent\": null, \"start_time\": \"2022-03-21T17:02:15.630286Z\", \"end_time\": \"2022-03-21T17:06:06.658988Z\", \"created_time\": \"2022-03-21T16:52:06.395791Z\", \"created_time_dt\": \"2022-03-21T16:52:06.395791Z\", \"duration\": \"0:14:00\", \"iteration\": null, \"goal\": null, \"run_name\": \"Completed\", \"run_properties\": null}, {\"run_id\": \"AutoML_07214c7f-99c5-4c12-ad2c-b4e4c0414795_featurize\", \"run_number\": 1647882367, \"metric\": null, \"status\": \"Completed\", \"run_type\": \"automl.featurization\", \"training_percent\": null, \"start_time\": \"2022-03-21T17:06:07.371148Z\", \"end_time\": \"2022-03-21T17:07:02.210534Z\", \"created_time\": \"2022-03-21T17:06:06.993443Z\", \"created_time_dt\": \"2022-03-21T17:06:06.993443Z\", \"duration\": \"0:00:55\", \"iteration\": null, \"goal\": null, \"run_name\": \"Completed\", \"run_properties\": null}, {\"run_id\": \"AutoML_07214c7f-99c5-4c12-ad2c-b4e4c0414795_0\", \"run_number\": 1647882423, \"metric\": null, \"status\": \"Completed\", \"run_type\": null, \"training_percent\": \"100\", \"start_time\": \"2022-03-21T17:07:19.673302Z\", \"end_time\": \"2022-03-21T17:07:30.019163Z\", \"created_time\": \"2022-03-21T17:07:03.404453Z\", \"created_time_dt\": \"2022-03-21T17:07:03.404453Z\", \"duration\": \"0:00:26\", \"iteration\": \"0\", \"goal\": \"accuracy_max\", \"run_name\": \"MaxAbsScaler, LightGBM\", \"run_properties\": \"copy=True\", \"primary_metric\": 0.7904059, \"best_metric\": 0.7904059}, {\"run_id\": \"AutoML_07214c7f-99c5-4c12-ad2c-b4e4c0414795_2\", \"run_number\": 1647882424, \"metric\": null, \"status\": \"Completed\", \"run_type\": null, \"training_percent\": \"100\", \"start_time\": \"2022-03-21T17:07:39.561988Z\", \"end_time\": \"2022-03-21T17:07:48.907595Z\", \"created_time\": \"2022-03-21T17:07:04.150158Z\", \"created_time_dt\": \"2022-03-21T17:07:04.150158Z\", \"duration\": \"0:00:44\", \"iteration\": \"2\", \"goal\": \"accuracy_max\", \"run_name\": \"MaxAbsScaler, ExtremeRandomTrees\", \"run_properties\": \"copy=True\", \"primary_metric\": 0.65601567, \"best_metric\": 0.7904059}, {\"run_id\": \"AutoML_07214c7f-99c5-4c12-ad2c-b4e4c0414795_5\", \"run_number\": 1647882425, \"metric\": null, \"status\": \"Completed\", \"run_type\": null, \"training_percent\": \"100\", \"start_time\": \"2022-03-21T17:08:26.319687Z\", \"end_time\": \"2022-03-21T17:08:34.656241Z\", \"created_time\": \"2022-03-21T17:07:05.388532Z\", \"created_time_dt\": \"2022-03-21T17:07:05.388532Z\", \"duration\": \"0:01:29\", \"iteration\": \"5\", \"goal\": \"accuracy_max\", \"run_name\": \"MaxAbsScaler, LightGBM\", \"run_properties\": \"copy=True\", \"primary_metric\": 0.70650995, \"best_metric\": 0.7904059}, {\"run_id\": \"AutoML_07214c7f-99c5-4c12-ad2c-b4e4c0414795_7\", \"run_number\": 1647882426, \"metric\": null, \"status\": \"Completed\", \"run_type\": null, \"training_percent\": \"100\", \"start_time\": \"2022-03-21T17:08:43.497054Z\", \"end_time\": \"2022-03-21T17:08:51.983343Z\", \"created_time\": \"2022-03-21T17:07:06.070694Z\", \"created_time_dt\": \"2022-03-21T17:07:06.070694Z\", \"duration\": \"0:01:45\", \"iteration\": \"7\", \"goal\": \"accuracy_max\", \"run_name\": \"MaxAbsScaler, LogisticRegression\", \"run_properties\": \"copy=True\", \"primary_metric\": 0.63259533, \"best_metric\": 0.7904059}, {\"run_id\": \"AutoML_07214c7f-99c5-4c12-ad2c-b4e4c0414795_worker_2\", \"run_number\": 1647882427, \"metric\": null, \"status\": \"Completed\", \"run_type\": \"azureml.scriptrun\", \"training_percent\": null, \"start_time\": \"2022-03-21T17:09:10.825883Z\", \"end_time\": \"2022-03-21T17:09:54.208304Z\", \"created_time\": \"2022-03-21T17:07:07.655512Z\", \"created_time_dt\": \"2022-03-21T17:07:07.655512Z\", \"duration\": \"0:02:46\", \"iteration\": null, \"goal\": null, \"run_name\": \"Completed\", \"run_properties\": null}, {\"run_id\": \"AutoML_07214c7f-99c5-4c12-ad2c-b4e4c0414795_13\", \"run_number\": 1647882428, \"metric\": null, \"status\": \"Completed\", \"run_type\": null, \"training_percent\": \"100\", \"start_time\": \"2022-03-21T17:15:04.222624Z\", \"end_time\": \"2022-03-21T17:15:12.896601Z\", \"created_time\": \"2022-03-21T17:07:08.176665Z\", \"created_time_dt\": \"2022-03-21T17:07:08.176665Z\", \"duration\": \"0:08:04\", \"iteration\": \"13\", \"goal\": \"accuracy_max\", \"run_name\": \"MaxAbsScaler, SGD\", \"run_properties\": \"copy=True\", \"primary_metric\": 0.62149788, \"best_metric\": 0.7904059}, {\"run_id\": \"AutoML_07214c7f-99c5-4c12-ad2c-b4e4c0414795_worker_3\", \"run_number\": 1647882429, \"metric\": null, \"status\": \"Completed\", \"run_type\": \"azureml.scriptrun\", \"training_percent\": null, \"start_time\": \"2022-03-21T17:10:12.628447Z\", \"end_time\": \"2022-03-21T17:15:36.441772Z\", \"created_time\": \"2022-03-21T17:07:09.0974Z\", \"created_time_dt\": \"2022-03-21T17:07:09.0974Z\", \"duration\": \"0:08:27\", \"iteration\": null, \"goal\": null, \"run_name\": \"Completed\", \"run_properties\": null}, {\"run_id\": \"AutoML_07214c7f-99c5-4c12-ad2c-b4e4c0414795_worker_4\", \"run_number\": 1647882430, \"metric\": null, \"status\": \"Completed\", \"run_type\": \"azureml.scriptrun\", \"training_percent\": null, \"start_time\": \"2022-03-21T17:11:13.674458Z\", \"end_time\": \"2022-03-21T17:15:36.727945Z\", \"created_time\": \"2022-03-21T17:07:10.714203Z\", \"created_time_dt\": \"2022-03-21T17:07:10.714203Z\", \"duration\": \"0:08:26\", \"iteration\": null, \"goal\": null, \"run_name\": \"Completed\", \"run_properties\": null}, {\"run_id\": \"AutoML_07214c7f-99c5-4c12-ad2c-b4e4c0414795_21\", \"run_number\": 1647882916, \"metric\": null, \"status\": \"Completed\", \"run_type\": \"azureml.scriptrun\", \"training_percent\": \"100\", \"start_time\": \"2022-03-21T17:15:41.890766Z\", \"end_time\": \"2022-03-21T17:15:45.623604Z\", \"created_time\": \"2022-03-21T17:15:16.236016Z\", \"created_time_dt\": \"2022-03-21T17:15:16.236016Z\", \"duration\": \"0:00:29\", \"iteration\": \"21\", \"goal\": \"accuracy_max\", \"run_name\": \"StandardScalerWrapper, XGBoostClassifier\", \"run_properties\": \"\\n    copy=True,\\n    with_mean=False,\\n    with_std=False\\n\", \"primary_metric\": 0.77187372, \"best_metric\": 0.7904059}, {\"run_id\": \"AutoML_07214c7f-99c5-4c12-ad2c-b4e4c0414795_23\", \"run_number\": 1647882950, \"metric\": null, \"status\": \"Completed\", \"run_type\": \"azureml.scriptrun\", \"training_percent\": \"100\", \"start_time\": \"2022-03-21T17:17:39.797289Z\", \"end_time\": \"2022-03-21T17:17:43.498869Z\", \"created_time\": \"2022-03-21T17:15:50.028108Z\", \"created_time_dt\": \"2022-03-21T17:15:50.028108Z\", \"duration\": \"0:01:53\", \"iteration\": \"23\", \"goal\": \"accuracy_max\", \"run_name\": \"MaxAbsScaler, LightGBM\", \"run_properties\": \"copy=True\", \"primary_metric\": 0.6510364, \"best_metric\": 0.7904059}, {\"run_id\": \"AutoML_07214c7f-99c5-4c12-ad2c-b4e4c0414795_26\", \"run_number\": 1647882972, \"metric\": null, \"status\": \"Completed\", \"run_type\": \"azureml.scriptrun\", \"training_percent\": \"100\", \"start_time\": \"2022-03-21T17:18:37.851843Z\", \"end_time\": \"2022-03-21T17:18:41.600639Z\", \"created_time\": \"2022-03-21T17:16:12.980959Z\", \"created_time_dt\": \"2022-03-21T17:16:12.980959Z\", \"duration\": \"0:02:28\", \"iteration\": \"26\", \"goal\": \"accuracy_max\", \"run_name\": \"SparseNormalizer, XGBoostClassifier\", \"run_properties\": \"copy=True, norm='l2'\", \"primary_metric\": 0.72999863, \"best_metric\": 0.7904059}, {\"run_id\": \"AutoML_07214c7f-99c5-4c12-ad2c-b4e4c0414795_27\", \"run_number\": 1647882998, \"metric\": null, \"status\": \"Completed\", \"run_type\": \"azureml.scriptrun\", \"training_percent\": \"100\", \"start_time\": \"2022-03-21T17:19:52.115029Z\", \"end_time\": \"2022-03-21T17:19:55.802359Z\", \"created_time\": \"2022-03-21T17:16:38.656045Z\", \"created_time_dt\": \"2022-03-21T17:16:38.656045Z\", \"duration\": \"0:03:17\", \"iteration\": \"27\", \"goal\": \"accuracy_max\", \"run_name\": \"StandardScalerWrapper, XGBoostClassifier\", \"run_properties\": \"\\n    copy=True,\\n    with_mean=False,\\n    with_std=False\\n\", \"primary_metric\": 0.74845337, \"best_metric\": 0.7904059}, {\"run_id\": \"AutoML_07214c7f-99c5-4c12-ad2c-b4e4c0414795_28\", \"run_number\": 1647883065, \"metric\": null, \"status\": \"Completed\", \"run_type\": \"azureml.scriptrun\", \"training_percent\": \"100\", \"start_time\": \"2022-03-21T17:19:48.241536Z\", \"end_time\": \"2022-03-21T17:19:51.91442Z\", \"created_time\": \"2022-03-21T17:17:45.219363Z\", \"created_time_dt\": \"2022-03-21T17:17:45.219363Z\", \"duration\": \"0:02:06\", \"iteration\": \"28\", \"goal\": \"accuracy_max\", \"run_name\": \"StandardScalerWrapper, LightGBM\", \"run_properties\": \"\\n    copy=True,\\n    with_mean=False,\\n    with_std=False\\n\", \"primary_metric\": 0.63377067, \"best_metric\": 0.7904059}, {\"run_id\": \"AutoML_07214c7f-99c5-4c12-ad2c-b4e4c0414795_30\", \"run_number\": 1647883068, \"metric\": null, \"status\": \"Completed\", \"run_type\": \"azureml.scriptrun\", \"training_percent\": \"100\", \"start_time\": \"2022-03-21T17:19:45.952325Z\", \"end_time\": \"2022-03-21T17:19:49.609436Z\", \"created_time\": \"2022-03-21T17:17:48.714854Z\", \"created_time_dt\": \"2022-03-21T17:17:48.714854Z\", \"duration\": \"0:02:00\", \"iteration\": \"30\", \"goal\": \"accuracy_max\", \"run_name\": \"StandardScalerWrapper, XGBoostClassifier\", \"run_properties\": \"\\n    copy=True,\\n    with_mean=False,\\n    with_std=False\\n\", \"primary_metric\": 0.68924423, \"best_metric\": 0.7904059}, {\"run_id\": \"AutoML_07214c7f-99c5-4c12-ad2c-b4e4c0414795_31\", \"run_number\": 1647883123, \"metric\": null, \"status\": \"Completed\", \"run_type\": \"azureml.scriptrun\", \"training_percent\": \"100\", \"start_time\": \"2022-03-21T17:21:43.931025Z\", \"end_time\": \"2022-03-21T17:21:47.567482Z\", \"created_time\": \"2022-03-21T17:18:43.273514Z\", \"created_time_dt\": \"2022-03-21T17:18:43.273514Z\", \"duration\": \"0:03:04\", \"iteration\": \"31\", \"goal\": \"accuracy_max\", \"run_name\": \"SparseNormalizer, XGBoostClassifier\", \"run_properties\": \"copy=True, norm='l1'\", \"primary_metric\": 0.7509134, \"best_metric\": 0.7904059}, {\"run_id\": \"AutoML_07214c7f-99c5-4c12-ad2c-b4e4c0414795_32\", \"run_number\": 1647883191, \"metric\": null, \"status\": \"Completed\", \"run_type\": \"azureml.scriptrun\", \"training_percent\": \"100\", \"start_time\": \"2022-03-21T17:21:43.327497Z\", \"end_time\": \"2022-03-21T17:21:47.012978Z\", \"created_time\": \"2022-03-21T17:19:51.296529Z\", \"created_time_dt\": \"2022-03-21T17:19:51.296529Z\", \"duration\": \"0:01:55\", \"iteration\": \"32\", \"goal\": \"accuracy_max\", \"run_name\": \"MaxAbsScaler, LightGBM\", \"run_properties\": \"copy=True\", \"primary_metric\": 0.62759783, \"best_metric\": 0.7904059}, {\"run_id\": \"AutoML_07214c7f-99c5-4c12-ad2c-b4e4c0414795_33\", \"run_number\": 1647883194, \"metric\": null, \"status\": \"Completed\", \"run_type\": \"azureml.scriptrun\", \"training_percent\": \"100\", \"start_time\": \"2022-03-21T17:21:43.335016Z\", \"end_time\": \"2022-03-21T17:21:47.014449Z\", \"created_time\": \"2022-03-21T17:19:54.721539Z\", \"created_time_dt\": \"2022-03-21T17:19:54.721539Z\", \"duration\": \"0:01:52\", \"iteration\": \"33\", \"goal\": \"accuracy_max\", \"run_name\": \"TruncatedSVDWrapper, XGBoostClassifier\", \"run_properties\": \"n_components=0.45526315789473687, random_state=None\", \"primary_metric\": 0.7756002, \"best_metric\": 0.7904059}, {\"run_id\": \"AutoML_07214c7f-99c5-4c12-ad2c-b4e4c0414795_34\", \"run_number\": 1647883201, \"metric\": null, \"status\": \"Canceled\", \"run_type\": \"azureml.scriptrun\", \"training_percent\": \"100\", \"start_time\": \"2022-03-21T17:21:50.256432Z\", \"end_time\": \"2022-03-21T17:21:50.582688Z\", \"created_time\": \"2022-03-21T17:20:01.595635Z\", \"created_time_dt\": \"2022-03-21T17:20:01.595635Z\", \"duration\": \"0:01:48\", \"iteration\": \"34\", \"goal\": null, \"run_name\": \"Canceled\", \"run_properties\": null}, {\"run_id\": \"AutoML_07214c7f-99c5-4c12-ad2c-b4e4c0414795_35\", \"run_number\": 1647883252, \"metric\": null, \"status\": \"Canceled\", \"run_type\": \"azureml.scriptrun\", \"training_percent\": \"100\", \"start_time\": \"2022-03-21T17:21:50.228104Z\", \"end_time\": \"2022-03-21T17:21:50.476142Z\", \"created_time\": \"2022-03-21T17:20:52.008403Z\", \"created_time_dt\": \"2022-03-21T17:20:52.008403Z\", \"duration\": \"0:00:58\", \"iteration\": \"35\", \"goal\": null, \"run_name\": \"Canceled\", \"run_properties\": null}, {\"run_id\": \"AutoML_07214c7f-99c5-4c12-ad2c-b4e4c0414795_37\", \"run_number\": 1647883308, \"metric\": null, \"status\": \"Canceled\", \"run_type\": \"azureml.scriptrun\", \"training_percent\": \"100\", \"start_time\": \"2022-03-21T17:21:50.212615Z\", \"end_time\": \"2022-03-21T17:21:50.786649Z\", \"created_time\": \"2022-03-21T17:21:48.745778Z\", \"created_time_dt\": \"2022-03-21T17:21:48.745778Z\", \"duration\": \"0:00:02\", \"iteration\": \"37\", \"goal\": null, \"run_name\": \"Canceled\", \"run_properties\": null}, {\"run_id\": \"AutoML_07214c7f-99c5-4c12-ad2c-b4e4c0414795_38\", \"run_number\": 1647883311, \"metric\": null, \"status\": \"Completed\", \"run_type\": \"azureml.scriptrun\", \"training_percent\": \"100\", \"start_time\": \"2022-03-21T17:23:00.138567Z\", \"end_time\": \"2022-03-21T17:23:03.811917Z\", \"created_time\": \"2022-03-21T17:21:51.442077Z\", \"created_time_dt\": \"2022-03-21T17:21:51.442077Z\", \"duration\": \"0:01:12\", \"iteration\": \"38\", \"goal\": \"accuracy_max\", \"run_name\": \"VotingEnsemble\", \"run_properties\": \"\\n    estimators=[('0', Pipeline(\\n        memory=None,\\n        steps=[('maxabsscaler', MaxAbsScaler(\\n            copy=True\\n        \", \"primary_metric\": 0.81998998, \"best_metric\": 0.81998998}], \"children_metrics\": {\"categories\": [0], \"series\": {\"average_precision_score_macro\": [{\"categories\": [\"0\", \"2\", \"5\", \"7\", \"13\", \"21\", \"23\", \"26\", \"27\", \"28\", \"30\", \"31\", \"32\", \"33\", \"38\"], \"mode\": \"markers\", \"name\": \"average_precision_score_macro\", \"stepped\": false, \"type\": \"scatter\", \"data\": [0.8613840037244228, 0.7290123501384597, 0.808826650626442, 0.7198895204457392, 0.7049652723840962, 0.8543295427210648, 0.7213305900131685, 0.8248220697204623, 0.8175115119012731, 0.6912405228726728, 0.7461477432890069, 0.8263152810804777, 0.701159276693463, 0.8543359014479602, 0.8675376617497034]}, {\"categories\": [\"0\", \"2\", \"5\", \"7\", \"13\", \"21\", \"23\", \"26\", \"27\", \"28\", \"30\", \"31\", \"32\", \"33\", \"38\"], \"mode\": \"lines\", \"name\": \"average_precision_score_macro_max\", \"stepped\": true, \"type\": \"scatter\", \"data\": [0.8613840037244228, 0.8613840037244228, 0.8613840037244228, 0.8613840037244228, 0.8613840037244228, 0.8613840037244228, 0.8613840037244228, 0.8613840037244228, 0.8613840037244228, 0.8613840037244228, 0.8613840037244228, 0.8613840037244228, 0.8613840037244228, 0.8613840037244228, 0.8675376617497034]}], \"balanced_accuracy\": [{\"categories\": [\"0\", \"2\", \"5\", \"7\", \"13\", \"21\", \"23\", \"26\", \"27\", \"28\", \"30\", \"31\", \"32\", \"33\", \"38\"], \"mode\": \"markers\", \"name\": \"balanced_accuracy\", \"stepped\": false, \"type\": \"scatter\", \"data\": [0.791691461524143, 0.6572995321417809, 0.6965528237968653, 0.6308712550549664, 0.6308899185201291, 0.7718191770546383, 0.6432519635157044, 0.7277208597400856, 0.7479067764863795, 0.6385638645155237, 0.6802531514188065, 0.7461411828218504, 0.6173329106486305, 0.7734097771495803, 0.8187646372860341]}, {\"categories\": [\"0\", \"2\", \"5\", \"7\", \"13\", \"21\", \"23\", \"26\", \"27\", \"28\", \"30\", \"31\", \"32\", \"33\", \"38\"], \"mode\": \"lines\", \"name\": \"balanced_accuracy_max\", \"stepped\": true, \"type\": \"scatter\", \"data\": [0.791691461524143, 0.791691461524143, 0.791691461524143, 0.791691461524143, 0.791691461524143, 0.791691461524143, 0.791691461524143, 0.791691461524143, 0.791691461524143, 0.791691461524143, 0.791691461524143, 0.791691461524143, 0.791691461524143, 0.791691461524143, 0.8187646372860341]}], \"precision_score_micro\": [{\"categories\": [\"0\", \"2\", \"5\", \"7\", \"13\", \"21\", \"23\", \"26\", \"27\", \"28\", \"30\", \"31\", \"32\", \"33\", \"38\"], \"mode\": \"markers\", \"name\": \"precision_score_micro\", \"stepped\": false, \"type\": \"scatter\", \"data\": [0.7904059040590407, 0.6560156712678239, 0.7065099539884288, 0.6325953259532595, 0.6214978816454831, 0.7718737187371874, 0.6510363992528814, 0.7299986333196665, 0.7484533734226231, 0.6337706710400437, 0.6892442257755911, 0.7509133980228692, 0.6275978315338709, 0.775600200446449, 0.8199899776775545]}, {\"categories\": [\"0\", \"2\", \"5\", \"7\", \"13\", \"21\", \"23\", \"26\", \"27\", \"28\", \"30\", \"31\", \"32\", \"33\", \"38\"], \"mode\": \"lines\", \"name\": \"precision_score_micro_max\", \"stepped\": true, \"type\": \"scatter\", \"data\": [0.7904059040590407, 0.7904059040590407, 0.7904059040590407, 0.7904059040590407, 0.7904059040590407, 0.7904059040590407, 0.7904059040590407, 0.7904059040590407, 0.7904059040590407, 0.7904059040590407, 0.7904059040590407, 0.7904059040590407, 0.7904059040590407, 0.7904059040590407, 0.8199899776775545]}], \"recall_score_weighted\": [{\"categories\": [\"0\", \"2\", \"5\", \"7\", \"13\", \"21\", \"23\", \"26\", \"27\", \"28\", \"30\", \"31\", \"32\", \"33\", \"38\"], \"mode\": \"markers\", \"name\": \"recall_score_weighted\", \"stepped\": false, \"type\": \"scatter\", \"data\": [0.7904059040590407, 0.6560156712678239, 0.7065099539884288, 0.6325953259532595, 0.6214978816454831, 0.7718737187371874, 0.6510363992528814, 0.7299986333196665, 0.7484533734226231, 0.6337706710400437, 0.6892442257755911, 0.7509133980228692, 0.6275978315338709, 0.775600200446449, 0.8199899776775545]}, {\"categories\": [\"0\", \"2\", \"5\", \"7\", \"13\", \"21\", \"23\", \"26\", \"27\", \"28\", \"30\", \"31\", \"32\", \"33\", \"38\"], \"mode\": \"lines\", \"name\": \"recall_score_weighted_max\", \"stepped\": true, \"type\": \"scatter\", \"data\": [0.7904059040590407, 0.7904059040590407, 0.7904059040590407, 0.7904059040590407, 0.7904059040590407, 0.7904059040590407, 0.7904059040590407, 0.7904059040590407, 0.7904059040590407, 0.7904059040590407, 0.7904059040590407, 0.7904059040590407, 0.7904059040590407, 0.7904059040590407, 0.8199899776775545]}], \"f1_score_weighted\": [{\"categories\": [\"0\", \"2\", \"5\", \"7\", \"13\", \"21\", \"23\", \"26\", \"27\", \"28\", \"30\", \"31\", \"32\", \"33\", \"38\"], \"mode\": \"markers\", \"name\": \"f1_score_weighted\", \"stepped\": false, \"type\": \"scatter\", \"data\": [0.7909035213516503, 0.644864546145822, 0.6872586350578317, 0.6210761794768463, 0.6083300616087813, 0.7695349247806372, 0.6295582793020894, 0.7230197041489678, 0.7426430067788704, 0.6281676226938495, 0.6460845270241601, 0.7474360828418138, 0.5965539717716791, 0.7743968237002857, 0.8189540322232832]}, {\"categories\": [\"0\", \"2\", \"5\", \"7\", \"13\", \"21\", \"23\", \"26\", \"27\", \"28\", \"30\", \"31\", \"32\", \"33\", \"38\"], \"mode\": \"lines\", \"name\": \"f1_score_weighted_max\", \"stepped\": true, \"type\": \"scatter\", \"data\": [0.7909035213516503, 0.7909035213516503, 0.7909035213516503, 0.7909035213516503, 0.7909035213516503, 0.7909035213516503, 0.7909035213516503, 0.7909035213516503, 0.7909035213516503, 0.7909035213516503, 0.7909035213516503, 0.7909035213516503, 0.7909035213516503, 0.7909035213516503, 0.8189540322232832]}], \"precision_score_weighted\": [{\"categories\": [\"0\", \"2\", \"5\", \"7\", \"13\", \"21\", \"23\", \"26\", \"27\", \"28\", \"30\", \"31\", \"32\", \"33\", \"38\"], \"mode\": \"markers\", \"name\": \"precision_score_weighted\", \"stepped\": false, \"type\": \"scatter\", \"data\": [0.7926323290228975, 0.6514106115067105, 0.719303656085037, 0.6353706522181876, 0.618231099342789, 0.7705079216039338, 0.6488357874096052, 0.7290836856856036, 0.748276871309975, 0.6290772374020639, 0.7115807513463142, 0.7540644341018489, 0.6233646751185261, 0.7772479074360663, 0.819593453577947]}, {\"categories\": [\"0\", \"2\", \"5\", \"7\", \"13\", \"21\", \"23\", \"26\", \"27\", \"28\", \"30\", \"31\", \"32\", \"33\", \"38\"], \"mode\": \"lines\", \"name\": \"precision_score_weighted_max\", \"stepped\": true, \"type\": \"scatter\", \"data\": [0.7926323290228975, 0.7926323290228975, 0.7926323290228975, 0.7926323290228975, 0.7926323290228975, 0.7926323290228975, 0.7926323290228975, 0.7926323290228975, 0.7926323290228975, 0.7926323290228975, 0.7926323290228975, 0.7926323290228975, 0.7926323290228975, 0.7926323290228975, 0.819593453577947]}], \"matthews_correlation\": [{\"categories\": [\"0\", \"2\", \"5\", \"7\", \"13\", \"21\", \"23\", \"26\", \"27\", \"28\", \"30\", \"31\", \"32\", \"33\", \"38\"], \"mode\": \"markers\", \"name\": \"matthews_correlation\", \"stepped\": false, \"type\": \"scatter\", \"data\": [0.678587660112883, 0.47725490025668255, 0.5648208954532344, 0.4404022239851945, 0.4283902517754103, 0.6509564629356103, 0.4742939353459859, 0.5887997160110182, 0.6177012962885574, 0.440722350046292, 0.5544739008387994, 0.6193739668718482, 0.4423866592556, 0.6556657208794882, 0.7239247750212834]}, {\"categories\": [\"0\", \"2\", \"5\", \"7\", \"13\", \"21\", \"23\", \"26\", \"27\", \"28\", \"30\", \"31\", \"32\", \"33\", \"38\"], \"mode\": \"lines\", \"name\": \"matthews_correlation_max\", \"stepped\": true, \"type\": \"scatter\", \"data\": [0.678587660112883, 0.678587660112883, 0.678587660112883, 0.678587660112883, 0.678587660112883, 0.678587660112883, 0.678587660112883, 0.678587660112883, 0.678587660112883, 0.678587660112883, 0.678587660112883, 0.678587660112883, 0.678587660112883, 0.678587660112883, 0.7239247750212834]}], \"precision_score_macro\": [{\"categories\": [\"0\", \"2\", \"5\", \"7\", \"13\", \"21\", \"23\", \"26\", \"27\", \"28\", \"30\", \"31\", \"32\", \"33\", \"38\"], \"mode\": \"markers\", \"name\": \"precision_score_macro\", \"stepped\": false, \"type\": \"scatter\", \"data\": [0.7971382259446997, 0.6556766221664526, 0.7308234399446395, 0.6509043470062256, 0.6279445075638964, 0.7736759914903009, 0.6595247919778647, 0.7317660094955153, 0.7530525252719675, 0.6341308096838754, 0.7213545362454075, 0.7640142953280794, 0.6355984239979278, 0.7845802102999323, 0.8228526959653496]}, {\"categories\": [\"0\", \"2\", \"5\", \"7\", \"13\", \"21\", \"23\", \"26\", \"27\", \"28\", \"30\", \"31\", \"32\", \"33\", \"38\"], \"mode\": \"lines\", \"name\": \"precision_score_macro_max\", \"stepped\": true, \"type\": \"scatter\", \"data\": [0.7971382259446997, 0.7971382259446997, 0.7971382259446997, 0.7971382259446997, 0.7971382259446997, 0.7971382259446997, 0.7971382259446997, 0.7971382259446997, 0.7971382259446997, 0.7971382259446997, 0.7971382259446997, 0.7971382259446997, 0.7971382259446997, 0.7971382259446997, 0.8228526959653496]}], \"average_precision_score_weighted\": [{\"categories\": [\"0\", \"2\", \"5\", \"7\", \"13\", \"21\", \"23\", \"26\", \"27\", \"28\", \"30\", \"31\", \"32\", \"33\", \"38\"], \"mode\": \"markers\", \"name\": \"average_precision_score_weighted\", \"stepped\": false, \"type\": \"scatter\", \"data\": [0.8584500271290585, 0.7183149618697354, 0.8039621355325278, 0.7075786315406106, 0.6923934769814176, 0.8510197515221188, 0.7115798906522438, 0.8217415363489309, 0.8137071634917289, 0.6857787427202338, 0.737207080368167, 0.8214859790049712, 0.6929876772139724, 0.8517347729229595, 0.8647659722703661]}, {\"categories\": [\"0\", \"2\", \"5\", \"7\", \"13\", \"21\", \"23\", \"26\", \"27\", \"28\", \"30\", \"31\", \"32\", \"33\", \"38\"], \"mode\": \"lines\", \"name\": \"average_precision_score_weighted_max\", \"stepped\": true, \"type\": \"scatter\", \"data\": [0.8584500271290585, 0.8584500271290585, 0.8584500271290585, 0.8584500271290585, 0.8584500271290585, 0.8584500271290585, 0.8584500271290585, 0.8584500271290585, 0.8584500271290585, 0.8584500271290585, 0.8584500271290585, 0.8584500271290585, 0.8584500271290585, 0.8584500271290585, 0.8647659722703661]}], \"weighted_accuracy\": [{\"categories\": [\"0\", \"2\", \"5\", \"7\", \"13\", \"21\", \"23\", \"26\", \"27\", \"28\", \"30\", \"31\", \"32\", \"33\", \"38\"], \"mode\": \"markers\", \"name\": \"weighted_accuracy\", \"stepped\": false, \"type\": \"scatter\", \"data\": [0.7905245876636678, 0.6585696367051022, 0.7210381918087351, 0.6384313314800999, 0.6168788091969054, 0.7743263025609854, 0.664341153857335, 0.7360751143108332, 0.7521417564854757, 0.633193160152718, 0.7052511687850066, 0.7584061909842528, 0.6430993048896242, 0.7794337039572635, 0.8226841844282767]}, {\"categories\": [\"0\", \"2\", \"5\", \"7\", \"13\", \"21\", \"23\", \"26\", \"27\", \"28\", \"30\", \"31\", \"32\", \"33\", \"38\"], \"mode\": \"lines\", \"name\": \"weighted_accuracy_max\", \"stepped\": true, \"type\": \"scatter\", \"data\": [0.7905245876636678, 0.7905245876636678, 0.7905245876636678, 0.7905245876636678, 0.7905245876636678, 0.7905245876636678, 0.7905245876636678, 0.7905245876636678, 0.7905245876636678, 0.7905245876636678, 0.7905245876636678, 0.7905245876636678, 0.7905245876636678, 0.7905245876636678, 0.8226841844282767]}], \"accuracy\": [{\"categories\": [\"0\", \"2\", \"5\", \"7\", \"13\", \"21\", \"23\", \"26\", \"27\", \"28\", \"30\", \"31\", \"32\", \"33\", \"38\"], \"mode\": \"markers\", \"name\": \"accuracy\", \"stepped\": false, \"type\": \"scatter\", \"data\": [0.7904059040590407, 0.6560156712678239, 0.7065099539884288, 0.6325953259532595, 0.6214978816454831, 0.7718737187371874, 0.6510363992528814, 0.7299986333196665, 0.7484533734226231, 0.6337706710400437, 0.6892442257755911, 0.7509133980228692, 0.6275978315338709, 0.775600200446449, 0.8199899776775545]}, {\"categories\": [\"0\", \"2\", \"5\", \"7\", \"13\", \"21\", \"23\", \"26\", \"27\", \"28\", \"30\", \"31\", \"32\", \"33\", \"38\"], \"mode\": \"lines\", \"name\": \"accuracy_max\", \"stepped\": true, \"type\": \"scatter\", \"data\": [0.7904059040590407, 0.7904059040590407, 0.7904059040590407, 0.7904059040590407, 0.7904059040590407, 0.7904059040590407, 0.7904059040590407, 0.7904059040590407, 0.7904059040590407, 0.7904059040590407, 0.7904059040590407, 0.7904059040590407, 0.7904059040590407, 0.7904059040590407, 0.8199899776775545]}], \"f1_score_micro\": [{\"categories\": [\"0\", \"2\", \"5\", \"7\", \"13\", \"21\", \"23\", \"26\", \"27\", \"28\", \"30\", \"31\", \"32\", \"33\", \"38\"], \"mode\": \"markers\", \"name\": \"f1_score_micro\", \"stepped\": false, \"type\": \"scatter\", \"data\": [0.7904059040590407, 0.6560156712678239, 0.7065099539884289, 0.6325953259532595, 0.6214978816454831, 0.7718737187371874, 0.6510363992528814, 0.7299986333196665, 0.7484533734226231, 0.6337706710400437, 0.6892442257755911, 0.7509133980228692, 0.6275978315338709, 0.775600200446449, 0.8199899776775545]}, {\"categories\": [\"0\", \"2\", \"5\", \"7\", \"13\", \"21\", \"23\", \"26\", \"27\", \"28\", \"30\", \"31\", \"32\", \"33\", \"38\"], \"mode\": \"lines\", \"name\": \"f1_score_micro_max\", \"stepped\": true, \"type\": \"scatter\", \"data\": [0.7904059040590407, 0.7904059040590407, 0.7904059040590407, 0.7904059040590407, 0.7904059040590407, 0.7904059040590407, 0.7904059040590407, 0.7904059040590407, 0.7904059040590407, 0.7904059040590407, 0.7904059040590407, 0.7904059040590407, 0.7904059040590407, 0.7904059040590407, 0.8199899776775545]}], \"average_precision_score_micro\": [{\"categories\": [\"0\", \"2\", \"5\", \"7\", \"13\", \"21\", \"23\", \"26\", \"27\", \"28\", \"30\", \"31\", \"32\", \"33\", \"38\"], \"mode\": \"markers\", \"name\": \"average_precision_score_micro\", \"stepped\": false, \"type\": \"scatter\", \"data\": [0.868880997452989, 0.742499467846837, 0.772365739830232, 0.729317661682887, 0.7114305894698414, 0.8618553367106835, 0.7058630014576123, 0.8293339625980137, 0.8237658266570381, 0.7070843038587035, 0.7508122570528192, 0.8297818746316228, 0.6869969296638264, 0.8611822345419616, 0.8730812741180376]}, {\"categories\": [\"0\", \"2\", \"5\", \"7\", \"13\", \"21\", \"23\", \"26\", \"27\", \"28\", \"30\", \"31\", \"32\", \"33\", \"38\"], \"mode\": \"lines\", \"name\": \"average_precision_score_micro_max\", \"stepped\": true, \"type\": \"scatter\", \"data\": [0.868880997452989, 0.868880997452989, 0.868880997452989, 0.868880997452989, 0.868880997452989, 0.868880997452989, 0.868880997452989, 0.868880997452989, 0.868880997452989, 0.868880997452989, 0.868880997452989, 0.868880997452989, 0.868880997452989, 0.868880997452989, 0.8730812741180376]}], \"f1_score_macro\": [{\"categories\": [\"0\", \"2\", \"5\", \"7\", \"13\", \"21\", \"23\", \"26\", \"27\", \"28\", \"30\", \"31\", \"32\", \"33\", \"38\"], \"mode\": \"markers\", \"name\": \"f1_score_macro\", \"stepped\": false, \"type\": \"scatter\", \"data\": [0.793724004278921, 0.6475313550594067, 0.6893903260692574, 0.6283748360725266, 0.61841538693018, 0.7710034386446432, 0.632243434582724, 0.7232745157859747, 0.74495471883855, 0.6331384287278827, 0.6485695052614013, 0.7503375973945404, 0.5992552520593161, 0.7769146597787485, 0.8199474069639092]}, {\"categories\": [\"0\", \"2\", \"5\", \"7\", \"13\", \"21\", \"23\", \"26\", \"27\", \"28\", \"30\", \"31\", \"32\", \"33\", \"38\"], \"mode\": \"lines\", \"name\": \"f1_score_macro_max\", \"stepped\": true, \"type\": \"scatter\", \"data\": [0.793724004278921, 0.793724004278921, 0.793724004278921, 0.793724004278921, 0.793724004278921, 0.793724004278921, 0.793724004278921, 0.793724004278921, 0.793724004278921, 0.793724004278921, 0.793724004278921, 0.793724004278921, 0.793724004278921, 0.793724004278921, 0.8199474069639092]}], \"recall_score_micro\": [{\"categories\": [\"0\", \"2\", \"5\", \"7\", \"13\", \"21\", \"23\", \"26\", \"27\", \"28\", \"30\", \"31\", \"32\", \"33\", \"38\"], \"mode\": \"markers\", \"name\": \"recall_score_micro\", \"stepped\": false, \"type\": \"scatter\", \"data\": [0.7904059040590407, 0.6560156712678239, 0.7065099539884288, 0.6325953259532595, 0.6214978816454831, 0.7718737187371874, 0.6510363992528814, 0.7299986333196665, 0.7484533734226231, 0.6337706710400437, 0.6892442257755911, 0.7509133980228692, 0.6275978315338709, 0.775600200446449, 0.8199899776775545]}, {\"categories\": [\"0\", \"2\", \"5\", \"7\", \"13\", \"21\", \"23\", \"26\", \"27\", \"28\", \"30\", \"31\", \"32\", \"33\", \"38\"], \"mode\": \"lines\", \"name\": \"recall_score_micro_max\", \"stepped\": true, \"type\": \"scatter\", \"data\": [0.7904059040590407, 0.7904059040590407, 0.7904059040590407, 0.7904059040590407, 0.7904059040590407, 0.7904059040590407, 0.7904059040590407, 0.7904059040590407, 0.7904059040590407, 0.7904059040590407, 0.7904059040590407, 0.7904059040590407, 0.7904059040590407, 0.7904059040590407, 0.8199899776775545]}], \"log_loss\": [{\"categories\": [\"0\", \"2\", \"5\", \"7\", \"13\", \"21\", \"23\", \"26\", \"27\", \"28\", \"30\", \"31\", \"32\", \"33\", \"38\"], \"mode\": \"markers\", \"name\": \"log_loss\", \"stepped\": false, \"type\": \"scatter\", \"data\": [0.5240141777221834, 0.791904281765715, 0.847439733176586, 0.7236241810296793, 0.8571373733841439, 0.602057725090836, 0.8790941468610279, 0.7788155403488487, 0.7830127910614068, 0.755179479695704, 0.7960014628617579, 0.6699801403291415, 0.886514114189446, 0.6098891532831868, 0.6138810951918391]}, {\"categories\": [\"0\", \"2\", \"5\", \"7\", \"13\", \"21\", \"23\", \"26\", \"27\", \"28\", \"30\", \"31\", \"32\", \"33\", \"38\"], \"mode\": \"lines\", \"name\": \"log_loss_min\", \"stepped\": true, \"type\": \"scatter\", \"data\": [0.5240141777221834, 0.5240141777221834, 0.5240141777221834, 0.5240141777221834, 0.5240141777221834, 0.5240141777221834, 0.5240141777221834, 0.5240141777221834, 0.5240141777221834, 0.5240141777221834, 0.5240141777221834, 0.5240141777221834, 0.5240141777221834, 0.5240141777221834, 0.5240141777221834]}], \"AUC_micro\": [{\"categories\": [\"0\", \"2\", \"5\", \"7\", \"13\", \"21\", \"23\", \"26\", \"27\", \"28\", \"30\", \"31\", \"32\", \"33\", \"38\"], \"mode\": \"markers\", \"name\": \"AUC_micro\", \"stepped\": false, \"type\": \"scatter\", \"data\": [0.928535515138153, 0.8506114469971936, 0.8761284695887975, 0.8393517303971727, 0.8256511780244677, 0.9220427498430147, 0.8363510467207993, 0.9022340103770953, 0.9018721703495717, 0.8344545438453945, 0.8618756477855273, 0.903016593974726, 0.8264874126039182, 0.919091285367928, 0.9290838330968461]}, {\"categories\": [\"0\", \"2\", \"5\", \"7\", \"13\", \"21\", \"23\", \"26\", \"27\", \"28\", \"30\", \"31\", \"32\", \"33\", \"38\"], \"mode\": \"lines\", \"name\": \"AUC_micro_max\", \"stepped\": true, \"type\": \"scatter\", \"data\": [0.928535515138153, 0.928535515138153, 0.928535515138153, 0.928535515138153, 0.928535515138153, 0.928535515138153, 0.928535515138153, 0.928535515138153, 0.928535515138153, 0.928535515138153, 0.928535515138153, 0.928535515138153, 0.928535515138153, 0.928535515138153, 0.9290838330968461]}], \"AUC_macro\": [{\"categories\": [\"0\", \"2\", \"5\", \"7\", \"13\", \"21\", \"23\", \"26\", \"27\", \"28\", \"30\", \"31\", \"32\", \"33\", \"38\"], \"mode\": \"markers\", \"name\": \"AUC_macro\", \"stepped\": false, \"type\": \"scatter\", \"data\": [0.9221789283257635, 0.8285863505640166, 0.8844088426768181, 0.8143626224854971, 0.8046880179695002, 0.9145218273109189, 0.8358311691961268, 0.8934622398326563, 0.8927551403349615, 0.8160185128915506, 0.8462399233274157, 0.8950898434584431, 0.824734638444094, 0.9122623515893981, 0.9226793705273387]}, {\"categories\": [\"0\", \"2\", \"5\", \"7\", \"13\", \"21\", \"23\", \"26\", \"27\", \"28\", \"30\", \"31\", \"32\", \"33\", \"38\"], \"mode\": \"lines\", \"name\": \"AUC_macro_max\", \"stepped\": true, \"type\": \"scatter\", \"data\": [0.9221789283257635, 0.9221789283257635, 0.9221789283257635, 0.9221789283257635, 0.9221789283257635, 0.9221789283257635, 0.9221789283257635, 0.9221789283257635, 0.9221789283257635, 0.9221789283257635, 0.9221789283257635, 0.9221789283257635, 0.9221789283257635, 0.9221789283257635, 0.9226793705273387]}], \"recall_score_macro\": [{\"categories\": [\"0\", \"2\", \"5\", \"7\", \"13\", \"21\", \"23\", \"26\", \"27\", \"28\", \"30\", \"31\", \"32\", \"33\", \"38\"], \"mode\": \"markers\", \"name\": \"recall_score_macro\", \"stepped\": false, \"type\": \"scatter\", \"data\": [0.791691461524143, 0.6572995321417809, 0.6965528237968653, 0.6308712550549664, 0.6308899185201291, 0.7718191770546383, 0.6432519635157044, 0.7277208597400856, 0.7479067764863795, 0.6385638645155237, 0.6802531514188065, 0.7461411828218504, 0.6173329106486305, 0.7734097771495803, 0.8187646372860341]}, {\"categories\": [\"0\", \"2\", \"5\", \"7\", \"13\", \"21\", \"23\", \"26\", \"27\", \"28\", \"30\", \"31\", \"32\", \"33\", \"38\"], \"mode\": \"lines\", \"name\": \"recall_score_macro_max\", \"stepped\": true, \"type\": \"scatter\", \"data\": [0.791691461524143, 0.791691461524143, 0.791691461524143, 0.791691461524143, 0.791691461524143, 0.791691461524143, 0.791691461524143, 0.791691461524143, 0.791691461524143, 0.791691461524143, 0.791691461524143, 0.791691461524143, 0.791691461524143, 0.791691461524143, 0.8187646372860341]}], \"norm_macro_recall\": [{\"categories\": [\"0\", \"2\", \"5\", \"7\", \"13\", \"21\", \"23\", \"26\", \"27\", \"28\", \"30\", \"31\", \"32\", \"33\", \"38\"], \"mode\": \"markers\", \"name\": \"norm_macro_recall\", \"stepped\": false, \"type\": \"scatter\", \"data\": [0.6875371922862145, 0.48594929821267147, 0.544829235695298, 0.44630688258244966, 0.4463348777801937, 0.6577287655819575, 0.4648779452735566, 0.5915812896101283, 0.6218601647295691, 0.45784579677328546, 0.5203797271282097, 0.6192117742327755, 0.4259993659729458, 0.6601146657243704, 0.7281469559290512]}, {\"categories\": [\"0\", \"2\", \"5\", \"7\", \"13\", \"21\", \"23\", \"26\", \"27\", \"28\", \"30\", \"31\", \"32\", \"33\", \"38\"], \"mode\": \"lines\", \"name\": \"norm_macro_recall_max\", \"stepped\": true, \"type\": \"scatter\", \"data\": [0.6875371922862145, 0.6875371922862145, 0.6875371922862145, 0.6875371922862145, 0.6875371922862145, 0.6875371922862145, 0.6875371922862145, 0.6875371922862145, 0.6875371922862145, 0.6875371922862145, 0.6875371922862145, 0.6875371922862145, 0.6875371922862145, 0.6875371922862145, 0.7281469559290512]}], \"AUC_weighted\": [{\"categories\": [\"0\", \"2\", \"5\", \"7\", \"13\", \"21\", \"23\", \"26\", \"27\", \"28\", \"30\", \"31\", \"32\", \"33\", \"38\"], \"mode\": \"markers\", \"name\": \"AUC_weighted\", \"stepped\": false, \"type\": \"scatter\", \"data\": [0.9185280428416073, 0.8184605442882313, 0.878941926027938, 0.8025898601059668, 0.792731824484854, 0.9102976108891158, 0.8264485237298205, 0.8886817755209534, 0.8877631605006933, 0.8078073427729461, 0.8377676664772187, 0.890099892429525, 0.8153584961582879, 0.9079993254020629, 0.9189162547687276]}, {\"categories\": [\"0\", \"2\", \"5\", \"7\", \"13\", \"21\", \"23\", \"26\", \"27\", \"28\", \"30\", \"31\", \"32\", \"33\", \"38\"], \"mode\": \"lines\", \"name\": \"AUC_weighted_max\", \"stepped\": true, \"type\": \"scatter\", \"data\": [0.9185280428416073, 0.9185280428416073, 0.9185280428416073, 0.9185280428416073, 0.9185280428416073, 0.9185280428416073, 0.9185280428416073, 0.9185280428416073, 0.9185280428416073, 0.9185280428416073, 0.9185280428416073, 0.9185280428416073, 0.9185280428416073, 0.9185280428416073, 0.9189162547687276]}]}, \"metricName\": null, \"primaryMetricName\": \"accuracy\", \"showLegend\": false}, \"run_metrics\": [{\"name\": \"experiment_status\", \"run_id\": \"AutoML_07214c7f-99c5-4c12-ad2c-b4e4c0414795\", \"categories\": [0, 1, 2, 3, 4, 5, 6, 7, 8, 9, 10, 11, 12, 13], \"series\": [{\"data\": [\"DatasetEvaluation\", \"FeaturesGeneration\", \"DatasetFeaturization\", \"DatasetFeaturizationCompleted\", \"DatasetCrossValidationSplit\", \"ModelSelection\", \"BestRunExplainModel\", \"ModelExplanationDataSetSetup\", \"PickSurrogateModel\", \"EngineeredFeatureExplanations\", \"EngineeredFeatureExplanations\", \"RawFeaturesExplanations\", \"RawFeaturesExplanations\", \"BestRunExplainModel\"]}]}, {\"name\": \"experiment_status_description\", \"run_id\": \"AutoML_07214c7f-99c5-4c12-ad2c-b4e4c0414795\", \"categories\": [0, 1, 2, 3, 4, 5, 6, 7, 8, 9, 10, 11, 12, 13], \"series\": [{\"data\": [\"Gathering dataset statistics.\", \"Generating features for the dataset.\", \"Beginning to fit featurizers and featurize the dataset.\", \"Completed fit featurizers and featurizing the dataset.\", \"Generating individually featurized CV splits.\", \"Beginning model selection.\", \"Best run model explanations started\", \"Model explanations data setup completed\", \"Choosing LightGBM as the surrogate model for explanations\", \"Computation of engineered features started\", \"Computation of engineered features completed\", \"Computation of raw features started\", \"Computation of raw features completed\", \"Best run model explanations completed\"]}]}, {\"name\": \"average_precision_score_macro\", \"run_id\": \"AutoML_07214c7f-99c5-4c12-ad2c-b4e4c0414795\", \"categories\": [0], \"series\": [{\"data\": [0.8675376617497034]}]}, {\"name\": \"accuracy\", \"run_id\": \"AutoML_07214c7f-99c5-4c12-ad2c-b4e4c0414795\", \"categories\": [0], \"series\": [{\"data\": [0.8199899776775545]}]}, {\"name\": \"weighted_accuracy\", \"run_id\": \"AutoML_07214c7f-99c5-4c12-ad2c-b4e4c0414795\", \"categories\": [0], \"series\": [{\"data\": [0.8226841844282767]}]}, {\"name\": \"f1_score_micro\", \"run_id\": \"AutoML_07214c7f-99c5-4c12-ad2c-b4e4c0414795\", \"categories\": [0], \"series\": [{\"data\": [0.8199899776775545]}]}, {\"name\": \"AUC_micro\", \"run_id\": \"AutoML_07214c7f-99c5-4c12-ad2c-b4e4c0414795\", \"categories\": [0], \"series\": [{\"data\": [0.9290838330968461]}]}, {\"name\": \"precision_score_weighted\", \"run_id\": \"AutoML_07214c7f-99c5-4c12-ad2c-b4e4c0414795\", \"categories\": [0], \"series\": [{\"data\": [0.819593453577947]}]}, {\"name\": \"norm_macro_recall\", \"run_id\": \"AutoML_07214c7f-99c5-4c12-ad2c-b4e4c0414795\", \"categories\": [0], \"series\": [{\"data\": [0.7281469559290512]}]}, {\"name\": \"recall_score_weighted\", \"run_id\": \"AutoML_07214c7f-99c5-4c12-ad2c-b4e4c0414795\", \"categories\": [0], \"series\": [{\"data\": [0.8199899776775545]}]}, {\"name\": \"f1_score_macro\", \"run_id\": \"AutoML_07214c7f-99c5-4c12-ad2c-b4e4c0414795\", \"categories\": [0], \"series\": [{\"data\": [0.8199474069639092]}]}, {\"name\": \"balanced_accuracy\", \"run_id\": \"AutoML_07214c7f-99c5-4c12-ad2c-b4e4c0414795\", \"categories\": [0], \"series\": [{\"data\": [0.8187646372860341]}]}, {\"name\": \"precision_score_macro\", \"run_id\": \"AutoML_07214c7f-99c5-4c12-ad2c-b4e4c0414795\", \"categories\": [0], \"series\": [{\"data\": [0.8228526959653496]}]}, {\"name\": \"matthews_correlation\", \"run_id\": \"AutoML_07214c7f-99c5-4c12-ad2c-b4e4c0414795\", \"categories\": [0], \"series\": [{\"data\": [0.7239247750212834]}]}, {\"name\": \"precision_score_micro\", \"run_id\": \"AutoML_07214c7f-99c5-4c12-ad2c-b4e4c0414795\", \"categories\": [0], \"series\": [{\"data\": [0.8199899776775545]}]}, {\"name\": \"f1_score_weighted\", \"run_id\": \"AutoML_07214c7f-99c5-4c12-ad2c-b4e4c0414795\", \"categories\": [0], \"series\": [{\"data\": [0.8189540322232832]}]}, {\"name\": \"recall_score_micro\", \"run_id\": \"AutoML_07214c7f-99c5-4c12-ad2c-b4e4c0414795\", \"categories\": [0], \"series\": [{\"data\": [0.8199899776775545]}]}, {\"name\": \"average_precision_score_weighted\", \"run_id\": \"AutoML_07214c7f-99c5-4c12-ad2c-b4e4c0414795\", \"categories\": [0], \"series\": [{\"data\": [0.8647659722703661]}]}, {\"name\": \"average_precision_score_micro\", \"run_id\": \"AutoML_07214c7f-99c5-4c12-ad2c-b4e4c0414795\", \"categories\": [0], \"series\": [{\"data\": [0.8730812741180376]}]}, {\"name\": \"AUC_weighted\", \"run_id\": \"AutoML_07214c7f-99c5-4c12-ad2c-b4e4c0414795\", \"categories\": [0], \"series\": [{\"data\": [0.9189162547687276]}]}, {\"name\": \"recall_score_macro\", \"run_id\": \"AutoML_07214c7f-99c5-4c12-ad2c-b4e4c0414795\", \"categories\": [0], \"series\": [{\"data\": [0.8187646372860341]}]}, {\"name\": \"log_loss\", \"run_id\": \"AutoML_07214c7f-99c5-4c12-ad2c-b4e4c0414795\", \"categories\": [0], \"series\": [{\"data\": [0.6138810951918391]}]}, {\"name\": \"AUC_macro\", \"run_id\": \"AutoML_07214c7f-99c5-4c12-ad2c-b4e4c0414795\", \"categories\": [0], \"series\": [{\"data\": [0.9226793705273387]}]}], \"run_logs\": \"\\nRun is completed.\", \"graph\": {}, \"widget_settings\": {\"childWidgetDisplay\": \"popup\", \"send_telemetry\": false, \"log_level\": \"INFO\", \"sdk_version\": \"1.38.0\"}, \"loading\": false}"
     },
     "metadata": {},
     "output_type": "display_data"
    },
    {
     "data": {
      "text/html": [
       "<table style=\"width:100%\"><tr><th>Experiment</th><th>Id</th><th>Type</th><th>Status</th><th>Details Page</th><th>Docs Page</th></tr><tr><td>capstone-automl-experiment</td><td>AutoML_07214c7f-99c5-4c12-ad2c-b4e4c0414795</td><td>automl</td><td>Completed</td><td><a href=\"https://ml.azure.com/runs/AutoML_07214c7f-99c5-4c12-ad2c-b4e4c0414795?wsid=/subscriptions/9b72f9e6-56c5-4c16-991b-19c652994860/resourcegroups/aml-quickstarts-189567/workspaces/quick-starts-ws-189567&amp;tid=660b3398-b80e-49d2-bc5b-ac1dc93b5254\" target=\"_blank\" rel=\"noopener\">Link to Azure Machine Learning studio</a></td><td><a href=\"https://docs.microsoft.com/en-us/python/api/overview/azure/ml/intro?view=azure-ml-py\" target=\"_blank\" rel=\"noopener\">Link to Documentation</a></td></tr></table>"
      ],
      "text/plain": [
       "<IPython.core.display.HTML object>"
      ]
     },
     "metadata": {},
     "output_type": "display_data"
    },
    {
     "name": "stdout",
     "output_type": "stream",
     "text": [
      "\n",
      "\n",
      "********************************************************************************************\n",
      "DATA GUARDRAILS: \n",
      "\n",
      "TYPE:         Class balancing detection\n",
      "STATUS:       PASSED\n",
      "DESCRIPTION:  Your inputs were analyzed, and all classes are balanced in your training data.\n",
      "              Learn more about imbalanced data: https://aka.ms/AutomatedMLImbalancedData\n",
      "\n",
      "********************************************************************************************\n",
      "\n",
      "TYPE:         Missing feature values imputation\n",
      "STATUS:       DONE\n",
      "DESCRIPTION:  If the missing values are expected, let the run complete. Otherwise cancel the current run and use a script to customize the handling of missing feature values that may be more appropriate based on the data type and business requirement.\n",
      "              Learn more about missing value imputation: https://aka.ms/AutomatedMLFeaturization\n",
      "DETAILS:      \n",
      "+------------------------------+------------------------------+------------------------------+\n",
      "|Column name                   |Missing value count           |Imputation type               |\n",
      "+==============================+==============================+==============================+\n",
      "|BodyTemp                      |3                             |mean                          |\n",
      "+------------------------------+------------------------------+------------------------------+\n",
      "\n",
      "********************************************************************************************\n",
      "\n",
      "TYPE:         High cardinality feature detection\n",
      "STATUS:       PASSED\n",
      "DESCRIPTION:  Your inputs were analyzed, and no high cardinality features were detected.\n",
      "              Learn more about high cardinality feature handling: https://aka.ms/AutomatedMLFeaturization\n",
      "\n",
      "********************************************************************************************\n",
      "\n",
      "********************************************************************************************\n",
      "ITER: The iteration being evaluated.\n",
      "PIPELINE: A summary description of the pipeline being evaluated.\n",
      "DURATION: Time taken for the current iteration.\n",
      "METRIC: The result of computing score on the fitted pipeline.\n",
      "BEST: The best observed score thus far.\n",
      "********************************************************************************************\n",
      "\n",
      " ITER   PIPELINE                                       DURATION            METRIC      BEST\n",
      "    0   MaxAbsScaler LightGBM                          0:00:10             0.7904    0.7904\n",
      "    1   MaxAbsScaler XGBoostClassifier                 0:00:09             0.7485    0.7904\n",
      "    2   MaxAbsScaler ExtremeRandomTrees                0:00:09             0.6560    0.7904\n",
      "    3   SparseNormalizer XGBoostClassifier             0:00:08             0.7411    0.7904\n",
      "    4   MaxAbsScaler LightGBM                          0:00:09             0.7040    0.7904\n",
      "    5   MaxAbsScaler LightGBM                          0:00:08             0.7065    0.7904\n",
      "    6   StandardScalerWrapper XGBoostClassifier        0:00:08             0.7534    0.7904\n",
      "    7   MaxAbsScaler LogisticRegression                0:00:08             0.6326    0.7904\n",
      "    8   StandardScalerWrapper ExtremeRandomTrees       0:00:08             0.6202    0.7904\n",
      "    9   StandardScalerWrapper XGBoostClassifier        0:00:08             0.7152    0.7904\n",
      "   10   SparseNormalizer LightGBM                      0:00:09             0.6510    0.7904\n",
      "   11   StandardScalerWrapper XGBoostClassifier        0:00:08             0.7583    0.7904\n",
      "   12   MaxAbsScaler LogisticRegression                0:00:09             0.6276    0.7904\n",
      "   13   MaxAbsScaler SGD                               0:00:09             0.6215    0.7904\n",
      "   14   StandardScalerWrapper XGBoostClassifier        0:00:08             0.7152    0.7904\n",
      "   15   SparseNormalizer RandomForest                  0:00:10             0.7349    0.7904\n",
      "   16   StandardScalerWrapper LogisticRegression       0:00:09             0.6338    0.7904\n",
      "   17   StandardScalerWrapper RandomForest             0:00:09             0.6966    0.7904\n",
      "   18   StandardScalerWrapper XGBoostClassifier        0:00:09             0.7830    0.7904\n",
      "   19   TruncatedSVDWrapper RandomForest               0:00:10             0.6782    0.7904\n",
      "   20   TruncatedSVDWrapper RandomForest               0:00:04             0.7682    0.7904\n",
      "   21   StandardScalerWrapper XGBoostClassifier        0:00:04             0.7719    0.7904\n",
      "   22   SparseNormalizer XGBoostClassifier             0:00:04             0.7472    0.7904\n",
      "   23   MaxAbsScaler LightGBM                          0:00:04             0.6510    0.7904\n",
      "   24   StandardScalerWrapper LogisticRegression       0:00:04             0.6202    0.7904\n",
      "   25   StandardScalerWrapper RandomForest             0:00:04             0.6350    0.7904\n",
      "   26   SparseNormalizer XGBoostClassifier             0:00:04             0.7300    0.7904\n",
      "   27   StandardScalerWrapper XGBoostClassifier        0:00:04             0.7485    0.7904\n",
      "   28   StandardScalerWrapper LightGBM                 0:00:04             0.6338    0.7904\n",
      "   29   StandardScalerWrapper LightGBM                 0:00:04             0.5055    0.7904\n",
      "   30   StandardScalerWrapper XGBoostClassifier        0:00:04             0.6892    0.7904\n",
      "   31   SparseNormalizer XGBoostClassifier             0:00:04             0.7509    0.7904\n",
      "   32   MaxAbsScaler LightGBM                          0:00:04             0.6276    0.7904\n",
      "   33   TruncatedSVDWrapper XGBoostClassifier          0:00:04             0.7756    0.7904\n",
      "   34                                                  0:00:00                nan    0.7904\n",
      "   35                                                  0:00:00                nan    0.7904\n",
      "   36                                                  0:00:01                nan    0.7904\n",
      "   37                                                  0:00:01                nan    0.7904\n",
      "   38    VotingEnsemble                                0:00:04             0.8200    0.8200\n"
     ]
    },
    {
     "data": {
      "text/plain": [
       "{'runId': 'AutoML_07214c7f-99c5-4c12-ad2c-b4e4c0414795',\n",
       " 'target': 'automl-com-clst',\n",
       " 'status': 'Completed',\n",
       " 'startTimeUtc': '2022-03-21T16:52:07.384662Z',\n",
       " 'endTimeUtc': '2022-03-21T17:23:05.305384Z',\n",
       " 'services': {},\n",
       " 'warnings': [{'source': 'JasmineService',\n",
       "   'message': 'No scores improved over last 20 iterations, so experiment stopped early. This early stopping behavior can be disabled by setting enable_early_stopping = False in AutoMLConfig for notebook/python SDK runs.'}],\n",
       " 'properties': {'num_iterations': '1000',\n",
       "  'training_type': 'TrainFull',\n",
       "  'acquisition_function': 'EI',\n",
       "  'primary_metric': 'accuracy',\n",
       "  'train_split': '0',\n",
       "  'acquisition_parameter': '0',\n",
       "  'num_cross_validation': '3',\n",
       "  'target': 'automl-com-clst',\n",
       "  'AMLSettingsJsonString': '{\"path\":null,\"name\":\"capstone-automl-experiment\",\"subscription_id\":\"9b72f9e6-56c5-4c16-991b-19c652994860\",\"resource_group\":\"aml-quickstarts-189567\",\"workspace_name\":\"quick-starts-ws-189567\",\"region\":\"southcentralus\",\"compute_target\":\"automl-com-clst\",\"spark_service\":null,\"azure_service\":\"remote\",\"many_models\":false,\"pipeline_fetch_max_batch_size\":1,\"enable_batch_run\":true,\"enable_run_restructure\":false,\"start_auxiliary_runs_before_parent_complete\":false,\"enable_code_generation\":false,\"iterations\":1000,\"primary_metric\":\"accuracy\",\"task_type\":\"classification\",\"positive_label\":null,\"data_script\":null,\"test_size\":0.0,\"test_include_predictions_only\":false,\"validation_size\":0.0,\"n_cross_validations\":3,\"y_min\":null,\"y_max\":null,\"num_classes\":null,\"featurization\":\"auto\",\"_ignore_package_version_incompatibilities\":false,\"is_timeseries\":false,\"max_cores_per_iteration\":1,\"max_concurrent_iterations\":5,\"iteration_timeout_minutes\":null,\"mem_in_mb\":null,\"enforce_time_on_windows\":false,\"experiment_timeout_minutes\":20,\"experiment_exit_score\":null,\"whitelist_models\":null,\"blacklist_algos\":[\"TensorFlowLinearClassifier\",\"TensorFlowDNN\"],\"supported_models\":[\"ExtremeRandomTrees\",\"MultinomialNaiveBayes\",\"XGBoostClassifier\",\"RandomForest\",\"AveragedPerceptronClassifier\",\"GradientBoosting\",\"TensorFlowDNN\",\"TabnetClassifier\",\"LightGBM\",\"SVM\",\"SGD\",\"BernoulliNaiveBayes\",\"LinearSVM\",\"KNN\",\"LogisticRegression\",\"TensorFlowLinearClassifier\",\"DecisionTree\"],\"private_models\":[],\"auto_blacklist\":true,\"blacklist_samples_reached\":false,\"exclude_nan_labels\":true,\"verbosity\":20,\"_debug_log\":\"azureml_automl.log\",\"show_warnings\":false,\"model_explainability\":true,\"service_url\":null,\"sdk_url\":null,\"sdk_packages\":null,\"enable_onnx_compatible_models\":true,\"enable_split_onnx_featurizer_estimator_models\":false,\"vm_type\":\"STANDARD_D2_V2\",\"telemetry_verbosity\":20,\"send_telemetry\":true,\"enable_dnn\":false,\"scenario\":\"SDK-1.13.0\",\"environment_label\":null,\"save_mlflow\":false,\"enable_categorical_indicators\":false,\"force_text_dnn\":false,\"enable_feature_sweeping\":false,\"enable_early_stopping\":true,\"early_stopping_n_iters\":10,\"arguments\":null,\"dataset_id\":null,\"hyperdrive_config\":null,\"validation_dataset_id\":null,\"run_source\":null,\"metrics\":null,\"enable_metric_confidence\":false,\"enable_ensembling\":true,\"enable_stack_ensembling\":false,\"ensemble_iterations\":15,\"enable_tf\":false,\"enable_subsampling\":null,\"subsample_seed\":null,\"enable_nimbusml\":false,\"enable_streaming\":false,\"force_streaming\":false,\"track_child_runs\":true,\"allowed_private_models\":[],\"label_column_name\":\"RiskLevel\",\"weight_column_name\":null,\"cv_split_column_names\":null,\"enable_local_managed\":false,\"_local_managed_run_id\":null,\"cost_mode\":1,\"lag_length\":0,\"metric_operation\":\"maximize\",\"preprocess\":true}',\n",
       "  'DataPrepJsonString': '{\\\\\"training_data\\\\\": {\\\\\"datasetId\\\\\": \\\\\"d25c0e0f-a4f5-4ec4-952b-bed517311d7d\\\\\"}, \\\\\"datasets\\\\\": 0}',\n",
       "  'EnableSubsampling': None,\n",
       "  'runTemplate': 'AutoML',\n",
       "  'azureml.runsource': 'automl',\n",
       "  'display_task_type': 'classification',\n",
       "  'dependencies_versions': '{\"azureml-widgets\": \"1.38.0\", \"azureml-train\": \"1.38.0\", \"azureml-train-restclients-hyperdrive\": \"1.38.0\", \"azureml-train-core\": \"1.38.0\", \"azureml-train-automl\": \"1.38.0\", \"azureml-train-automl-runtime\": \"1.38.0\", \"azureml-train-automl-client\": \"1.38.0\", \"azureml-tensorboard\": \"1.38.0\", \"azureml-telemetry\": \"1.38.0\", \"azureml-sdk\": \"1.38.0\", \"azureml-responsibleai\": \"1.38.0\", \"azureml-pipeline\": \"1.38.0\", \"azureml-pipeline-steps\": \"1.38.0\", \"azureml-pipeline-core\": \"1.38.0\", \"azureml-opendatasets\": \"1.38.0\", \"azureml-mlflow\": \"1.38.0\", \"azureml-interpret\": \"1.38.0\", \"azureml-inference-server-http\": \"0.4.2\", \"azureml-explain-model\": \"1.38.0\", \"azureml-defaults\": \"1.38.0\", \"azureml-dataset-runtime\": \"1.38.0\", \"azureml-dataprep\": \"2.26.0\", \"azureml-dataprep-rslex\": \"2.2.0\", \"azureml-dataprep-native\": \"38.0.0\", \"azureml-datadrift\": \"1.38.0\", \"azureml-core\": \"1.38.0\", \"azureml-contrib-services\": \"1.38.0\", \"azureml-contrib-server\": \"1.38.0\", \"azureml-contrib-reinforcementlearning\": \"1.38.0\", \"azureml-contrib-pipeline-steps\": \"1.38.0\", \"azureml-contrib-notebook\": \"1.38.0\", \"azureml-contrib-fairness\": \"1.38.0\", \"azureml-contrib-dataset\": \"1.38.0\", \"azureml-contrib-automl-pipeline-steps\": \"1.38.0\", \"azureml-cli-common\": \"1.38.0\", \"azureml-automl-runtime\": \"1.38.0\", \"azureml-automl-dnn-nlp\": \"1.38.0\", \"azureml-automl-core\": \"1.38.0\", \"azureml-accel-models\": \"1.38.0\"}',\n",
       "  '_aml_system_scenario_identification': 'Remote.Parent',\n",
       "  'ClientType': 'SDK',\n",
       "  'environment_cpu_name': 'AzureML-AutoML',\n",
       "  'environment_cpu_label': 'py36',\n",
       "  'environment_gpu_name': 'AzureML-AutoML-GPU',\n",
       "  'environment_gpu_label': 'py36',\n",
       "  'root_attribution': 'automl',\n",
       "  'attribution': 'AutoML',\n",
       "  'Orchestrator': 'AutoML',\n",
       "  'CancelUri': 'https://southcentralus.api.azureml.ms/jasmine/v1.0/subscriptions/9b72f9e6-56c5-4c16-991b-19c652994860/resourceGroups/aml-quickstarts-189567/providers/Microsoft.MachineLearningServices/workspaces/quick-starts-ws-189567/experimentids/cb958562-f1e0-44fe-8f41-019c44789313/cancel/AutoML_07214c7f-99c5-4c12-ad2c-b4e4c0414795',\n",
       "  'ClientSdkVersion': '1.38.0',\n",
       "  'snapshotId': '00000000-0000-0000-0000-000000000000',\n",
       "  'SetupRunId': 'AutoML_07214c7f-99c5-4c12-ad2c-b4e4c0414795_setup',\n",
       "  'SetupRunContainerId': 'dcid.AutoML_07214c7f-99c5-4c12-ad2c-b4e4c0414795_setup',\n",
       "  'FeaturizationRunJsonPath': 'featurizer_container.json',\n",
       "  'FeaturizationRunId': 'AutoML_07214c7f-99c5-4c12-ad2c-b4e4c0414795_featurize',\n",
       "  'ProblemInfoJsonString': '{\"dataset_num_categorical\": 0, \"is_sparse\": true, \"subsampling\": false, \"has_extra_col\": true, \"dataset_classes\": 3, \"dataset_features\": 54, \"dataset_samples\": 811, \"single_frequency_class_detected\": false}',\n",
       "  'ModelExplainRunId': 'AutoML_07214c7f-99c5-4c12-ad2c-b4e4c0414795_ModelExplain'},\n",
       " 'inputDatasets': [{'dataset': {'id': 'd25c0e0f-a4f5-4ec4-952b-bed517311d7d'}, 'consumptionDetails': {'type': 'RunInput', 'inputName': 'training_data', 'mechanism': 'Direct'}}],\n",
       " 'outputDatasets': [],\n",
       " 'logFiles': {},\n",
       " 'submittedBy': 'ODL_User 189567'}"
      ]
     },
     "execution_count": 9,
     "metadata": {},
     "output_type": "execute_result"
    }
   ],
   "source": [
    "RunDetails(remote_run).show()\n"
   ]
  },
  {
   "cell_type": "code",
   "execution_count": null,
   "metadata": {},
   "outputs": [],
   "source": [
    "remote_run.get_status()\n",
    "remote_run.wait_for_completion(show_output=True)"
   ]
  },
  {
   "cell_type": "markdown",
   "metadata": {},
   "source": [
    "## Best Model\n",
    "\n",
    "TODO: In the cell below, get the best model from the automl experiments and display all the properties of the model.\n",
    "\n"
   ]
  },
  {
   "cell_type": "code",
   "execution_count": 10,
   "metadata": {
    "gather": {
     "logged": 1647568001021
    },
    "jupyter": {
     "outputs_hidden": false,
     "source_hidden": false
    },
    "nteract": {
     "transient": {
      "deleting": false
     }
    }
   },
   "outputs": [
    {
     "name": "stdout",
     "output_type": "stream",
     "text": [
      "===== AutoMl Best Run ========\n",
      "Run(Experiment: capstone-automl-experiment,\n",
      "Id: AutoML_07214c7f-99c5-4c12-ad2c-b4e4c0414795_38,\n",
      "Type: azureml.scriptrun,\n",
      "Status: Completed)\n",
      "\n",
      "  ===== AutoMl Best Fitted Model ========\n",
      "Pipeline(memory=None,\n",
      "         steps=[('datatransformer',\n",
      "                 DataTransformer(enable_dnn=False, enable_feature_sweeping=False, feature_sweeping_config={}, feature_sweeping_timeout=86400, featurization_config=None, force_text_dnn=False, is_cross_validation=True, is_onnx_compatible=True, observer=None, task='classification', working_dir='/mnt/batch/tasks/shared/LS_root/mount...\n",
      "    gpu_training_param_dict={'processing_unit_type': 'cpu'}\n",
      "), random_state=None, reg_alpha=0.3684210526315789, reg_lambda=0, subsample=1))], verbose=False))], flatten_transform=None, weights=[0.18181818181818182, 0.09090909090909091, 0.09090909090909091, 0.09090909090909091, 0.09090909090909091, 0.09090909090909091, 0.09090909090909091, 0.09090909090909091, 0.09090909090909091, 0.09090909090909091]))],\n",
      "         verbose=False)\n",
      "Y_transformer(['LabelEncoder', LabelEncoder()])\n",
      "\n",
      " average_precision_score_micro 0.8730812741180376\n",
      "\n",
      " AUC_macro 0.9226793705273387\n",
      "\n",
      " average_precision_score_weighted 0.8647659722703661\n",
      "\n",
      " weighted_accuracy 0.8226841844282767\n",
      "\n",
      " f1_score_weighted 0.8189540322232832\n",
      "\n",
      " recall_score_weighted 0.8199899776775545\n",
      "\n",
      " precision_score_weighted 0.819593453577947\n",
      "\n",
      " recall_score_micro 0.8199899776775545\n",
      "\n",
      " precision_score_macro 0.8228526959653496\n",
      "\n",
      " recall_score_macro 0.8187646372860341\n",
      "\n",
      " balanced_accuracy 0.8187646372860341\n",
      "\n",
      " log_loss 0.6138810951918391\n",
      "\n",
      " AUC_weighted 0.9189162547687276\n",
      "\n",
      " matthews_correlation 0.7239247750212834\n",
      "\n",
      " f1_score_macro 0.8199474069639092\n",
      "\n",
      " average_precision_score_macro 0.8675376617497034\n",
      "\n",
      " accuracy 0.8199899776775545\n",
      "\n",
      " precision_score_micro 0.8199899776775545\n",
      "\n",
      " norm_macro_recall 0.7281469559290512\n",
      "\n",
      " AUC_micro 0.9290838330968461\n",
      "\n",
      " f1_score_micro 0.8199899776775545\n",
      "\n",
      " confusion_matrix aml://artifactId/ExperimentRun/dcid.AutoML_07214c7f-99c5-4c12-ad2c-b4e4c0414795_38/confusion_matrix\n",
      "\n",
      " accuracy_table aml://artifactId/ExperimentRun/dcid.AutoML_07214c7f-99c5-4c12-ad2c-b4e4c0414795_38/accuracy_table\n"
     ]
    }
   ],
   "source": [
    "automl_best_run, automl_fitted_model = remote_run.get_output()\n",
    "print(\"===== AutoMl Best Run ========\")\n",
    "print(automl_best_run)\n",
    "print(\"\\n  ===== AutoMl Best Fitted Model ========\")\n",
    "print(automl_fitted_model)\n",
    "automl_best_run.get_tags()\n",
    "automl_best_run_metrics = automl_best_run.get_metrics()\n",
    "\n",
    "for metric_name in automl_best_run_metrics:\n",
    "    metric = automl_best_run_metrics[metric_name]\n",
    "    print(\"\\n\",metric_name, metric)\n",
    "    \n"
   ]
  },
  {
   "cell_type": "code",
   "execution_count": 11,
   "metadata": {
    "gather": {
     "logged": 1647568025558
    }
   },
   "outputs": [
    {
     "name": "stdout",
     "output_type": "stream",
     "text": [
      "[('datatransformer', DataTransformer(\n",
      "    task='classification',\n",
      "    is_onnx_compatible=True,\n",
      "    enable_feature_sweeping=False,\n",
      "    enable_dnn=False,\n",
      "    force_text_dnn=False,\n",
      "    feature_sweeping_timeout=86400,\n",
      "    featurization_config=None,\n",
      "    is_cross_validation=True,\n",
      "    feature_sweeping_config={}\n",
      ")), ('prefittedsoftvotingclassifier', PreFittedSoftVotingClassifier(\n",
      "    estimators=[('0', Pipeline(\n",
      "        memory=None,\n",
      "        steps=[('maxabsscaler', MaxAbsScaler(\n",
      "            copy=True\n",
      "        )), ('lightgbmclassifier', LightGBMClassifier(\n",
      "            min_data_in_leaf=20,\n",
      "            random_state=None,\n",
      "            n_jobs=1,\n",
      "            problem_info=ProblemInfo(\n",
      "                gpu_training_param_dict={'processing_unit_type': 'cpu'}\n",
      "            )\n",
      "        ))],\n",
      "        verbose=False\n",
      "    )), ('18', Pipeline(\n",
      "        memory=None,\n",
      "        steps=[('standardscalerwrapper', StandardScalerWrapper(\n",
      "            copy=True,\n",
      "            with_mean=False,\n",
      "            with_std=False\n",
      "        )), ('xgboostclassifier', XGBoostClassifier(\n",
      "            random_state=0,\n",
      "            n_jobs=1,\n",
      "            problem_info=ProblemInfo(\n",
      "                gpu_training_param_dict={'processing_unit_type': 'cpu'}\n",
      "            ),\n",
      "            booster='gbtree',\n",
      "            colsample_bytree=0.7,\n",
      "            eta=0.1,\n",
      "            gamma=0.1,\n",
      "            max_depth=9,\n",
      "            max_leaves=511,\n",
      "            n_estimators=25,\n",
      "            objective='reg:logistic',\n",
      "            reg_alpha=0,\n",
      "            reg_lambda=1.7708333333333335,\n",
      "            subsample=0.9,\n",
      "            tree_method='auto'\n",
      "        ))],\n",
      "        verbose=False\n",
      "    )), ('33', Pipeline(\n",
      "        memory=None,\n",
      "        steps=[('truncatedsvdwrapper', TruncatedSVDWrapper(\n",
      "            n_components=0.45526315789473687,\n",
      "            random_state=None\n",
      "        )), ('xgboostclassifier', XGBoostClassifier(\n",
      "            random_state=0,\n",
      "            n_jobs=1,\n",
      "            problem_info=ProblemInfo(\n",
      "                gpu_training_param_dict={'processing_unit_type': 'cpu'}\n",
      "            ),\n",
      "            booster='gbtree',\n",
      "            colsample_bytree=1,\n",
      "            eta=0.01,\n",
      "            gamma=0,\n",
      "            max_depth=10,\n",
      "            max_leaves=0,\n",
      "            n_estimators=25,\n",
      "            objective='reg:logistic',\n",
      "            reg_alpha=2.5,\n",
      "            reg_lambda=2.1875,\n",
      "            subsample=0.9,\n",
      "            tree_method='auto'\n",
      "        ))],\n",
      "        verbose=False\n",
      "    )), ('21', Pipeline(\n",
      "        memory=None,\n",
      "        steps=[('standardscalerwrapper', StandardScalerWrapper(\n",
      "            copy=True,\n",
      "            with_mean=False,\n",
      "            with_std=False\n",
      "        )), ('xgboostclassifier', XGBoostClassifier(\n",
      "            random_state=0,\n",
      "            n_jobs=1,\n",
      "            problem_info=ProblemInfo(\n",
      "                gpu_training_param_dict={'processing_unit_type': 'cpu'}\n",
      "            ),\n",
      "            booster='gbtree',\n",
      "            colsample_bytree=0.5,\n",
      "            eta=0.2,\n",
      "            gamma=0,\n",
      "            max_depth=7,\n",
      "            max_leaves=7,\n",
      "            n_estimators=25,\n",
      "            objective='reg:logistic',\n",
      "            reg_alpha=0,\n",
      "            reg_lambda=0.20833333333333334,\n",
      "            subsample=1,\n",
      "            tree_method='auto'\n",
      "        ))],\n",
      "        verbose=False\n",
      "    )), ('20', Pipeline(\n",
      "        memory=None,\n",
      "        steps=[('truncatedsvdwrapper', TruncatedSVDWrapper(\n",
      "            n_components=0.7026315789473684,\n",
      "            random_state=None\n",
      "        )), ('randomforestclassifier', RandomForestClassifier(\n",
      "            bootstrap=False,\n",
      "            ccp_alpha=0.0,\n",
      "            class_weight='balanced',\n",
      "            criterion='gini',\n",
      "            max_depth=None,\n",
      "            max_features='log2',\n",
      "            max_leaf_nodes=None,\n",
      "            max_samples=None,\n",
      "            min_impurity_decrease=0.0,\n",
      "            min_impurity_split=None,\n",
      "            min_samples_leaf=0.01,\n",
      "            min_samples_split=0.01,\n",
      "            min_weight_fraction_leaf=0.0,\n",
      "            n_estimators=200,\n",
      "            n_jobs=1,\n",
      "            oob_score=False,\n",
      "            random_state=None,\n",
      "            verbose=0,\n",
      "            warm_start=False\n",
      "        ))],\n",
      "        verbose=False\n",
      "    )), ('6', Pipeline(\n",
      "        memory=None,\n",
      "        steps=[('standardscalerwrapper', StandardScalerWrapper(\n",
      "            copy=True,\n",
      "            with_mean=False,\n",
      "            with_std=False\n",
      "        )), ('xgboostclassifier', XGBoostClassifier(\n",
      "            random_state=0,\n",
      "            n_jobs=1,\n",
      "            problem_info=ProblemInfo(\n",
      "                gpu_training_param_dict={'processing_unit_type': 'cpu'}\n",
      "            ),\n",
      "            booster='gbtree',\n",
      "            colsample_bytree=0.5,\n",
      "            eta=0.3,\n",
      "            gamma=0,\n",
      "            max_depth=10,\n",
      "            max_leaves=255,\n",
      "            n_estimators=10,\n",
      "            objective='reg:logistic',\n",
      "            reg_alpha=0,\n",
      "            reg_lambda=0.10416666666666667,\n",
      "            subsample=0.7,\n",
      "            tree_method='auto'\n",
      "        ))],\n",
      "        verbose=False\n",
      "    )), ('22', Pipeline(\n",
      "        memory=None,\n",
      "        steps=[('sparsenormalizer', Normalizer(\n",
      "            copy=True,\n",
      "            norm='l1'\n",
      "        )), ('xgboostclassifier', XGBoostClassifier(\n",
      "            random_state=0,\n",
      "            n_jobs=1,\n",
      "            problem_info=ProblemInfo(\n",
      "                gpu_training_param_dict={'processing_unit_type': 'cpu'}\n",
      "            ),\n",
      "            booster='gbtree',\n",
      "            colsample_bylevel=1,\n",
      "            colsample_bytree=1,\n",
      "            eta=0.2,\n",
      "            gamma=0,\n",
      "            max_depth=10,\n",
      "            max_leaves=0,\n",
      "            n_estimators=10,\n",
      "            objective='reg:logistic',\n",
      "            reg_alpha=1.3541666666666667,\n",
      "            reg_lambda=1.4583333333333335,\n",
      "            subsample=1,\n",
      "            tree_method='auto'\n",
      "        ))],\n",
      "        verbose=False\n",
      "    )), ('3', Pipeline(\n",
      "        memory=None,\n",
      "        steps=[('sparsenormalizer', Normalizer(\n",
      "            copy=True,\n",
      "            norm='l2'\n",
      "        )), ('xgboostclassifier', XGBoostClassifier(\n",
      "            random_state=0,\n",
      "            n_jobs=1,\n",
      "            problem_info=ProblemInfo(\n",
      "                gpu_training_param_dict={'processing_unit_type': 'cpu'}\n",
      "            ),\n",
      "            booster='gbtree',\n",
      "            colsample_bytree=0.7,\n",
      "            eta=0.01,\n",
      "            gamma=0.01,\n",
      "            max_depth=7,\n",
      "            max_leaves=31,\n",
      "            n_estimators=10,\n",
      "            objective='reg:logistic',\n",
      "            reg_alpha=2.1875,\n",
      "            reg_lambda=1.0416666666666667,\n",
      "            subsample=1,\n",
      "            tree_method='auto'\n",
      "        ))],\n",
      "        verbose=False\n",
      "    )), ('4', Pipeline(\n",
      "        memory=None,\n",
      "        steps=[('maxabsscaler', MaxAbsScaler(\n",
      "            copy=True\n",
      "        )), ('lightgbmclassifier', LightGBMClassifier(\n",
      "            boosting_type='gbdt',\n",
      "            colsample_bytree=0.6933333333333332,\n",
      "            learning_rate=0.09473736842105263,\n",
      "            max_bin=110,\n",
      "            max_depth=8,\n",
      "            min_child_weight=6,\n",
      "            min_data_in_leaf=0.003457931034482759,\n",
      "            min_split_gain=1,\n",
      "            n_estimators=25,\n",
      "            num_leaves=227,\n",
      "            reg_alpha=0.9473684210526315,\n",
      "            reg_lambda=0.42105263157894735,\n",
      "            subsample=0.49526315789473685,\n",
      "            random_state=None,\n",
      "            n_jobs=1,\n",
      "            problem_info=ProblemInfo(\n",
      "                gpu_training_param_dict={'processing_unit_type': 'cpu'}\n",
      "            )\n",
      "        ))],\n",
      "        verbose=False\n",
      "    )), ('28', Pipeline(\n",
      "        memory=None,\n",
      "        steps=[('standardscalerwrapper', StandardScalerWrapper(\n",
      "            copy=True,\n",
      "            with_mean=False,\n",
      "            with_std=False\n",
      "        )), ('lightgbmclassifier', LightGBMClassifier(\n",
      "            boosting_type='goss',\n",
      "            colsample_bytree=0.2977777777777778,\n",
      "            learning_rate=0.06316157894736842,\n",
      "            max_bin=210,\n",
      "            max_depth=4,\n",
      "            min_child_weight=6,\n",
      "            min_data_in_leaf=0.08620827586206897,\n",
      "            min_split_gain=0.631578947368421,\n",
      "            n_estimators=400,\n",
      "            num_leaves=26,\n",
      "            reg_alpha=0.3684210526315789,\n",
      "            reg_lambda=0,\n",
      "            subsample=1,\n",
      "            random_state=None,\n",
      "            n_jobs=1,\n",
      "            problem_info=ProblemInfo(\n",
      "                gpu_training_param_dict={'processing_unit_type': 'cpu'}\n",
      "            )\n",
      "        ))],\n",
      "        verbose=False\n",
      "    ))],\n",
      "    weights=[0.18181818181818182, 0.09090909090909091, 0.09090909090909091, 0.09090909090909091, 0.09090909090909091, 0.09090909090909091, 0.09090909090909091, 0.09090909090909091, 0.09090909090909091, 0.09090909090909091],\n",
      "    flatten_transform=None,\n",
      "    classification_labels=array([0, 1, 2])\n",
      "))]\n"
     ]
    }
   ],
   "source": [
    "print(automl_fitted_model.steps)"
   ]
  },
  {
   "cell_type": "markdown",
   "metadata": {},
   "source": [
    "https://docs.microsoft.com/en-us/azure/machine-learning/how-to-deploy-and-where?tabs=python\n",
    "####  Workflow for deploying a model \n",
    "The workflow is similar no matter where you deploy your model:\n",
    "\n",
    "<li>Register the model.\n",
    "<li>Prepare an entry script.\n",
    "<li>Prepare an inference configuration.\n",
    "<li>Deploy the model locally to ensure everything works.\n",
    "<li>Choose a compute target.\n",
    "<li>Deploy the model to the cloud.\n",
    "<li>Test the resulting web service."
   ]
  },
  {
   "cell_type": "markdown",
   "metadata": {},
   "source": [
    "## Model Deployment\n",
    "\n",
    "Remember you have to deploy only one of the two models you trained but you still need to register both the models. Perform the steps in the rest of this notebook only if you wish to deploy this model.\n",
    "\n",
    "TODO: In the cell below, register the model, create an inference config and deploy the model as a web service."
   ]
  },
  {
   "cell_type": "markdown",
   "metadata": {},
   "source": [
    "##### Register Model"
   ]
  },
  {
   "cell_type": "code",
   "execution_count": 12,
   "metadata": {
    "gather": {
     "logged": 1647568040722
    }
   },
   "outputs": [
    {
     "data": {
      "text/plain": [
       "'outputs/model.pkl'"
      ]
     },
     "execution_count": 12,
     "metadata": {},
     "output_type": "execute_result"
    }
   ],
   "source": [
    "from azureml.core import Model\n",
    "\n",
    "# Register model\n",
    "automl_model_registered = remote_run.register_model(model_name='Maternal_Health_Risk_AutoML_model') \n",
    "automl_model_registered.download(target_dir=\"outputs\", exist_ok=True)"
   ]
  },
  {
   "cell_type": "markdown",
   "metadata": {},
   "source": [
    "####  List the registered model"
   ]
  },
  {
   "cell_type": "code",
   "execution_count": 13,
   "metadata": {
    "gather": {
     "logged": 1647568055334
    }
   },
   "outputs": [
    {
     "name": "stdout",
     "output_type": "stream",
     "text": [
      "Maternal_Health_Risk_AutoML_model version: 1\n",
      "\n",
      "\n"
     ]
    }
   ],
   "source": [
    "for model in Model.list(ws):\n",
    "    print(model.name, 'version:', model.version)\n",
    "    for tag_name in model.tags:\n",
    "        tag = model.tags[tag_name]\n",
    "        print ('\\t',tag_name, ':', tag)\n",
    "    for prop_name in model.properties:\n",
    "        prop = model.properties[prop_name]\n",
    "        print ('\\t',prop_name, ':', prop)\n",
    "    print('\\n')"
   ]
  },
  {
   "cell_type": "markdown",
   "metadata": {},
   "source": [
    "#### Prepare an inference configuration."
   ]
  },
  {
   "cell_type": "code",
   "execution_count": 14,
   "metadata": {
    "gather": {
     "logged": 1647568076921
    }
   },
   "outputs": [],
   "source": [
    "from azureml.automl.core.shared import constants\n",
    "from azureml.core.environment import Environment\n",
    "myenv = Environment.from_conda_specification(name=\"env\", file_path=\"project_environment.yml\")"
   ]
  },
  {
   "cell_type": "markdown",
   "metadata": {},
   "source": [
    "#### Prepare an inference configuration using an entry script."
   ]
  },
  {
   "cell_type": "code",
   "execution_count": 15,
   "metadata": {
    "gather": {
     "logged": 1647575217050
    }
   },
   "outputs": [],
   "source": [
    "from azureml.core.model import InferenceConfig\n",
    "inference_config = InferenceConfig(entry_script=\"scoreautoml.py\",environment=myenv)\n"
   ]
  },
  {
   "cell_type": "markdown",
   "metadata": {},
   "source": [
    "#### Deploy the model locally to ensure everything works. Will skip this part"
   ]
  },
  {
   "cell_type": "markdown",
   "metadata": {
    "collapsed": true,
    "gather": {
     "logged": 1598431657736
    },
    "jupyter": {
     "outputs_hidden": false,
     "source_hidden": false
    },
    "nteract": {
     "transient": {
      "deleting": false
     }
    }
   },
   "source": [
    "TODO: In the cell below, send a request to the web service you deployed to test it."
   ]
  },
  {
   "cell_type": "code",
   "execution_count": 16,
   "metadata": {
    "gather": {
     "logged": 1647575232344
    }
   },
   "outputs": [],
   "source": [
    "from azureml.core.webservice import Webservice, AciWebservice\n",
    "deployment_config = AciWebservice.deploy_configuration(cpu_cores=1, memory_gb = 4, \n",
    "                                                       enable_app_insights=True, \n",
    "                                                       description='Maternal Health Risk AutoML model' )\n",
    "model = Model(ws,'Maternal_Health_Risk_AutoML_model')"
   ]
  },
  {
   "cell_type": "code",
   "execution_count": 17,
   "metadata": {
    "gather": {
     "logged": 1647576812493
    }
   },
   "outputs": [
    {
     "name": "stdout",
     "output_type": "stream",
     "text": [
      "Tips: You can try get_logs(): https://aka.ms/debugimage#dockerlog or local deployment: https://aka.ms/debugimage#debug-locally to debug if deployment takes longer than 10 minutes.\n",
      "Running\n",
      "2022-03-21 17:29:04+00:00 Creating Container Registry if not exists..\n",
      "2022-03-21 17:39:05+00:00 Registering the environment.\n",
      "2022-03-21 17:39:06+00:00 Building image..\n",
      "2022-03-21 17:49:49+00:00 Generating deployment configuration.\n",
      "2022-03-21 17:49:50+00:00 Submitting deployment to compute..\n",
      "2022-03-21 17:49:54+00:00 Checking the status of deployment maternal-health-risk-dep-service..\n",
      "2022-03-21 17:52:32+00:00 Checking the status of inference endpoint maternal-health-risk-dep-service.\n",
      "Succeeded\n",
      "ACI service creation operation finished, operation \"Succeeded\"\n"
     ]
    }
   ],
   "source": [
    "\n",
    "service=Model.deploy(workspace=ws,\n",
    "                    name=\"maternal-health-risk-dep-service\",\n",
    "                    models=[model],\n",
    "                    inference_config=inference_config,\n",
    "                    deployment_config=deployment_config)\n",
    "\n",
    "service.wait_for_deployment(show_output=True)\n",
    "\n"
   ]
  },
  {
   "cell_type": "markdown",
   "metadata": {
    "collapsed": true,
    "gather": {
     "logged": 1598432765711
    },
    "jupyter": {
     "outputs_hidden": false,
     "source_hidden": false
    },
    "nteract": {
     "transient": {
      "deleting": false
     }
    }
   },
   "source": [
    "TODO: In the cell below, print the logs of the web service and delete the service"
   ]
  },
  {
   "cell_type": "code",
   "execution_count": 19,
   "metadata": {
    "gather": {
     "logged": 1647576939151
    },
    "jupyter": {
     "outputs_hidden": false,
     "source_hidden": false
    },
    "nteract": {
     "transient": {
      "deleting": false
     }
    }
   },
   "outputs": [
    {
     "name": "stdout",
     "output_type": "stream",
     "text": [
      "http://a2b21d48-478e-463e-b747-72c9f3b14d27.southcentralus.azurecontainer.io/score\n"
     ]
    }
   ],
   "source": [
    "print(service.scoring_uri)"
   ]
  },
  {
   "cell_type": "code",
   "execution_count": 20,
   "metadata": {
    "gather": {
     "logged": 1647576970623
    },
    "jupyter": {
     "outputs_hidden": false,
     "source_hidden": false
    },
    "nteract": {
     "transient": {
      "deleting": false
     }
    }
   },
   "outputs": [
    {
     "name": "stdout",
     "output_type": "stream",
     "text": [
      "http://a2b21d48-478e-463e-b747-72c9f3b14d27.southcentralus.azurecontainer.io/swagger.json\n"
     ]
    }
   ],
   "source": [
    "print(service.swagger_uri)"
   ]
  },
  {
   "cell_type": "code",
   "execution_count": null,
   "metadata": {},
   "outputs": [],
   "source": [
    "scoring_uri = service.scoring_uri\n",
    "\n",
    "data = {\n",
    "  \"data\": [\n",
    "    {\n",
    "      \"Age\": 25,\n",
    "      \"SystolicBP\":130 ,\n",
    "      \"DiastolicBP\":80 ,\n",
    "      \"BS\": 15,\n",
    "      \"BodyTemp\": 98,\n",
    "      \"HeartRate\": 86\n",
    "          }\n",
    "  ]\n",
    "}\n",
    "# Convert to JSON string\n",
    "input_data = json.dumps(data)\n",
    "\n",
    "# Set the content type\n",
    "headers = {'Content-Type': 'application/json'}\n",
    "\n",
    "# Make the request and display the response\n",
    "resp = requests.post(scoring_uri, input_data, headers=headers)\n",
    "print(resp.json())"
   ]
  },
  {
   "cell_type": "code",
   "execution_count": 18,
   "metadata": {
    "gather": {
     "logged": 1647576829519
    },
    "jupyter": {
     "outputs_hidden": false,
     "source_hidden": false
    },
    "nteract": {
     "transient": {
      "deleting": false
     }
    }
   },
   "outputs": [
    {
     "name": "stdout",
     "output_type": "stream",
     "text": [
      "2022-03-21T17:52:14,871264100+00:00 - iot-server/run \n",
      "2022-03-21T17:52:14,872522500+00:00 - gunicorn/run \n",
      "Dynamic Python package installation is disabled.\n",
      "Starting HTTP server\n",
      "2022-03-21T17:52:14,880628500+00:00 - rsyslog/run \n",
      "2022-03-21T17:52:14,944990800+00:00 - nginx/run \n",
      "rsyslogd: /azureml-envs/azureml_fc7e1840225416a471556263041ca33e/lib/libuuid.so.1: no version information available (required by rsyslogd)\n",
      "EdgeHubConnectionString and IOTEDGE_IOTHUBHOSTNAME are not set. Exiting...\n",
      "2022-03-21T17:52:15,310600400+00:00 - iot-server/finish 1 0\n",
      "2022-03-21T17:52:15,317438200+00:00 - Exit code 1 is normal. Not restarting iot-server.\n",
      "Starting gunicorn 19.9.0\n",
      "Listening at: http://127.0.0.1:31311 (72)\n",
      "Using worker: sync\n",
      "worker timeout is set to 300\n",
      "Booting worker with pid: 100\n",
      "SPARK_HOME not set. Skipping PySpark Initialization.\n",
      "Generating new fontManager, this may take some time...\n",
      "Initializing logger\n",
      "2022-03-21 17:52:20,172 | root | INFO | Starting up app insights client\n",
      "logging socket was found. logging is available.\n",
      "logging socket was found. logging is available.\n",
      "2022-03-21 17:52:20,173 | root | INFO | Starting up request id generator\n",
      "2022-03-21 17:52:20,173 | root | INFO | Starting up app insight hooks\n",
      "2022-03-21 17:52:20,173 | root | INFO | Invoking user's init function\n",
      "2022-03-21 17:52:22,129 | root | INFO | Users's init has completed successfully\n",
      "2022-03-21 17:52:22,137 | root | INFO | Skipping middleware: dbg_model_info as it's not enabled.\n",
      "2022-03-21 17:52:22,138 | root | INFO | Skipping middleware: dbg_resource_usage as it's not enabled.\n",
      "2022-03-21 17:52:22,145 | root | INFO | Scoring timeout is found from os.environ: 60000 ms\n",
      "2022-03-21 17:52:32,604 | root | INFO | Swagger file not present\n",
      "2022-03-21 17:52:32,605 | root | INFO | 404\n",
      "127.0.0.1 - - [21/Mar/2022:17:52:32 +0000] \"GET /swagger.json HTTP/1.0\" 404 19 \"-\" \"Go-http-client/1.1\"\n",
      "2022-03-21 17:52:37,647 | root | INFO | Swagger file not present\n",
      "2022-03-21 17:52:37,647 | root | INFO | 404\n",
      "127.0.0.1 - - [21/Mar/2022:17:52:37 +0000] \"GET /swagger.json HTTP/1.0\" 404 19 \"-\" \"Go-http-client/1.1\"\n",
      "\n"
     ]
    }
   ],
   "source": [
    "print(service.get_logs())"
   ]
  },
  {
   "cell_type": "code",
   "execution_count": 21,
   "metadata": {
    "gather": {
     "logged": 1647576705894
    },
    "jupyter": {
     "outputs_hidden": false,
     "source_hidden": false
    },
    "nteract": {
     "transient": {
      "deleting": false
     }
    }
   },
   "outputs": [],
   "source": [
    "service.delete()\n",
    "model.delete()"
   ]
  },
  {
   "cell_type": "markdown",
   "metadata": {},
   "source": [
    "**Submission Checklist**\n",
    "- I have registered the model.\n",
    "- I have deployed the model with the best accuracy as a webservice.\n",
    "- I have tested the webservice by sending a request to the model endpoint.\n",
    "- I have deleted the webservice and shutdown all the computes that I have used.\n",
    "- I have taken a screenshot showing the model endpoint as active.\n",
    "- The project includes a file containing the environment details.\n"
   ]
  },
  {
   "cell_type": "markdown",
   "metadata": {},
   "source": []
  }
 ],
 "metadata": {
  "kernel_info": {
   "name": "python3-azureml"
  },
  "kernelspec": {
   "display_name": "Python 3.6 - AzureML",
   "language": "python",
   "name": "python3-azureml"
  },
  "language_info": {
   "codemirror_mode": {
    "name": "ipython",
    "version": 3
   },
   "file_extension": ".py",
   "mimetype": "text/x-python",
   "name": "python",
   "nbconvert_exporter": "python",
   "pygments_lexer": "ipython3",
   "version": "3.6.9"
  },
  "microsoft": {
   "host": {
    "AzureML": {
     "notebookHasBeenCompleted": true
    }
   }
  },
  "nteract": {
   "version": "nteract-front-end@1.0.0"
  }
 },
 "nbformat": 4,
 "nbformat_minor": 2
}
