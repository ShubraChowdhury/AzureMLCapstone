{
 "cells": [
  {
   "cell_type": "markdown",
   "metadata": {},
   "source": [
    "# Automated ML\n",
    "\n",
    "TODO: Import Dependencies. In the cell below, import all the dependencies that you will need to complete the project."
   ]
  },
  {
   "cell_type": "code",
   "execution_count": 1,
   "metadata": {
    "gather": {
     "logged": 1647565721400
    },
    "jupyter": {
     "outputs_hidden": false,
     "source_hidden": false
    },
    "nteract": {
     "transient": {
      "deleting": false
     }
    }
   },
   "outputs": [
    {
     "name": "stdout",
     "output_type": "stream",
     "text": [
      "SDK version: 1.38.0\n"
     ]
    }
   ],
   "source": [
    "import logging\n",
    "import os\n",
    "import csv\n",
    "import joblib\n",
    "\n",
    "from matplotlib import pyplot as plt\n",
    "import numpy as np\n",
    "import pandas as pd\n",
    "from sklearn import datasets\n",
    "import pkg_resources\n",
    "\n",
    "import azureml.core\n",
    "from azureml.core.experiment import Experiment\n",
    "from azureml.core.workspace import Workspace\n",
    "from azureml.train.automl import AutoMLConfig\n",
    "from azureml.core.dataset import Dataset\n",
    "\n",
    "from azureml.pipeline.steps import AutoMLStep\n",
    "from azureml.widgets import RunDetails\n",
    "from azureml.core.webservice import LocalWebservice\n",
    "\n",
    "from azureml.core.compute import AmlCompute\n",
    "from azureml.core.compute import ComputeTarget\n",
    "from azureml.core.compute_target import ComputeTargetException\n",
    "\n",
    "import urllib.request\n",
    "from azureml.core.model import Model\n",
    "\n",
    "\n",
    "# Check core SDK version number\n",
    "print(\"SDK version:\", azureml.core.VERSION)"
   ]
  },
  {
   "cell_type": "markdown",
   "metadata": {},
   "source": [
    "## Dataset\n",
    "\n",
    "### Overview\n",
    "TODO: In this markdown cell, give an overview of the dataset you are using. Also mention the task you will be performing.\n",
    "\n",
    "\n",
    "TODO: Get data. In the cell below, write code to access the data you will be using in this project. Remember that the dataset needs to be external."
   ]
  },
  {
   "cell_type": "code",
   "execution_count": 2,
   "metadata": {
    "gather": {
     "logged": 1647565757631
    },
    "jupyter": {
     "outputs_hidden": false,
     "source_hidden": false
    },
    "nteract": {
     "transient": {
      "deleting": false
     }
    }
   },
   "outputs": [
    {
     "name": "stdout",
     "output_type": "stream",
     "text": [
      "quick-starts-ws-189674\n",
      "aml-quickstarts-189674\n",
      "southcentralus\n",
      "6971f5ac-8af1-446e-8034-05acea24681f\n"
     ]
    }
   ],
   "source": [
    "ws = Workspace.from_config()\n",
    "\n",
    "# choose a name for experiment\n",
    "experiment_name = 'capstone-automl-experiment'\n",
    "\n",
    "experiment=Experiment(workspace=ws, name=experiment_name)\n",
    "\n",
    "print(ws.name, ws.resource_group, ws.location, ws.subscription_id, sep = '\\n')"
   ]
  },
  {
   "cell_type": "markdown",
   "metadata": {},
   "source": [
    "# Create or Attach an AmlCompute cluster"
   ]
  },
  {
   "cell_type": "code",
   "execution_count": 3,
   "metadata": {
    "gather": {
     "logged": 1647566388343
    }
   },
   "outputs": [
    {
     "name": "stdout",
     "output_type": "stream",
     "text": [
      "Found existing cluster, use it.\n",
      "Succeeded\n",
      "AmlCompute wait for completion finished\n",
      "\n",
      "Minimum number of nodes requested have been provisioned\n"
     ]
    }
   ],
   "source": [
    "# NOTE: update the cluster name to match the existing cluster\n",
    "# Choose a name for your CPU cluster\n",
    "amlcompute_cluster_name = \"automl-com-clst\" \n",
    "\n",
    "# Verify that cluster does not exist already\n",
    "try:\n",
    "    compute_target = ComputeTarget(workspace=ws, name=amlcompute_cluster_name)\n",
    "    print('Found existing cluster, use it.')\n",
    "except ComputeTargetException:\n",
    "    compute_config = AmlCompute.provisioning_configuration(vm_size='STANDARD_D2_V2', max_nodes=4)\n",
    "    compute_target = ComputeTarget.create(ws, amlcompute_cluster_name, compute_config)\n",
    "\n",
    "compute_target.wait_for_completion(show_output=True, min_node_count = 1, timeout_in_minutes = 10)\n",
    "# For a more detailed view of current AmlCompute status, use get_status()."
   ]
  },
  {
   "cell_type": "markdown",
   "metadata": {},
   "source": [
    "# Data"
   ]
  },
  {
   "cell_type": "code",
   "execution_count": 4,
   "metadata": {
    "gather": {
     "logged": 1647566452547
    }
   },
   "outputs": [
    {
     "data": {
      "text/html": [
       "<div>\n",
       "<style scoped>\n",
       "    .dataframe tbody tr th:only-of-type {\n",
       "        vertical-align: middle;\n",
       "    }\n",
       "\n",
       "    .dataframe tbody tr th {\n",
       "        vertical-align: top;\n",
       "    }\n",
       "\n",
       "    .dataframe thead th {\n",
       "        text-align: right;\n",
       "    }\n",
       "</style>\n",
       "<table border=\"1\" class=\"dataframe\">\n",
       "  <thead>\n",
       "    <tr style=\"text-align: right;\">\n",
       "      <th></th>\n",
       "      <th>Age</th>\n",
       "      <th>SystolicBP</th>\n",
       "      <th>DiastolicBP</th>\n",
       "      <th>BS</th>\n",
       "      <th>BodyTemp</th>\n",
       "      <th>HeartRate</th>\n",
       "    </tr>\n",
       "  </thead>\n",
       "  <tbody>\n",
       "    <tr>\n",
       "      <th>count</th>\n",
       "      <td>1014.000000</td>\n",
       "      <td>1014.000000</td>\n",
       "      <td>1014.000000</td>\n",
       "      <td>1014.000000</td>\n",
       "      <td>1011.000000</td>\n",
       "      <td>1014.000000</td>\n",
       "    </tr>\n",
       "    <tr>\n",
       "      <th>mean</th>\n",
       "      <td>29.871795</td>\n",
       "      <td>113.198225</td>\n",
       "      <td>76.460552</td>\n",
       "      <td>8.725986</td>\n",
       "      <td>98.665678</td>\n",
       "      <td>74.301775</td>\n",
       "    </tr>\n",
       "    <tr>\n",
       "      <th>std</th>\n",
       "      <td>13.474386</td>\n",
       "      <td>18.403913</td>\n",
       "      <td>13.885796</td>\n",
       "      <td>3.293532</td>\n",
       "      <td>1.373367</td>\n",
       "      <td>8.088702</td>\n",
       "    </tr>\n",
       "    <tr>\n",
       "      <th>min</th>\n",
       "      <td>10.000000</td>\n",
       "      <td>70.000000</td>\n",
       "      <td>49.000000</td>\n",
       "      <td>6.000000</td>\n",
       "      <td>98.000000</td>\n",
       "      <td>7.000000</td>\n",
       "    </tr>\n",
       "    <tr>\n",
       "      <th>25%</th>\n",
       "      <td>19.000000</td>\n",
       "      <td>100.000000</td>\n",
       "      <td>65.000000</td>\n",
       "      <td>6.900000</td>\n",
       "      <td>98.000000</td>\n",
       "      <td>70.000000</td>\n",
       "    </tr>\n",
       "    <tr>\n",
       "      <th>50%</th>\n",
       "      <td>26.000000</td>\n",
       "      <td>120.000000</td>\n",
       "      <td>80.000000</td>\n",
       "      <td>7.500000</td>\n",
       "      <td>98.000000</td>\n",
       "      <td>76.000000</td>\n",
       "    </tr>\n",
       "    <tr>\n",
       "      <th>75%</th>\n",
       "      <td>39.000000</td>\n",
       "      <td>120.000000</td>\n",
       "      <td>90.000000</td>\n",
       "      <td>8.000000</td>\n",
       "      <td>98.000000</td>\n",
       "      <td>80.000000</td>\n",
       "    </tr>\n",
       "    <tr>\n",
       "      <th>max</th>\n",
       "      <td>70.000000</td>\n",
       "      <td>160.000000</td>\n",
       "      <td>100.000000</td>\n",
       "      <td>19.000000</td>\n",
       "      <td>103.000000</td>\n",
       "      <td>90.000000</td>\n",
       "    </tr>\n",
       "  </tbody>\n",
       "</table>\n",
       "</div>"
      ],
      "text/plain": [
       "               Age   SystolicBP  DiastolicBP           BS     BodyTemp  \\\n",
       "count  1014.000000  1014.000000  1014.000000  1014.000000  1011.000000   \n",
       "mean     29.871795   113.198225    76.460552     8.725986    98.665678   \n",
       "std      13.474386    18.403913    13.885796     3.293532     1.373367   \n",
       "min      10.000000    70.000000    49.000000     6.000000    98.000000   \n",
       "25%      19.000000   100.000000    65.000000     6.900000    98.000000   \n",
       "50%      26.000000   120.000000    80.000000     7.500000    98.000000   \n",
       "75%      39.000000   120.000000    90.000000     8.000000    98.000000   \n",
       "max      70.000000   160.000000   100.000000    19.000000   103.000000   \n",
       "\n",
       "         HeartRate  \n",
       "count  1014.000000  \n",
       "mean     74.301775  \n",
       "std       8.088702  \n",
       "min       7.000000  \n",
       "25%      70.000000  \n",
       "50%      76.000000  \n",
       "75%      80.000000  \n",
       "max      90.000000  "
      ]
     },
     "execution_count": 4,
     "metadata": {},
     "output_type": "execute_result"
    }
   ],
   "source": [
    "# Try to load the dataset from the Workspace. Otherwise, create it from the file\n",
    "# NOTE: update the key to match the dataset name\n",
    "found = False\n",
    "key=\"Maternal_Health_Risk_Data_Set\" \n",
    "description_text = \"UCI machine Learning Maternal Health Risk Data Set\"\n",
    "\n",
    "if key in ws.datasets.keys(): \n",
    "        found = True\n",
    "        dataset = ws.datasets[key] \n",
    "#https://archive.ics.uci.edu/ml/machine-learning-databases/00639/Maternal%20Health%20Risk%20Data%20Set.csv\n",
    "\n",
    "if not found:\n",
    "        # Create AML Dataset and register it into Workspace\n",
    "        example_data = 'https://archive.ics.uci.edu/ml/machine-learning-databases/00639/Maternal%20Health%20Risk%20Data%20Set.csv'\n",
    "        dataset = Dataset.Tabular.from_delimited_files(example_data)        \n",
    "        #Register Dataset in Workspace\n",
    "        dataset = dataset.register(workspace=ws,\n",
    "                                   name=key,\n",
    "                                   description=description_text)\n",
    "\n",
    "\n",
    "df = dataset.to_pandas_dataframe()\n",
    "df.describe()"
   ]
  },
  {
   "cell_type": "markdown",
   "metadata": {},
   "source": [
    "# Review the Dataset Result"
   ]
  },
  {
   "cell_type": "code",
   "execution_count": 5,
   "metadata": {
    "gather": {
     "logged": 1647566464740
    }
   },
   "outputs": [
    {
     "data": {
      "text/html": [
       "<div>\n",
       "<style scoped>\n",
       "    .dataframe tbody tr th:only-of-type {\n",
       "        vertical-align: middle;\n",
       "    }\n",
       "\n",
       "    .dataframe tbody tr th {\n",
       "        vertical-align: top;\n",
       "    }\n",
       "\n",
       "    .dataframe thead th {\n",
       "        text-align: right;\n",
       "    }\n",
       "</style>\n",
       "<table border=\"1\" class=\"dataframe\">\n",
       "  <thead>\n",
       "    <tr style=\"text-align: right;\">\n",
       "      <th></th>\n",
       "      <th>Age</th>\n",
       "      <th>SystolicBP</th>\n",
       "      <th>DiastolicBP</th>\n",
       "      <th>BS</th>\n",
       "      <th>BodyTemp</th>\n",
       "      <th>HeartRate</th>\n",
       "      <th>RiskLevel</th>\n",
       "    </tr>\n",
       "  </thead>\n",
       "  <tbody>\n",
       "    <tr>\n",
       "      <th>0</th>\n",
       "      <td>25</td>\n",
       "      <td>130</td>\n",
       "      <td>80</td>\n",
       "      <td>15.0</td>\n",
       "      <td>98</td>\n",
       "      <td>86</td>\n",
       "      <td>high risk</td>\n",
       "    </tr>\n",
       "    <tr>\n",
       "      <th>1</th>\n",
       "      <td>35</td>\n",
       "      <td>140</td>\n",
       "      <td>90</td>\n",
       "      <td>13.0</td>\n",
       "      <td>98</td>\n",
       "      <td>70</td>\n",
       "      <td>high risk</td>\n",
       "    </tr>\n",
       "    <tr>\n",
       "      <th>2</th>\n",
       "      <td>29</td>\n",
       "      <td>90</td>\n",
       "      <td>70</td>\n",
       "      <td>8.0</td>\n",
       "      <td>100</td>\n",
       "      <td>80</td>\n",
       "      <td>high risk</td>\n",
       "    </tr>\n",
       "    <tr>\n",
       "      <th>3</th>\n",
       "      <td>30</td>\n",
       "      <td>140</td>\n",
       "      <td>85</td>\n",
       "      <td>7.0</td>\n",
       "      <td>98</td>\n",
       "      <td>70</td>\n",
       "      <td>high risk</td>\n",
       "    </tr>\n",
       "    <tr>\n",
       "      <th>4</th>\n",
       "      <td>35</td>\n",
       "      <td>120</td>\n",
       "      <td>60</td>\n",
       "      <td>6.1</td>\n",
       "      <td>98</td>\n",
       "      <td>76</td>\n",
       "      <td>low risk</td>\n",
       "    </tr>\n",
       "  </tbody>\n",
       "</table>\n",
       "</div>"
      ],
      "text/plain": [
       "   Age  SystolicBP  DiastolicBP    BS  BodyTemp  HeartRate  RiskLevel\n",
       "0   25         130           80  15.0        98         86  high risk\n",
       "1   35         140           90  13.0        98         70  high risk\n",
       "2   29          90           70   8.0       100         80  high risk\n",
       "3   30         140           85   7.0        98         70  high risk\n",
       "4   35         120           60   6.1        98         76   low risk"
      ]
     },
     "execution_count": 5,
     "metadata": {},
     "output_type": "execute_result"
    }
   ],
   "source": [
    "dataset.take(5).to_pandas_dataframe()"
   ]
  },
  {
   "cell_type": "code",
   "execution_count": 6,
   "metadata": {
    "gather": {
     "logged": 1647566481400
    }
   },
   "outputs": [
    {
     "name": "stderr",
     "output_type": "stream",
     "text": [
      "\"datastore.upload_files\" is deprecated after version 1.0.69. Please use \"FileDatasetFactory.upload_directory\" instead. See Dataset API change notice at https://aka.ms/dataset-deprecation.\n"
     ]
    },
    {
     "name": "stdout",
     "output_type": "stream",
     "text": [
      "Uploading an estimated of 1 files\n",
      "Target already exists. Skipping upload for train.csv\n",
      "Uploaded 0 files\n"
     ]
    }
   ],
   "source": [
    "from sklearn.model_selection import train_test_split\n",
    "TRAIN_d, TEST_d = train_test_split(df, test_size=0.2, random_state=24, shuffle=True)\n",
    "TRAIN_d.to_csv('train.csv',index = False)\n",
    "\n",
    "ds_new = ws.get_default_datastore()\n",
    "ds_new.upload_files(files = ['./train.csv'])\n",
    "#ds_new.upload(src_dir='.',target_path='.')\n",
    "\n",
    "\n",
    "train_data = Dataset.Tabular.from_delimited_files(path=[(ds_new,('train.csv'))])\n"
   ]
  },
  {
   "cell_type": "markdown",
   "metadata": {},
   "source": [
    "## AutoML Configuration\n",
    "\n",
    "TODO: Explain why you chose the automl settings and cofiguration you used below."
   ]
  },
  {
   "cell_type": "markdown",
   "metadata": {},
   "source": [
    "# Train\n",
    "#### This creates a general AutoML settings object. Udacity notes: These inputs must match what was used when training in the portal. label_column_name has to be \"RiskLevel\" for example."
   ]
  },
  {
   "cell_type": "code",
   "execution_count": 7,
   "metadata": {
    "gather": {
     "logged": 1647566551982
    },
    "jupyter": {
     "outputs_hidden": false,
     "source_hidden": false
    },
    "nteract": {
     "transient": {
      "deleting": false
     }
    }
   },
   "outputs": [],
   "source": [
    "# Put your automl settings here\n",
    "automl_settings = {\n",
    "    \"experiment_timeout_minutes\": 45,\n",
    "    \"max_concurrent_iterations\": 5,\n",
    "    \"n_cross_validations\":3,\n",
    "    \"primary_metric\" : 'accuracy'\n",
    "}\n",
    "\n",
    "#  Put your automl config here\n",
    "\n",
    "automl_config = AutoMLConfig(compute_target=compute_target,\n",
    "                             task = \"classification\",\n",
    "                             training_data=train_data,\n",
    "                             label_column_name=\"RiskLevel\",   \n",
    "                             #path = project_folder,\n",
    "                             enable_early_stopping= True,\n",
    "                             featurization= 'auto',\n",
    "                             debug_log = \"automl_errors.log\",\n",
    "                             enable_onnx_compatible_models=True,\n",
    "                             **automl_settings\n",
    "                            )"
   ]
  },
  {
   "cell_type": "code",
   "execution_count": 8,
   "metadata": {
    "gather": {
     "logged": 1647567742320
    },
    "jupyter": {
     "outputs_hidden": false,
     "source_hidden": false
    },
    "nteract": {
     "transient": {
      "deleting": false
     }
    }
   },
   "outputs": [
    {
     "name": "stdout",
     "output_type": "stream",
     "text": [
      "Submitting remote run.\n"
     ]
    },
    {
     "data": {
      "text/html": [
       "<table style=\"width:100%\"><tr><th>Experiment</th><th>Id</th><th>Type</th><th>Status</th><th>Details Page</th><th>Docs Page</th></tr><tr><td>capstone-automl-experiment</td><td>AutoML_093d98bd-0ffe-4170-a2f6-2f6941181eab</td><td>automl</td><td>NotStarted</td><td><a href=\"https://ml.azure.com/runs/AutoML_093d98bd-0ffe-4170-a2f6-2f6941181eab?wsid=/subscriptions/6971f5ac-8af1-446e-8034-05acea24681f/resourcegroups/aml-quickstarts-189674/workspaces/quick-starts-ws-189674&amp;tid=660b3398-b80e-49d2-bc5b-ac1dc93b5254\" target=\"_blank\" rel=\"noopener\">Link to Azure Machine Learning studio</a></td><td><a href=\"https://docs.microsoft.com/en-us/python/api/overview/azure/ml/intro?view=azure-ml-py\" target=\"_blank\" rel=\"noopener\">Link to Documentation</a></td></tr></table>"
      ],
      "text/plain": [
       "<IPython.core.display.HTML object>"
      ]
     },
     "metadata": {},
     "output_type": "display_data"
    }
   ],
   "source": [
    "# Submit your experiment\n",
    "remote_run = experiment.submit(config= automl_config)\n",
    "#remote_run = experiment.submit(config= automl_config, show_output= True)"
   ]
  },
  {
   "cell_type": "markdown",
   "metadata": {},
   "source": [
    "## Run Details\n",
    "\n",
    "OPTIONAL: Write about the different models trained and their performance. Why do you think some models did better than others?\n",
    "\n",
    "TODO: In the cell below, use the `RunDetails` widget to show the different experiments."
   ]
  },
  {
   "cell_type": "code",
   "execution_count": 9,
   "metadata": {
    "gather": {
     "logged": 1647567743030
    },
    "jupyter": {
     "outputs_hidden": false,
     "source_hidden": false
    },
    "nteract": {
     "transient": {
      "deleting": false
     }
    }
   },
   "outputs": [
    {
     "data": {
      "application/vnd.jupyter.widget-view+json": {
       "model_id": "da7a0debe3524b18be7e24801dcce553",
       "version_major": 2,
       "version_minor": 0
      },
      "text/plain": [
       "_AutoMLWidget(widget_settings={'childWidgetDisplay': 'popup', 'send_telemetry': False, 'log_level': 'INFO', 's…"
      ]
     },
     "metadata": {},
     "output_type": "display_data"
    },
    {
     "data": {
      "application/aml.mini.widget.v1": "{\"status\": \"Completed\", \"workbench_run_details_uri\": \"https://ml.azure.com/runs/AutoML_093d98bd-0ffe-4170-a2f6-2f6941181eab?wsid=/subscriptions/6971f5ac-8af1-446e-8034-05acea24681f/resourcegroups/aml-quickstarts-189674/workspaces/quick-starts-ws-189674&tid=660b3398-b80e-49d2-bc5b-ac1dc93b5254\", \"run_id\": \"AutoML_093d98bd-0ffe-4170-a2f6-2f6941181eab\", \"run_properties\": {\"run_id\": \"AutoML_093d98bd-0ffe-4170-a2f6-2f6941181eab\", \"created_utc\": \"2022-03-22T18:33:00.944936Z\", \"properties\": {\"num_iterations\": \"1000\", \"training_type\": \"TrainFull\", \"acquisition_function\": \"EI\", \"primary_metric\": \"accuracy\", \"train_split\": \"0\", \"acquisition_parameter\": \"0\", \"num_cross_validation\": \"3\", \"target\": \"automl-com-clst\", \"AMLSettingsJsonString\": \"{\\\"path\\\":null,\\\"name\\\":\\\"capstone-automl-experiment\\\",\\\"subscription_id\\\":\\\"6971f5ac-8af1-446e-8034-05acea24681f\\\",\\\"resource_group\\\":\\\"aml-quickstarts-189674\\\",\\\"workspace_name\\\":\\\"quick-starts-ws-189674\\\",\\\"region\\\":\\\"southcentralus\\\",\\\"compute_target\\\":\\\"automl-com-clst\\\",\\\"spark_service\\\":null,\\\"azure_service\\\":\\\"remote\\\",\\\"many_models\\\":false,\\\"pipeline_fetch_max_batch_size\\\":1,\\\"enable_batch_run\\\":true,\\\"enable_run_restructure\\\":false,\\\"start_auxiliary_runs_before_parent_complete\\\":false,\\\"enable_code_generation\\\":false,\\\"iterations\\\":1000,\\\"primary_metric\\\":\\\"accuracy\\\",\\\"task_type\\\":\\\"classification\\\",\\\"positive_label\\\":null,\\\"data_script\\\":null,\\\"test_size\\\":0.0,\\\"test_include_predictions_only\\\":false,\\\"validation_size\\\":0.0,\\\"n_cross_validations\\\":3,\\\"y_min\\\":null,\\\"y_max\\\":null,\\\"num_classes\\\":null,\\\"featurization\\\":\\\"auto\\\",\\\"_ignore_package_version_incompatibilities\\\":false,\\\"is_timeseries\\\":false,\\\"max_cores_per_iteration\\\":1,\\\"max_concurrent_iterations\\\":5,\\\"iteration_timeout_minutes\\\":null,\\\"mem_in_mb\\\":null,\\\"enforce_time_on_windows\\\":false,\\\"experiment_timeout_minutes\\\":45,\\\"experiment_exit_score\\\":null,\\\"whitelist_models\\\":null,\\\"blacklist_algos\\\":[\\\"TensorFlowLinearClassifier\\\",\\\"TensorFlowDNN\\\"],\\\"supported_models\\\":[\\\"SVM\\\",\\\"MultinomialNaiveBayes\\\",\\\"RandomForest\\\",\\\"TensorFlowDNN\\\",\\\"TensorFlowLinearClassifier\\\",\\\"BernoulliNaiveBayes\\\",\\\"LogisticRegression\\\",\\\"LinearSVM\\\",\\\"SGD\\\",\\\"TabnetClassifier\\\",\\\"DecisionTree\\\",\\\"KNN\\\",\\\"ExtremeRandomTrees\\\",\\\"XGBoostClassifier\\\",\\\"LightGBM\\\",\\\"AveragedPerceptronClassifier\\\",\\\"GradientBoosting\\\"],\\\"private_models\\\":[],\\\"auto_blacklist\\\":true,\\\"blacklist_samples_reached\\\":false,\\\"exclude_nan_labels\\\":true,\\\"verbosity\\\":20,\\\"_debug_log\\\":\\\"azureml_automl.log\\\",\\\"show_warnings\\\":false,\\\"model_explainability\\\":true,\\\"service_url\\\":null,\\\"sdk_url\\\":null,\\\"sdk_packages\\\":null,\\\"enable_onnx_compatible_models\\\":true,\\\"enable_split_onnx_featurizer_estimator_models\\\":false,\\\"vm_type\\\":\\\"STANDARD_D2_V2\\\",\\\"telemetry_verbosity\\\":20,\\\"send_telemetry\\\":true,\\\"enable_dnn\\\":false,\\\"scenario\\\":\\\"SDK-1.13.0\\\",\\\"environment_label\\\":null,\\\"save_mlflow\\\":false,\\\"enable_categorical_indicators\\\":false,\\\"force_text_dnn\\\":false,\\\"enable_feature_sweeping\\\":false,\\\"enable_early_stopping\\\":true,\\\"early_stopping_n_iters\\\":10,\\\"arguments\\\":null,\\\"dataset_id\\\":\\\"b7c7f4cc-a689-4304-8487-1b737d69e2c5\\\",\\\"hyperdrive_config\\\":null,\\\"validation_dataset_id\\\":null,\\\"run_source\\\":null,\\\"metrics\\\":null,\\\"enable_metric_confidence\\\":false,\\\"enable_ensembling\\\":true,\\\"enable_stack_ensembling\\\":false,\\\"ensemble_iterations\\\":15,\\\"enable_tf\\\":false,\\\"enable_subsampling\\\":null,\\\"subsample_seed\\\":null,\\\"enable_nimbusml\\\":false,\\\"enable_streaming\\\":false,\\\"force_streaming\\\":false,\\\"track_child_runs\\\":true,\\\"allowed_private_models\\\":[],\\\"label_column_name\\\":\\\"RiskLevel\\\",\\\"weight_column_name\\\":null,\\\"cv_split_column_names\\\":null,\\\"enable_local_managed\\\":false,\\\"_local_managed_run_id\\\":null,\\\"cost_mode\\\":1,\\\"lag_length\\\":0,\\\"metric_operation\\\":\\\"maximize\\\",\\\"preprocess\\\":true}\", \"DataPrepJsonString\": \"{\\\\\\\"training_data\\\\\\\": {\\\\\\\"datasetId\\\\\\\": \\\\\\\"b7c7f4cc-a689-4304-8487-1b737d69e2c5\\\\\\\"}, \\\\\\\"datasets\\\\\\\": 0}\", \"EnableSubsampling\": null, \"runTemplate\": \"AutoML\", \"azureml.runsource\": \"automl\", \"display_task_type\": \"classification\", \"dependencies_versions\": \"{\\\"azureml-widgets\\\": \\\"1.38.0\\\", \\\"azureml-train\\\": \\\"1.38.0\\\", \\\"azureml-train-restclients-hyperdrive\\\": \\\"1.38.0\\\", \\\"azureml-train-core\\\": \\\"1.38.0\\\", \\\"azureml-train-automl\\\": \\\"1.38.0\\\", \\\"azureml-train-automl-runtime\\\": \\\"1.38.0\\\", \\\"azureml-train-automl-client\\\": \\\"1.38.0\\\", \\\"azureml-tensorboard\\\": \\\"1.38.0\\\", \\\"azureml-telemetry\\\": \\\"1.38.0\\\", \\\"azureml-sdk\\\": \\\"1.38.0\\\", \\\"azureml-responsibleai\\\": \\\"1.38.0\\\", \\\"azureml-pipeline\\\": \\\"1.38.0\\\", \\\"azureml-pipeline-steps\\\": \\\"1.38.0\\\", \\\"azureml-pipeline-core\\\": \\\"1.38.0\\\", \\\"azureml-opendatasets\\\": \\\"1.38.0\\\", \\\"azureml-mlflow\\\": \\\"1.38.0\\\", \\\"azureml-interpret\\\": \\\"1.38.0\\\", \\\"azureml-inference-server-http\\\": \\\"0.4.2\\\", \\\"azureml-explain-model\\\": \\\"1.38.0\\\", \\\"azureml-defaults\\\": \\\"1.38.0\\\", \\\"azureml-dataset-runtime\\\": \\\"1.38.0\\\", \\\"azureml-dataprep\\\": \\\"2.26.0\\\", \\\"azureml-dataprep-rslex\\\": \\\"2.2.0\\\", \\\"azureml-dataprep-native\\\": \\\"38.0.0\\\", \\\"azureml-datadrift\\\": \\\"1.38.0\\\", \\\"azureml-core\\\": \\\"1.38.0\\\", \\\"azureml-contrib-services\\\": \\\"1.38.0\\\", \\\"azureml-contrib-server\\\": \\\"1.38.0\\\", \\\"azureml-contrib-reinforcementlearning\\\": \\\"1.38.0\\\", \\\"azureml-contrib-pipeline-steps\\\": \\\"1.38.0\\\", \\\"azureml-contrib-notebook\\\": \\\"1.38.0\\\", \\\"azureml-contrib-fairness\\\": \\\"1.38.0\\\", \\\"azureml-contrib-dataset\\\": \\\"1.38.0\\\", \\\"azureml-contrib-automl-pipeline-steps\\\": \\\"1.38.0\\\", \\\"azureml-cli-common\\\": \\\"1.38.0\\\", \\\"azureml-automl-runtime\\\": \\\"1.38.0\\\", \\\"azureml-automl-dnn-nlp\\\": \\\"1.38.0\\\", \\\"azureml-automl-core\\\": \\\"1.38.0\\\", \\\"azureml-accel-models\\\": \\\"1.38.0\\\"}\", \"_aml_system_scenario_identification\": \"Remote.Parent\", \"ClientType\": \"SDK\", \"environment_cpu_name\": \"AzureML-AutoML\", \"environment_cpu_label\": \"py36\", \"environment_gpu_name\": \"AzureML-AutoML-GPU\", \"environment_gpu_label\": \"py36\", \"root_attribution\": \"automl\", \"attribution\": \"AutoML\", \"Orchestrator\": \"AutoML\", \"CancelUri\": \"https://southcentralus.api.azureml.ms/jasmine/v1.0/subscriptions/6971f5ac-8af1-446e-8034-05acea24681f/resourceGroups/aml-quickstarts-189674/providers/Microsoft.MachineLearningServices/workspaces/quick-starts-ws-189674/experimentids/4cb5e02a-81a8-406d-8de0-149de903dd72/cancel/AutoML_093d98bd-0ffe-4170-a2f6-2f6941181eab\", \"ClientSdkVersion\": \"1.38.0\", \"snapshotId\": \"00000000-0000-0000-0000-000000000000\", \"SetupRunId\": \"AutoML_093d98bd-0ffe-4170-a2f6-2f6941181eab_setup\", \"SetupRunContainerId\": \"dcid.AutoML_093d98bd-0ffe-4170-a2f6-2f6941181eab_setup\", \"FeaturizationRunJsonPath\": \"featurizer_container.json\", \"FeaturizationRunId\": \"AutoML_093d98bd-0ffe-4170-a2f6-2f6941181eab_featurize\", \"ProblemInfoJsonString\": \"{\\\"dataset_num_categorical\\\": 0, \\\"is_sparse\\\": true, \\\"subsampling\\\": false, \\\"has_extra_col\\\": true, \\\"dataset_classes\\\": 3, \\\"dataset_features\\\": 54, \\\"dataset_samples\\\": 811, \\\"single_frequency_class_detected\\\": false}\", \"ModelExplainRunId\": \"AutoML_093d98bd-0ffe-4170-a2f6-2f6941181eab_ModelExplain\"}, \"tags\": {\"model_explain_run\": \"best_run\", \"_aml_system_automl_run_workspace_id\": \"aaae06b0-62ab-4346-9c1a-a70a6462a20e\", \"_aml_system_azureml.automlComponent\": \"AutoML\", \"pipeline_id\": \"\", \"score\": \"\", \"predicted_cost\": \"\", \"fit_time\": \"\", \"training_percent\": \"\", \"iteration\": \"\", \"run_preprocessor\": \"\", \"run_algorithm\": \"\", \"dynamic_whitelisting_iterations\": \"<23>;<30>;<35>;\", \"_aml_system_azureml.automl_early_exit_message\": \"No scores improved over last 20 iterations, so experiment stopped early. This early stopping behavior can be disabled by setting enable_early_stopping = False in AutoMLConfig for notebook/python SDK runs.\", \"automl_best_child_run_id\": \"AutoML_093d98bd-0ffe-4170-a2f6-2f6941181eab_38\", \"model_explain_best_run_child_id\": \"AutoML_093d98bd-0ffe-4170-a2f6-2f6941181eab_38\"}, \"end_time_utc\": \"2022-03-22T18:57:29.706139Z\", \"status\": \"Completed\", \"log_files\": {}, \"log_groups\": [], \"run_duration\": \"0:24:28\", \"run_number\": \"1647973980\", \"run_queued_details\": {\"status\": \"Completed\", \"details\": null}}, \"child_runs\": [{\"run_id\": \"AutoML_093d98bd-0ffe-4170-a2f6-2f6941181eab_setup\", \"run_number\": 1647973993, \"metric\": null, \"status\": \"Completed\", \"run_type\": \"azureml.scriptrun\", \"training_percent\": null, \"start_time\": \"2022-03-22T18:37:17.643502Z\", \"end_time\": \"2022-03-22T18:41:27.530606Z\", \"created_time\": \"2022-03-22T18:33:13.356537Z\", \"created_time_dt\": \"2022-03-22T18:33:13.356537Z\", \"duration\": \"0:08:14\", \"iteration\": null, \"goal\": null, \"run_name\": \"Completed\", \"run_properties\": null}, {\"run_id\": \"AutoML_093d98bd-0ffe-4170-a2f6-2f6941181eab_featurize\", \"run_number\": 1647974487, \"metric\": null, \"status\": \"Completed\", \"run_type\": \"automl.featurization\", \"training_percent\": null, \"start_time\": \"2022-03-22T18:41:28.263267Z\", \"end_time\": \"2022-03-22T18:42:23.457691Z\", \"created_time\": \"2022-03-22T18:41:27.942781Z\", \"created_time_dt\": \"2022-03-22T18:41:27.942781Z\", \"duration\": \"0:00:55\", \"iteration\": null, \"goal\": null, \"run_name\": \"Completed\", \"run_properties\": null}, {\"run_id\": \"AutoML_093d98bd-0ffe-4170-a2f6-2f6941181eab_0\", \"run_number\": 1647974544, \"metric\": null, \"status\": \"Completed\", \"run_type\": null, \"training_percent\": \"100\", \"start_time\": \"2022-03-22T18:42:39.949595Z\", \"end_time\": \"2022-03-22T18:42:49.984904Z\", \"created_time\": \"2022-03-22T18:42:24.720536Z\", \"created_time_dt\": \"2022-03-22T18:42:24.720536Z\", \"duration\": \"0:00:25\", \"iteration\": \"0\", \"goal\": \"accuracy_max\", \"run_name\": \"MaxAbsScaler, LightGBM\", \"run_properties\": \"copy=True\", \"primary_metric\": 0.7904059, \"best_metric\": 0.7904059}, {\"run_id\": \"AutoML_093d98bd-0ffe-4170-a2f6-2f6941181eab_1\", \"run_number\": 1647974545, \"metric\": null, \"status\": \"Completed\", \"run_type\": null, \"training_percent\": \"100\", \"start_time\": \"2022-03-22T18:42:50.204898Z\", \"end_time\": \"2022-03-22T18:42:59.232069Z\", \"created_time\": \"2022-03-22T18:42:25.136468Z\", \"created_time_dt\": \"2022-03-22T18:42:25.136468Z\", \"duration\": \"0:00:34\", \"iteration\": \"1\", \"goal\": \"accuracy_max\", \"run_name\": \"MaxAbsScaler, XGBoostClassifier\", \"run_properties\": \"copy=True\", \"primary_metric\": 0.74845337, \"best_metric\": 0.7904059}, {\"run_id\": \"AutoML_093d98bd-0ffe-4170-a2f6-2f6941181eab_3\", \"run_number\": 1647974546, \"metric\": null, \"status\": \"Completed\", \"run_type\": null, \"training_percent\": \"100\", \"start_time\": \"2022-03-22T18:43:09.355939Z\", \"end_time\": \"2022-03-22T18:43:17.988968Z\", \"created_time\": \"2022-03-22T18:42:26.008049Z\", \"created_time_dt\": \"2022-03-22T18:42:26.008049Z\", \"duration\": \"0:00:51\", \"iteration\": \"3\", \"goal\": \"accuracy_max\", \"run_name\": \"SparseNormalizer, XGBoostClassifier\", \"run_properties\": \"copy=True, norm='l2'\", \"primary_metric\": 0.74106874, \"best_metric\": 0.7904059}, {\"run_id\": \"AutoML_093d98bd-0ffe-4170-a2f6-2f6941181eab_6\", \"run_number\": 1647974547, \"metric\": null, \"status\": \"Completed\", \"run_type\": null, \"training_percent\": \"100\", \"start_time\": \"2022-03-22T18:43:54.91762Z\", \"end_time\": \"2022-03-22T18:44:03.68203Z\", \"created_time\": \"2022-03-22T18:42:27.422021Z\", \"created_time_dt\": \"2022-03-22T18:42:27.422021Z\", \"duration\": \"0:01:36\", \"iteration\": \"6\", \"goal\": \"accuracy_max\", \"run_name\": \"StandardScalerWrapper, XGBoostClassifier\", \"run_properties\": \"\\n    copy=True,\\n    with_mean=False,\\n    with_std=False\\n\", \"primary_metric\": 0.7534372, \"best_metric\": 0.7904059}, {\"run_id\": \"AutoML_093d98bd-0ffe-4170-a2f6-2f6941181eab_worker_1\", \"run_number\": 1647974548, \"metric\": null, \"status\": \"Completed\", \"run_type\": \"azureml.scriptrun\", \"training_percent\": null, \"start_time\": \"2022-03-22T18:44:13.983849Z\", \"end_time\": \"2022-03-22T18:44:17.704488Z\", \"created_time\": \"2022-03-22T18:42:28.149351Z\", \"created_time_dt\": \"2022-03-22T18:42:28.149351Z\", \"duration\": \"0:01:49\", \"iteration\": null, \"goal\": null, \"run_name\": \"Completed\", \"run_properties\": null}, {\"run_id\": \"AutoML_093d98bd-0ffe-4170-a2f6-2f6941181eab_10\", \"run_number\": 1647974549, \"metric\": null, \"status\": \"Completed\", \"run_type\": null, \"training_percent\": \"100\", \"start_time\": \"2022-03-22T18:44:49.343906Z\", \"end_time\": \"2022-03-22T18:44:58.322331Z\", \"created_time\": \"2022-03-22T18:42:29.184467Z\", \"created_time_dt\": \"2022-03-22T18:42:29.184467Z\", \"duration\": \"0:02:29\", \"iteration\": \"10\", \"goal\": \"accuracy_max\", \"run_name\": \"SparseNormalizer, LightGBM\", \"run_properties\": \"copy=True, norm='l1'\", \"primary_metric\": 0.65101818, \"best_metric\": 0.7904059}, {\"run_id\": \"AutoML_093d98bd-0ffe-4170-a2f6-2f6941181eab_12\", \"run_number\": 1647974550, \"metric\": null, \"status\": \"Completed\", \"run_type\": null, \"training_percent\": \"100\", \"start_time\": \"2022-03-22T18:45:26.269164Z\", \"end_time\": \"2022-03-22T18:45:35.246269Z\", \"created_time\": \"2022-03-22T18:42:30.135236Z\", \"created_time_dt\": \"2022-03-22T18:42:30.135236Z\", \"duration\": \"0:03:05\", \"iteration\": \"12\", \"goal\": \"accuracy_max\", \"run_name\": \"MaxAbsScaler, LogisticRegression\", \"run_properties\": \"copy=True\", \"primary_metric\": 0.62762517, \"best_metric\": 0.7904059}, {\"run_id\": \"AutoML_093d98bd-0ffe-4170-a2f6-2f6941181eab_worker_3\", \"run_number\": 1647974551, \"metric\": null, \"status\": \"Completed\", \"run_type\": \"azureml.scriptrun\", \"training_percent\": null, \"start_time\": \"2022-03-22T18:45:33.891145Z\", \"end_time\": \"2022-03-22T18:46:08.029346Z\", \"created_time\": \"2022-03-22T18:42:31.687333Z\", \"created_time_dt\": \"2022-03-22T18:42:31.687333Z\", \"duration\": \"0:03:36\", \"iteration\": null, \"goal\": null, \"run_name\": \"Completed\", \"run_properties\": null}, {\"run_id\": \"AutoML_093d98bd-0ffe-4170-a2f6-2f6941181eab_17\", \"run_number\": 1647974552, \"metric\": null, \"status\": \"Completed\", \"run_type\": null, \"training_percent\": \"100\", \"start_time\": \"2022-03-22T18:51:47.743712Z\", \"end_time\": \"2022-03-22T18:51:56.586235Z\", \"created_time\": \"2022-03-22T18:42:32.272102Z\", \"created_time_dt\": \"2022-03-22T18:42:32.272102Z\", \"duration\": \"0:09:24\", \"iteration\": \"17\", \"goal\": \"accuracy_max\", \"run_name\": \"StandardScalerWrapper, RandomForest\", \"run_properties\": \"\\n    copy=True,\\n    with_mean=False,\\n    with_std=False\\n\", \"primary_metric\": 0.71391281, \"best_metric\": 0.7904059}, {\"run_id\": \"AutoML_093d98bd-0ffe-4170-a2f6-2f6941181eab_worker_4\", \"run_number\": 1647974553, \"metric\": null, \"status\": \"Completed\", \"run_type\": \"azureml.scriptrun\", \"training_percent\": null, \"start_time\": \"2022-03-22T18:46:30.217192Z\", \"end_time\": \"2022-03-22T18:52:20.898651Z\", \"created_time\": \"2022-03-22T18:42:33.455502Z\", \"created_time_dt\": \"2022-03-22T18:42:33.455502Z\", \"duration\": \"0:09:47\", \"iteration\": null, \"goal\": null, \"run_name\": \"Completed\", \"run_properties\": null}, {\"run_id\": \"AutoML_093d98bd-0ffe-4170-a2f6-2f6941181eab_20\", \"run_number\": 1647974766, \"metric\": null, \"status\": \"Completed\", \"run_type\": \"azureml.scriptrun\", \"training_percent\": \"100\", \"start_time\": \"2022-03-22T18:46:35.265012Z\", \"end_time\": \"2022-03-22T18:46:38.914707Z\", \"created_time\": \"2022-03-22T18:46:06.295873Z\", \"created_time_dt\": \"2022-03-22T18:46:06.295873Z\", \"duration\": \"0:00:32\", \"iteration\": \"20\", \"goal\": \"accuracy_max\", \"run_name\": \"TruncatedSVDWrapper, RandomForest\", \"run_properties\": \"n_components=0.7026315789473684, random_state=None\", \"primary_metric\": 0.77315384, \"best_metric\": 0.7904059}, {\"run_id\": \"AutoML_093d98bd-0ffe-4170-a2f6-2f6941181eab_23\", \"run_number\": 1647975111, \"metric\": null, \"status\": \"Completed\", \"run_type\": \"azureml.scriptrun\", \"training_percent\": \"100\", \"start_time\": \"2022-03-22T18:52:23.111107Z\", \"end_time\": \"2022-03-22T18:52:26.767527Z\", \"created_time\": \"2022-03-22T18:51:51.767134Z\", \"created_time_dt\": \"2022-03-22T18:51:51.767134Z\", \"duration\": \"0:00:35\", \"iteration\": \"23\", \"goal\": \"accuracy_max\", \"run_name\": \"StandardScalerWrapper, LightGBM\", \"run_properties\": \"\\n    copy=True,\\n    with_mean=False,\\n    with_std=True\\n\", \"primary_metric\": 0.64361077, \"best_metric\": 0.7904059}, {\"run_id\": \"AutoML_093d98bd-0ffe-4170-a2f6-2f6941181eab_27\", \"run_number\": 1647975148, \"metric\": null, \"status\": \"Completed\", \"run_type\": \"azureml.scriptrun\", \"training_percent\": \"100\", \"start_time\": \"2022-03-22T18:54:21.361916Z\", \"end_time\": \"2022-03-22T18:54:25.047109Z\", \"created_time\": \"2022-03-22T18:52:28.473284Z\", \"created_time_dt\": \"2022-03-22T18:52:28.473284Z\", \"duration\": \"0:01:56\", \"iteration\": \"27\", \"goal\": \"accuracy_max\", \"run_name\": \"SparseNormalizer, XGBoostClassifier\", \"run_properties\": \"copy=True, norm='l1'\", \"primary_metric\": 0.7509134, \"best_metric\": 0.7904059}, {\"run_id\": \"AutoML_093d98bd-0ffe-4170-a2f6-2f6941181eab_29\", \"run_number\": 1647975150, \"metric\": null, \"status\": \"Completed\", \"run_type\": \"azureml.scriptrun\", \"training_percent\": \"100\", \"start_time\": \"2022-03-22T18:54:37.075738Z\", \"end_time\": \"2022-03-22T18:54:40.786802Z\", \"created_time\": \"2022-03-22T18:52:30.908955Z\", \"created_time_dt\": \"2022-03-22T18:52:30.908955Z\", \"duration\": \"0:02:09\", \"iteration\": \"29\", \"goal\": \"accuracy_max\", \"run_name\": \"MaxAbsScaler, ExtremeRandomTrees\", \"run_properties\": \"copy=True\", \"primary_metric\": 0.67939502, \"best_metric\": 0.7904059}, {\"run_id\": \"AutoML_093d98bd-0ffe-4170-a2f6-2f6941181eab_30\", \"run_number\": 1647975172, \"metric\": null, \"status\": \"Completed\", \"run_type\": \"azureml.scriptrun\", \"training_percent\": \"100\", \"start_time\": \"2022-03-22T18:54:52.805751Z\", \"end_time\": \"2022-03-22T18:54:56.482214Z\", \"created_time\": \"2022-03-22T18:52:52.296367Z\", \"created_time_dt\": \"2022-03-22T18:52:52.296367Z\", \"duration\": \"0:02:04\", \"iteration\": \"30\", \"goal\": \"accuracy_max\", \"run_name\": \"TruncatedSVDWrapper, LightGBM\", \"run_properties\": \"n_components=0.3563157894736842, random_state=None\", \"primary_metric\": 0.46846157, \"best_metric\": 0.7904059}, {\"run_id\": \"AutoML_093d98bd-0ffe-4170-a2f6-2f6941181eab_31\", \"run_number\": 1647975176, \"metric\": null, \"status\": \"Completed\", \"run_type\": \"azureml.scriptrun\", \"training_percent\": \"100\", \"start_time\": \"2022-03-22T18:56:23.730436Z\", \"end_time\": \"2022-03-22T18:56:27.388093Z\", \"created_time\": \"2022-03-22T18:52:56.129084Z\", \"created_time_dt\": \"2022-03-22T18:52:56.129084Z\", \"duration\": \"0:03:31\", \"iteration\": \"31\", \"goal\": \"accuracy_max\", \"run_name\": \"StandardScalerWrapper, XGBoostClassifier\", \"run_properties\": \"\\n    copy=True,\\n    with_mean=False,\\n    with_std=False\\n\", \"primary_metric\": 0.68924423, \"best_metric\": 0.7904059}, {\"run_id\": \"AutoML_093d98bd-0ffe-4170-a2f6-2f6941181eab_32\", \"run_number\": 1647975266, \"metric\": null, \"status\": \"Completed\", \"run_type\": \"azureml.scriptrun\", \"training_percent\": \"100\", \"start_time\": \"2022-03-22T18:56:28.103282Z\", \"end_time\": \"2022-03-22T18:56:31.821402Z\", \"created_time\": \"2022-03-22T18:54:26.941849Z\", \"created_time_dt\": \"2022-03-22T18:54:26.941849Z\", \"duration\": \"0:02:04\", \"iteration\": \"32\", \"goal\": \"accuracy_max\", \"run_name\": \"MaxAbsScaler, RandomForest\", \"run_properties\": \"copy=True\", \"primary_metric\": 0.64360166, \"best_metric\": 0.7904059}, {\"run_id\": \"AutoML_093d98bd-0ffe-4170-a2f6-2f6941181eab_34\", \"run_number\": 1647975282, \"metric\": null, \"status\": \"Canceled\", \"run_type\": \"azureml.scriptrun\", \"training_percent\": \"100\", \"start_time\": \"2022-03-22T18:56:39.120846Z\", \"end_time\": \"2022-03-22T18:56:39.40159Z\", \"created_time\": \"2022-03-22T18:54:42.24888Z\", \"created_time_dt\": \"2022-03-22T18:54:42.24888Z\", \"duration\": \"0:01:57\", \"iteration\": \"34\", \"goal\": null, \"run_name\": \"Canceled\", \"run_properties\": null}, {\"run_id\": \"AutoML_093d98bd-0ffe-4170-a2f6-2f6941181eab_35\", \"run_number\": 1647975299, \"metric\": null, \"status\": \"Canceled\", \"run_type\": \"azureml.scriptrun\", \"training_percent\": \"100\", \"start_time\": \"2022-03-22T18:56:39.143614Z\", \"end_time\": \"2022-03-22T18:56:39.551082Z\", \"created_time\": \"2022-03-22T18:54:59.335747Z\", \"created_time_dt\": \"2022-03-22T18:54:59.335747Z\", \"duration\": \"0:01:40\", \"iteration\": \"35\", \"goal\": null, \"run_name\": \"Canceled\", \"run_properties\": null}, {\"run_id\": \"AutoML_093d98bd-0ffe-4170-a2f6-2f6941181eab_36\", \"run_number\": 1647975389, \"metric\": null, \"status\": \"Canceled\", \"run_type\": \"azureml.scriptrun\", \"training_percent\": \"100\", \"start_time\": \"2022-03-22T18:56:39.197851Z\", \"end_time\": \"2022-03-22T18:56:39.503595Z\", \"created_time\": \"2022-03-22T18:56:29.268964Z\", \"created_time_dt\": \"2022-03-22T18:56:29.268964Z\", \"duration\": \"0:00:10\", \"iteration\": \"36\", \"goal\": null, \"run_name\": \"Canceled\", \"run_properties\": null}, {\"run_id\": \"AutoML_093d98bd-0ffe-4170-a2f6-2f6941181eab_37\", \"run_number\": 1647975393, \"metric\": null, \"status\": \"Canceled\", \"run_type\": \"azureml.scriptrun\", \"training_percent\": \"100\", \"start_time\": \"2022-03-22T18:56:39.173145Z\", \"end_time\": \"2022-03-22T18:56:39.522286Z\", \"created_time\": \"2022-03-22T18:56:33.67615Z\", \"created_time_dt\": \"2022-03-22T18:56:33.67615Z\", \"duration\": \"0:00:05\", \"iteration\": \"37\", \"goal\": null, \"run_name\": \"Canceled\", \"run_properties\": null}, {\"run_id\": \"AutoML_093d98bd-0ffe-4170-a2f6-2f6941181eab_38\", \"run_number\": 1647975400, \"metric\": null, \"status\": \"Completed\", \"run_type\": \"azureml.scriptrun\", \"training_percent\": \"100\", \"start_time\": \"2022-03-22T18:57:24.719736Z\", \"end_time\": \"2022-03-22T18:57:28.432909Z\", \"created_time\": \"2022-03-22T18:56:40.225413Z\", \"created_time_dt\": \"2022-03-22T18:56:40.225413Z\", \"duration\": \"0:00:48\", \"iteration\": \"38\", \"goal\": \"accuracy_max\", \"run_name\": \"VotingEnsemble\", \"run_properties\": \"\\n    estimators=[('0', Pipeline(\\n        memory=None,\\n        steps=[('maxabsscaler', MaxAbsScaler(\\n            copy=True\\n        \", \"primary_metric\": 0.81751629, \"best_metric\": 0.81751629}], \"children_metrics\": {\"categories\": [0], \"series\": {\"log_loss\": [{\"categories\": [\"0\", \"1\", \"3\", \"6\", \"10\", \"12\", \"17\", \"20\", \"23\", \"27\", \"29\", \"30\", \"31\", \"32\", \"38\"], \"mode\": \"markers\", \"name\": \"log_loss\", \"stepped\": false, \"type\": \"scatter\", \"data\": [0.5240141777221834, 0.570084627279461, 0.7808498307195956, 0.7773785392223439, 0.7457821577329727, 0.871221254698355, 0.679503367266164, 0.5645429599749999, 0.7912482555238863, 0.6699801403291415, 0.7002736692307342, 1.0059198669153888, 0.7960014628617579, 0.8733606408228264, 0.6331436494353994]}, {\"categories\": [\"0\", \"1\", \"3\", \"6\", \"10\", \"12\", \"17\", \"20\", \"23\", \"27\", \"29\", \"30\", \"31\", \"32\", \"38\"], \"mode\": \"lines\", \"name\": \"log_loss_min\", \"stepped\": true, \"type\": \"scatter\", \"data\": [0.5240141777221834, 0.5240141777221834, 0.5240141777221834, 0.5240141777221834, 0.5240141777221834, 0.5240141777221834, 0.5240141777221834, 0.5240141777221834, 0.5240141777221834, 0.5240141777221834, 0.5240141777221834, 0.5240141777221834, 0.5240141777221834, 0.5240141777221834, 0.5240141777221834]}], \"matthews_correlation\": [{\"categories\": [\"0\", \"1\", \"3\", \"6\", \"10\", \"12\", \"17\", \"20\", \"23\", \"27\", \"29\", \"30\", \"31\", \"32\", \"38\"], \"mode\": \"markers\", \"name\": \"matthews_correlation\", \"stepped\": false, \"type\": \"scatter\", \"data\": [0.678587660112883, 0.6164573823870764, 0.6051173715090044, 0.6207407122775539, 0.49106589640023995, 0.4327524177246533, 0.5719638741650788, 0.6533943554709888, 0.4729664515956152, 0.6193739668718482, 0.5205614764523063, 0.20716424609530867, 0.5544739008387994, 0.5025970751744424, 0.7203152947685713]}, {\"categories\": [\"0\", \"1\", \"3\", \"6\", \"10\", \"12\", \"17\", \"20\", \"23\", \"27\", \"29\", \"30\", \"31\", \"32\", \"38\"], \"mode\": \"lines\", \"name\": \"matthews_correlation_max\", \"stepped\": true, \"type\": \"scatter\", \"data\": [0.678587660112883, 0.678587660112883, 0.678587660112883, 0.678587660112883, 0.678587660112883, 0.678587660112883, 0.678587660112883, 0.678587660112883, 0.678587660112883, 0.678587660112883, 0.678587660112883, 0.678587660112883, 0.678587660112883, 0.678587660112883, 0.7203152947685713]}], \"AUC_micro\": [{\"categories\": [\"0\", \"1\", \"3\", \"6\", \"10\", \"12\", \"17\", \"20\", \"23\", \"27\", \"29\", \"30\", \"31\", \"32\", \"38\"], \"mode\": \"markers\", \"name\": \"AUC_micro\", \"stepped\": false, \"type\": \"scatter\", \"data\": [0.928535515138153, 0.9085309510073523, 0.9030414773192422, 0.9046890371398665, 0.8577132104593638, 0.8361395086564111, 0.8887142792418615, 0.9179341547473756, 0.8241977400906227, 0.903016593974726, 0.8680483820714477, 0.7292349339556444, 0.8618756477855273, 0.8362740094327279, 0.929468459815268]}, {\"categories\": [\"0\", \"1\", \"3\", \"6\", \"10\", \"12\", \"17\", \"20\", \"23\", \"27\", \"29\", \"30\", \"31\", \"32\", \"38\"], \"mode\": \"lines\", \"name\": \"AUC_micro_max\", \"stepped\": true, \"type\": \"scatter\", \"data\": [0.928535515138153, 0.928535515138153, 0.928535515138153, 0.928535515138153, 0.928535515138153, 0.928535515138153, 0.928535515138153, 0.928535515138153, 0.928535515138153, 0.928535515138153, 0.928535515138153, 0.928535515138153, 0.928535515138153, 0.928535515138153, 0.929468459815268]}], \"average_precision_score_micro\": [{\"categories\": [\"0\", \"1\", \"3\", \"6\", \"10\", \"12\", \"17\", \"20\", \"23\", \"27\", \"29\", \"30\", \"31\", \"32\", \"38\"], \"mode\": \"markers\", \"name\": \"average_precision_score_micro\", \"stepped\": false, \"type\": \"scatter\", \"data\": [0.868880997452989, 0.835058460074432, 0.8289800835230619, 0.8332792939178749, 0.7578378199903736, 0.7209402388026159, 0.8025934425762354, 0.8580002238369125, 0.6854283753406852, 0.8297818746316228, 0.7658050606367398, 0.6135276026445092, 0.7508122570528192, 0.7083530148485812, 0.8745382040360331]}, {\"categories\": [\"0\", \"1\", \"3\", \"6\", \"10\", \"12\", \"17\", \"20\", \"23\", \"27\", \"29\", \"30\", \"31\", \"32\", \"38\"], \"mode\": \"lines\", \"name\": \"average_precision_score_micro_max\", \"stepped\": true, \"type\": \"scatter\", \"data\": [0.868880997452989, 0.868880997452989, 0.868880997452989, 0.868880997452989, 0.868880997452989, 0.868880997452989, 0.868880997452989, 0.868880997452989, 0.868880997452989, 0.868880997452989, 0.868880997452989, 0.868880997452989, 0.868880997452989, 0.868880997452989, 0.8745382040360331]}], \"precision_score_weighted\": [{\"categories\": [\"0\", \"1\", \"3\", \"6\", \"10\", \"12\", \"17\", \"20\", \"23\", \"27\", \"29\", \"30\", \"31\", \"32\", \"38\"], \"mode\": \"markers\", \"name\": \"precision_score_weighted\", \"stepped\": false, \"type\": \"scatter\", \"data\": [0.7926323290228975, 0.7463020247317269, 0.7436492866507765, 0.7527943046787823, 0.6583072972061422, 0.6253644069646782, 0.7126540670188541, 0.7731445974651243, 0.6372563844277581, 0.7540644341018489, 0.6857469039032925, 0.551248091107865, 0.7115807513463142, 0.7096408839751925, 0.8176578649383873]}, {\"categories\": [\"0\", \"1\", \"3\", \"6\", \"10\", \"12\", \"17\", \"20\", \"23\", \"27\", \"29\", \"30\", \"31\", \"32\", \"38\"], \"mode\": \"lines\", \"name\": \"precision_score_weighted_max\", \"stepped\": true, \"type\": \"scatter\", \"data\": [0.7926323290228975, 0.7926323290228975, 0.7926323290228975, 0.7926323290228975, 0.7926323290228975, 0.7926323290228975, 0.7926323290228975, 0.7926323290228975, 0.7926323290228975, 0.7926323290228975, 0.7926323290228975, 0.7926323290228975, 0.7926323290228975, 0.7926323290228975, 0.8176578649383873]}], \"average_precision_score_macro\": [{\"categories\": [\"0\", \"1\", \"3\", \"6\", \"10\", \"12\", \"17\", \"20\", \"23\", \"27\", \"29\", \"30\", \"31\", \"32\", \"38\"], \"mode\": \"markers\", \"name\": \"average_precision_score_macro\", \"stepped\": false, \"type\": \"scatter\", \"data\": [0.8613840037244228, 0.8248746619756794, 0.825102694461512, 0.8267781565967248, 0.7404487910472466, 0.7182981762774396, 0.8037875873553392, 0.8568853967266103, 0.6926037251494814, 0.8263152810804777, 0.7600511606314657, 0.7921331640398067, 0.7461477432890069, 0.7234370430841649, 0.8697373123979363]}, {\"categories\": [\"0\", \"1\", \"3\", \"6\", \"10\", \"12\", \"17\", \"20\", \"23\", \"27\", \"29\", \"30\", \"31\", \"32\", \"38\"], \"mode\": \"lines\", \"name\": \"average_precision_score_macro_max\", \"stepped\": true, \"type\": \"scatter\", \"data\": [0.8613840037244228, 0.8613840037244228, 0.8613840037244228, 0.8613840037244228, 0.8613840037244228, 0.8613840037244228, 0.8613840037244228, 0.8613840037244228, 0.8613840037244228, 0.8613840037244228, 0.8613840037244228, 0.8613840037244228, 0.8613840037244228, 0.8613840037244228, 0.8697373123979363]}], \"f1_score_macro\": [{\"categories\": [\"0\", \"1\", \"3\", \"6\", \"10\", \"12\", \"17\", \"20\", \"23\", \"27\", \"29\", \"30\", \"31\", \"32\", \"38\"], \"mode\": \"markers\", \"name\": \"f1_score_macro\", \"stepped\": false, \"type\": \"scatter\", \"data\": [0.793724004278921, 0.7449598838504584, 0.7399898005987516, 0.750992359801049, 0.6107309987352663, 0.628853774563471, 0.6997282547988904, 0.7775729836568619, 0.6145102393462715, 0.7503375973945404, 0.6616670007184692, 0.3142141221206362, 0.6485695052614013, 0.5750491091812756, 0.8181120773643548]}, {\"categories\": [\"0\", \"1\", \"3\", \"6\", \"10\", \"12\", \"17\", \"20\", \"23\", \"27\", \"29\", \"30\", \"31\", \"32\", \"38\"], \"mode\": \"lines\", \"name\": \"f1_score_macro_max\", \"stepped\": true, \"type\": \"scatter\", \"data\": [0.793724004278921, 0.793724004278921, 0.793724004278921, 0.793724004278921, 0.793724004278921, 0.793724004278921, 0.793724004278921, 0.793724004278921, 0.793724004278921, 0.793724004278921, 0.793724004278921, 0.793724004278921, 0.793724004278921, 0.793724004278921, 0.8181120773643548]}], \"AUC_weighted\": [{\"categories\": [\"0\", \"1\", \"3\", \"6\", \"10\", \"12\", \"17\", \"20\", \"23\", \"27\", \"29\", \"30\", \"31\", \"32\", \"38\"], \"mode\": \"markers\", \"name\": \"AUC_weighted\", \"stepped\": false, \"type\": \"scatter\", \"data\": [0.9185280428416073, 0.8935369798182654, 0.8912056748538859, 0.8918605874063911, 0.8290913877276603, 0.8052366517838084, 0.8741834226553084, 0.9083184141880647, 0.8107839821182884, 0.890099892429525, 0.8423723937336384, 0.8629845777941165, 0.8377676664772187, 0.8198998609782387, 0.9200515581213738]}, {\"categories\": [\"0\", \"1\", \"3\", \"6\", \"10\", \"12\", \"17\", \"20\", \"23\", \"27\", \"29\", \"30\", \"31\", \"32\", \"38\"], \"mode\": \"lines\", \"name\": \"AUC_weighted_max\", \"stepped\": true, \"type\": \"scatter\", \"data\": [0.9185280428416073, 0.9185280428416073, 0.9185280428416073, 0.9185280428416073, 0.9185280428416073, 0.9185280428416073, 0.9185280428416073, 0.9185280428416073, 0.9185280428416073, 0.9185280428416073, 0.9185280428416073, 0.9185280428416073, 0.9185280428416073, 0.9185280428416073, 0.9200515581213738]}], \"recall_score_weighted\": [{\"categories\": [\"0\", \"1\", \"3\", \"6\", \"10\", \"12\", \"17\", \"20\", \"23\", \"27\", \"29\", \"30\", \"31\", \"32\", \"38\"], \"mode\": \"markers\", \"name\": \"recall_score_weighted\", \"stepped\": false, \"type\": \"scatter\", \"data\": [0.7904059040590407, 0.7484533734226231, 0.7410687440207736, 0.7534372010386771, 0.6510181768484351, 0.6276251651405403, 0.7139128057947245, 0.7731538426495376, 0.6436107694410277, 0.7509133980228692, 0.679395016172384, 0.468461573504624, 0.6892442257755911, 0.6436016582388046, 0.8175162862739739]}, {\"categories\": [\"0\", \"1\", \"3\", \"6\", \"10\", \"12\", \"17\", \"20\", \"23\", \"27\", \"29\", \"30\", \"31\", \"32\", \"38\"], \"mode\": \"lines\", \"name\": \"recall_score_weighted_max\", \"stepped\": true, \"type\": \"scatter\", \"data\": [0.7904059040590407, 0.7904059040590407, 0.7904059040590407, 0.7904059040590407, 0.7904059040590407, 0.7904059040590407, 0.7904059040590407, 0.7904059040590407, 0.7904059040590407, 0.7904059040590407, 0.7904059040590407, 0.7904059040590407, 0.7904059040590407, 0.7904059040590407, 0.8175162862739739]}], \"recall_score_macro\": [{\"categories\": [\"0\", \"1\", \"3\", \"6\", \"10\", \"12\", \"17\", \"20\", \"23\", \"27\", \"29\", \"30\", \"31\", \"32\", \"38\"], \"mode\": \"markers\", \"name\": \"recall_score_macro\", \"stepped\": false, \"type\": \"scatter\", \"data\": [0.791691461524143, 0.747977772594604, 0.7386478532622197, 0.7495904606277245, 0.6369930928195019, 0.6341756592040172, 0.7109139711042077, 0.7798485027038664, 0.6392152926907334, 0.7461411828218504, 0.6702212976365436, 0.3946212822391076, 0.6802531514188065, 0.6291267792398717, 0.8164639514335752]}, {\"categories\": [\"0\", \"1\", \"3\", \"6\", \"10\", \"12\", \"17\", \"20\", \"23\", \"27\", \"29\", \"30\", \"31\", \"32\", \"38\"], \"mode\": \"lines\", \"name\": \"recall_score_macro_max\", \"stepped\": true, \"type\": \"scatter\", \"data\": [0.791691461524143, 0.791691461524143, 0.791691461524143, 0.791691461524143, 0.791691461524143, 0.791691461524143, 0.791691461524143, 0.791691461524143, 0.791691461524143, 0.791691461524143, 0.791691461524143, 0.791691461524143, 0.791691461524143, 0.791691461524143, 0.8164639514335752]}], \"norm_macro_recall\": [{\"categories\": [\"0\", \"1\", \"3\", \"6\", \"10\", \"12\", \"17\", \"20\", \"23\", \"27\", \"29\", \"30\", \"31\", \"32\", \"38\"], \"mode\": \"markers\", \"name\": \"norm_macro_recall\", \"stepped\": false, \"type\": \"scatter\", \"data\": [0.6875371922862145, 0.6219666588919058, 0.6079717798933295, 0.6243856909415868, 0.45548963922925284, 0.45126348880602585, 0.5663709566563115, 0.6697727540557997, 0.45882293903610005, 0.6192117742327755, 0.5053319464548153, 0.0919319233586614, 0.5203797271282097, 0.4436901688598078, 0.7246959271503628]}, {\"categories\": [\"0\", \"1\", \"3\", \"6\", \"10\", \"12\", \"17\", \"20\", \"23\", \"27\", \"29\", \"30\", \"31\", \"32\", \"38\"], \"mode\": \"lines\", \"name\": \"norm_macro_recall_max\", \"stepped\": true, \"type\": \"scatter\", \"data\": [0.6875371922862145, 0.6875371922862145, 0.6875371922862145, 0.6875371922862145, 0.6875371922862145, 0.6875371922862145, 0.6875371922862145, 0.6875371922862145, 0.6875371922862145, 0.6875371922862145, 0.6875371922862145, 0.6875371922862145, 0.6875371922862145, 0.6875371922862145, 0.7246959271503628]}], \"recall_score_micro\": [{\"categories\": [\"0\", \"1\", \"3\", \"6\", \"10\", \"12\", \"17\", \"20\", \"23\", \"27\", \"29\", \"30\", \"31\", \"32\", \"38\"], \"mode\": \"markers\", \"name\": \"recall_score_micro\", \"stepped\": false, \"type\": \"scatter\", \"data\": [0.7904059040590407, 0.7484533734226231, 0.7410687440207736, 0.7534372010386771, 0.6510181768484351, 0.6276251651405403, 0.7139128057947245, 0.7731538426495376, 0.6436107694410277, 0.7509133980228692, 0.679395016172384, 0.468461573504624, 0.6892442257755911, 0.6436016582388046, 0.8175162862739739]}, {\"categories\": [\"0\", \"1\", \"3\", \"6\", \"10\", \"12\", \"17\", \"20\", \"23\", \"27\", \"29\", \"30\", \"31\", \"32\", \"38\"], \"mode\": \"lines\", \"name\": \"recall_score_micro_max\", \"stepped\": true, \"type\": \"scatter\", \"data\": [0.7904059040590407, 0.7904059040590407, 0.7904059040590407, 0.7904059040590407, 0.7904059040590407, 0.7904059040590407, 0.7904059040590407, 0.7904059040590407, 0.7904059040590407, 0.7904059040590407, 0.7904059040590407, 0.7904059040590407, 0.7904059040590407, 0.7904059040590407, 0.8175162862739739]}], \"weighted_accuracy\": [{\"categories\": [\"0\", \"1\", \"3\", \"6\", \"10\", \"12\", \"17\", \"20\", \"23\", \"27\", \"29\", \"30\", \"31\", \"32\", \"38\"], \"mode\": \"markers\", \"name\": \"weighted_accuracy\", \"stepped\": false, \"type\": \"scatter\", \"data\": [0.7905245876636678, 0.7525507022512364, 0.7462307439741508, 0.7586064273954721, 0.6716292917343072, 0.6259746183085181, 0.7220487810792742, 0.7681594180540848, 0.6529995247582256, 0.7584061909842528, 0.6936644332806311, 0.540413659797133, 0.7052511687850066, 0.6656675372715999, 0.8199937719822659]}, {\"categories\": [\"0\", \"1\", \"3\", \"6\", \"10\", \"12\", \"17\", \"20\", \"23\", \"27\", \"29\", \"30\", \"31\", \"32\", \"38\"], \"mode\": \"lines\", \"name\": \"weighted_accuracy_max\", \"stepped\": true, \"type\": \"scatter\", \"data\": [0.7905245876636678, 0.7905245876636678, 0.7905245876636678, 0.7905245876636678, 0.7905245876636678, 0.7905245876636678, 0.7905245876636678, 0.7905245876636678, 0.7905245876636678, 0.7905245876636678, 0.7905245876636678, 0.7905245876636678, 0.7905245876636678, 0.7905245876636678, 0.8199937719822659]}], \"accuracy\": [{\"categories\": [\"0\", \"1\", \"3\", \"6\", \"10\", \"12\", \"17\", \"20\", \"23\", \"27\", \"29\", \"30\", \"31\", \"32\", \"38\"], \"mode\": \"markers\", \"name\": \"accuracy\", \"stepped\": false, \"type\": \"scatter\", \"data\": [0.7904059040590407, 0.7484533734226231, 0.7410687440207736, 0.7534372010386771, 0.6510181768484351, 0.6276251651405403, 0.7139128057947245, 0.7731538426495376, 0.6436107694410277, 0.7509133980228692, 0.679395016172384, 0.468461573504624, 0.6892442257755911, 0.6436016582388046, 0.8175162862739739]}, {\"categories\": [\"0\", \"1\", \"3\", \"6\", \"10\", \"12\", \"17\", \"20\", \"23\", \"27\", \"29\", \"30\", \"31\", \"32\", \"38\"], \"mode\": \"lines\", \"name\": \"accuracy_max\", \"stepped\": true, \"type\": \"scatter\", \"data\": [0.7904059040590407, 0.7904059040590407, 0.7904059040590407, 0.7904059040590407, 0.7904059040590407, 0.7904059040590407, 0.7904059040590407, 0.7904059040590407, 0.7904059040590407, 0.7904059040590407, 0.7904059040590407, 0.7904059040590407, 0.7904059040590407, 0.7904059040590407, 0.8175162862739739]}], \"precision_score_macro\": [{\"categories\": [\"0\", \"1\", \"3\", \"6\", \"10\", \"12\", \"17\", \"20\", \"23\", \"27\", \"29\", \"30\", \"31\", \"32\", \"38\"], \"mode\": \"markers\", \"name\": \"precision_score_macro\", \"stepped\": false, \"type\": \"scatter\", \"data\": [0.7971382259446997, 0.7508388057557444, 0.751912433781695, 0.7553857633308169, 0.6718907316416436, 0.6394307605066681, 0.721393896927772, 0.776203710717688, 0.646444939040291, 0.7640142953280794, 0.6992148641508625, 0.5544051542036333, 0.7213545362454075, 0.72384174832395, 0.8219195413392303]}, {\"categories\": [\"0\", \"1\", \"3\", \"6\", \"10\", \"12\", \"17\", \"20\", \"23\", \"27\", \"29\", \"30\", \"31\", \"32\", \"38\"], \"mode\": \"lines\", \"name\": \"precision_score_macro_max\", \"stepped\": true, \"type\": \"scatter\", \"data\": [0.7971382259446997, 0.7971382259446997, 0.7971382259446997, 0.7971382259446997, 0.7971382259446997, 0.7971382259446997, 0.7971382259446997, 0.7971382259446997, 0.7971382259446997, 0.7971382259446997, 0.7971382259446997, 0.7971382259446997, 0.7971382259446997, 0.7971382259446997, 0.8219195413392303]}], \"precision_score_micro\": [{\"categories\": [\"0\", \"1\", \"3\", \"6\", \"10\", \"12\", \"17\", \"20\", \"23\", \"27\", \"29\", \"30\", \"31\", \"32\", \"38\"], \"mode\": \"markers\", \"name\": \"precision_score_micro\", \"stepped\": false, \"type\": \"scatter\", \"data\": [0.7904059040590407, 0.7484533734226231, 0.7410687440207736, 0.7534372010386771, 0.6510181768484351, 0.6276251651405403, 0.7139128057947245, 0.7731538426495376, 0.6436107694410277, 0.7509133980228692, 0.679395016172384, 0.468461573504624, 0.6892442257755911, 0.6436016582388046, 0.8175162862739739]}, {\"categories\": [\"0\", \"1\", \"3\", \"6\", \"10\", \"12\", \"17\", \"20\", \"23\", \"27\", \"29\", \"30\", \"31\", \"32\", \"38\"], \"mode\": \"lines\", \"name\": \"precision_score_micro_max\", \"stepped\": true, \"type\": \"scatter\", \"data\": [0.7904059040590407, 0.7904059040590407, 0.7904059040590407, 0.7904059040590407, 0.7904059040590407, 0.7904059040590407, 0.7904059040590407, 0.7904059040590407, 0.7904059040590407, 0.7904059040590407, 0.7904059040590407, 0.7904059040590407, 0.7904059040590407, 0.7904059040590407, 0.8175162862739739]}], \"balanced_accuracy\": [{\"categories\": [\"0\", \"1\", \"3\", \"6\", \"10\", \"12\", \"17\", \"20\", \"23\", \"27\", \"29\", \"30\", \"31\", \"32\", \"38\"], \"mode\": \"markers\", \"name\": \"balanced_accuracy\", \"stepped\": false, \"type\": \"scatter\", \"data\": [0.791691461524143, 0.747977772594604, 0.7386478532622197, 0.7495904606277245, 0.6369930928195019, 0.6341756592040172, 0.7109139711042077, 0.7798485027038664, 0.6392152926907334, 0.7461411828218504, 0.6702212976365436, 0.3946212822391076, 0.6802531514188065, 0.6291267792398717, 0.8164639514335752]}, {\"categories\": [\"0\", \"1\", \"3\", \"6\", \"10\", \"12\", \"17\", \"20\", \"23\", \"27\", \"29\", \"30\", \"31\", \"32\", \"38\"], \"mode\": \"lines\", \"name\": \"balanced_accuracy_max\", \"stepped\": true, \"type\": \"scatter\", \"data\": [0.791691461524143, 0.791691461524143, 0.791691461524143, 0.791691461524143, 0.791691461524143, 0.791691461524143, 0.791691461524143, 0.791691461524143, 0.791691461524143, 0.791691461524143, 0.791691461524143, 0.791691461524143, 0.791691461524143, 0.791691461524143, 0.8164639514335752]}], \"f1_score_weighted\": [{\"categories\": [\"0\", \"1\", \"3\", \"6\", \"10\", \"12\", \"17\", \"20\", \"23\", \"27\", \"29\", \"30\", \"31\", \"32\", \"38\"], \"mode\": \"markers\", \"name\": \"f1_score_weighted\", \"stepped\": false, \"type\": \"scatter\", \"data\": [0.7909035213516503, 0.7429876811685562, 0.7367951088513056, 0.751717842533227, 0.6087511298281516, 0.6180896403365592, 0.6959714207518952, 0.7727089331527774, 0.6109590491424305, 0.7474360828418138, 0.6579394314044302, 0.35544872177207015, 0.6460845270241601, 0.5711839250466352, 0.816520723030668]}, {\"categories\": [\"0\", \"1\", \"3\", \"6\", \"10\", \"12\", \"17\", \"20\", \"23\", \"27\", \"29\", \"30\", \"31\", \"32\", \"38\"], \"mode\": \"lines\", \"name\": \"f1_score_weighted_max\", \"stepped\": true, \"type\": \"scatter\", \"data\": [0.7909035213516503, 0.7909035213516503, 0.7909035213516503, 0.7909035213516503, 0.7909035213516503, 0.7909035213516503, 0.7909035213516503, 0.7909035213516503, 0.7909035213516503, 0.7909035213516503, 0.7909035213516503, 0.7909035213516503, 0.7909035213516503, 0.7909035213516503, 0.816520723030668]}], \"f1_score_micro\": [{\"categories\": [\"0\", \"1\", \"3\", \"6\", \"10\", \"12\", \"17\", \"20\", \"23\", \"27\", \"29\", \"30\", \"31\", \"32\", \"38\"], \"mode\": \"markers\", \"name\": \"f1_score_micro\", \"stepped\": false, \"type\": \"scatter\", \"data\": [0.7904059040590407, 0.7484533734226231, 0.7410687440207736, 0.7534372010386771, 0.6510181768484351, 0.6276251651405403, 0.7139128057947245, 0.7731538426495376, 0.6436107694410277, 0.7509133980228692, 0.679395016172384, 0.468461573504624, 0.6892442257755911, 0.6436016582388046, 0.8175162862739739]}, {\"categories\": [\"0\", \"1\", \"3\", \"6\", \"10\", \"12\", \"17\", \"20\", \"23\", \"27\", \"29\", \"30\", \"31\", \"32\", \"38\"], \"mode\": \"lines\", \"name\": \"f1_score_micro_max\", \"stepped\": true, \"type\": \"scatter\", \"data\": [0.7904059040590407, 0.7904059040590407, 0.7904059040590407, 0.7904059040590407, 0.7904059040590407, 0.7904059040590407, 0.7904059040590407, 0.7904059040590407, 0.7904059040590407, 0.7904059040590407, 0.7904059040590407, 0.7904059040590407, 0.7904059040590407, 0.7904059040590407, 0.8175162862739739]}], \"average_precision_score_weighted\": [{\"categories\": [\"0\", \"1\", \"3\", \"6\", \"10\", \"12\", \"17\", \"20\", \"23\", \"27\", \"29\", \"30\", \"31\", \"32\", \"38\"], \"mode\": \"markers\", \"name\": \"average_precision_score_weighted\", \"stepped\": false, \"type\": \"scatter\", \"data\": [0.8584500271290585, 0.8194803786241899, 0.8223370717648956, 0.8245186022230117, 0.7292412837481339, 0.7058323406850655, 0.7990901134484419, 0.8545667471435379, 0.6894313169803369, 0.8214859790049712, 0.7496725573536976, 0.7874134648018534, 0.737207080368167, 0.7115736845111499, 0.8673470748250652]}, {\"categories\": [\"0\", \"1\", \"3\", \"6\", \"10\", \"12\", \"17\", \"20\", \"23\", \"27\", \"29\", \"30\", \"31\", \"32\", \"38\"], \"mode\": \"lines\", \"name\": \"average_precision_score_weighted_max\", \"stepped\": true, \"type\": \"scatter\", \"data\": [0.8584500271290585, 0.8584500271290585, 0.8584500271290585, 0.8584500271290585, 0.8584500271290585, 0.8584500271290585, 0.8584500271290585, 0.8584500271290585, 0.8584500271290585, 0.8584500271290585, 0.8584500271290585, 0.8584500271290585, 0.8584500271290585, 0.8584500271290585, 0.8673470748250652]}], \"AUC_macro\": [{\"categories\": [\"0\", \"1\", \"3\", \"6\", \"10\", \"12\", \"17\", \"20\", \"23\", \"27\", \"29\", \"30\", \"31\", \"32\", \"38\"], \"mode\": \"markers\", \"name\": \"AUC_macro\", \"stepped\": false, \"type\": \"scatter\", \"data\": [0.9221789283257635, 0.8988601114202085, 0.8956563203400005, 0.8967373793427337, 0.8373516423380541, 0.81686484217872, 0.8806312281282169, 0.912621395980079, 0.8176466654634642, 0.8950898434584431, 0.8516538957131163, 0.8700086362918351, 0.8462399233274157, 0.8295563924939442, 0.923683144961295]}, {\"categories\": [\"0\", \"1\", \"3\", \"6\", \"10\", \"12\", \"17\", \"20\", \"23\", \"27\", \"29\", \"30\", \"31\", \"32\", \"38\"], \"mode\": \"lines\", \"name\": \"AUC_macro_max\", \"stepped\": true, \"type\": \"scatter\", \"data\": [0.9221789283257635, 0.9221789283257635, 0.9221789283257635, 0.9221789283257635, 0.9221789283257635, 0.9221789283257635, 0.9221789283257635, 0.9221789283257635, 0.9221789283257635, 0.9221789283257635, 0.9221789283257635, 0.9221789283257635, 0.9221789283257635, 0.9221789283257635, 0.923683144961295]}]}, \"metricName\": null, \"primaryMetricName\": \"accuracy\", \"showLegend\": false}, \"run_metrics\": [{\"name\": \"experiment_status\", \"run_id\": \"AutoML_093d98bd-0ffe-4170-a2f6-2f6941181eab\", \"categories\": [0, 1, 2, 3, 4, 5, 6, 7, 8, 9, 10, 11, 12, 13], \"series\": [{\"data\": [\"DatasetEvaluation\", \"FeaturesGeneration\", \"DatasetFeaturization\", \"DatasetFeaturizationCompleted\", \"DatasetCrossValidationSplit\", \"ModelSelection\", \"BestRunExplainModel\", \"ModelExplanationDataSetSetup\", \"PickSurrogateModel\", \"EngineeredFeatureExplanations\", \"EngineeredFeatureExplanations\", \"RawFeaturesExplanations\", \"RawFeaturesExplanations\", \"BestRunExplainModel\"]}]}, {\"name\": \"experiment_status_description\", \"run_id\": \"AutoML_093d98bd-0ffe-4170-a2f6-2f6941181eab\", \"categories\": [0, 1, 2, 3, 4, 5, 6, 7, 8, 9, 10, 11, 12, 13], \"series\": [{\"data\": [\"Gathering dataset statistics.\", \"Generating features for the dataset.\", \"Beginning to fit featurizers and featurize the dataset.\", \"Completed fit featurizers and featurizing the dataset.\", \"Generating individually featurized CV splits.\", \"Beginning model selection.\", \"Best run model explanations started\", \"Model explanations data setup completed\", \"Choosing LightGBM as the surrogate model for explanations\", \"Computation of engineered features started\", \"Computation of engineered features completed\", \"Computation of raw features started\", \"Computation of raw features completed\", \"Best run model explanations completed\"]}]}, {\"name\": \"matthews_correlation\", \"run_id\": \"AutoML_093d98bd-0ffe-4170-a2f6-2f6941181eab\", \"categories\": [0], \"series\": [{\"data\": [0.7203152947685713]}]}, {\"name\": \"average_precision_score_macro\", \"run_id\": \"AutoML_093d98bd-0ffe-4170-a2f6-2f6941181eab\", \"categories\": [0], \"series\": [{\"data\": [0.8697373123979363]}]}, {\"name\": \"balanced_accuracy\", \"run_id\": \"AutoML_093d98bd-0ffe-4170-a2f6-2f6941181eab\", \"categories\": [0], \"series\": [{\"data\": [0.8164639514335752]}]}, {\"name\": \"log_loss\", \"run_id\": \"AutoML_093d98bd-0ffe-4170-a2f6-2f6941181eab\", \"categories\": [0], \"series\": [{\"data\": [0.6331436494353994]}]}, {\"name\": \"AUC_micro\", \"run_id\": \"AutoML_093d98bd-0ffe-4170-a2f6-2f6941181eab\", \"categories\": [0], \"series\": [{\"data\": [0.929468459815268]}]}, {\"name\": \"f1_score_micro\", \"run_id\": \"AutoML_093d98bd-0ffe-4170-a2f6-2f6941181eab\", \"categories\": [0], \"series\": [{\"data\": [0.8175162862739739]}]}, {\"name\": \"weighted_accuracy\", \"run_id\": \"AutoML_093d98bd-0ffe-4170-a2f6-2f6941181eab\", \"categories\": [0], \"series\": [{\"data\": [0.8199937719822659]}]}, {\"name\": \"precision_score_macro\", \"run_id\": \"AutoML_093d98bd-0ffe-4170-a2f6-2f6941181eab\", \"categories\": [0], \"series\": [{\"data\": [0.8219195413392303]}]}, {\"name\": \"accuracy\", \"run_id\": \"AutoML_093d98bd-0ffe-4170-a2f6-2f6941181eab\", \"categories\": [0], \"series\": [{\"data\": [0.8175162862739739]}]}, {\"name\": \"recall_score_weighted\", \"run_id\": \"AutoML_093d98bd-0ffe-4170-a2f6-2f6941181eab\", \"categories\": [0], \"series\": [{\"data\": [0.8175162862739739]}]}, {\"name\": \"AUC_macro\", \"run_id\": \"AutoML_093d98bd-0ffe-4170-a2f6-2f6941181eab\", \"categories\": [0], \"series\": [{\"data\": [0.923683144961295]}]}, {\"name\": \"average_precision_score_weighted\", \"run_id\": \"AutoML_093d98bd-0ffe-4170-a2f6-2f6941181eab\", \"categories\": [0], \"series\": [{\"data\": [0.8673470748250652]}]}, {\"name\": \"recall_score_micro\", \"run_id\": \"AutoML_093d98bd-0ffe-4170-a2f6-2f6941181eab\", \"categories\": [0], \"series\": [{\"data\": [0.8175162862739739]}]}, {\"name\": \"recall_score_macro\", \"run_id\": \"AutoML_093d98bd-0ffe-4170-a2f6-2f6941181eab\", \"categories\": [0], \"series\": [{\"data\": [0.8164639514335752]}]}, {\"name\": \"norm_macro_recall\", \"run_id\": \"AutoML_093d98bd-0ffe-4170-a2f6-2f6941181eab\", \"categories\": [0], \"series\": [{\"data\": [0.7246959271503628]}]}, {\"name\": \"precision_score_weighted\", \"run_id\": \"AutoML_093d98bd-0ffe-4170-a2f6-2f6941181eab\", \"categories\": [0], \"series\": [{\"data\": [0.8176578649383873]}]}, {\"name\": \"precision_score_micro\", \"run_id\": \"AutoML_093d98bd-0ffe-4170-a2f6-2f6941181eab\", \"categories\": [0], \"series\": [{\"data\": [0.8175162862739739]}]}, {\"name\": \"AUC_weighted\", \"run_id\": \"AutoML_093d98bd-0ffe-4170-a2f6-2f6941181eab\", \"categories\": [0], \"series\": [{\"data\": [0.9200515581213738]}]}, {\"name\": \"average_precision_score_micro\", \"run_id\": \"AutoML_093d98bd-0ffe-4170-a2f6-2f6941181eab\", \"categories\": [0], \"series\": [{\"data\": [0.8745382040360331]}]}, {\"name\": \"f1_score_weighted\", \"run_id\": \"AutoML_093d98bd-0ffe-4170-a2f6-2f6941181eab\", \"categories\": [0], \"series\": [{\"data\": [0.816520723030668]}]}, {\"name\": \"f1_score_macro\", \"run_id\": \"AutoML_093d98bd-0ffe-4170-a2f6-2f6941181eab\", \"categories\": [0], \"series\": [{\"data\": [0.8181120773643548]}]}], \"run_logs\": \"\\nRun is completed.\", \"graph\": {}, \"widget_settings\": {\"childWidgetDisplay\": \"popup\", \"send_telemetry\": false, \"log_level\": \"INFO\", \"sdk_version\": \"1.38.0\"}, \"loading\": false}"
     },
     "metadata": {},
     "output_type": "display_data"
    }
   ],
   "source": [
    "RunDetails(remote_run).show()\n"
   ]
  },
  {
   "cell_type": "code",
   "execution_count": 10,
   "metadata": {},
   "outputs": [
    {
     "data": {
      "text/html": [
       "<table style=\"width:100%\"><tr><th>Experiment</th><th>Id</th><th>Type</th><th>Status</th><th>Details Page</th><th>Docs Page</th></tr><tr><td>capstone-automl-experiment</td><td>AutoML_093d98bd-0ffe-4170-a2f6-2f6941181eab</td><td>automl</td><td>Running</td><td><a href=\"https://ml.azure.com/runs/AutoML_093d98bd-0ffe-4170-a2f6-2f6941181eab?wsid=/subscriptions/6971f5ac-8af1-446e-8034-05acea24681f/resourcegroups/aml-quickstarts-189674/workspaces/quick-starts-ws-189674&amp;tid=660b3398-b80e-49d2-bc5b-ac1dc93b5254\" target=\"_blank\" rel=\"noopener\">Link to Azure Machine Learning studio</a></td><td><a href=\"https://docs.microsoft.com/en-us/python/api/overview/azure/ml/intro?view=azure-ml-py\" target=\"_blank\" rel=\"noopener\">Link to Documentation</a></td></tr></table>"
      ],
      "text/plain": [
       "<IPython.core.display.HTML object>"
      ]
     },
     "metadata": {},
     "output_type": "display_data"
    },
    {
     "name": "stdout",
     "output_type": "stream",
     "text": [
      "\n",
      "Current status: FeaturesGeneration. Generating features for the dataset.\n",
      "Current status: DatasetFeaturization. Beginning to fit featurizers and featurize the dataset.\n",
      "Current status: DatasetCrossValidationSplit. Generating individually featurized CV splits.\n",
      "Current status: ModelSelection. Beginning model selection.\n",
      "\n",
      "********************************************************************************************\n",
      "DATA GUARDRAILS: \n",
      "\n",
      "TYPE:         Class balancing detection\n",
      "STATUS:       PASSED\n",
      "DESCRIPTION:  Your inputs were analyzed, and all classes are balanced in your training data.\n",
      "              Learn more about imbalanced data: https://aka.ms/AutomatedMLImbalancedData\n",
      "\n",
      "********************************************************************************************\n",
      "\n",
      "TYPE:         Missing feature values imputation\n",
      "STATUS:       DONE\n",
      "DESCRIPTION:  If the missing values are expected, let the run complete. Otherwise cancel the current run and use a script to customize the handling of missing feature values that may be more appropriate based on the data type and business requirement.\n",
      "              Learn more about missing value imputation: https://aka.ms/AutomatedMLFeaturization\n",
      "DETAILS:      \n",
      "+------------------------------+------------------------------+------------------------------+\n",
      "|Column name                   |Missing value count           |Imputation type               |\n",
      "+==============================+==============================+==============================+\n",
      "|BodyTemp                      |3                             |mean                          |\n",
      "+------------------------------+------------------------------+------------------------------+\n",
      "\n",
      "********************************************************************************************\n",
      "\n",
      "TYPE:         High cardinality feature detection\n",
      "STATUS:       PASSED\n",
      "DESCRIPTION:  Your inputs were analyzed, and no high cardinality features were detected.\n",
      "              Learn more about high cardinality feature handling: https://aka.ms/AutomatedMLFeaturization\n",
      "\n",
      "********************************************************************************************\n",
      "\n",
      "********************************************************************************************\n",
      "ITER: The iteration being evaluated.\n",
      "PIPELINE: A summary description of the pipeline being evaluated.\n",
      "DURATION: Time taken for the current iteration.\n",
      "METRIC: The result of computing score on the fitted pipeline.\n",
      "BEST: The best observed score thus far.\n",
      "********************************************************************************************\n",
      "\n",
      " ITER   PIPELINE                                       DURATION            METRIC      BEST\n",
      "    0   MaxAbsScaler LightGBM                          0:00:10             0.7904    0.7904\n",
      "    1   MaxAbsScaler XGBoostClassifier                 0:00:09             0.7485    0.7904\n",
      "    2   MaxAbsScaler ExtremeRandomTrees                0:00:10             0.6622    0.7904\n",
      "    3   SparseNormalizer XGBoostClassifier             0:00:09             0.7411    0.7904\n",
      "    4   MaxAbsScaler LightGBM                          0:00:09             0.7040    0.7904\n",
      "    5   MaxAbsScaler LightGBM                          0:00:09             0.7065    0.7904\n",
      "    6   StandardScalerWrapper XGBoostClassifier        0:00:09             0.7534    0.7904\n",
      "    7   MaxAbsScaler LogisticRegression                0:00:09             0.6326    0.7904\n",
      "    8   StandardScalerWrapper ExtremeRandomTrees       0:00:09             0.5585    0.7904\n",
      "   10   SparseNormalizer LightGBM                      0:00:09             0.6510    0.7904\n",
      "    9   StandardScalerWrapper XGBoostClassifier        0:00:08             0.7152    0.7904\n",
      "   11   StandardScalerWrapper XGBoostClassifier        0:00:09             0.7583    0.7904\n",
      "   12   MaxAbsScaler LogisticRegression                0:00:09             0.6276    0.7904\n",
      "   13   MaxAbsScaler SGD                               0:00:08             0.6277    0.7904\n",
      "   14   StandardScalerWrapper XGBoostClassifier        0:00:09             0.7152    0.7904\n",
      "   15   SparseNormalizer RandomForest                  0:00:10             0.7337    0.7904\n",
      "   20   TruncatedSVDWrapper RandomForest               0:00:04             0.7732    0.7904\n",
      "   16   StandardScalerWrapper LogisticRegression       0:00:09             0.6338    0.7904\n",
      "   17   StandardScalerWrapper RandomForest             0:00:09             0.7139    0.7904\n",
      "   21   StandardScalerWrapper XGBoostClassifier        0:03:37             0.7719    0.7904\n",
      "   18   StandardScalerWrapper XGBoostClassifier        0:00:09             0.7830    0.7904\n",
      "   19   TruncatedSVDWrapper RandomForest               0:00:10             0.6671    0.7904\n",
      "   22   SparseNormalizer XGBoostClassifier             0:00:04             0.7472    0.7904\n",
      "   23   StandardScalerWrapper LightGBM                 0:00:04             0.6436    0.7904\n",
      "   26   SparseNormalizer XGBoostClassifier             0:00:04             0.7300    0.7904\n",
      "   24   StandardScalerWrapper LogisticRegression       0:00:04             0.6202    0.7904\n",
      "   25   StandardScalerWrapper RandomForest             0:00:04             0.6522    0.7904\n",
      "   27   SparseNormalizer XGBoostClassifier             0:00:04             0.7509    0.7904\n",
      "   28   SparseNormalizer XGBoostClassifier             0:00:04             0.7398    0.7904\n",
      "   29   MaxAbsScaler ExtremeRandomTrees                0:00:04             0.6794    0.7904\n",
      "   30   TruncatedSVDWrapper LightGBM                   0:00:04             0.4685    0.7904\n",
      "   31   StandardScalerWrapper XGBoostClassifier        0:00:04             0.6892    0.7904\n",
      "   32   MaxAbsScaler RandomForest                      0:00:04             0.6436    0.7904\n",
      "   33   StandardScalerWrapper XGBoostClassifier        0:00:04             0.7053    0.7904\n",
      "   34                                                  0:00:00                nan    0.7904\n",
      "   35                                                  0:00:00                nan    0.7904\n",
      "   36                                                  0:00:00                nan    0.7904\n",
      "   37                                                  0:00:00                nan    0.7904\n",
      "   38    VotingEnsemble                                0:00:04             0.8175    0.8175\n"
     ]
    },
    {
     "data": {
      "text/plain": [
       "{'runId': 'AutoML_093d98bd-0ffe-4170-a2f6-2f6941181eab',\n",
       " 'target': 'automl-com-clst',\n",
       " 'status': 'Completed',\n",
       " 'startTimeUtc': '2022-03-22T18:33:14.704513Z',\n",
       " 'endTimeUtc': '2022-03-22T18:57:29.706139Z',\n",
       " 'services': {},\n",
       " 'warnings': [{'source': 'JasmineService',\n",
       "   'message': 'No scores improved over last 20 iterations, so experiment stopped early. This early stopping behavior can be disabled by setting enable_early_stopping = False in AutoMLConfig for notebook/python SDK runs.'}],\n",
       " 'properties': {'num_iterations': '1000',\n",
       "  'training_type': 'TrainFull',\n",
       "  'acquisition_function': 'EI',\n",
       "  'primary_metric': 'accuracy',\n",
       "  'train_split': '0',\n",
       "  'acquisition_parameter': '0',\n",
       "  'num_cross_validation': '3',\n",
       "  'target': 'automl-com-clst',\n",
       "  'AMLSettingsJsonString': '{\"path\":null,\"name\":\"capstone-automl-experiment\",\"subscription_id\":\"6971f5ac-8af1-446e-8034-05acea24681f\",\"resource_group\":\"aml-quickstarts-189674\",\"workspace_name\":\"quick-starts-ws-189674\",\"region\":\"southcentralus\",\"compute_target\":\"automl-com-clst\",\"spark_service\":null,\"azure_service\":\"remote\",\"many_models\":false,\"pipeline_fetch_max_batch_size\":1,\"enable_batch_run\":true,\"enable_run_restructure\":false,\"start_auxiliary_runs_before_parent_complete\":false,\"enable_code_generation\":false,\"iterations\":1000,\"primary_metric\":\"accuracy\",\"task_type\":\"classification\",\"positive_label\":null,\"data_script\":null,\"test_size\":0.0,\"test_include_predictions_only\":false,\"validation_size\":0.0,\"n_cross_validations\":3,\"y_min\":null,\"y_max\":null,\"num_classes\":null,\"featurization\":\"auto\",\"_ignore_package_version_incompatibilities\":false,\"is_timeseries\":false,\"max_cores_per_iteration\":1,\"max_concurrent_iterations\":5,\"iteration_timeout_minutes\":null,\"mem_in_mb\":null,\"enforce_time_on_windows\":false,\"experiment_timeout_minutes\":45,\"experiment_exit_score\":null,\"whitelist_models\":null,\"blacklist_algos\":[\"TensorFlowLinearClassifier\",\"TensorFlowDNN\"],\"supported_models\":[\"SVM\",\"MultinomialNaiveBayes\",\"RandomForest\",\"TensorFlowDNN\",\"TensorFlowLinearClassifier\",\"BernoulliNaiveBayes\",\"LogisticRegression\",\"LinearSVM\",\"SGD\",\"TabnetClassifier\",\"DecisionTree\",\"KNN\",\"ExtremeRandomTrees\",\"XGBoostClassifier\",\"LightGBM\",\"AveragedPerceptronClassifier\",\"GradientBoosting\"],\"private_models\":[],\"auto_blacklist\":true,\"blacklist_samples_reached\":false,\"exclude_nan_labels\":true,\"verbosity\":20,\"_debug_log\":\"azureml_automl.log\",\"show_warnings\":false,\"model_explainability\":true,\"service_url\":null,\"sdk_url\":null,\"sdk_packages\":null,\"enable_onnx_compatible_models\":true,\"enable_split_onnx_featurizer_estimator_models\":false,\"vm_type\":\"STANDARD_D2_V2\",\"telemetry_verbosity\":20,\"send_telemetry\":true,\"enable_dnn\":false,\"scenario\":\"SDK-1.13.0\",\"environment_label\":null,\"save_mlflow\":false,\"enable_categorical_indicators\":false,\"force_text_dnn\":false,\"enable_feature_sweeping\":false,\"enable_early_stopping\":true,\"early_stopping_n_iters\":10,\"arguments\":null,\"dataset_id\":\"b7c7f4cc-a689-4304-8487-1b737d69e2c5\",\"hyperdrive_config\":null,\"validation_dataset_id\":null,\"run_source\":null,\"metrics\":null,\"enable_metric_confidence\":false,\"enable_ensembling\":true,\"enable_stack_ensembling\":false,\"ensemble_iterations\":15,\"enable_tf\":false,\"enable_subsampling\":null,\"subsample_seed\":null,\"enable_nimbusml\":false,\"enable_streaming\":false,\"force_streaming\":false,\"track_child_runs\":true,\"allowed_private_models\":[],\"label_column_name\":\"RiskLevel\",\"weight_column_name\":null,\"cv_split_column_names\":null,\"enable_local_managed\":false,\"_local_managed_run_id\":null,\"cost_mode\":1,\"lag_length\":0,\"metric_operation\":\"maximize\",\"preprocess\":true}',\n",
       "  'DataPrepJsonString': '{\\\\\"training_data\\\\\": {\\\\\"datasetId\\\\\": \\\\\"b7c7f4cc-a689-4304-8487-1b737d69e2c5\\\\\"}, \\\\\"datasets\\\\\": 0}',\n",
       "  'EnableSubsampling': None,\n",
       "  'runTemplate': 'AutoML',\n",
       "  'azureml.runsource': 'automl',\n",
       "  'display_task_type': 'classification',\n",
       "  'dependencies_versions': '{\"azureml-widgets\": \"1.38.0\", \"azureml-train\": \"1.38.0\", \"azureml-train-restclients-hyperdrive\": \"1.38.0\", \"azureml-train-core\": \"1.38.0\", \"azureml-train-automl\": \"1.38.0\", \"azureml-train-automl-runtime\": \"1.38.0\", \"azureml-train-automl-client\": \"1.38.0\", \"azureml-tensorboard\": \"1.38.0\", \"azureml-telemetry\": \"1.38.0\", \"azureml-sdk\": \"1.38.0\", \"azureml-responsibleai\": \"1.38.0\", \"azureml-pipeline\": \"1.38.0\", \"azureml-pipeline-steps\": \"1.38.0\", \"azureml-pipeline-core\": \"1.38.0\", \"azureml-opendatasets\": \"1.38.0\", \"azureml-mlflow\": \"1.38.0\", \"azureml-interpret\": \"1.38.0\", \"azureml-inference-server-http\": \"0.4.2\", \"azureml-explain-model\": \"1.38.0\", \"azureml-defaults\": \"1.38.0\", \"azureml-dataset-runtime\": \"1.38.0\", \"azureml-dataprep\": \"2.26.0\", \"azureml-dataprep-rslex\": \"2.2.0\", \"azureml-dataprep-native\": \"38.0.0\", \"azureml-datadrift\": \"1.38.0\", \"azureml-core\": \"1.38.0\", \"azureml-contrib-services\": \"1.38.0\", \"azureml-contrib-server\": \"1.38.0\", \"azureml-contrib-reinforcementlearning\": \"1.38.0\", \"azureml-contrib-pipeline-steps\": \"1.38.0\", \"azureml-contrib-notebook\": \"1.38.0\", \"azureml-contrib-fairness\": \"1.38.0\", \"azureml-contrib-dataset\": \"1.38.0\", \"azureml-contrib-automl-pipeline-steps\": \"1.38.0\", \"azureml-cli-common\": \"1.38.0\", \"azureml-automl-runtime\": \"1.38.0\", \"azureml-automl-dnn-nlp\": \"1.38.0\", \"azureml-automl-core\": \"1.38.0\", \"azureml-accel-models\": \"1.38.0\"}',\n",
       "  '_aml_system_scenario_identification': 'Remote.Parent',\n",
       "  'ClientType': 'SDK',\n",
       "  'environment_cpu_name': 'AzureML-AutoML',\n",
       "  'environment_cpu_label': 'py36',\n",
       "  'environment_gpu_name': 'AzureML-AutoML-GPU',\n",
       "  'environment_gpu_label': 'py36',\n",
       "  'root_attribution': 'automl',\n",
       "  'attribution': 'AutoML',\n",
       "  'Orchestrator': 'AutoML',\n",
       "  'CancelUri': 'https://southcentralus.api.azureml.ms/jasmine/v1.0/subscriptions/6971f5ac-8af1-446e-8034-05acea24681f/resourceGroups/aml-quickstarts-189674/providers/Microsoft.MachineLearningServices/workspaces/quick-starts-ws-189674/experimentids/4cb5e02a-81a8-406d-8de0-149de903dd72/cancel/AutoML_093d98bd-0ffe-4170-a2f6-2f6941181eab',\n",
       "  'ClientSdkVersion': '1.38.0',\n",
       "  'snapshotId': '00000000-0000-0000-0000-000000000000',\n",
       "  'SetupRunId': 'AutoML_093d98bd-0ffe-4170-a2f6-2f6941181eab_setup',\n",
       "  'SetupRunContainerId': 'dcid.AutoML_093d98bd-0ffe-4170-a2f6-2f6941181eab_setup',\n",
       "  'FeaturizationRunJsonPath': 'featurizer_container.json',\n",
       "  'FeaturizationRunId': 'AutoML_093d98bd-0ffe-4170-a2f6-2f6941181eab_featurize',\n",
       "  'ProblemInfoJsonString': '{\"dataset_num_categorical\": 0, \"is_sparse\": true, \"subsampling\": false, \"has_extra_col\": true, \"dataset_classes\": 3, \"dataset_features\": 54, \"dataset_samples\": 811, \"single_frequency_class_detected\": false}',\n",
       "  'ModelExplainRunId': 'AutoML_093d98bd-0ffe-4170-a2f6-2f6941181eab_ModelExplain'},\n",
       " 'inputDatasets': [{'dataset': {'id': 'b7c7f4cc-a689-4304-8487-1b737d69e2c5'}, 'consumptionDetails': {'type': 'RunInput', 'inputName': 'training_data', 'mechanism': 'Direct'}}],\n",
       " 'outputDatasets': [],\n",
       " 'logFiles': {},\n",
       " 'submittedBy': 'ODL_User 189674'}"
      ]
     },
     "execution_count": 10,
     "metadata": {},
     "output_type": "execute_result"
    }
   ],
   "source": [
    "remote_run.get_status()\n",
    "remote_run.wait_for_completion(show_output=True)"
   ]
  },
  {
   "cell_type": "markdown",
   "metadata": {},
   "source": [
    "## Best Model\n",
    "\n",
    "TODO: In the cell below, get the best model from the automl experiments and display all the properties of the model.\n",
    "\n"
   ]
  },
  {
   "cell_type": "code",
   "execution_count": 11,
   "metadata": {
    "gather": {
     "logged": 1647568001021
    },
    "jupyter": {
     "outputs_hidden": false,
     "source_hidden": false
    },
    "nteract": {
     "transient": {
      "deleting": false
     }
    }
   },
   "outputs": [
    {
     "name": "stdout",
     "output_type": "stream",
     "text": [
      "===== AutoMl Best Run ========\n",
      "Run(Experiment: capstone-automl-experiment,\n",
      "Id: AutoML_093d98bd-0ffe-4170-a2f6-2f6941181eab_38,\n",
      "Type: azureml.scriptrun,\n",
      "Status: Completed)\n",
      "\n",
      "  ===== AutoMl Best Fitted Model ========\n",
      "Pipeline(memory=None,\n",
      "         steps=[('datatransformer',\n",
      "                 DataTransformer(enable_dnn=False, enable_feature_sweeping=False, feature_sweeping_config={}, feature_sweeping_timeout=86400, featurization_config=None, force_text_dnn=False, is_cross_validation=True, is_onnx_compatible=True, observer=None, task='classification', working_dir='/mnt/batch/tasks/shared/LS_root/mount...\n",
      "    gpu_training_param_dict={'processing_unit_type': 'cpu'}\n",
      "), random_state=0, reg_alpha=0.3125, reg_lambda=0.4166666666666667, subsample=0.5, tree_method='auto'))], verbose=False))], flatten_transform=None, weights=[0.14285714285714285, 0.14285714285714285, 0.14285714285714285, 0.07142857142857142, 0.07142857142857142, 0.07142857142857142, 0.07142857142857142, 0.14285714285714285, 0.14285714285714285]))],\n",
      "         verbose=False)\n",
      "Y_transformer(['LabelEncoder', LabelEncoder()])\n",
      "\n",
      " f1_score_weighted 0.816520723030668\n",
      "\n",
      " f1_score_macro 0.8181120773643548\n",
      "\n",
      " precision_score_weighted 0.8176578649383873\n",
      "\n",
      " average_precision_score_micro 0.8745382040360331\n",
      "\n",
      " norm_macro_recall 0.7246959271503628\n",
      "\n",
      " AUC_macro 0.923683144961295\n",
      "\n",
      " recall_score_weighted 0.8175162862739739\n",
      "\n",
      " balanced_accuracy 0.8164639514335752\n",
      "\n",
      " accuracy 0.8175162862739739\n",
      "\n",
      " AUC_weighted 0.9200515581213738\n",
      "\n",
      " precision_score_macro 0.8219195413392303\n",
      "\n",
      " matthews_correlation 0.7203152947685713\n",
      "\n",
      " recall_score_macro 0.8164639514335752\n",
      "\n",
      " weighted_accuracy 0.8199937719822659\n",
      "\n",
      " recall_score_micro 0.8175162862739739\n",
      "\n",
      " average_precision_score_weighted 0.8673470748250652\n",
      "\n",
      " f1_score_micro 0.8175162862739739\n",
      "\n",
      " log_loss 0.6331436494353994\n",
      "\n",
      " AUC_micro 0.929468459815268\n",
      "\n",
      " average_precision_score_macro 0.8697373123979363\n",
      "\n",
      " precision_score_micro 0.8175162862739739\n",
      "\n",
      " confusion_matrix aml://artifactId/ExperimentRun/dcid.AutoML_093d98bd-0ffe-4170-a2f6-2f6941181eab_38/confusion_matrix\n",
      "\n",
      " accuracy_table aml://artifactId/ExperimentRun/dcid.AutoML_093d98bd-0ffe-4170-a2f6-2f6941181eab_38/accuracy_table\n"
     ]
    }
   ],
   "source": [
    "automl_best_run, automl_fitted_model = remote_run.get_output()\n",
    "print(\"===== AutoMl Best Run ========\")\n",
    "print(automl_best_run)\n",
    "print(\"\\n  ===== AutoMl Best Fitted Model ========\")\n",
    "print(automl_fitted_model)\n",
    "automl_best_run.get_tags()\n",
    "automl_best_run_metrics = automl_best_run.get_metrics()\n",
    "\n",
    "for metric_name in automl_best_run_metrics:\n",
    "    metric = automl_best_run_metrics[metric_name]\n",
    "    print(\"\\n\",metric_name, metric)\n",
    "    \n"
   ]
  },
  {
   "cell_type": "code",
   "execution_count": 12,
   "metadata": {
    "gather": {
     "logged": 1647568025558
    }
   },
   "outputs": [
    {
     "name": "stdout",
     "output_type": "stream",
     "text": [
      "[('datatransformer', DataTransformer(\n",
      "    task='classification',\n",
      "    is_onnx_compatible=True,\n",
      "    enable_feature_sweeping=False,\n",
      "    enable_dnn=False,\n",
      "    force_text_dnn=False,\n",
      "    feature_sweeping_timeout=86400,\n",
      "    featurization_config=None,\n",
      "    is_cross_validation=True,\n",
      "    feature_sweeping_config={}\n",
      ")), ('prefittedsoftvotingclassifier', PreFittedSoftVotingClassifier(\n",
      "    estimators=[('0', Pipeline(\n",
      "        memory=None,\n",
      "        steps=[('maxabsscaler', MaxAbsScaler(\n",
      "            copy=True\n",
      "        )), ('lightgbmclassifier', LightGBMClassifier(\n",
      "            min_data_in_leaf=20,\n",
      "            random_state=None,\n",
      "            n_jobs=1,\n",
      "            problem_info=ProblemInfo(\n",
      "                gpu_training_param_dict={'processing_unit_type': 'cpu'}\n",
      "            )\n",
      "        ))],\n",
      "        verbose=False\n",
      "    )), ('18', Pipeline(\n",
      "        memory=None,\n",
      "        steps=[('standardscalerwrapper', StandardScalerWrapper(\n",
      "            copy=True,\n",
      "            with_mean=False,\n",
      "            with_std=False\n",
      "        )), ('xgboostclassifier', XGBoostClassifier(\n",
      "            random_state=0,\n",
      "            n_jobs=1,\n",
      "            problem_info=ProblemInfo(\n",
      "                gpu_training_param_dict={'processing_unit_type': 'cpu'}\n",
      "            ),\n",
      "            booster='gbtree',\n",
      "            colsample_bytree=0.7,\n",
      "            eta=0.1,\n",
      "            gamma=0.1,\n",
      "            max_depth=9,\n",
      "            max_leaves=511,\n",
      "            n_estimators=25,\n",
      "            objective='reg:logistic',\n",
      "            reg_alpha=0,\n",
      "            reg_lambda=1.7708333333333335,\n",
      "            subsample=0.9,\n",
      "            tree_method='auto'\n",
      "        ))],\n",
      "        verbose=False\n",
      "    )), ('20', Pipeline(\n",
      "        memory=None,\n",
      "        steps=[('truncatedsvdwrapper', TruncatedSVDWrapper(\n",
      "            n_components=0.7026315789473684,\n",
      "            random_state=None\n",
      "        )), ('randomforestclassifier', RandomForestClassifier(\n",
      "            bootstrap=False,\n",
      "            ccp_alpha=0.0,\n",
      "            class_weight='balanced',\n",
      "            criterion='gini',\n",
      "            max_depth=None,\n",
      "            max_features='log2',\n",
      "            max_leaf_nodes=None,\n",
      "            max_samples=None,\n",
      "            min_impurity_decrease=0.0,\n",
      "            min_impurity_split=None,\n",
      "            min_samples_leaf=0.01,\n",
      "            min_samples_split=0.01,\n",
      "            min_weight_fraction_leaf=0.0,\n",
      "            n_estimators=200,\n",
      "            n_jobs=1,\n",
      "            oob_score=False,\n",
      "            random_state=None,\n",
      "            verbose=0,\n",
      "            warm_start=False\n",
      "        ))],\n",
      "        verbose=False\n",
      "    )), ('21', Pipeline(\n",
      "        memory=None,\n",
      "        steps=[('standardscalerwrapper', StandardScalerWrapper(\n",
      "            copy=True,\n",
      "            with_mean=False,\n",
      "            with_std=False\n",
      "        )), ('xgboostclassifier', XGBoostClassifier(\n",
      "            random_state=0,\n",
      "            n_jobs=1,\n",
      "            problem_info=ProblemInfo(\n",
      "                gpu_training_param_dict={'processing_unit_type': 'cpu'}\n",
      "            ),\n",
      "            booster='gbtree',\n",
      "            colsample_bytree=0.5,\n",
      "            eta=0.2,\n",
      "            gamma=0,\n",
      "            max_depth=7,\n",
      "            max_leaves=7,\n",
      "            n_estimators=25,\n",
      "            objective='reg:logistic',\n",
      "            reg_alpha=0,\n",
      "            reg_lambda=0.20833333333333334,\n",
      "            subsample=1,\n",
      "            tree_method='auto'\n",
      "        ))],\n",
      "        verbose=False\n",
      "    )), ('11', Pipeline(\n",
      "        memory=None,\n",
      "        steps=[('standardscalerwrapper', StandardScalerWrapper(\n",
      "            copy=True,\n",
      "            with_mean=False,\n",
      "            with_std=False\n",
      "        )), ('xgboostclassifier', XGBoostClassifier(\n",
      "            random_state=0,\n",
      "            n_jobs=1,\n",
      "            problem_info=ProblemInfo(\n",
      "                gpu_training_param_dict={'processing_unit_type': 'cpu'}\n",
      "            ),\n",
      "            booster='gbtree',\n",
      "            colsample_bytree=0.6,\n",
      "            eta=0.3,\n",
      "            gamma=0,\n",
      "            max_depth=6,\n",
      "            max_leaves=0,\n",
      "            n_estimators=10,\n",
      "            objective='reg:logistic',\n",
      "            reg_alpha=0.3125,\n",
      "            reg_lambda=2.3958333333333335,\n",
      "            subsample=1,\n",
      "            tree_method='auto'\n",
      "        ))],\n",
      "        verbose=False\n",
      "    )), ('6', Pipeline(\n",
      "        memory=None,\n",
      "        steps=[('standardscalerwrapper', StandardScalerWrapper(\n",
      "            copy=True,\n",
      "            with_mean=False,\n",
      "            with_std=False\n",
      "        )), ('xgboostclassifier', XGBoostClassifier(\n",
      "            random_state=0,\n",
      "            n_jobs=1,\n",
      "            problem_info=ProblemInfo(\n",
      "                gpu_training_param_dict={'processing_unit_type': 'cpu'}\n",
      "            ),\n",
      "            booster='gbtree',\n",
      "            colsample_bytree=0.5,\n",
      "            eta=0.3,\n",
      "            gamma=0,\n",
      "            max_depth=10,\n",
      "            max_leaves=255,\n",
      "            n_estimators=10,\n",
      "            objective='reg:logistic',\n",
      "            reg_alpha=0,\n",
      "            reg_lambda=0.10416666666666667,\n",
      "            subsample=0.7,\n",
      "            tree_method='auto'\n",
      "        ))],\n",
      "        verbose=False\n",
      "    )), ('27', Pipeline(\n",
      "        memory=None,\n",
      "        steps=[('sparsenormalizer', Normalizer(\n",
      "            copy=True,\n",
      "            norm='l1'\n",
      "        )), ('xgboostclassifier', XGBoostClassifier(\n",
      "            random_state=0,\n",
      "            n_jobs=1,\n",
      "            problem_info=ProblemInfo(\n",
      "                gpu_training_param_dict={'processing_unit_type': 'cpu'}\n",
      "            ),\n",
      "            booster='gbtree',\n",
      "            colsample_bytree=0.6,\n",
      "            eta=0.3,\n",
      "            gamma=0,\n",
      "            grow_policy='lossguide',\n",
      "            max_bin=255,\n",
      "            max_depth=6,\n",
      "            max_leaves=0,\n",
      "            n_estimators=25,\n",
      "            objective='reg:logistic',\n",
      "            reg_alpha=1.7708333333333335,\n",
      "            reg_lambda=1.25,\n",
      "            subsample=0.8,\n",
      "            tree_method='hist'\n",
      "        ))],\n",
      "        verbose=False\n",
      "    )), ('3', Pipeline(\n",
      "        memory=None,\n",
      "        steps=[('sparsenormalizer', Normalizer(\n",
      "            copy=True,\n",
      "            norm='l2'\n",
      "        )), ('xgboostclassifier', XGBoostClassifier(\n",
      "            random_state=0,\n",
      "            n_jobs=1,\n",
      "            problem_info=ProblemInfo(\n",
      "                gpu_training_param_dict={'processing_unit_type': 'cpu'}\n",
      "            ),\n",
      "            booster='gbtree',\n",
      "            colsample_bytree=0.7,\n",
      "            eta=0.01,\n",
      "            gamma=0.01,\n",
      "            max_depth=7,\n",
      "            max_leaves=31,\n",
      "            n_estimators=10,\n",
      "            objective='reg:logistic',\n",
      "            reg_alpha=2.1875,\n",
      "            reg_lambda=1.0416666666666667,\n",
      "            subsample=1,\n",
      "            tree_method='auto'\n",
      "        ))],\n",
      "        verbose=False\n",
      "    )), ('31', Pipeline(\n",
      "        memory=None,\n",
      "        steps=[('standardscalerwrapper', StandardScalerWrapper(\n",
      "            copy=True,\n",
      "            with_mean=False,\n",
      "            with_std=False\n",
      "        )), ('xgboostclassifier', XGBoostClassifier(\n",
      "            random_state=0,\n",
      "            n_jobs=1,\n",
      "            problem_info=ProblemInfo(\n",
      "                gpu_training_param_dict={'processing_unit_type': 'cpu'}\n",
      "            ),\n",
      "            booster='gbtree',\n",
      "            colsample_bytree=0.5,\n",
      "            eta=0.2,\n",
      "            gamma=5,\n",
      "            max_depth=9,\n",
      "            max_leaves=0,\n",
      "            n_estimators=25,\n",
      "            objective='reg:logistic',\n",
      "            reg_alpha=0.3125,\n",
      "            reg_lambda=0.4166666666666667,\n",
      "            subsample=0.5,\n",
      "            tree_method='auto'\n",
      "        ))],\n",
      "        verbose=False\n",
      "    ))],\n",
      "    weights=[0.14285714285714285, 0.14285714285714285, 0.14285714285714285, 0.07142857142857142, 0.07142857142857142, 0.07142857142857142, 0.07142857142857142, 0.14285714285714285, 0.14285714285714285],\n",
      "    flatten_transform=None,\n",
      "    classification_labels=array([0, 1, 2])\n",
      "))]\n"
     ]
    }
   ],
   "source": [
    "print(automl_fitted_model.steps)"
   ]
  },
  {
   "cell_type": "markdown",
   "metadata": {},
   "source": [
    "https://docs.microsoft.com/en-us/azure/machine-learning/how-to-deploy-and-where?tabs=python\n",
    "####  Workflow for deploying a model \n",
    "The workflow is similar no matter where you deploy your model:\n",
    "\n",
    "<li>Register the model.\n",
    "<li>Prepare an entry script.\n",
    "<li>Prepare an inference configuration.\n",
    "<li>Deploy the model locally to ensure everything works.\n",
    "<li>Choose a compute target.\n",
    "<li>Deploy the model to the cloud.\n",
    "<li>Test the resulting web service."
   ]
  },
  {
   "cell_type": "markdown",
   "metadata": {},
   "source": [
    "## Model Deployment\n",
    "\n",
    "Remember you have to deploy only one of the two models you trained but you still need to register both the models. Perform the steps in the rest of this notebook only if you wish to deploy this model.\n",
    "\n",
    "TODO: In the cell below, register the model, create an inference config and deploy the model as a web service."
   ]
  },
  {
   "cell_type": "markdown",
   "metadata": {},
   "source": [
    "##### Register Model"
   ]
  },
  {
   "cell_type": "code",
   "execution_count": 13,
   "metadata": {
    "gather": {
     "logged": 1647568040722
    }
   },
   "outputs": [
    {
     "data": {
      "text/plain": [
       "'outputs/model.pkl'"
      ]
     },
     "execution_count": 13,
     "metadata": {},
     "output_type": "execute_result"
    }
   ],
   "source": [
    "from azureml.core import Model\n",
    "\n",
    "# Register model\n",
    "automl_model_registered = remote_run.register_model(model_name='Maternal_Health_Risk_AutoML_model') \n",
    "automl_model_registered.download(target_dir=\"outputs\", exist_ok=True)"
   ]
  },
  {
   "cell_type": "markdown",
   "metadata": {},
   "source": [
    "####  List the registered model"
   ]
  },
  {
   "cell_type": "code",
   "execution_count": 14,
   "metadata": {
    "gather": {
     "logged": 1647568055334
    }
   },
   "outputs": [
    {
     "name": "stdout",
     "output_type": "stream",
     "text": [
      "Maternal_Health_Risk_AutoML_model version: 1\n",
      "\n",
      "\n"
     ]
    }
   ],
   "source": [
    "for model in Model.list(ws):\n",
    "    print(model.name, 'version:', model.version)\n",
    "    for tag_name in model.tags:\n",
    "        tag = model.tags[tag_name]\n",
    "        print ('\\t',tag_name, ':', tag)\n",
    "    for prop_name in model.properties:\n",
    "        prop = model.properties[prop_name]\n",
    "        print ('\\t',prop_name, ':', prop)\n",
    "    print('\\n')"
   ]
  },
  {
   "cell_type": "markdown",
   "metadata": {},
   "source": [
    "#### Prepare an inference configuration."
   ]
  },
  {
   "cell_type": "code",
   "execution_count": 15,
   "metadata": {
    "gather": {
     "logged": 1647568076921
    }
   },
   "outputs": [],
   "source": [
    "from azureml.automl.core.shared import constants\n",
    "from azureml.core.environment import Environment\n",
    "myenv = Environment.from_conda_specification(name=\"env\", file_path=\"project_environment.yml\")"
   ]
  },
  {
   "cell_type": "markdown",
   "metadata": {},
   "source": [
    "#### Prepare an inference configuration using an entry script."
   ]
  },
  {
   "cell_type": "code",
   "execution_count": 16,
   "metadata": {
    "gather": {
     "logged": 1647575217050
    }
   },
   "outputs": [],
   "source": [
    "from azureml.core.model import InferenceConfig\n",
    "inference_config = InferenceConfig(entry_script=\"scoreautoml.py\",environment=myenv)\n"
   ]
  },
  {
   "cell_type": "markdown",
   "metadata": {},
   "source": [
    "#### Deploy the model locally to ensure everything works. Will skip this part"
   ]
  },
  {
   "cell_type": "markdown",
   "metadata": {
    "collapsed": true,
    "gather": {
     "logged": 1598431657736
    },
    "jupyter": {
     "outputs_hidden": false,
     "source_hidden": false
    },
    "nteract": {
     "transient": {
      "deleting": false
     }
    }
   },
   "source": [
    "TODO: In the cell below, send a request to the web service you deployed to test it."
   ]
  },
  {
   "cell_type": "code",
   "execution_count": 17,
   "metadata": {
    "gather": {
     "logged": 1647575232344
    }
   },
   "outputs": [],
   "source": [
    "from azureml.core.webservice import Webservice, AciWebservice\n",
    "deployment_config = AciWebservice.deploy_configuration(cpu_cores=1, memory_gb = 4, \n",
    "                                                       enable_app_insights=True, \n",
    "                                                       description='Maternal Health Risk AutoML model' )\n",
    "model = Model(ws,'Maternal_Health_Risk_AutoML_model')"
   ]
  },
  {
   "cell_type": "code",
   "execution_count": 18,
   "metadata": {
    "gather": {
     "logged": 1647576812493
    }
   },
   "outputs": [
    {
     "name": "stdout",
     "output_type": "stream",
     "text": [
      "Tips: You can try get_logs(): https://aka.ms/debugimage#dockerlog or local deployment: https://aka.ms/debugimage#debug-locally to debug if deployment takes longer than 10 minutes.\n",
      "Running\n",
      "2022-03-22 19:00:25+00:00 Creating Container Registry if not exists..\n",
      "2022-03-22 19:10:25+00:00 Registering the environment..\n",
      "2022-03-22 19:10:26+00:00 Building image..\n",
      "2022-03-22 19:21:40+00:00 Generating deployment configuration.\n",
      "2022-03-22 19:21:41+00:00 Submitting deployment to compute..\n",
      "2022-03-22 19:21:45+00:00 Checking the status of deployment maternal-health-risk-dep-service..\n",
      "2022-03-22 19:24:26+00:00 Checking the status of inference endpoint maternal-health-risk-dep-service.\n",
      "Succeeded\n",
      "ACI service creation operation finished, operation \"Succeeded\"\n"
     ]
    }
   ],
   "source": [
    "\n",
    "service=Model.deploy(workspace=ws,\n",
    "                    name=\"maternal-health-risk-dep-service\",\n",
    "                    models=[model],\n",
    "                    inference_config=inference_config,\n",
    "                    deployment_config=deployment_config)\n",
    "\n",
    "service.wait_for_deployment(show_output=True)\n",
    "\n"
   ]
  },
  {
   "cell_type": "markdown",
   "metadata": {
    "collapsed": true,
    "gather": {
     "logged": 1598432765711
    },
    "jupyter": {
     "outputs_hidden": false,
     "source_hidden": false
    },
    "nteract": {
     "transient": {
      "deleting": false
     }
    }
   },
   "source": [
    "TODO: In the cell below, print the logs of the web service and delete the service"
   ]
  },
  {
   "cell_type": "code",
   "execution_count": 19,
   "metadata": {
    "gather": {
     "logged": 1647576939151
    },
    "jupyter": {
     "outputs_hidden": false,
     "source_hidden": false
    },
    "nteract": {
     "transient": {
      "deleting": false
     }
    }
   },
   "outputs": [
    {
     "name": "stdout",
     "output_type": "stream",
     "text": [
      "http://5ca7c142-8097-4d0c-bcde-bfcd82c4a7c7.southcentralus.azurecontainer.io/score\n"
     ]
    }
   ],
   "source": [
    "print(service.scoring_uri)"
   ]
  },
  {
   "cell_type": "code",
   "execution_count": 20,
   "metadata": {
    "gather": {
     "logged": 1647576970623
    },
    "jupyter": {
     "outputs_hidden": false,
     "source_hidden": false
    },
    "nteract": {
     "transient": {
      "deleting": false
     }
    }
   },
   "outputs": [
    {
     "name": "stdout",
     "output_type": "stream",
     "text": [
      "http://5ca7c142-8097-4d0c-bcde-bfcd82c4a7c7.southcentralus.azurecontainer.io/swagger.json\n"
     ]
    }
   ],
   "source": [
    "print(service.swagger_uri)"
   ]
  },
  {
   "cell_type": "code",
   "execution_count": 23,
   "metadata": {},
   "outputs": [
    {
     "name": "stdout",
     "output_type": "stream",
     "text": [
      "['high risk']\n"
     ]
    }
   ],
   "source": [
    "import json\n",
    "import requests\n",
    "scoring_uri = service.scoring_uri\n",
    "\n",
    "data = {\n",
    "  \"data\": [\n",
    "    {\n",
    "      \"Age\": 25,\n",
    "      \"SystolicBP\":130 ,\n",
    "      \"DiastolicBP\":80 ,\n",
    "      \"BS\": 15,\n",
    "      \"BodyTemp\": 98,\n",
    "      \"HeartRate\": 86\n",
    "          }\n",
    "  ]\n",
    "}\n",
    "# Convert to JSON string\n",
    "input_data = json.dumps(data)\n",
    "\n",
    "# Set the content type\n",
    "headers = {'Content-Type': 'application/json'}\n",
    "\n",
    "# Make the request and display the response\n",
    "resp = requests.post(scoring_uri, input_data, headers=headers)\n",
    "print(resp.json())"
   ]
  },
  {
   "cell_type": "code",
   "execution_count": 24,
   "metadata": {
    "gather": {
     "logged": 1647576829519
    },
    "jupyter": {
     "outputs_hidden": false,
     "source_hidden": false
    },
    "nteract": {
     "transient": {
      "deleting": false
     }
    }
   },
   "outputs": [
    {
     "name": "stdout",
     "output_type": "stream",
     "text": [
      "2022-03-22T19:24:10,432753700+00:00 - iot-server/run \n",
      "2022-03-22T19:24:10,441990800+00:00 - rsyslog/run \n",
      "2022-03-22T19:24:10,443215000+00:00 - gunicorn/run \n",
      "Dynamic Python package installation is disabled.\n",
      "Starting HTTP server\n",
      "2022-03-22T19:24:10,460160700+00:00 - nginx/run \n",
      "rsyslogd: /azureml-envs/azureml_fc7e1840225416a471556263041ca33e/lib/libuuid.so.1: no version information available (required by rsyslogd)\n",
      "EdgeHubConnectionString and IOTEDGE_IOTHUBHOSTNAME are not set. Exiting...\n",
      "2022-03-22T19:24:10,787535200+00:00 - iot-server/finish 1 0\n",
      "2022-03-22T19:24:10,794205700+00:00 - Exit code 1 is normal. Not restarting iot-server.\n",
      "Starting gunicorn 19.9.0\n",
      "Listening at: http://127.0.0.1:31311 (74)\n",
      "Using worker: sync\n",
      "worker timeout is set to 300\n",
      "Booting worker with pid: 102\n",
      "SPARK_HOME not set. Skipping PySpark Initialization.\n",
      "Generating new fontManager, this may take some time...\n",
      "Initializing logger\n",
      "2022-03-22 19:24:15,752 | root | INFO | Starting up app insights client\n",
      "logging socket was found. logging is available.\n",
      "logging socket was found. logging is available.\n",
      "2022-03-22 19:24:15,753 | root | INFO | Starting up request id generator\n",
      "2022-03-22 19:24:15,753 | root | INFO | Starting up app insight hooks\n",
      "2022-03-22 19:24:15,753 | root | INFO | Invoking user's init function\n",
      "2022-03-22 19:24:17,666 | root | INFO | Users's init has completed successfully\n",
      "2022-03-22 19:24:17,671 | root | INFO | Skipping middleware: dbg_model_info as it's not enabled.\n",
      "2022-03-22 19:24:17,671 | root | INFO | Skipping middleware: dbg_resource_usage as it's not enabled.\n",
      "2022-03-22 19:24:17,676 | root | INFO | Scoring timeout is found from os.environ: 60000 ms\n",
      "2022-03-22 19:24:26,353 | root | INFO | Swagger file not present\n",
      "2022-03-22 19:24:26,354 | root | INFO | 404\n",
      "127.0.0.1 - - [22/Mar/2022:19:24:26 +0000] \"GET /swagger.json HTTP/1.0\" 404 19 \"-\" \"Go-http-client/1.1\"\n",
      "2022-03-22 19:24:28,935 | root | INFO | Swagger file not present\n",
      "2022-03-22 19:24:28,935 | root | INFO | 404\n",
      "127.0.0.1 - - [22/Mar/2022:19:24:28 +0000] \"GET /swagger.json HTTP/1.0\" 404 19 \"-\" \"Go-http-client/1.1\"\n",
      "2022-03-22 19:25:19,316 | root | INFO | Swagger file not present\n",
      "2022-03-22 19:25:19,316 | root | INFO | 404\n",
      "127.0.0.1 - - [22/Mar/2022:19:25:19 +0000] \"GET /swagger.json HTTP/1.0\" 404 19 \"-\" \"Go-http-client/1.1\"\n",
      "2022-03-22 19:27:59,786 | root | INFO | Scoring Timer is set to 60.0 seconds\n",
      "In run data try block\n",
      "fd9dc202-5376-4a6f-aa69-5529b3fec0f0,In run data try block\n",
      "\n",
      "2022-03-22 19:28:00,017 | root | INFO | 200\n",
      "127.0.0.1 - - [22/Mar/2022:19:28:00 +0000] \"POST /score HTTP/1.0\" 200 13 \"-\" \"python-requests/2.27.1\"\n",
      "2022-03-22 19:30:49,329 | root | INFO | Scoring Timer is set to 60.0 seconds\n",
      "In run data try block\n",
      "18c67dff-0137-40a9-b6c3-84b79b7db8b2,In run data try block\n",
      "\n",
      "Extra data: line 1 column 6 (char 5)\n",
      "18c67dff-0137-40a9-b6c3-84b79b7db8b2,Extra data: line 1 column 6 (char 5)\n",
      "\n",
      "2022-03-22 19:30:49,334 | root | INFO | 200\n",
      "127.0.0.1 - - [22/Mar/2022:19:30:49 +0000] \"POST /score?verbose=true HTTP/1.0\" 200 38 \"-\" \"Go-http-client/1.1\"\n",
      "2022-03-22 19:31:19,463 | root | INFO | Scoring Timer is set to 60.0 seconds\n",
      "In run data try block\n",
      "34aeb6bd-9802-4e5c-8e85-e4b8c25e4470,In run data try block\n",
      "\n",
      "Extra data: line 1 column 6 (char 5)\n",
      "34aeb6bd-9802-4e5c-8e85-e4b8c25e4470,Extra data: line 1 column 6 (char 5)\n",
      "\n",
      "2022-03-22 19:31:19,464 | root | INFO | 200\n",
      "127.0.0.1 - - [22/Mar/2022:19:31:19 +0000] \"POST /score?verbose=true HTTP/1.0\" 200 38 \"-\" \"Go-http-client/1.1\"\n",
      "2022-03-22 19:31:40,830 | root | INFO | Scoring Timer is set to 60.0 seconds\n",
      "In run data try block\n",
      "84871c91-aa3c-401a-9480-5e3bc6ce3d9b,In run data try block\n",
      "\n",
      "Extra data: line 1 column 6 (char 5)\n",
      "84871c91-aa3c-401a-9480-5e3bc6ce3d9b,Extra data: line 1 column 6 (char 5)\n",
      "\n",
      "2022-03-22 19:31:40,832 | root | INFO | 200\n",
      "127.0.0.1 - - [22/Mar/2022:19:31:40 +0000] \"POST /score?verbose=true HTTP/1.0\" 200 38 \"-\" \"Go-http-client/1.1\"\n",
      "\n"
     ]
    }
   ],
   "source": [
    "print(service.get_logs())"
   ]
  },
  {
   "cell_type": "code",
   "execution_count": null,
   "metadata": {
    "gather": {
     "logged": 1647576705894
    },
    "jupyter": {
     "outputs_hidden": false,
     "source_hidden": false
    },
    "nteract": {
     "transient": {
      "deleting": false
     }
    }
   },
   "outputs": [],
   "source": [
    "service.delete()\n",
    "model.delete()"
   ]
  },
  {
   "cell_type": "markdown",
   "metadata": {},
   "source": [
    "**Submission Checklist**\n",
    "- I have registered the model.\n",
    "- I have deployed the model with the best accuracy as a webservice.\n",
    "- I have tested the webservice by sending a request to the model endpoint.\n",
    "- I have deleted the webservice and shutdown all the computes that I have used.\n",
    "- I have taken a screenshot showing the model endpoint as active.\n",
    "- The project includes a file containing the environment details.\n"
   ]
  },
  {
   "cell_type": "markdown",
   "metadata": {},
   "source": []
  }
 ],
 "metadata": {
  "kernel_info": {
   "name": "python3-azureml"
  },
  "kernelspec": {
   "display_name": "Python 3.6 - AzureML",
   "language": "python",
   "name": "python3-azureml"
  },
  "language_info": {
   "codemirror_mode": {
    "name": "ipython",
    "version": 3
   },
   "file_extension": ".py",
   "mimetype": "text/x-python",
   "name": "python",
   "nbconvert_exporter": "python",
   "pygments_lexer": "ipython3",
   "version": "3.6.9"
  },
  "microsoft": {
   "host": {
    "AzureML": {
     "notebookHasBeenCompleted": true
    }
   }
  },
  "nteract": {
   "version": "nteract-front-end@1.0.0"
  }
 },
 "nbformat": 4,
 "nbformat_minor": 2
}
